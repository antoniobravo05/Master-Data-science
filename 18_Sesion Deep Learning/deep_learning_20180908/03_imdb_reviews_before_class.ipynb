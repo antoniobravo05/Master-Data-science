{
 "cells": [
  {
   "cell_type": "markdown",
   "metadata": {
    "colab_type": "text",
    "id": "AoiHQvVlSQHy"
   },
   "source": [
    "# Working with text\n",
    "\n",
    "In this problem, we will load movie reviews from IMDB, a famous movie database and website, and we will try to predict whether the review is positive or negative."
   ]
  },
  {
   "cell_type": "markdown",
   "metadata": {
    "colab_type": "text",
    "id": "CVx0Emm-SQH0"
   },
   "source": [
    "First, the function we will use to diagnose the performance of our model"
   ]
  },
  {
   "cell_type": "code",
   "execution_count": 1,
   "metadata": {
    "colab": {
     "base_uri": "https://localhost:8080/",
     "height": 32
    },
    "colab_type": "code",
    "executionInfo": {
     "elapsed": 1517,
     "status": "ok",
     "timestamp": 1537542515368,
     "user": {
      "displayName": "Antonio Bravo Muñoz",
      "photoUrl": "//lh5.googleusercontent.com/-I0fIeuNLzog/AAAAAAAAAAI/AAAAAAAAAAs/MDZ3MDDdQoQ/s50-c-k-no/photo.jpg",
      "userId": "117007621637238690901"
     },
     "user_tz": -120
    },
    "id": "5RtjcHXxSQH2",
    "outputId": "7118818d-4021-47ba-aea1-4105b6c478d9"
   },
   "outputs": [
    {
     "name": "stdout",
     "output_type": "stream",
     "text": [
      "Populating the interactive namespace from numpy and matplotlib\n"
     ]
    }
   ],
   "source": [
    "%pylab inline\n",
    "plt.style.use('seaborn-talk')"
   ]
  },
  {
   "cell_type": "code",
   "execution_count": 0,
   "metadata": {
    "colab": {},
    "colab_type": "code",
    "id": "l60C0CJqSQIA"
   },
   "outputs": [],
   "source": [
    "def plot_metric(history, metric):\n",
    "    history_dict = history.history\n",
    "    values = history_dict[metric]\n",
    "    if 'val_' + metric in history_dict.keys():  \n",
    "        val_values = history_dict['val_' + metric]\n",
    "\n",
    "    epochs = range(1, len(values) + 1)\n",
    "\n",
    "    if 'val_' + metric in history_dict.keys():  \n",
    "        plt.plot(epochs, val_values, label='Validation')\n",
    "    plt.semilogy(epochs, values, label='Training')\n",
    "\n",
    "    if 'val_' + metric in history_dict.keys():  \n",
    "        plt.title('Training and validation %s' % metric)\n",
    "    else:\n",
    "        plt.title('Training %s' % metric)\n",
    "    plt.xlabel('Epochs')\n",
    "    plt.ylabel(metric.capitalize())\n",
    "    plt.legend()\n",
    "    plt.grid()\n",
    "\n",
    "    plt.show()  "
   ]
  },
  {
   "cell_type": "markdown",
   "metadata": {
    "colab_type": "text",
    "id": "onEU_DyrSQIF"
   },
   "source": [
    "## Input data"
   ]
  },
  {
   "cell_type": "code",
   "execution_count": 0,
   "metadata": {
    "colab": {},
    "colab_type": "code",
    "id": "BeIehbJDSQIG"
   },
   "outputs": [],
   "source": [
    "from keras.datasets import imdb"
   ]
  },
  {
   "cell_type": "code",
   "execution_count": 5,
   "metadata": {
    "colab": {
     "base_uri": "https://localhost:8080/",
     "height": 49
    },
    "colab_type": "code",
    "executionInfo": {
     "elapsed": 10088,
     "status": "ok",
     "timestamp": 1537542689500,
     "user": {
      "displayName": "Antonio Bravo Muñoz",
      "photoUrl": "//lh5.googleusercontent.com/-I0fIeuNLzog/AAAAAAAAAAI/AAAAAAAAAAs/MDZ3MDDdQoQ/s50-c-k-no/photo.jpg",
      "userId": "117007621637238690901"
     },
     "user_tz": -120
    },
    "id": "1vgHR91NSQIN",
    "outputId": "e01e5796-4ffb-4bfe-904c-9c087b29e0f9"
   },
   "outputs": [
    {
     "name": "stdout",
     "output_type": "stream",
     "text": [
      "Downloading data from https://s3.amazonaws.com/text-datasets/imdb.npz\n",
      "17465344/17464789 [==============================] - 4s 0us/step\n"
     ]
    }
   ],
   "source": [
    "# Run this to download the data prior to the lecture\n",
    "train, test = imdb.load_data(num_words=10000)"
   ]
  },
  {
   "cell_type": "code",
   "execution_count": 6,
   "metadata": {
    "colab": {
     "base_uri": "https://localhost:8080/",
     "height": 32
    },
    "colab_type": "code",
    "executionInfo": {
     "elapsed": 706,
     "status": "ok",
     "timestamp": 1537542836605,
     "user": {
      "displayName": "Antonio Bravo Muñoz",
      "photoUrl": "//lh5.googleusercontent.com/-I0fIeuNLzog/AAAAAAAAAAI/AAAAAAAAAAs/MDZ3MDDdQoQ/s50-c-k-no/photo.jpg",
      "userId": "117007621637238690901"
     },
     "user_tz": -120
    },
    "id": "mDleqLg4SQIS",
    "outputId": "c06ed721-1043-452f-ee4a-5c03eccf10a7"
   },
   "outputs": [
    {
     "data": {
      "text/plain": [
       "tuple"
      ]
     },
     "execution_count": 6,
     "metadata": {
      "tags": []
     },
     "output_type": "execute_result"
    }
   ],
   "source": [
    "#vamos a ver estas dos variables, tenemos tuplas. Por un lado tenemos las textos y por otro las etiquetas\n",
    "type(train)\n"
   ]
  },
  {
   "cell_type": "code",
   "execution_count": 0,
   "metadata": {
    "colab": {},
    "colab_type": "code",
    "id": "up_6i9-7sY2N"
   },
   "outputs": [],
   "source": [
    "train_text, train_labels=train"
   ]
  },
  {
   "cell_type": "code",
   "execution_count": 0,
   "metadata": {
    "colab": {},
    "colab_type": "code",
    "id": "-QmknHW-uQ8j"
   },
   "outputs": [],
   "source": [
    "test_text, test_labels=test"
   ]
  },
  {
   "cell_type": "code",
   "execution_count": 10,
   "metadata": {
    "colab": {
     "base_uri": "https://localhost:8080/",
     "height": 32
    },
    "colab_type": "code",
    "executionInfo": {
     "elapsed": 1425,
     "status": "ok",
     "timestamp": 1537542916885,
     "user": {
      "displayName": "Antonio Bravo Muñoz",
      "photoUrl": "//lh5.googleusercontent.com/-I0fIeuNLzog/AAAAAAAAAAI/AAAAAAAAAAs/MDZ3MDDdQoQ/s50-c-k-no/photo.jpg",
      "userId": "117007621637238690901"
     },
     "user_tz": -120
    },
    "id": "YBiXtwR4sY6N",
    "outputId": "25265e95-aa3a-4f4e-efd7-33d318f5ddf0"
   },
   "outputs": [
    {
     "data": {
      "text/plain": [
       "[1, 249, 1323, 7, 61, 113, 10, 10, 13, 1637]"
      ]
     },
     "execution_count": 10,
     "metadata": {
      "tags": []
     },
     "output_type": "execute_result"
    }
   ],
   "source": [
    "#vamos a ver 10 palabras del 4º review\n",
    "train_text[4][0:10]"
   ]
  },
  {
   "cell_type": "code",
   "execution_count": 0,
   "metadata": {
    "colab": {},
    "colab_type": "code",
    "id": "nFROwhb7sy82"
   },
   "outputs": [],
   "source": [
    "#¿Porqué son nºs? pq keras ya lo interpreta así. Vamos a ver que palabras son. De un texto saca la lista de palabras distintas que hay, les asigna un nº y hace la correspondencia\n",
    "#Recuperamos las palabras. Hay que recuperar el indice que ha usado keras para hacer la correspondencia.\n",
    "word_index=imdb.get_word_index()\n"
   ]
  },
  {
   "cell_type": "code",
   "execution_count": 0,
   "metadata": {
    "colab": {},
    "colab_type": "code",
    "id": "vLPpca6eszGZ"
   },
   "outputs": [],
   "source": []
  },
  {
   "cell_type": "markdown",
   "metadata": {
    "colab_type": "text",
    "id": "iHYcksdZSQIW"
   },
   "source": [
    "Why are these *texts* numbers?"
   ]
  },
  {
   "cell_type": "code",
   "execution_count": 0,
   "metadata": {
    "colab": {},
    "colab_type": "code",
    "id": "rhdtBh1dSQIZ"
   },
   "outputs": [],
   "source": []
  },
  {
   "cell_type": "markdown",
   "metadata": {
    "colab_type": "text",
    "id": "klXonsuISQIc"
   },
   "source": [
    "These are actually indices in a word index"
   ]
  },
  {
   "cell_type": "code",
   "execution_count": 12,
   "metadata": {
    "colab": {
     "base_uri": "https://localhost:8080/",
     "height": 49
    },
    "colab_type": "code",
    "executionInfo": {
     "elapsed": 2709,
     "status": "ok",
     "timestamp": 1537543111241,
     "user": {
      "displayName": "Antonio Bravo Muñoz",
      "photoUrl": "//lh5.googleusercontent.com/-I0fIeuNLzog/AAAAAAAAAAI/AAAAAAAAAAs/MDZ3MDDdQoQ/s50-c-k-no/photo.jpg",
      "userId": "117007621637238690901"
     },
     "user_tz": -120
    },
    "id": "D4M3_Z8fSQId",
    "outputId": "3f4d18d2-77e8-4eb9-c99d-8d11236ad85d"
   },
   "outputs": [
    {
     "name": "stdout",
     "output_type": "stream",
     "text": [
      "Downloading data from https://s3.amazonaws.com/text-datasets/imdb_word_index.json\n",
      "1646592/1641221 [==============================] - 2s 1us/step\n"
     ]
    }
   ],
   "source": [
    "word_index = imdb.get_word_index()"
   ]
  },
  {
   "cell_type": "code",
   "execution_count": 0,
   "metadata": {
    "colab": {},
    "colab_type": "code",
    "id": "mYpNYOF1SQIg"
   },
   "outputs": [],
   "source": []
  },
  {
   "cell_type": "code",
   "execution_count": 0,
   "metadata": {
    "colab": {},
    "colab_type": "code",
    "id": "wIheW-BaSQIi"
   },
   "outputs": [],
   "source": [
    "reversed_word_index = dict((value, key) for (key, value) in word_index.items())"
   ]
  },
  {
   "cell_type": "code",
   "execution_count": 0,
   "metadata": {
    "colab": {},
    "colab_type": "code",
    "id": "eIzecluESQIm"
   },
   "outputs": [],
   "source": [
    "def get_text_from_vector(v):\n",
    "    return ' '.join(reversed_word_index.get(i-3, '?') for i in v)"
   ]
  },
  {
   "cell_type": "code",
   "execution_count": 17,
   "metadata": {
    "colab": {
     "base_uri": "https://localhost:8080/",
     "height": 32
    },
    "colab_type": "code",
    "executionInfo": {
     "elapsed": 1013,
     "status": "ok",
     "timestamp": 1537543153636,
     "user": {
      "displayName": "Antonio Bravo Muñoz",
      "photoUrl": "//lh5.googleusercontent.com/-I0fIeuNLzog/AAAAAAAAAAI/AAAAAAAAAAs/MDZ3MDDdQoQ/s50-c-k-no/photo.jpg",
      "userId": "117007621637238690901"
     },
     "user_tz": -120
    },
    "id": "fJ0QehhsSQIp",
    "outputId": "a6128374-0033-4b9f-c3b2-05eb9e70c306"
   },
   "outputs": [
    {
     "data": {
      "text/plain": [
       "'? worst mistake of my life br br i picked'"
      ]
     },
     "execution_count": 17,
     "metadata": {
      "tags": []
     },
     "output_type": "execute_result"
    }
   ],
   "source": [
    "get_text_from_vector(train_text[4][0:10])"
   ]
  },
  {
   "cell_type": "code",
   "execution_count": 0,
   "metadata": {
    "colab": {},
    "colab_type": "code",
    "id": "QBNRtSfwtrd5"
   },
   "outputs": [],
   "source": [
    "#recapitulando, tenemos que, lo primero, transformar el texto en nº, lo siguiente será componer la matriz.\n",
    "#Cogeremos la lista de enteros (de diferente long) en una matriz donde cada columna tenga el mismo nº de elementos. (verlibreta)"
   ]
  },
  {
   "cell_type": "markdown",
   "metadata": {
    "colab_type": "text",
    "id": "5N2WD4WoSQIv"
   },
   "source": [
    "### Prepare data for the network\n",
    "\n",
    "We need to prepare the data to be an input to the neural network. The input must be a **tensor**. In our case, all vectors should be of the same length. But not all reviews are of the same size, so the vectors will have different sizes. How can we overcome this problem?\n",
    "\n",
    "* We can zero-pad the vectors, so all of them have the same size, and then combine them in a tensor. We would need to add an *Embedding* layer to learn **word embeddings** (more later)\n",
    "* Or we can use 1-HOT encoding\n",
    "\n",
    "In both cases, we will have vectors of size $10^4$ (the maximum number of words). Let's go with the 1-HOT encoding."
   ]
  },
  {
   "cell_type": "code",
   "execution_count": 0,
   "metadata": {
    "colab": {},
    "colab_type": "code",
    "id": "dzb0iuipSQIw"
   },
   "outputs": [],
   "source": [
    "#vamos a transformar los vectores en la matriz de entrada:\n",
    "from keras.preprocessing import text"
   ]
  },
  {
   "cell_type": "code",
   "execution_count": 23,
   "metadata": {
    "colab": {
     "base_uri": "https://localhost:8080/",
     "height": 65
    },
    "colab_type": "code",
    "executionInfo": {
     "elapsed": 683,
     "status": "ok",
     "timestamp": 1537543540829,
     "user": {
      "displayName": "Antonio Bravo Muñoz",
      "photoUrl": "//lh5.googleusercontent.com/-I0fIeuNLzog/AAAAAAAAAAI/AAAAAAAAAAs/MDZ3MDDdQoQ/s50-c-k-no/photo.jpg",
      "userId": "117007621637238690901"
     },
     "user_tz": -120
    },
    "id": "KtgquD8Quw-t",
    "outputId": "6353ce56-e0bd-4360-945c-11bda6547881"
   },
   "outputs": [
    {
     "name": "stdout",
     "output_type": "stream",
     "text": [
      "189\n",
      "550\n",
      "211\n"
     ]
    }
   ],
   "source": [
    "#tenemos los textos de train, que es un array de 25mil listas de eneteros cada una de una dimension distinta\n",
    "print(len(train_text[1]))\n",
    "print(len(train_text[3]))\n",
    "print(len(train_text[1255]))"
   ]
  },
  {
   "cell_type": "code",
   "execution_count": 0,
   "metadata": {
    "colab": {},
    "colab_type": "code",
    "id": "TslTjgq6uw2u"
   },
   "outputs": [],
   "source": [
    "#para poner todas las listas con la misma dimension, hay una funcion llamada sequence_to_matrix--> es un tokenizador (se divide el texto en palabras)\n",
    "#primero instancio el tokenizador\n",
    "tokenizer=text.Tokenizer(num_words=10000)#le tengo que decir como de anchos quiero que sean los vectores del one hot encoding. Podemos comprobar que la mayoría son de tamaño menores que 1e4ç"
   ]
  },
  {
   "cell_type": "code",
   "execution_count": 0,
   "metadata": {
    "colab": {},
    "colab_type": "code",
    "id": "2VJIhff7vqqp"
   },
   "outputs": [],
   "source": [
    "train_text_m=tokenizer.sequences_to_matrix(train_text, mode='binary')#modo binario--> que es un  one hot encoding"
   ]
  },
  {
   "cell_type": "code",
   "execution_count": 27,
   "metadata": {
    "colab": {
     "base_uri": "https://localhost:8080/",
     "height": 32
    },
    "colab_type": "code",
    "executionInfo": {
     "elapsed": 1007,
     "status": "ok",
     "timestamp": 1537543826396,
     "user": {
      "displayName": "Antonio Bravo Muñoz",
      "photoUrl": "//lh5.googleusercontent.com/-I0fIeuNLzog/AAAAAAAAAAI/AAAAAAAAAAs/MDZ3MDDdQoQ/s50-c-k-no/photo.jpg",
      "userId": "117007621637238690901"
     },
     "user_tz": -120
    },
    "id": "C6XrOSOJuwuY",
    "outputId": "1d9d6c1b-59c8-406f-f994-6e43fbbad5df"
   },
   "outputs": [
    {
     "data": {
      "text/plain": [
       "(25000, 10000)"
      ]
     },
     "execution_count": 27,
     "metadata": {
      "tags": []
     },
     "output_type": "execute_result"
    }
   ],
   "source": [
    "train_text_m.shape"
   ]
  },
  {
   "cell_type": "code",
   "execution_count": 28,
   "metadata": {
    "colab": {
     "base_uri": "https://localhost:8080/",
     "height": 49
    },
    "colab_type": "code",
    "executionInfo": {
     "elapsed": 1047,
     "status": "ok",
     "timestamp": 1537543857969,
     "user": {
      "displayName": "Antonio Bravo Muñoz",
      "photoUrl": "//lh5.googleusercontent.com/-I0fIeuNLzog/AAAAAAAAAAI/AAAAAAAAAAs/MDZ3MDDdQoQ/s50-c-k-no/photo.jpg",
      "userId": "117007621637238690901"
     },
     "user_tz": -120
    },
    "id": "Ju2oWGe-uwkf",
    "outputId": "a9fbe1a2-afba-46e0-fe8d-868c3a23d724"
   },
   "outputs": [
    {
     "data": {
      "text/plain": [
       "array([0., 1., 1., 0., 1., 1., 1., 1., 1., 1., 0., 0., 1., 1., 1., 1., 1.,\n",
       "       1., 1., 1., 0., 1., 1., 0., 0.])"
      ]
     },
     "execution_count": 28,
     "metadata": {
      "tags": []
     },
     "output_type": "execute_result"
    }
   ],
   "source": [
    "#comprobamos en el primer review\n",
    "train_text_m[0][0:25]"
   ]
  },
  {
   "cell_type": "code",
   "execution_count": 0,
   "metadata": {
    "colab": {},
    "colab_type": "code",
    "id": "HnPo9d3ywXha"
   },
   "outputs": [],
   "source": [
    "#la primera palabra no la tiene, la 4ª tampoco..."
   ]
  },
  {
   "cell_type": "code",
   "execution_count": 0,
   "metadata": {
    "colab": {},
    "colab_type": "code",
    "id": "zhxI6ArIweH3"
   },
   "outputs": [],
   "source": [
    "#Pero hay un problema, la repeticion de las palabras en un texto, tamben conlleva informaicon. Aqui se está ignorando esto.\n",
    "#Otra cosa ignorada, es el orden. Tambien se está pasando por alto en este método. (básicamente es una bolsa de palabras)."
   ]
  },
  {
   "cell_type": "code",
   "execution_count": 29,
   "metadata": {
    "colab": {
     "base_uri": "https://localhost:8080/",
     "height": 32
    },
    "colab_type": "code",
    "executionInfo": {
     "elapsed": 635,
     "status": "ok",
     "timestamp": 1537543998751,
     "user": {
      "displayName": "Antonio Bravo Muñoz",
      "photoUrl": "//lh5.googleusercontent.com/-I0fIeuNLzog/AAAAAAAAAAI/AAAAAAAAAAs/MDZ3MDDdQoQ/s50-c-k-no/photo.jpg",
      "userId": "117007621637238690901"
     },
     "user_tz": -120
    },
    "id": "wnVL7o2HwXUL",
    "outputId": "9b89000f-f198-47c9-9eb7-4c1704abbfc8"
   },
   "outputs": [
    {
     "data": {
      "text/plain": [
       "array([1, 0, 0, 1, 0, 0, 1, 0, 1, 0])"
      ]
     },
     "execution_count": 29,
     "metadata": {
      "tags": []
     },
     "output_type": "execute_result"
    }
   ],
   "source": [
    "#Y con las etiquetas? que pasa? las transformamos o no?\n",
    "train_labels[0:10]"
   ]
  },
  {
   "cell_type": "code",
   "execution_count": 0,
   "metadata": {
    "colab": {},
    "colab_type": "code",
    "id": "XBSDRWY1w6Mx"
   },
   "outputs": [],
   "source": [
    "#dimension de la salida=1 --> Positivo o negativo (la valoración).\n",
    "#¿qué funcion de activación conocemos?--> logistica (nos tiene que dar un unico valor entre 0 y 1)\n",
    "\n",
    "#Al final, tienen que encajar las dimensiones. SI no es así tenemos un problema.\n",
    "#En este caso no tendríamos que transformarlas. (labels)"
   ]
  },
  {
   "cell_type": "code",
   "execution_count": 0,
   "metadata": {
    "colab": {},
    "colab_type": "code",
    "id": "Cwo2j_6ExiF_"
   },
   "outputs": [],
   "source": [
    "#hacemos lo mismo con el test\n",
    "test_text_m=tokenizer.sequences_to_matrix(test_text, mode='binary')"
   ]
  },
  {
   "cell_type": "code",
   "execution_count": 0,
   "metadata": {
    "colab": {},
    "colab_type": "code",
    "id": "Fy_P1r19xiCw"
   },
   "outputs": [],
   "source": []
  },
  {
   "cell_type": "code",
   "execution_count": 0,
   "metadata": {
    "colab": {},
    "colab_type": "code",
    "id": "LTL5vvVZxh9R"
   },
   "outputs": [],
   "source": []
  },
  {
   "cell_type": "markdown",
   "metadata": {
    "colab_type": "text",
    "id": "9Gv5gs_pSQIy"
   },
   "source": [
    "**EXERCISE 1**. Can you see any problem with this approach? How would you solve it?\n",
    "\n",
    "**EXERCISE 2**. Do we need to transform the labels? Why? Or why not?"
   ]
  },
  {
   "cell_type": "markdown",
   "metadata": {
    "colab_type": "text",
    "id": "lYhzfuxzSQIz"
   },
   "source": [
    "## Let's build the model"
   ]
  },
  {
   "cell_type": "code",
   "execution_count": 0,
   "metadata": {
    "colab": {},
    "colab_type": "code",
    "id": "fVA3IM0jSQIz"
   },
   "outputs": [],
   "source": [
    "#vamos a construir el modelo. \n",
    "from keras import models\n",
    "from keras import layers"
   ]
  },
  {
   "cell_type": "code",
   "execution_count": 0,
   "metadata": {
    "colab": {},
    "colab_type": "code",
    "id": "emzP6nHkx4Dy"
   },
   "outputs": [],
   "source": [
    "#creamos un primer modelo secuencial\n",
    "m1hot=models.Sequential()\n",
    "m1hot.add(layers.Dense(256,activation='relu',input_shape=(10000,)))#256 pq es lo primero que se me ha ocurrido. Esto se trata de probar. La entrada será el nº de columnas (le pasamos review a review), por lo que el input shape es 10000. Y pongo la , porque input shape tiene que ser una tupla.\n",
    "#tengo que reducir las dimensiones de las capas, rara vez se expande la salida. Tenemos que ir reduciendo\n",
    "m1hot.add(layers.Dense(128,activation='relu'))\n",
    "m1hot.add(layers.Dense(64,activation='relu'))\n",
    "#la capa final, tiene que ser de dimension 1, y la fucion de activacion tiene que ser adecuada en cada caso, en este caso tiene que ofrecer una salida entre 0 y 1. Ya que vams a comparar entre 0 y 1 de las etiquetas.\n",
    "m1hot.add(layers.Dense(1,activation='sigmoid'))\n"
   ]
  },
  {
   "cell_type": "code",
   "execution_count": 36,
   "metadata": {
    "colab": {
     "base_uri": "https://localhost:8080/",
     "height": 263
    },
    "colab_type": "code",
    "executionInfo": {
     "elapsed": 616,
     "status": "ok",
     "timestamp": 1537544618504,
     "user": {
      "displayName": "Antonio Bravo Muñoz",
      "photoUrl": "//lh5.googleusercontent.com/-I0fIeuNLzog/AAAAAAAAAAI/AAAAAAAAAAs/MDZ3MDDdQoQ/s50-c-k-no/photo.jpg",
      "userId": "117007621637238690901"
     },
     "user_tz": -120
    },
    "id": "oX1Wr4mvzI27",
    "outputId": "e778d53b-7b46-4906-b1f3-1c1b7662a81f"
   },
   "outputs": [
    {
     "name": "stdout",
     "output_type": "stream",
     "text": [
      "_________________________________________________________________\n",
      "Layer (type)                 Output Shape              Param #   \n",
      "=================================================================\n",
      "dense_1 (Dense)              (None, 256)               2560256   \n",
      "_________________________________________________________________\n",
      "dense_2 (Dense)              (None, 128)               32896     \n",
      "_________________________________________________________________\n",
      "dense_3 (Dense)              (None, 64)                8256      \n",
      "_________________________________________________________________\n",
      "dense_4 (Dense)              (None, 1)                 65        \n",
      "=================================================================\n",
      "Total params: 2,601,473\n",
      "Trainable params: 2,601,473\n",
      "Non-trainable params: 0\n",
      "_________________________________________________________________\n"
     ]
    }
   ],
   "source": [
    "m1hot.summary()"
   ]
  },
  {
   "cell_type": "code",
   "execution_count": 0,
   "metadata": {
    "colab": {},
    "colab_type": "code",
    "id": "NDaOEUfrzIu3"
   },
   "outputs": [],
   "source": [
    "#compilamos el modelo\n",
    "from keras import optimizers\n",
    "from keras import losses\n",
    "from keras import metrics"
   ]
  },
  {
   "cell_type": "code",
   "execution_count": 0,
   "metadata": {
    "colab": {},
    "colab_type": "code",
    "id": "rrNRVRUxzZnb"
   },
   "outputs": [],
   "source": [
    "m1hot.compile(\n",
    "    optimizer=optimizers.rmsprop(),\n",
    "    loss=losses.binary_crossentropy,#pq solo hay 2 categorías (0 y 1)\n",
    "    metrics=[metrics.binary_accuracy]\n",
    ")"
   ]
  },
  {
   "cell_type": "code",
   "execution_count": 39,
   "metadata": {
    "colab": {
     "base_uri": "https://localhost:8080/",
     "height": 691
    },
    "colab_type": "code",
    "executionInfo": {
     "elapsed": 37472,
     "status": "ok",
     "timestamp": 1537544888353,
     "user": {
      "displayName": "Antonio Bravo Muñoz",
      "photoUrl": "//lh5.googleusercontent.com/-I0fIeuNLzog/AAAAAAAAAAI/AAAAAAAAAAs/MDZ3MDDdQoQ/s50-c-k-no/photo.jpg",
      "userId": "117007621637238690901"
     },
     "user_tz": -120
    },
    "id": "OgQTukLUz5BO",
    "outputId": "e08a64ab-54f6-4cc1-d094-b77e8aeeabed"
   },
   "outputs": [
    {
     "name": "stdout",
     "output_type": "stream",
     "text": [
      "Train on 20000 samples, validate on 5000 samples\n",
      "Epoch 1/20\n",
      "20000/20000 [==============================] - 3s 142us/step - loss: 0.5741 - binary_accuracy: 0.7293 - val_loss: 0.4608 - val_binary_accuracy: 0.7776\n",
      "Epoch 2/20\n",
      "20000/20000 [==============================] - 2s 88us/step - loss: 0.3128 - binary_accuracy: 0.8744 - val_loss: 0.3061 - val_binary_accuracy: 0.8754\n",
      "Epoch 3/20\n",
      "20000/20000 [==============================] - 2s 88us/step - loss: 0.2222 - binary_accuracy: 0.9104 - val_loss: 0.2829 - val_binary_accuracy: 0.8900\n",
      "Epoch 4/20\n",
      "20000/20000 [==============================] - 2s 90us/step - loss: 0.1780 - binary_accuracy: 0.9305 - val_loss: 0.2697 - val_binary_accuracy: 0.8928\n",
      "Epoch 5/20\n",
      "20000/20000 [==============================] - 2s 87us/step - loss: 0.1251 - binary_accuracy: 0.9541 - val_loss: 0.3228 - val_binary_accuracy: 0.8896\n",
      "Epoch 6/20\n",
      "20000/20000 [==============================] - 2s 97us/step - loss: 0.1181 - binary_accuracy: 0.9600 - val_loss: 0.3135 - val_binary_accuracy: 0.8928\n",
      "Epoch 7/20\n",
      "20000/20000 [==============================] - 2s 87us/step - loss: 0.0242 - binary_accuracy: 0.9938 - val_loss: 0.4384 - val_binary_accuracy: 0.8902\n",
      "Epoch 8/20\n",
      "20000/20000 [==============================] - 2s 88us/step - loss: 0.1414 - binary_accuracy: 0.9702 - val_loss: 0.3289 - val_binary_accuracy: 0.8878\n",
      "Epoch 9/20\n",
      "20000/20000 [==============================] - 2s 87us/step - loss: 0.0104 - binary_accuracy: 0.9994 - val_loss: 0.4549 - val_binary_accuracy: 0.8896\n",
      "Epoch 10/20\n",
      "20000/20000 [==============================] - 2s 87us/step - loss: 0.0029 - binary_accuracy: 0.9997 - val_loss: 0.5522 - val_binary_accuracy: 0.8886\n",
      "Epoch 11/20\n",
      "20000/20000 [==============================] - 2s 87us/step - loss: 9.5123e-04 - binary_accuracy: 0.9998 - val_loss: 0.6346 - val_binary_accuracy: 0.8868\n",
      "Epoch 12/20\n",
      "20000/20000 [==============================] - 2s 88us/step - loss: 2.4559e-04 - binary_accuracy: 1.0000 - val_loss: 0.7249 - val_binary_accuracy: 0.8886\n",
      "Epoch 13/20\n",
      "20000/20000 [==============================] - 2s 88us/step - loss: 6.5372e-05 - binary_accuracy: 1.0000 - val_loss: 0.7971 - val_binary_accuracy: 0.8874\n",
      "Epoch 14/20\n",
      "20000/20000 [==============================] - 2s 88us/step - loss: 1.8681e-05 - binary_accuracy: 1.0000 - val_loss: 0.8623 - val_binary_accuracy: 0.8876\n",
      "Epoch 15/20\n",
      "20000/20000 [==============================] - 2s 88us/step - loss: 5.8055e-06 - binary_accuracy: 1.0000 - val_loss: 0.9150 - val_binary_accuracy: 0.8862\n",
      "Epoch 16/20\n",
      "20000/20000 [==============================] - 2s 89us/step - loss: 2.1030e-06 - binary_accuracy: 1.0000 - val_loss: 0.9606 - val_binary_accuracy: 0.8840\n",
      "Epoch 17/20\n",
      "20000/20000 [==============================] - 2s 88us/step - loss: 8.1206e-07 - binary_accuracy: 1.0000 - val_loss: 0.9905 - val_binary_accuracy: 0.8872\n",
      "Epoch 18/20\n",
      "20000/20000 [==============================] - 2s 88us/step - loss: 3.9313e-07 - binary_accuracy: 1.0000 - val_loss: 1.0218 - val_binary_accuracy: 0.8866\n",
      "Epoch 19/20\n",
      "20000/20000 [==============================] - 2s 88us/step - loss: 2.3282e-07 - binary_accuracy: 1.0000 - val_loss: 1.0434 - val_binary_accuracy: 0.8862\n",
      "Epoch 20/20\n",
      "20000/20000 [==============================] - 2s 87us/step - loss: 1.6749e-07 - binary_accuracy: 1.0000 - val_loss: 1.0613 - val_binary_accuracy: 0.8872\n"
     ]
    }
   ],
   "source": [
    "#ajustamos el modelo, guardando su salida para poder comparar\n",
    "h=m1hot.fit(train_text_m,train_labels,epochs=20,batch_size=1024,validation_split=.2)"
   ]
  },
  {
   "cell_type": "markdown",
   "metadata": {
    "colab_type": "text",
    "id": "SUCzUlXwSQI2"
   },
   "source": [
    "# Analyze performance"
   ]
  },
  {
   "cell_type": "code",
   "execution_count": 0,
   "metadata": {
    "colab": {},
    "colab_type": "code",
    "id": "GB4chhArSQI3"
   },
   "outputs": [],
   "source": [
    "#vamos a ver los valores que salen."
   ]
  },
  {
   "cell_type": "code",
   "execution_count": 43,
   "metadata": {
    "colab": {
     "base_uri": "https://localhost:8080/",
     "height": 476
    },
    "colab_type": "code",
    "executionInfo": {
     "elapsed": 1518,
     "status": "ok",
     "timestamp": 1537545136676,
     "user": {
      "displayName": "Antonio Bravo Muñoz",
      "photoUrl": "//lh5.googleusercontent.com/-I0fIeuNLzog/AAAAAAAAAAI/AAAAAAAAAAs/MDZ3MDDdQoQ/s50-c-k-no/photo.jpg",
      "userId": "117007621637238690901"
     },
     "user_tz": -120
    },
    "id": "KdMV1v7d0Yar",
    "outputId": "266ebb4a-f9db-4242-dd9b-6980fd85a514"
   },
   "outputs": [
    {
     "data": {
      "image/png": "[encoded data removed]",
      "text/plain": [
       "<matplotlib.figure.Figure at 0x7f96cc5369e8>"
      ]
     },
     "metadata": {
      "tags": []
     },
     "output_type": "display_data"
    }
   ],
   "source": [
    "plot_metric(h, 'loss')"
   ]
  },
  {
   "cell_type": "code",
   "execution_count": 0,
   "metadata": {
    "colab": {},
    "colab_type": "code",
    "id": "KbYN00Ln02MM"
   },
   "outputs": [],
   "source": [
    "#el training lo clavo pero pero mira la validacion, es overfitting"
   ]
  },
  {
   "cell_type": "code",
   "execution_count": 41,
   "metadata": {
    "colab": {
     "base_uri": "https://localhost:8080/",
     "height": 476
    },
    "colab_type": "code",
    "executionInfo": {
     "elapsed": 1426,
     "status": "ok",
     "timestamp": 1537545000613,
     "user": {
      "displayName": "Antonio Bravo Muñoz",
      "photoUrl": "//lh5.googleusercontent.com/-I0fIeuNLzog/AAAAAAAAAAI/AAAAAAAAAAs/MDZ3MDDdQoQ/s50-c-k-no/photo.jpg",
      "userId": "117007621637238690901"
     },
     "user_tz": -120
    },
    "id": "_GmBlqxn0rtv",
    "outputId": "ffe0980e-e10e-47ea-92af-c9d20085f8e6"
   },
   "outputs": [
    {
     "data": {
      "image/png": "[encoded data removed]",
      "text/plain": [
       "<matplotlib.figure.Figure at 0x7f96cd295438>"
      ]
     },
     "metadata": {
      "tags": []
     },
     "output_type": "display_data"
    }
   ],
   "source": [
    "plot_metric(h, 'binary_accuracy')"
   ]
  },
  {
   "cell_type": "code",
   "execution_count": 45,
   "metadata": {
    "colab": {
     "base_uri": "https://localhost:8080/",
     "height": 49
    },
    "colab_type": "code",
    "executionInfo": {
     "elapsed": 3823,
     "status": "ok",
     "timestamp": 1537545535698,
     "user": {
      "displayName": "Antonio Bravo Muñoz",
      "photoUrl": "//lh5.googleusercontent.com/-I0fIeuNLzog/AAAAAAAAAAI/AAAAAAAAAAs/MDZ3MDDdQoQ/s50-c-k-no/photo.jpg",
      "userId": "117007621637238690901"
     },
     "user_tz": -120
    },
    "id": "qVIERNno0e2c",
    "outputId": "2129ef6f-52a4-4de3-de5a-bfd8d1535e8b"
   },
   "outputs": [
    {
     "name": "stdout",
     "output_type": "stream",
     "text": [
      "25000/25000 [==============================] - 3s 139us/step\n"
     ]
    },
    {
     "data": {
      "text/plain": [
       "[1.1608314690730326, 0.8742]"
      ]
     },
     "execution_count": 45,
     "metadata": {
      "tags": []
     },
     "output_type": "execute_result"
    }
   ],
   "source": [
    "#esta aproximación es muy pobre, por ello tenemos que usar otra forma de formar la matriz-->word embeddings\n",
    "m1hot.evaluate(test_text_m,test_labels)\n",
    "#viendo esto no está tan mal, pero claro, como hemos visto antes hay overfitting y no es la mejor solucion."
   ]
  },
  {
   "cell_type": "markdown",
   "metadata": {
    "colab_type": "text",
    "id": "Im53_WFdSQI5"
   },
   "source": [
    "We cannot find a satisfactory model with what we have learned so far. Is there any way to have a better representation of text that can provide better results?"
   ]
  },
  {
   "cell_type": "code",
   "execution_count": 0,
   "metadata": {
    "colab": {},
    "colab_type": "code",
    "id": "ETkJuAZISQI5"
   },
   "outputs": [],
   "source": []
  },
  {
   "cell_type": "markdown",
   "metadata": {
    "colab_type": "text",
    "id": "Iqt2Iw93SQI6"
   },
   "source": [
    "# Word embeddings\n",
    "\n",
    "Using 1-HOT encoded vectors produce large and sparse tensors, that are difficult to learn from using a neural network. Word embeddings are compact vectors, representing words in a vector space. These vectors are learnt in a neural network, with a layer of type *Embedding*. We can also even use pre-trained word embeddings, to improve our model\n",
    "\n",
    "![](./imgs/07_embeddings.png)\n",
    "\n",
    "To generate  an embedding, we need to tokenize the text, transforming words into indices, and then we use these lists of numbers to produce the vectorial representation:\n",
    "\n",
    "![](./imgs/08_embeddings.png)\n",
    "\n",
    "More info:\n",
    "* http://www.offconvex.org/2015/12/12/word-embeddings-1/\n",
    "* http://www.offconvex.org/2016/02/14/word-embeddings-2/"
   ]
  },
  {
   "cell_type": "markdown",
   "metadata": {
    "colab_type": "text",
    "id": "d2PcZu7iSQI7"
   },
   "source": [
    "## Input data for word embeddings"
   ]
  },
  {
   "cell_type": "code",
   "execution_count": 0,
   "metadata": {
    "colab": {},
    "colab_type": "code",
    "id": "3RDHbaTZSQI8"
   },
   "outputs": [],
   "source": [
    "#los datos de entrada son los mismos de antes:secuencia de listas de enteros y etiquetas.\n",
    "# Haremos lo que es el PADDIN: decidir tamaño maximo delos reviews, se truncarán los que sean mas largos y los que sean mas cortos se cubrirán con ceros (tendrá alguna influencia)\n"
   ]
  },
  {
   "cell_type": "code",
   "execution_count": 0,
   "metadata": {
    "colab": {},
    "colab_type": "code",
    "id": "bdaOdm9J3gus"
   },
   "outputs": [],
   "source": [
    "max_len=100\n",
    "embedding_dim=32#dimensiones del embeding\n",
    "max_words=10000"
   ]
  },
  {
   "cell_type": "code",
   "execution_count": 0,
   "metadata": {
    "colab": {},
    "colab_type": "code",
    "id": "ZaxKW9mg3gbO"
   },
   "outputs": [],
   "source": [
    "#hacemos el padding de la secuencia para obtener el texto padeado.\n",
    "from keras.preprocessing import sequence\n",
    "#ahora vamos a importar el texto como una secuencia, lo que conservará el orden de las palabras"
   ]
  },
  {
   "cell_type": "code",
   "execution_count": 0,
   "metadata": {
    "colab": {},
    "colab_type": "code",
    "id": "uJ7ryaJR3gSM"
   },
   "outputs": [],
   "source": [
    "train_text_p=sequence.pad_sequences(train_text,maxlen=max_len)\n",
    "test_text_p=sequence.pad_sequences(test_text,maxlen=max_len)"
   ]
  },
  {
   "cell_type": "code",
   "execution_count": 50,
   "metadata": {
    "colab": {
     "base_uri": "https://localhost:8080/",
     "height": 32
    },
    "colab_type": "code",
    "executionInfo": {
     "elapsed": 1013,
     "status": "ok",
     "timestamp": 1537546025175,
     "user": {
      "displayName": "Antonio Bravo Muñoz",
      "photoUrl": "//lh5.googleusercontent.com/-I0fIeuNLzog/AAAAAAAAAAI/AAAAAAAAAAs/MDZ3MDDdQoQ/s50-c-k-no/photo.jpg",
      "userId": "117007621637238690901"
     },
     "user_tz": -120
    },
    "id": "OGmOidrF37y3",
    "outputId": "2b2f7648-8eef-4a04-9fdc-812f3e60c208"
   },
   "outputs": [
    {
     "data": {
      "text/plain": [
       "(25000, 100)"
      ]
     },
     "execution_count": 50,
     "metadata": {
      "tags": []
     },
     "output_type": "execute_result"
    }
   ],
   "source": [
    "#esto es todo lo que tenemos que hacer para obtener embedings de estos datos. Vamos a ver:\n",
    "train_text_p.shape\n",
    "#se acotan los textos a 100 palabras (truncamos y/o rellenamos con 0s) cada palabra se mapeará a un vector de dim 32. Si se repite la palabra, aparecerá el vector 2 veces. De alguna manera los vectores se ordenará en el espacio para capturar las relaciones"
   ]
  },
  {
   "cell_type": "code",
   "execution_count": 0,
   "metadata": {
    "colab": {},
    "colab_type": "code",
    "id": "d1sAj4Fa37v8"
   },
   "outputs": [],
   "source": []
  },
  {
   "cell_type": "code",
   "execution_count": 0,
   "metadata": {
    "colab": {},
    "colab_type": "code",
    "id": "CWHhFhyq37rR"
   },
   "outputs": [],
   "source": []
  },
  {
   "cell_type": "markdown",
   "metadata": {
    "colab_type": "text",
    "id": "FOdy6i0PSQI-"
   },
   "source": [
    "## Let's build the model with embeddings"
   ]
  },
  {
   "cell_type": "code",
   "execution_count": 0,
   "metadata": {
    "colab": {},
    "colab_type": "code",
    "id": "C0aZ_0vrSQJA"
   },
   "outputs": [],
   "source": [
    "#nosotros o entrenamos el embedding o cogemos otro preentrenado. (ver GLOVE (pre_training word embebed vectors (espacio vectorial)), entrenado con textos de wikipedia)\n",
    "\n",
    "m2emb=models.Sequential()\n",
    "m2emb.add(layers.Embedding(max_len,embedding_dim))#ahora las capas son de tipo embeding, no hay funcion de activacion pq quiero aprovechar toda la info del espacio vectorial. El imput shape no es el normal (tiene que aceptar a la entrada vectores de 100) y la salida tiene que se la dimension del embedding\n",
    "m2emb.add(layers.Dense(32,activation='relu'))#añadimos una capa densa\n",
    "m2emb.add(layers.Dense(16,activation='relu'))#añadimos una capa densa\n",
    "m2emb.add(layers.Dense(1,activation='sigmoid'))\n"
   ]
  },
  {
   "cell_type": "code",
   "execution_count": 0,
   "metadata": {
    "colab": {},
    "colab_type": "code",
    "id": "vc34gesX4pBu"
   },
   "outputs": [],
   "source": [
    "m2emb.compile(\n",
    "    optimizer=optimizers.rmsprop(),\n",
    "    loss=losses.binary_crossentropy,#pq solo hay 2 categorías (0 y 1)\n",
    "    metrics=[metrics.binary_accuracy]\n",
    ")"
   ]
  },
  {
   "cell_type": "code",
   "execution_count": 57,
   "metadata": {
    "colab": {
     "base_uri": "https://localhost:8080/",
     "height": 263
    },
    "colab_type": "code",
    "executionInfo": {
     "elapsed": 1204,
     "status": "ok",
     "timestamp": 1537546327421,
     "user": {
      "displayName": "Antonio Bravo Muñoz",
      "photoUrl": "//lh5.googleusercontent.com/-I0fIeuNLzog/AAAAAAAAAAI/AAAAAAAAAAs/MDZ3MDDdQoQ/s50-c-k-no/photo.jpg",
      "userId": "117007621637238690901"
     },
     "user_tz": -120
    },
    "id": "74cZlofU5t6Z",
    "outputId": "7977bb67-9a07-428a-dd9f-64b22412c0d2"
   },
   "outputs": [
    {
     "name": "stdout",
     "output_type": "stream",
     "text": [
      "_________________________________________________________________\n",
      "Layer (type)                 Output Shape              Param #   \n",
      "=================================================================\n",
      "embedding_1 (Embedding)      (None, None, 32)          3200      \n",
      "_________________________________________________________________\n",
      "dense_5 (Dense)              (None, None, 32)          1056      \n",
      "_________________________________________________________________\n",
      "dense_6 (Dense)              (None, None, 16)          528       \n",
      "_________________________________________________________________\n",
      "dense_7 (Dense)              (None, None, 1)           17        \n",
      "=================================================================\n",
      "Total params: 4,801\n",
      "Trainable params: 4,801\n",
      "Non-trainable params: 0\n",
      "_________________________________________________________________\n"
     ]
    }
   ],
   "source": [
    "m2emb.summary()#ahora hay menos parametros pq el modelo es menor"
   ]
  },
  {
   "cell_type": "code",
   "execution_count": 58,
   "metadata": {
    "colab": {
     "base_uri": "https://localhost:8080/",
     "height": 658
    },
    "colab_type": "code",
    "executionInfo": {
     "elapsed": 1025,
     "status": "error",
     "timestamp": 1537546360497,
     "user": {
      "displayName": "Antonio Bravo Muñoz",
      "photoUrl": "//lh5.googleusercontent.com/-I0fIeuNLzog/AAAAAAAAAAI/AAAAAAAAAAs/MDZ3MDDdQoQ/s50-c-k-no/photo.jpg",
      "userId": "117007621637238690901"
     },
     "user_tz": -120
    },
    "id": "kC75t5yU4o82",
    "outputId": "ae73776f-8748-4159-a7f6-a580bae44ede"
   },
   "outputs": [
    {
     "ename": "ValueError",
     "evalue": "ignored",
     "output_type": "error",
     "traceback": [
      "\u001b[0;31m---------------------------------------------------------------------------\u001b[0m",
      "\u001b[0;31mValueError\u001b[0m                                Traceback (most recent call last)",
      "\u001b[0;32m<ipython-input-58-81eff9c03655>\u001b[0m in \u001b[0;36m<module>\u001b[0;34m()\u001b[0m\n\u001b[0;32m----> 1\u001b[0;31m \u001b[0mh\u001b[0m\u001b[0;34m=\u001b[0m\u001b[0mm2emb\u001b[0m\u001b[0;34m.\u001b[0m\u001b[0mfit\u001b[0m\u001b[0;34m(\u001b[0m\u001b[0mtrain_text_p\u001b[0m\u001b[0;34m,\u001b[0m\u001b[0mtrain_labels\u001b[0m\u001b[0;34m,\u001b[0m\u001b[0mepochs\u001b[0m\u001b[0;34m=\u001b[0m\u001b[0;36m20\u001b[0m\u001b[0;34m,\u001b[0m\u001b[0mbatch_size\u001b[0m\u001b[0;34m=\u001b[0m\u001b[0;36m1024\u001b[0m\u001b[0;34m,\u001b[0m\u001b[0mvalidation_split\u001b[0m\u001b[0;34m=\u001b[0m\u001b[0;36m.2\u001b[0m\u001b[0;34m)\u001b[0m\u001b[0;34m\u001b[0m\u001b[0m\n\u001b[0m",
      "\u001b[0;32m/usr/local/lib/python3.6/dist-packages/keras/models.py\u001b[0m in \u001b[0;36mfit\u001b[0;34m(self, x, y, batch_size, epochs, verbose, callbacks, validation_split, validation_data, shuffle, class_weight, sample_weight, initial_epoch, steps_per_epoch, validation_steps, **kwargs)\u001b[0m\n\u001b[1;32m   1000\u001b[0m                               \u001b[0minitial_epoch\u001b[0m\u001b[0;34m=\u001b[0m\u001b[0minitial_epoch\u001b[0m\u001b[0;34m,\u001b[0m\u001b[0;34m\u001b[0m\u001b[0m\n\u001b[1;32m   1001\u001b[0m                               \u001b[0msteps_per_epoch\u001b[0m\u001b[0;34m=\u001b[0m\u001b[0msteps_per_epoch\u001b[0m\u001b[0;34m,\u001b[0m\u001b[0;34m\u001b[0m\u001b[0m\n\u001b[0;32m-> 1002\u001b[0;31m                               validation_steps=validation_steps)\n\u001b[0m\u001b[1;32m   1003\u001b[0m \u001b[0;34m\u001b[0m\u001b[0m\n\u001b[1;32m   1004\u001b[0m     def evaluate(self, x=None, y=None,\n",
      "\u001b[0;32m/usr/local/lib/python3.6/dist-packages/keras/engine/training.py\u001b[0m in \u001b[0;36mfit\u001b[0;34m(self, x, y, batch_size, epochs, verbose, callbacks, validation_split, validation_data, shuffle, class_weight, sample_weight, initial_epoch, steps_per_epoch, validation_steps, **kwargs)\u001b[0m\n\u001b[1;32m   1628\u001b[0m             \u001b[0msample_weight\u001b[0m\u001b[0;34m=\u001b[0m\u001b[0msample_weight\u001b[0m\u001b[0;34m,\u001b[0m\u001b[0;34m\u001b[0m\u001b[0m\n\u001b[1;32m   1629\u001b[0m             \u001b[0mclass_weight\u001b[0m\u001b[0;34m=\u001b[0m\u001b[0mclass_weight\u001b[0m\u001b[0;34m,\u001b[0m\u001b[0;34m\u001b[0m\u001b[0m\n\u001b[0;32m-> 1630\u001b[0;31m             batch_size=batch_size)\n\u001b[0m\u001b[1;32m   1631\u001b[0m         \u001b[0;31m# Prepare validation data.\u001b[0m\u001b[0;34m\u001b[0m\u001b[0;34m\u001b[0m\u001b[0m\n\u001b[1;32m   1632\u001b[0m         \u001b[0mdo_validation\u001b[0m \u001b[0;34m=\u001b[0m \u001b[0;32mFalse\u001b[0m\u001b[0;34m\u001b[0m\u001b[0m\n",
      "\u001b[0;32m/usr/local/lib/python3.6/dist-packages/keras/engine/training.py\u001b[0m in \u001b[0;36m_standardize_user_data\u001b[0;34m(self, x, y, sample_weight, class_weight, check_array_lengths, batch_size)\u001b[0m\n\u001b[1;32m   1478\u001b[0m                                     \u001b[0moutput_shapes\u001b[0m\u001b[0;34m,\u001b[0m\u001b[0;34m\u001b[0m\u001b[0m\n\u001b[1;32m   1479\u001b[0m                                     \u001b[0mcheck_batch_axis\u001b[0m\u001b[0;34m=\u001b[0m\u001b[0;32mFalse\u001b[0m\u001b[0;34m,\u001b[0m\u001b[0;34m\u001b[0m\u001b[0m\n\u001b[0;32m-> 1480\u001b[0;31m                                     exception_prefix='target')\n\u001b[0m\u001b[1;32m   1481\u001b[0m         sample_weights = _standardize_sample_weights(sample_weight,\n\u001b[1;32m   1482\u001b[0m                                                      self._feed_output_names)\n",
      "\u001b[0;32m/usr/local/lib/python3.6/dist-packages/keras/engine/training.py\u001b[0m in \u001b[0;36m_standardize_input_data\u001b[0;34m(data, names, shapes, check_batch_axis, exception_prefix)\u001b[0m\n\u001b[1;32m    111\u001b[0m                         \u001b[0;34m': expected '\u001b[0m \u001b[0;34m+\u001b[0m \u001b[0mnames\u001b[0m\u001b[0;34m[\u001b[0m\u001b[0mi\u001b[0m\u001b[0;34m]\u001b[0m \u001b[0;34m+\u001b[0m \u001b[0;34m' to have '\u001b[0m \u001b[0;34m+\u001b[0m\u001b[0;34m\u001b[0m\u001b[0m\n\u001b[1;32m    112\u001b[0m                         \u001b[0mstr\u001b[0m\u001b[0;34m(\u001b[0m\u001b[0mlen\u001b[0m\u001b[0;34m(\u001b[0m\u001b[0mshape\u001b[0m\u001b[0;34m)\u001b[0m\u001b[0;34m)\u001b[0m \u001b[0;34m+\u001b[0m \u001b[0;34m' dimensions, but got array '\u001b[0m\u001b[0;34m\u001b[0m\u001b[0m\n\u001b[0;32m--> 113\u001b[0;31m                         'with shape ' + str(data_shape))\n\u001b[0m\u001b[1;32m    114\u001b[0m                 \u001b[0;32mif\u001b[0m \u001b[0;32mnot\u001b[0m \u001b[0mcheck_batch_axis\u001b[0m\u001b[0;34m:\u001b[0m\u001b[0;34m\u001b[0m\u001b[0m\n\u001b[1;32m    115\u001b[0m                     \u001b[0mdata_shape\u001b[0m \u001b[0;34m=\u001b[0m \u001b[0mdata_shape\u001b[0m\u001b[0;34m[\u001b[0m\u001b[0;36m1\u001b[0m\u001b[0;34m:\u001b[0m\u001b[0;34m]\u001b[0m\u001b[0;34m\u001b[0m\u001b[0m\n",
      "\u001b[0;31mValueError\u001b[0m: Error when checking target: expected dense_7 to have 3 dimensions, but got array with shape (25000, 1)"
     ]
    }
   ],
   "source": [
    "h=m2emb.fit(train_text_p,train_labels,epochs=20,batch_size=1024,validation_split=.2)"
   ]
  },
  {
   "cell_type": "code",
   "execution_count": 0,
   "metadata": {
    "colab": {},
    "colab_type": "code",
    "id": "E8iTBGj658Rg"
   },
   "outputs": [],
   "source": [
    "#vemos q falla pq la ultima capa tiene un output shape de dimension 3. hab´ra que veer que le pasa... el profesor lo deja ahí, no teiene gana de pensar."
   ]
  },
  {
   "cell_type": "code",
   "execution_count": 0,
   "metadata": {
    "colab": {},
    "colab_type": "code",
    "id": "rZ0knDfj6CuY"
   },
   "outputs": [],
   "source": []
  },
  {
   "cell_type": "code",
   "execution_count": 0,
   "metadata": {
    "colab": {},
    "colab_type": "code",
    "id": "jaoi1vq36Ckm"
   },
   "outputs": [],
   "source": [
    "#OTRO TIPO de capas: REDES RECURRENTES. Son capaces de modelar la secuencia de elementos (tienen memoria corta)\n",
    "m2emb=models.Sequential()\n",
    "m2emb.add(layers.Embedding(max_len,embedding_dim))#ahora las capas son de tipo embeding, no hay funcion de activacion pq quiero aprovechar toda la info del espacio vectorial. El imput shape no es el normal (tiene que aceptar a la entrada vectores de 100) y la salida tiene que se la dimension del embedding\n",
    "m2emb.add(layers.SimpleRNN(32))#añadimos una capa redes neuronales recurrenttes\n",
    "m2emb.add(layers.Dense(1,activation='sigmoid'))\n",
    "\n",
    "#vamos a entrenarlo solo con una capa recurrente"
   ]
  },
  {
   "cell_type": "code",
   "execution_count": 60,
   "metadata": {
    "colab": {
     "base_uri": "https://localhost:8080/",
     "height": 230
    },
    "colab_type": "code",
    "executionInfo": {
     "elapsed": 1074,
     "status": "ok",
     "timestamp": 1537546705502,
     "user": {
      "displayName": "Antonio Bravo Muñoz",
      "photoUrl": "//lh5.googleusercontent.com/-I0fIeuNLzog/AAAAAAAAAAI/AAAAAAAAAAs/MDZ3MDDdQoQ/s50-c-k-no/photo.jpg",
      "userId": "117007621637238690901"
     },
     "user_tz": -120
    },
    "id": "Y3gENZcg6CZj",
    "outputId": "8f54ca7d-7ff0-4ec2-bb19-7fb5528b0415"
   },
   "outputs": [
    {
     "name": "stdout",
     "output_type": "stream",
     "text": [
      "_________________________________________________________________\n",
      "Layer (type)                 Output Shape              Param #   \n",
      "=================================================================\n",
      "embedding_2 (Embedding)      (None, None, 32)          3200      \n",
      "_________________________________________________________________\n",
      "simple_rnn_1 (SimpleRNN)     (None, 32)                2080      \n",
      "_________________________________________________________________\n",
      "dense_8 (Dense)              (None, 1)                 33        \n",
      "=================================================================\n",
      "Total params: 5,313\n",
      "Trainable params: 5,313\n",
      "Non-trainable params: 0\n",
      "_________________________________________________________________\n"
     ]
    }
   ],
   "source": [
    "m2emb.summary()#ahora hay menos parametros pq el modelo es menor"
   ]
  },
  {
   "cell_type": "code",
   "execution_count": 0,
   "metadata": {
    "colab": {},
    "colab_type": "code",
    "id": "PpJkbrRG7Q8B"
   },
   "outputs": [],
   "source": [
    "m2emb.compile(\n",
    "    optimizer=optimizers.rmsprop(),\n",
    "    loss=losses.binary_crossentropy,#pq solo hay 2 categorías (0 y 1)\n",
    "    metrics=[metrics.binary_accuracy]\n",
    ")"
   ]
  },
  {
   "cell_type": "code",
   "execution_count": 62,
   "metadata": {
    "colab": {
     "base_uri": "https://localhost:8080/",
     "height": 691
    },
    "colab_type": "code",
    "executionInfo": {
     "elapsed": 31050,
     "status": "ok",
     "timestamp": 1537546772591,
     "user": {
      "displayName": "Antonio Bravo Muñoz",
      "photoUrl": "//lh5.googleusercontent.com/-I0fIeuNLzog/AAAAAAAAAAI/AAAAAAAAAAs/MDZ3MDDdQoQ/s50-c-k-no/photo.jpg",
      "userId": "117007621637238690901"
     },
     "user_tz": -120
    },
    "id": "MCalQ99e7Q4z",
    "outputId": "261da623-4139-4a7c-9a47-c36495255a59"
   },
   "outputs": [
    {
     "name": "stdout",
     "output_type": "stream",
     "text": [
      "Train on 20000 samples, validate on 5000 samples\n",
      "Epoch 1/20\n",
      "20000/20000 [==============================] - 2s 86us/step - loss: 0.6888 - binary_accuracy: 0.5453 - val_loss: 0.6779 - val_binary_accuracy: 0.5650\n",
      "Epoch 2/20\n",
      "20000/20000 [==============================] - 1s 74us/step - loss: 0.7334 - binary_accuracy: 0.5086 - val_loss: 0.7249 - val_binary_accuracy: 0.5052\n",
      "Epoch 3/20\n",
      "20000/20000 [==============================] - 1s 75us/step - loss: 0.7099 - binary_accuracy: 0.5122 - val_loss: 0.7131 - val_binary_accuracy: 0.5086\n",
      "Epoch 4/20\n",
      "20000/20000 [==============================] - 1s 74us/step - loss: 0.7373 - binary_accuracy: 0.5107 - val_loss: 0.7613 - val_binary_accuracy: 0.5222\n",
      "Epoch 5/20\n",
      "20000/20000 [==============================] - 2s 83us/step - loss: 0.7833 - binary_accuracy: 0.4960 - val_loss: 0.7616 - val_binary_accuracy: 0.5066\n",
      "Epoch 6/20\n",
      "20000/20000 [==============================] - 1s 74us/step - loss: 0.7367 - binary_accuracy: 0.5068 - val_loss: 0.7215 - val_binary_accuracy: 0.5110\n",
      "Epoch 7/20\n",
      "20000/20000 [==============================] - 1s 73us/step - loss: 0.7474 - binary_accuracy: 0.4990 - val_loss: 0.7587 - val_binary_accuracy: 0.4848\n",
      "Epoch 8/20\n",
      "20000/20000 [==============================] - 1s 74us/step - loss: 0.7439 - binary_accuracy: 0.4948 - val_loss: 0.7353 - val_binary_accuracy: 0.4870\n",
      "Epoch 9/20\n",
      "20000/20000 [==============================] - 1s 74us/step - loss: 1.6824 - binary_accuracy: 0.4325 - val_loss: 8.0700 - val_binary_accuracy: 0.0000e+00\n",
      "Epoch 10/20\n",
      "20000/20000 [==============================] - 1s 74us/step - loss: 7.9465 - binary_accuracy: 0.0000e+00 - val_loss: 8.0700 - val_binary_accuracy: 0.0000e+00\n",
      "Epoch 11/20\n",
      "20000/20000 [==============================] - 1s 74us/step - loss: 7.9465 - binary_accuracy: 0.0000e+00 - val_loss: 8.0700 - val_binary_accuracy: 0.0000e+00\n",
      "Epoch 12/20\n",
      "20000/20000 [==============================] - 1s 73us/step - loss: 7.9465 - binary_accuracy: 0.0000e+00 - val_loss: 8.0700 - val_binary_accuracy: 0.0000e+00\n",
      "Epoch 13/20\n",
      "20000/20000 [==============================] - 1s 74us/step - loss: 7.9465 - binary_accuracy: 0.0000e+00 - val_loss: 8.0700 - val_binary_accuracy: 0.0000e+00\n",
      "Epoch 14/20\n",
      "20000/20000 [==============================] - 1s 73us/step - loss: 7.9465 - binary_accuracy: 0.0000e+00 - val_loss: 8.0700 - val_binary_accuracy: 0.0000e+00\n",
      "Epoch 15/20\n",
      "20000/20000 [==============================] - 1s 73us/step - loss: 7.9465 - binary_accuracy: 0.0000e+00 - val_loss: 8.0700 - val_binary_accuracy: 0.0000e+00\n",
      "Epoch 16/20\n",
      "20000/20000 [==============================] - 1s 73us/step - loss: 7.9465 - binary_accuracy: 0.0000e+00 - val_loss: 8.0700 - val_binary_accuracy: 0.0000e+00\n",
      "Epoch 17/20\n",
      "20000/20000 [==============================] - 1s 73us/step - loss: 7.9465 - binary_accuracy: 0.0000e+00 - val_loss: 8.0700 - val_binary_accuracy: 0.0000e+00\n",
      "Epoch 18/20\n",
      "20000/20000 [==============================] - 2s 75us/step - loss: 7.9465 - binary_accuracy: 0.0000e+00 - val_loss: 8.0700 - val_binary_accuracy: 0.0000e+00\n",
      "Epoch 19/20\n",
      "20000/20000 [==============================] - 1s 74us/step - loss: 7.9465 - binary_accuracy: 0.0000e+00 - val_loss: 8.0700 - val_binary_accuracy: 0.0000e+00\n",
      "Epoch 20/20\n",
      "20000/20000 [==============================] - 1s 74us/step - loss: 7.9465 - binary_accuracy: 0.0000e+00 - val_loss: 8.0700 - val_binary_accuracy: 0.0000e+00\n"
     ]
    }
   ],
   "source": [
    "h=m2emb.fit(train_text_p,train_labels,epochs=20,batch_size=1024,validation_split=.2)"
   ]
  },
  {
   "cell_type": "code",
   "execution_count": 0,
   "metadata": {
    "colab": {},
    "colab_type": "code",
    "id": "kQ10ZK1Z7QzX"
   },
   "outputs": [],
   "source": [
    "#ya a acabado de entrenar, vemos a ver que tal se ha comportado"
   ]
  },
  {
   "cell_type": "code",
   "execution_count": 64,
   "metadata": {
    "colab": {
     "base_uri": "https://localhost:8080/",
     "height": 476
    },
    "colab_type": "code",
    "executionInfo": {
     "elapsed": 1184,
     "status": "ok",
     "timestamp": 1537546805897,
     "user": {
      "displayName": "Antonio Bravo Muñoz",
      "photoUrl": "//lh5.googleusercontent.com/-I0fIeuNLzog/AAAAAAAAAAI/AAAAAAAAAAs/MDZ3MDDdQoQ/s50-c-k-no/photo.jpg",
      "userId": "117007621637238690901"
     },
     "user_tz": -120
    },
    "id": "-5PfQzwH7fhV",
    "outputId": "c35c8ae2-87f6-4dc5-f8f4-c99eabaf819a"
   },
   "outputs": [
    {
     "data": {
      "image/png": "[encoded data removed]",
      "text/plain": [
       "<matplotlib.figure.Figure at 0x7f96c4bf6208>"
      ]
     },
     "metadata": {
      "tags": []
     },
     "output_type": "display_data"
    }
   ],
   "source": [
    "plot_metric(h,'loss')\n",
    "#esto es muy raro, pq tendría que decrecer y el accuracy baja"
   ]
  },
  {
   "cell_type": "code",
   "execution_count": 69,
   "metadata": {
    "colab": {
     "base_uri": "https://localhost:8080/",
     "height": 476
    },
    "colab_type": "code",
    "executionInfo": {
     "elapsed": 1553,
     "status": "ok",
     "timestamp": 1537547043126,
     "user": {
      "displayName": "Antonio Bravo Muñoz",
      "photoUrl": "//lh5.googleusercontent.com/-I0fIeuNLzog/AAAAAAAAAAI/AAAAAAAAAAs/MDZ3MDDdQoQ/s50-c-k-no/photo.jpg",
      "userId": "117007621637238690901"
     },
     "user_tz": -120
    },
    "id": "MA90Musa7rOO",
    "outputId": "8d15c897-8a8d-46af-a881-4423d254d878"
   },
   "outputs": [
    {
     "data": {
      "image/png": "[encoded data removed]",
      "text/plain": [
       "<matplotlib.figure.Figure at 0x7f96915c2fd0>"
      ]
     },
     "metadata": {
      "tags": []
     },
     "output_type": "display_data"
    }
   ],
   "source": [
    "plot_metric(h,'binary_accuracy')"
   ]
  },
  {
   "cell_type": "code",
   "execution_count": 0,
   "metadata": {
    "colab": {},
    "colab_type": "code",
    "id": "-sAUNj0p7w7A"
   },
   "outputs": [],
   "source": [
    "#vamos a añadir otras capa recurrente, para probar\n",
    "m2emb=models.Sequential()\n",
    "m2emb.add(layers.Embedding(max_len,embedding_dim))#ahora las capas son de tipo embeding, no hay funcion de activacion pq quiero aprovechar toda la info del espacio vectorial. El imput shape no es el normal (tiene que aceptar a la entrada vectores de 100) y la salida tiene que se la dimension del embedding\n",
    "m2emb.add(layers.SimpleRNN(32,return_sequences=True))#añadimos una capa redes neuronales recurrenttes, para poder concatenar capas RNN la capa anterior RNN tiene que devolver una secuencia\n",
    "m2emb.add(layers.SimpleRNN(16,return_sequences=True))#añadimos una capa redes neuronales recurrenttes\n",
    "m2emb.add(layers.SimpleRNN(8))#añadimos una capa redes neuronales recurrenttes\n",
    "m2emb.add(layers.Dense(1,activation='sigmoid'))"
   ]
  },
  {
   "cell_type": "code",
   "execution_count": 72,
   "metadata": {
    "colab": {
     "base_uri": "https://localhost:8080/",
     "height": 296
    },
    "colab_type": "code",
    "executionInfo": {
     "elapsed": 1074,
     "status": "ok",
     "timestamp": 1537547073622,
     "user": {
      "displayName": "Antonio Bravo Muñoz",
      "photoUrl": "//lh5.googleusercontent.com/-I0fIeuNLzog/AAAAAAAAAAI/AAAAAAAAAAs/MDZ3MDDdQoQ/s50-c-k-no/photo.jpg",
      "userId": "117007621637238690901"
     },
     "user_tz": -120
    },
    "id": "HooKGDNr7w1L",
    "outputId": "25f5efc3-c879-4540-c634-39e73dddc0d1"
   },
   "outputs": [
    {
     "name": "stdout",
     "output_type": "stream",
     "text": [
      "_________________________________________________________________\n",
      "Layer (type)                 Output Shape              Param #   \n",
      "=================================================================\n",
      "embedding_6 (Embedding)      (None, None, 32)          3200      \n",
      "_________________________________________________________________\n",
      "simple_rnn_4 (SimpleRNN)     (None, None, 32)          2080      \n",
      "_________________________________________________________________\n",
      "simple_rnn_5 (SimpleRNN)     (None, None, 16)          784       \n",
      "_________________________________________________________________\n",
      "simple_rnn_6 (SimpleRNN)     (None, 8)                 200       \n",
      "_________________________________________________________________\n",
      "dense_9 (Dense)              (None, 1)                 9         \n",
      "=================================================================\n",
      "Total params: 6,273\n",
      "Trainable params: 6,273\n",
      "Non-trainable params: 0\n",
      "_________________________________________________________________\n"
     ]
    }
   ],
   "source": [
    "m2emb.summary()#tiene pinta de que va a ir bien"
   ]
  },
  {
   "cell_type": "code",
   "execution_count": 0,
   "metadata": {
    "colab": {},
    "colab_type": "code",
    "id": "AuRsEV458WOT"
   },
   "outputs": [],
   "source": [
    "m2emb.compile(\n",
    "    optimizer=optimizers.rmsprop(),\n",
    "    loss=losses.binary_crossentropy,#pq solo hay 2 categorías (0 y 1)\n",
    "    metrics=[metrics.binary_accuracy]\n",
    ")"
   ]
  },
  {
   "cell_type": "code",
   "execution_count": 74,
   "metadata": {
    "colab": {
     "base_uri": "https://localhost:8080/",
     "height": 691
    },
    "colab_type": "code",
    "executionInfo": {
     "elapsed": 81798,
     "status": "ok",
     "timestamp": 1537547174354,
     "user": {
      "displayName": "Antonio Bravo Muñoz",
      "photoUrl": "//lh5.googleusercontent.com/-I0fIeuNLzog/AAAAAAAAAAI/AAAAAAAAAAs/MDZ3MDDdQoQ/s50-c-k-no/photo.jpg",
      "userId": "117007621637238690901"
     },
     "user_tz": -120
    },
    "id": "yHScR8Gm8WIz",
    "outputId": "dd5d0304-2e95-4c9f-e75e-9979869dc70d"
   },
   "outputs": [
    {
     "name": "stdout",
     "output_type": "stream",
     "text": [
      "Train on 20000 samples, validate on 5000 samples\n",
      "Epoch 1/20\n",
      "20000/20000 [==============================] - 5s 226us/step - loss: 0.7173 - binary_accuracy: 0.5217 - val_loss: 0.7016 - val_binary_accuracy: 0.5350\n",
      "Epoch 2/20\n",
      "20000/20000 [==============================] - 4s 199us/step - loss: 0.6959 - binary_accuracy: 0.5367 - val_loss: 0.6935 - val_binary_accuracy: 0.5384\n",
      "Epoch 3/20\n",
      "20000/20000 [==============================] - 4s 198us/step - loss: 7.5742 - binary_accuracy: 0.0283 - val_loss: 8.0700 - val_binary_accuracy: 0.0000e+00\n",
      "Epoch 4/20\n",
      "20000/20000 [==============================] - 4s 198us/step - loss: 7.9465 - binary_accuracy: 0.0000e+00 - val_loss: 8.0700 - val_binary_accuracy: 0.0000e+00\n",
      "Epoch 5/20\n",
      "20000/20000 [==============================] - 4s 199us/step - loss: 7.9465 - binary_accuracy: 0.0000e+00 - val_loss: 8.0700 - val_binary_accuracy: 0.0000e+00\n",
      "Epoch 6/20\n",
      "20000/20000 [==============================] - 4s 197us/step - loss: 7.9465 - binary_accuracy: 0.0000e+00 - val_loss: 8.0700 - val_binary_accuracy: 0.0000e+00\n",
      "Epoch 7/20\n",
      "20000/20000 [==============================] - 4s 201us/step - loss: 7.9465 - binary_accuracy: 0.0000e+00 - val_loss: 8.0700 - val_binary_accuracy: 0.0000e+00\n",
      "Epoch 8/20\n",
      "20000/20000 [==============================] - 4s 199us/step - loss: 7.9465 - binary_accuracy: 0.0000e+00 - val_loss: 8.0700 - val_binary_accuracy: 0.0000e+00\n",
      "Epoch 9/20\n",
      "20000/20000 [==============================] - 4s 199us/step - loss: 7.9465 - binary_accuracy: 0.0000e+00 - val_loss: 8.0700 - val_binary_accuracy: 0.0000e+00\n",
      "Epoch 10/20\n",
      "20000/20000 [==============================] - 4s 199us/step - loss: 7.9465 - binary_accuracy: 0.0000e+00 - val_loss: 8.0700 - val_binary_accuracy: 0.0000e+00\n",
      "Epoch 11/20\n",
      "20000/20000 [==============================] - 4s 210us/step - loss: 7.9465 - binary_accuracy: 0.0000e+00 - val_loss: 8.0700 - val_binary_accuracy: 0.0000e+00\n",
      "Epoch 12/20\n",
      "20000/20000 [==============================] - 4s 200us/step - loss: 7.9465 - binary_accuracy: 0.0000e+00 - val_loss: 8.0700 - val_binary_accuracy: 0.0000e+00\n",
      "Epoch 13/20\n",
      "20000/20000 [==============================] - 4s 199us/step - loss: 7.9465 - binary_accuracy: 0.0000e+00 - val_loss: 8.0700 - val_binary_accuracy: 0.0000e+00\n",
      "Epoch 14/20\n",
      "20000/20000 [==============================] - 4s 198us/step - loss: 7.9465 - binary_accuracy: 0.0000e+00 - val_loss: 8.0700 - val_binary_accuracy: 0.0000e+00\n",
      "Epoch 15/20\n",
      "20000/20000 [==============================] - 4s 200us/step - loss: 7.9465 - binary_accuracy: 0.0000e+00 - val_loss: 8.0700 - val_binary_accuracy: 0.0000e+00\n",
      "Epoch 16/20\n",
      "20000/20000 [==============================] - 4s 200us/step - loss: 7.9465 - binary_accuracy: 0.0000e+00 - val_loss: 8.0700 - val_binary_accuracy: 0.0000e+00\n",
      "Epoch 17/20\n",
      "20000/20000 [==============================] - 4s 196us/step - loss: 7.9465 - binary_accuracy: 0.0000e+00 - val_loss: 8.0700 - val_binary_accuracy: 0.0000e+00\n",
      "Epoch 18/20\n",
      "20000/20000 [==============================] - 4s 198us/step - loss: 7.9465 - binary_accuracy: 0.0000e+00 - val_loss: 8.0700 - val_binary_accuracy: 0.0000e+00\n",
      "Epoch 19/20\n",
      "20000/20000 [==============================] - 4s 199us/step - loss: 7.9465 - binary_accuracy: 0.0000e+00 - val_loss: 8.0700 - val_binary_accuracy: 0.0000e+00\n",
      "Epoch 20/20\n",
      "20000/20000 [==============================] - 4s 199us/step - loss: 7.9465 - binary_accuracy: 0.0000e+00 - val_loss: 8.0700 - val_binary_accuracy: 0.0000e+00\n"
     ]
    }
   ],
   "source": [
    "h=m2emb.fit(train_text_p,train_labels,epochs=20,batch_size=1024,validation_split=.2)"
   ]
  },
  {
   "cell_type": "code",
   "execution_count": 75,
   "metadata": {
    "colab": {
     "base_uri": "https://localhost:8080/",
     "height": 476
    },
    "colab_type": "code",
    "executionInfo": {
     "elapsed": 1466,
     "status": "ok",
     "timestamp": 1537547212634,
     "user": {
      "displayName": "Antonio Bravo Muñoz",
      "photoUrl": "//lh5.googleusercontent.com/-I0fIeuNLzog/AAAAAAAAAAI/AAAAAAAAAAs/MDZ3MDDdQoQ/s50-c-k-no/photo.jpg",
      "userId": "117007621637238690901"
     },
     "user_tz": -120
    },
    "id": "FJwIKMsb7wvi",
    "outputId": "490f33f1-4604-4252-a947-7ac183964b19"
   },
   "outputs": [
    {
     "data": {
      "image/png": "[encoded data removed]",
      "text/plain": [
       "<matplotlib.figure.Figure at 0x7f96915b43c8>"
      ]
     },
     "metadata": {
      "tags": []
     },
     "output_type": "display_data"
    }
   ],
   "source": [
    "plot_metric(h,'loss')"
   ]
  },
  {
   "cell_type": "code",
   "execution_count": 76,
   "metadata": {
    "colab": {
     "base_uri": "https://localhost:8080/",
     "height": 476
    },
    "colab_type": "code",
    "executionInfo": {
     "elapsed": 1278,
     "status": "ok",
     "timestamp": 1537547239429,
     "user": {
      "displayName": "Antonio Bravo Muñoz",
      "photoUrl": "//lh5.googleusercontent.com/-I0fIeuNLzog/AAAAAAAAAAI/AAAAAAAAAAs/MDZ3MDDdQoQ/s50-c-k-no/photo.jpg",
      "userId": "117007621637238690901"
     },
     "user_tz": -120
    },
    "id": "HjaX8Kj-9PIh",
    "outputId": "5bc84b65-267b-4e38-9814-263c559e3aa6"
   },
   "outputs": [
    {
     "data": {
      "image/png": "[encoded data removed]",
      "text/plain": [
       "<matplotlib.figure.Figure at 0x7f96906155c0>"
      ]
     },
     "metadata": {
      "tags": []
     },
     "output_type": "display_data"
    }
   ],
   "source": [
    "plot_metric(h,'binary_accuracy')"
   ]
  },
  {
   "cell_type": "code",
   "execution_count": 0,
   "metadata": {
    "colab": {},
    "colab_type": "code",
    "id": "803EXmBb9PCy"
   },
   "outputs": [],
   "source": [
    "#abandono estos modelos, no se obtienen buenos resultados. Sale igual que antes. Vamos a descartarlos pq en realidad RNN no se usa, hay otro tipo de capas particular que se ha demostrado que funcionan muy bien en otros ambitos por ejemplo imágenes\n",
    "#Se trata de las capas LSTM, son recurrentes con memoria."
   ]
  },
  {
   "cell_type": "code",
   "execution_count": 0,
   "metadata": {
    "colab": {},
    "colab_type": "code",
    "id": "Zkg3L9IH9weU"
   },
   "outputs": [],
   "source": [
    "m2emb=models.Sequential()\n",
    "#!!! DABA ERROR PQ HAY QUE PONER MAX_WORD NO MAX_LEN, eso era lo que pasaba\n",
    "m2emb.add(layers.Embedding(max_words,embedding_dim))#ahora las capas son de tipo embeding, no hay funcion de activacion pq quiero aprovechar toda la info del espacio vectorial. El imput shape no es el normal (tiene que aceptar a la entrada vectores de 100) y la salida tiene que se la dimension del embedding\n",
    "m2emb.add(layers.LSTM(32,return_sequences=True))#añadimos una capa redes neuronales recurrenttes LSTM\n",
    "m2emb.add(layers.LSTM(16))#añadimos una capa redes neuronales recurrenttes LSTM\n",
    "m2emb.add(layers.Dense(1,activation='sigmoid'))"
   ]
  },
  {
   "cell_type": "code",
   "execution_count": 88,
   "metadata": {
    "colab": {
     "base_uri": "https://localhost:8080/",
     "height": 263
    },
    "colab_type": "code",
    "executionInfo": {
     "elapsed": 593,
     "status": "ok",
     "timestamp": 1537548309633,
     "user": {
      "displayName": "Antonio Bravo Muñoz",
      "photoUrl": "//lh5.googleusercontent.com/-I0fIeuNLzog/AAAAAAAAAAI/AAAAAAAAAAs/MDZ3MDDdQoQ/s50-c-k-no/photo.jpg",
      "userId": "117007621637238690901"
     },
     "user_tz": -120
    },
    "id": "xV42ozMY9wa7",
    "outputId": "92c4db30-6664-41af-8f1e-bd48325d423b"
   },
   "outputs": [
    {
     "name": "stdout",
     "output_type": "stream",
     "text": [
      "_________________________________________________________________\n",
      "Layer (type)                 Output Shape              Param #   \n",
      "=================================================================\n",
      "embedding_10 (Embedding)     (None, None, 32)          320000    \n",
      "_________________________________________________________________\n",
      "lstm_7 (LSTM)                (None, None, 32)          8320      \n",
      "_________________________________________________________________\n",
      "lstm_8 (LSTM)                (None, 16)                3136      \n",
      "_________________________________________________________________\n",
      "dense_13 (Dense)             (None, 1)                 17        \n",
      "=================================================================\n",
      "Total params: 331,473\n",
      "Trainable params: 331,473\n",
      "Non-trainable params: 0\n",
      "_________________________________________________________________\n"
     ]
    }
   ],
   "source": [
    "m2emb.summary()#es un modelo mucho mas complejo"
   ]
  },
  {
   "cell_type": "code",
   "execution_count": 0,
   "metadata": {
    "colab": {},
    "colab_type": "code",
    "id": "kaMHSoZS9wU3"
   },
   "outputs": [],
   "source": [
    "m2emb.compile(\n",
    "    optimizer=optimizers.rmsprop(),\n",
    "    loss=losses.binary_crossentropy,#pq solo hay 2 categorías (0 y 1)\n",
    "    metrics=[metrics.binary_accuracy]\n",
    ")"
   ]
  },
  {
   "cell_type": "code",
   "execution_count": 90,
   "metadata": {
    "colab": {
     "base_uri": "https://localhost:8080/",
     "height": 362
    },
    "colab_type": "code",
    "executionInfo": {
     "elapsed": 112978,
     "status": "ok",
     "timestamp": 1537548428574,
     "user": {
      "displayName": "Antonio Bravo Muñoz",
      "photoUrl": "//lh5.googleusercontent.com/-I0fIeuNLzog/AAAAAAAAAAI/AAAAAAAAAAs/MDZ3MDDdQoQ/s50-c-k-no/photo.jpg",
      "userId": "117007621637238690901"
     },
     "user_tz": -120
    },
    "id": "CO9UT0_2-LSl",
    "outputId": "383ba631-a96b-47c1-b7ec-c9f001b13de2"
   },
   "outputs": [
    {
     "name": "stdout",
     "output_type": "stream",
     "text": [
      "Train on 20000 samples, validate on 5000 samples\n",
      "Epoch 1/10\n",
      "20000/20000 [==============================] - 13s 629us/step - loss: 0.6365 - binary_accuracy: 0.6462 - val_loss: 0.4734 - val_binary_accuracy: 0.7826\n",
      "Epoch 2/10\n",
      "20000/20000 [==============================] - 11s 545us/step - loss: 0.4308 - binary_accuracy: 0.8095 - val_loss: 0.4717 - val_binary_accuracy: 0.7816\n",
      "Epoch 3/10\n",
      "20000/20000 [==============================] - 11s 539us/step - loss: 0.3573 - binary_accuracy: 0.8513 - val_loss: 0.3915 - val_binary_accuracy: 0.8310\n",
      "Epoch 4/10\n",
      "20000/20000 [==============================] - 11s 544us/step - loss: 0.3065 - binary_accuracy: 0.8791 - val_loss: 0.3966 - val_binary_accuracy: 0.8258\n",
      "Epoch 5/10\n",
      "20000/20000 [==============================] - 11s 541us/step - loss: 0.2746 - binary_accuracy: 0.8946 - val_loss: 0.3972 - val_binary_accuracy: 0.8290\n",
      "Epoch 6/10\n",
      "20000/20000 [==============================] - 11s 545us/step - loss: 0.2507 - binary_accuracy: 0.9023 - val_loss: 0.4652 - val_binary_accuracy: 0.8196\n",
      "Epoch 7/10\n",
      "20000/20000 [==============================] - 11s 551us/step - loss: 0.2367 - binary_accuracy: 0.9101 - val_loss: 0.3951 - val_binary_accuracy: 0.8350\n",
      "Epoch 8/10\n",
      "20000/20000 [==============================] - 11s 536us/step - loss: 0.2074 - binary_accuracy: 0.9262 - val_loss: 0.4458 - val_binary_accuracy: 0.8212\n",
      "Epoch 9/10\n",
      "20000/20000 [==============================] - 11s 539us/step - loss: 0.1983 - binary_accuracy: 0.9289 - val_loss: 0.4504 - val_binary_accuracy: 0.8304\n",
      "Epoch 10/10\n",
      "20000/20000 [==============================] - 11s 538us/step - loss: 0.1837 - binary_accuracy: 0.9349 - val_loss: 0.4004 - val_binary_accuracy: 0.8324\n"
     ]
    }
   ],
   "source": [
    "h=m2emb.fit(train_text_p,train_labels,epochs=10,batch_size=1024,validation_split=.2)#nos va a quedar un modelo undefitting con 10 epocas, pero es que no se puede"
   ]
  },
  {
   "cell_type": "code",
   "execution_count": 91,
   "metadata": {
    "colab": {
     "base_uri": "https://localhost:8080/",
     "height": 476
    },
    "colab_type": "code",
    "executionInfo": {
     "elapsed": 1544,
     "status": "ok",
     "timestamp": 1537548433840,
     "user": {
      "displayName": "Antonio Bravo Muñoz",
      "photoUrl": "//lh5.googleusercontent.com/-I0fIeuNLzog/AAAAAAAAAAI/AAAAAAAAAAs/MDZ3MDDdQoQ/s50-c-k-no/photo.jpg",
      "userId": "117007621637238690901"
     },
     "user_tz": -120
    },
    "id": "zvV7DT7X-LM0",
    "outputId": "3d056ca9-9b04-4097-c0ec-963fff5cc659"
   },
   "outputs": [
    {
     "data": {
      "image/png": "[encoded data removed]",
      "text/plain": [
       "<matplotlib.figure.Figure at 0x7f968f28a4e0>"
      ]
     },
     "metadata": {
      "tags": []
     },
     "output_type": "display_data"
    }
   ],
   "source": [
    "plot_metric(h,'loss')\n",
    "#lo que sale es normal"
   ]
  },
  {
   "cell_type": "code",
   "execution_count": 92,
   "metadata": {
    "colab": {
     "base_uri": "https://localhost:8080/",
     "height": 476
    },
    "colab_type": "code",
    "executionInfo": {
     "elapsed": 2014,
     "status": "ok",
     "timestamp": 1537548438577,
     "user": {
      "displayName": "Antonio Bravo Muñoz",
      "photoUrl": "//lh5.googleusercontent.com/-I0fIeuNLzog/AAAAAAAAAAI/AAAAAAAAAAs/MDZ3MDDdQoQ/s50-c-k-no/photo.jpg",
      "userId": "117007621637238690901"
     },
     "user_tz": -120
    },
    "id": "dD3Ieyko_Yha",
    "outputId": "a2de9ca9-8da7-471d-813b-c075de28bf0b"
   },
   "outputs": [
    {
     "data": {
      "image/png": "[encoded data removed]",
      "text/plain": [
       "<matplotlib.figure.Figure at 0x7f968e351a58>"
      ]
     },
     "metadata": {
      "tags": []
     },
     "output_type": "display_data"
    }
   ],
   "source": [
    "plot_metric(h,'binary_accuracy')\n",
    "#Esto es una cosa más normal"
   ]
  },
  {
   "cell_type": "code",
   "execution_count": 94,
   "metadata": {
    "colab": {
     "base_uri": "https://localhost:8080/",
     "height": 49
    },
    "colab_type": "code",
    "executionInfo": {
     "elapsed": 4162,
     "status": "ok",
     "timestamp": 1537548486643,
     "user": {
      "displayName": "Antonio Bravo Muñoz",
      "photoUrl": "//lh5.googleusercontent.com/-I0fIeuNLzog/AAAAAAAAAAI/AAAAAAAAAAs/MDZ3MDDdQoQ/s50-c-k-no/photo.jpg",
      "userId": "117007621637238690901"
     },
     "user_tz": -120
    },
    "id": "iPn8yJNl_fB7",
    "outputId": "9e7c81b2-fadb-438c-9011-60c819ec0c05"
   },
   "outputs": [
    {
     "name": "stdout",
     "output_type": "stream",
     "text": [
      "25000/25000 [==============================] - 3s 127us/step\n"
     ]
    },
    {
     "data": {
      "text/plain": [
       "[0.41304556752204896, 0.8282399998664856]"
      ]
     },
     "execution_count": 94,
     "metadata": {
      "tags": []
     },
     "output_type": "execute_result"
    }
   ],
   "source": [
    "m2emb.evaluate(test_text_p,test_labels, batch_size=1024)\n",
    "#vamos que ya sale bien, un 82%"
   ]
  },
  {
   "cell_type": "markdown",
   "metadata": {
    "colab_type": "text",
    "id": "xqzGV7IbSQJC"
   },
   "source": [
    "## Analyze performance"
   ]
  },
  {
   "cell_type": "markdown",
   "metadata": {
    "colab_type": "text",
    "id": "Sc7gTYA2SQJD"
   },
   "source": [
    "Not bad, with just an embedding layer, we get $75\\%$ accuracy"
   ]
  },
  {
   "cell_type": "code",
   "execution_count": 95,
   "metadata": {
    "colab": {
     "base_uri": "https://localhost:8080/",
     "height": 32
    },
    "colab_type": "code",
    "executionInfo": {
     "elapsed": 3570,
     "status": "ok",
     "timestamp": 1537548530607,
     "user": {
      "displayName": "Antonio Bravo Muñoz",
      "photoUrl": "//lh5.googleusercontent.com/-I0fIeuNLzog/AAAAAAAAAAI/AAAAAAAAAAs/MDZ3MDDdQoQ/s50-c-k-no/photo.jpg",
      "userId": "117007621637238690901"
     },
     "user_tz": -120
    },
    "id": "lLExKPF5SQJD",
    "outputId": "dc45e0bd-1914-4bc3-e106-dd31f0214f25"
   },
   "outputs": [
    {
     "name": "stdout",
     "output_type": "stream",
     "text": [
      "25000/25000 [==============================] - 3s 117us/step\n"
     ]
    }
   ],
   "source": [
    "loss,acc=m2emb.evaluate(test_text_p,test_labels, batch_size=1024)"
   ]
  },
  {
   "cell_type": "code",
   "execution_count": 96,
   "metadata": {
    "colab": {
     "base_uri": "https://localhost:8080/",
     "height": 32
    },
    "colab_type": "code",
    "executionInfo": {
     "elapsed": 2075,
     "status": "ok",
     "timestamp": 1537548540346,
     "user": {
      "displayName": "Antonio Bravo Muñoz",
      "photoUrl": "//lh5.googleusercontent.com/-I0fIeuNLzog/AAAAAAAAAAI/AAAAAAAAAAs/MDZ3MDDdQoQ/s50-c-k-no/photo.jpg",
      "userId": "117007621637238690901"
     },
     "user_tz": -120
    },
    "id": "Uuiuts02CMcf",
    "outputId": "bf3d3885-e37e-4efc-e2ce-3bbdf932bf15"
   },
   "outputs": [
    {
     "data": {
      "text/plain": [
       "0.8282399998664856"
      ]
     },
     "execution_count": 96,
     "metadata": {
      "tags": []
     },
     "output_type": "execute_result"
    }
   ],
   "source": [
    "acc\n"
   ]
  },
  {
   "cell_type": "markdown",
   "metadata": {
    "colab_type": "text",
    "id": "HIujB2XFSQJF"
   },
   "source": [
    "How many reviews will be misclassified?"
   ]
  },
  {
   "cell_type": "code",
   "execution_count": 97,
   "metadata": {
    "colab": {
     "base_uri": "https://localhost:8080/",
     "height": 32
    },
    "colab_type": "code",
    "executionInfo": {
     "elapsed": 1241,
     "status": "ok",
     "timestamp": 1537548596048,
     "user": {
      "displayName": "Antonio Bravo Muñoz",
      "photoUrl": "//lh5.googleusercontent.com/-I0fIeuNLzog/AAAAAAAAAAI/AAAAAAAAAAs/MDZ3MDDdQoQ/s50-c-k-no/photo.jpg",
      "userId": "117007621637238690901"
     },
     "user_tz": -120
    },
    "id": "AKjLVVF3SQJG",
    "outputId": "486b26db-cc0b-45d7-a9d1-6ef299d113d6"
   },
   "outputs": [
    {
     "data": {
      "text/plain": [
       "4294.000003337861"
      ]
     },
     "execution_count": 97,
     "metadata": {
      "tags": []
     },
     "output_type": "execute_result"
    }
   ],
   "source": [
    "(1-acc)*test_text.shape[0]"
   ]
  },
  {
   "cell_type": "markdown",
   "metadata": {
    "colab_type": "text",
    "id": "mSraH4k8SQJI"
   },
   "source": [
    "Let's check some of the predictions"
   ]
  },
  {
   "cell_type": "code",
   "execution_count": 0,
   "metadata": {
    "colab": {},
    "colab_type": "code",
    "id": "IwfFzMl4SQJI"
   },
   "outputs": [],
   "source": [
    "N = 123\n",
    "# N = 2344"
   ]
  },
  {
   "cell_type": "code",
   "execution_count": 99,
   "metadata": {
    "colab": {
     "base_uri": "https://localhost:8080/",
     "height": 32
    },
    "colab_type": "code",
    "executionInfo": {
     "elapsed": 1928,
     "status": "ok",
     "timestamp": 1537548643362,
     "user": {
      "displayName": "Antonio Bravo Muñoz",
      "photoUrl": "//lh5.googleusercontent.com/-I0fIeuNLzog/AAAAAAAAAAI/AAAAAAAAAAs/MDZ3MDDdQoQ/s50-c-k-no/photo.jpg",
      "userId": "117007621637238690901"
     },
     "user_tz": -120
    },
    "id": "-sQayBd1SQJK",
    "outputId": "03323716-8f4f-4928-8e20-bc0e522e1e9a"
   },
   "outputs": [
    {
     "data": {
      "text/plain": [
       "0.97881776"
      ]
     },
     "execution_count": 99,
     "metadata": {
      "tags": []
     },
     "output_type": "execute_result"
    }
   ],
   "source": [
    "m2emb.predict(test_text_p[N:N+1])[0][0]"
   ]
  },
  {
   "cell_type": "code",
   "execution_count": 101,
   "metadata": {
    "colab": {
     "base_uri": "https://localhost:8080/",
     "height": 32
    },
    "colab_type": "code",
    "executionInfo": {
     "elapsed": 727,
     "status": "ok",
     "timestamp": 1537548668612,
     "user": {
      "displayName": "Antonio Bravo Muñoz",
      "photoUrl": "//lh5.googleusercontent.com/-I0fIeuNLzog/AAAAAAAAAAI/AAAAAAAAAAs/MDZ3MDDdQoQ/s50-c-k-no/photo.jpg",
      "userId": "117007621637238690901"
     },
     "user_tz": -120
    },
    "id": "IxQXaLuzCnsU",
    "outputId": "0f00457f-093c-4538-a251-b48429396deb"
   },
   "outputs": [
    {
     "data": {
      "text/plain": [
       "1"
      ]
     },
     "execution_count": 101,
     "metadata": {
      "tags": []
     },
     "output_type": "execute_result"
    }
   ],
   "source": [
    "test_labels[N]"
   ]
  },
  {
   "cell_type": "code",
   "execution_count": 0,
   "metadata": {
    "colab": {},
    "colab_type": "code",
    "id": "s8SAlZuSCnoh"
   },
   "outputs": [],
   "source": []
  },
  {
   "cell_type": "code",
   "execution_count": 0,
   "metadata": {
    "colab": {},
    "colab_type": "code",
    "id": "FY2nyt0JCniE"
   },
   "outputs": [],
   "source": []
  },
  {
   "cell_type": "markdown",
   "metadata": {
    "colab_type": "text",
    "id": "K1E8Luz9SQJL"
   },
   "source": [
    "So this prediction is correct. It says the review is negative. Let's have a look at the text:"
   ]
  },
  {
   "cell_type": "code",
   "execution_count": 102,
   "metadata": {
    "colab": {
     "base_uri": "https://localhost:8080/",
     "height": 71
    },
    "colab_type": "code",
    "executionInfo": {
     "elapsed": 918,
     "status": "ok",
     "timestamp": 1537548675893,
     "user": {
      "displayName": "Antonio Bravo Muñoz",
      "photoUrl": "//lh5.googleusercontent.com/-I0fIeuNLzog/AAAAAAAAAAI/AAAAAAAAAAs/MDZ3MDDdQoQ/s50-c-k-no/photo.jpg",
      "userId": "117007621637238690901"
     },
     "user_tz": -120
    },
    "id": "-gVokfWHSQJM",
    "outputId": "4d2d882e-d746-4045-a7f1-57e78ee83492"
   },
   "outputs": [
    {
     "data": {
      "text/plain": [
       "\"? if you believe that any given war movie can make you really feel the war you need to see called the ? are flying in english it tells the story of ? ? and boris who are in love on the verge of wwii they are walking along the ? watching the ? fly by when the war starts boris is promptly sent off to war ? hides out with a family and ends up marrying the son whom she does not love boris meanwhile continues ? through the countryside fighting the nazis and experiencing all the horrors of war until he he runs out of energy when ? working in a military hospital receives this news she refuses to accept it until ? body arrives home on one of the trains simultaneously the radio ? that germany has ? and the allied powers have won the war the soviet union lost 27 million citizens but it's the start of a new era br br this movie did a very good job showing the human impact of the war not only in the battlefield but also how it affected the ? population this is definitely a movie that everyone should see\""
      ]
     },
     "execution_count": 102,
     "metadata": {
      "tags": []
     },
     "output_type": "execute_result"
    }
   ],
   "source": [
    "get_text_from_vector(test_text[N])"
   ]
  },
  {
   "cell_type": "code",
   "execution_count": 103,
   "metadata": {
    "colab": {
     "base_uri": "https://localhost:8080/",
     "height": 32
    },
    "colab_type": "code",
    "executionInfo": {
     "elapsed": 1040,
     "status": "ok",
     "timestamp": 1537548728255,
     "user": {
      "displayName": "Antonio Bravo Muñoz",
      "photoUrl": "//lh5.googleusercontent.com/-I0fIeuNLzog/AAAAAAAAAAI/AAAAAAAAAAs/MDZ3MDDdQoQ/s50-c-k-no/photo.jpg",
      "userId": "117007621637238690901"
     },
     "user_tz": -120
    },
    "id": "oeE5EWhCC4yj",
    "outputId": "624c4b23-2b20-4203-8f9b-66a3bba006e0"
   },
   "outputs": [
    {
     "data": {
      "text/plain": [
       "0.033810757"
      ]
     },
     "execution_count": 103,
     "metadata": {
      "tags": []
     },
     "output_type": "execute_result"
    }
   ],
   "source": [
    "N = 2344\n",
    "m2emb.predict(test_text_p[N:N+1])[0][0]"
   ]
  },
  {
   "cell_type": "code",
   "execution_count": 104,
   "metadata": {
    "colab": {
     "base_uri": "https://localhost:8080/",
     "height": 32
    },
    "colab_type": "code",
    "executionInfo": {
     "elapsed": 1958,
     "status": "ok",
     "timestamp": 1537548733765,
     "user": {
      "displayName": "Antonio Bravo Muñoz",
      "photoUrl": "//lh5.googleusercontent.com/-I0fIeuNLzog/AAAAAAAAAAI/AAAAAAAAAAs/MDZ3MDDdQoQ/s50-c-k-no/photo.jpg",
      "userId": "117007621637238690901"
     },
     "user_tz": -120
    },
    "id": "1uWK3JoIC4un",
    "outputId": "ce15eaa8-e982-43fa-cb92-dea092dbb979"
   },
   "outputs": [
    {
     "data": {
      "text/plain": [
       "0"
      ]
     },
     "execution_count": 104,
     "metadata": {
      "tags": []
     },
     "output_type": "execute_result"
    }
   ],
   "source": [
    "test_labels[N]"
   ]
  },
  {
   "cell_type": "code",
   "execution_count": 105,
   "metadata": {
    "colab": {
     "base_uri": "https://localhost:8080/",
     "height": 71
    },
    "colab_type": "code",
    "executionInfo": {
     "elapsed": 572,
     "status": "ok",
     "timestamp": 1537548740398,
     "user": {
      "displayName": "Antonio Bravo Muñoz",
      "photoUrl": "//lh5.googleusercontent.com/-I0fIeuNLzog/AAAAAAAAAAI/AAAAAAAAAAs/MDZ3MDDdQoQ/s50-c-k-no/photo.jpg",
      "userId": "117007621637238690901"
     },
     "user_tz": -120
    },
    "id": "xUiUFpGZC4oW",
    "outputId": "f16d6f1d-1203-4b15-c91c-eb81ebf1ea3f"
   },
   "outputs": [
    {
     "data": {
      "text/plain": [
       "\"? there is a reason ? of the board got a 2 which is too high this movie flat out is one of the worse movies of all time and i seen my share of rotten films ? of the board stars two of the most annoying actors people today ? top and ? ? smith ? top just isn't funny anymore and wasn't in this piece of trash ? ? smith isn't any better just watch according to jim and you will see a prime example of what i am talking about ? of the board got a 1 from me because that is low as you can go it is that bad i am a little shocked that this piece of junk isn't on the imdb bottom 100 somewhere i would put this in the top 5 on that list but its slowly working its way there\""
      ]
     },
     "execution_count": 105,
     "metadata": {
      "tags": []
     },
     "output_type": "execute_result"
    }
   ],
   "source": [
    "get_text_from_vector(test_text[N])"
   ]
  },
  {
   "cell_type": "markdown",
   "metadata": {
    "colab_type": "text",
    "id": "trvOhWUESQJP"
   },
   "source": [
    "Can we find all the reviews that are wrongly classified?"
   ]
  },
  {
   "cell_type": "code",
   "execution_count": 0,
   "metadata": {
    "colab": {},
    "colab_type": "code",
    "id": "PNsH3mvMSQJQ"
   },
   "outputs": [],
   "source": []
  },
  {
   "cell_type": "code",
   "execution_count": 0,
   "metadata": {
    "colab": {},
    "colab_type": "code",
    "id": "cDVFOCPySQJR",
    "outputId": "86510dbb-7a27-420b-9873-166588a478f5"
   },
   "outputs": [
    {
     "data": {
      "text/plain": [
       "\"? i generally love this type of movie however this time i found myself wanting to kick the screen since i can't do that i will just complain about it this was absolutely idiotic the things that happen with the dead kids are very cool but the alive people are absolute idiots i am a grown man pretty big and i can defend myself well however i would not do half the stuff the little girl does in this movie also the mother in this movie is reckless with her children to the point of neglect i wish i wasn't so angry about her and her actions because i would have otherwise enjoyed the flick what a number she was take my advise and fast forward through everything you see her do until the end also is anyone else getting sick of watching movies that are filmed so dark anymore one can hardly see what is being filmed as an audience we are ? involved with the actions on the screen so then why the hell can't we have night vision\""
      ]
     },
     "execution_count": 61,
     "metadata": {
      "tags": []
     },
     "output_type": "execute_result"
    }
   ],
   "source": [
    "get_text_from_vector(test_text[3])"
   ]
  },
  {
   "cell_type": "markdown",
   "metadata": {
    "colab_type": "text",
    "id": "Y2Lp8QIpSQJU"
   },
   "source": [
    "Is the classifier symmetric?"
   ]
  },
  {
   "cell_type": "code",
   "execution_count": 0,
   "metadata": {
    "colab": {},
    "colab_type": "code",
    "id": "eYipALa6SQJU"
   },
   "outputs": [],
   "source": [
    "#tenemos que comprobar esto"
   ]
  },
  {
   "cell_type": "markdown",
   "metadata": {
    "colab_type": "text",
    "id": "oD7qzIBgSQJV"
   },
   "source": [
    "**EXERCISE** Can you construct the confusion matrix for this model? Can you calculate the precision and recall? How does it compare to accuracy?\n",
    "* See https://www.dataschool.io/simple-guide-to-confusion-matrix-terminology/\n",
    "\n",
    "**EXERCISE (more complex)** Keras decided some time ago to remove precision, recall and F1-score from the list of available metrics. Was it a good decision? Why? Why did the Keras' authors did not remove accuracy too?\n",
    "* https://github.com/keras-team/keras/issues/5794\n",
    "* https://github.com/keras-team/keras/issues/4592\n",
    "\n",
    "**EXERCISE** What is the ROC curve? Could you build the ROC curve for this model? How would you use a ROC curve to evaluate a classifier?\n",
    "* https://en.wikipedia.org/wiki/Receiver_operating_characteristic\n",
    "* Help: https://stackoverflow.com/questions/25009284/how-to-plot-roc-curve-in-python"
   ]
  },
  {
   "cell_type": "code",
   "execution_count": 0,
   "metadata": {
    "colab": {},
    "colab_type": "code",
    "id": "WYgl1VyHSQJW"
   },
   "outputs": [],
   "source": [
    "#sacamos la curva ROC para comparar estos ultimos modelos"
   ]
  },
  {
   "cell_type": "code",
   "execution_count": 0,
   "metadata": {
    "colab": {},
    "colab_type": "code",
    "id": "jnFF8IyYEYB1"
   },
   "outputs": [],
   "source": [
    "from sklearn import metrics"
   ]
  },
  {
   "cell_type": "code",
   "execution_count": 0,
   "metadata": {
    "colab": {},
    "colab_type": "code",
    "id": "fSbPV2sdEX9E"
   },
   "outputs": [],
   "source": [
    "#Para hace una curva ROC, necesito el vector de las predcciones (valores reales) y el vector de enteros. En cada punto de la curva roc se calculan los falsos positivos y los verdaderos positivos.\n"
   ]
  },
  {
   "cell_type": "code",
   "execution_count": 0,
   "metadata": {
    "colab": {},
    "colab_type": "code",
    "id": "DLyDfga5EX5M"
   },
   "outputs": [],
   "source": [
    "pred1=m1hot.predict(test_text_m)\n",
    "pred2=m2emb.predict(test_text_p)"
   ]
  },
  {
   "cell_type": "code",
   "execution_count": 0,
   "metadata": {
    "colab": {},
    "colab_type": "code",
    "id": "x4LnjGl6EXyh"
   },
   "outputs": [],
   "source": [
    "curva1=metrics.roc_curve(test_labels,pred1)\n",
    "curva2=metrics.roc_curve(test_labels,pred2)"
   ]
  },
  {
   "cell_type": "code",
   "execution_count": 111,
   "metadata": {
    "colab": {
     "base_uri": "https://localhost:8080/",
     "height": 32
    },
    "colab_type": "code",
    "executionInfo": {
     "elapsed": 750,
     "status": "ok",
     "timestamp": 1537549603079,
     "user": {
      "displayName": "Antonio Bravo Muñoz",
      "photoUrl": "//lh5.googleusercontent.com/-I0fIeuNLzog/AAAAAAAAAAI/AAAAAAAAAAs/MDZ3MDDdQoQ/s50-c-k-no/photo.jpg",
      "userId": "117007621637238690901"
     },
     "user_tz": -120
    },
    "id": "0rCVEaTwF7zH",
    "outputId": "c6f91fa8-2c90-43de-855e-3190fafd7583"
   },
   "outputs": [
    {
     "data": {
      "text/plain": [
       "(3859,)"
      ]
     },
     "execution_count": 111,
     "metadata": {
      "tags": []
     },
     "output_type": "execute_result"
    }
   ],
   "source": [
    "#curva1 y curva2 son tuplas de 3 elementos. \n",
    "curva1[2].shape\n",
    "#sklearn ha decidifo poner 3859 puntos para dibujar una curva"
   ]
  },
  {
   "cell_type": "code",
   "execution_count": 0,
   "metadata": {
    "colab": {},
    "colab_type": "code",
    "id": "DuxgKncWF7u6"
   },
   "outputs": [],
   "source": [
    "#deshaciendo tuplas\n",
    "fpr1,tpr1,_=curva1\n",
    "fpr2,tpr2,_=curva2"
   ]
  },
  {
   "cell_type": "code",
   "execution_count": 115,
   "metadata": {
    "colab": {
     "base_uri": "https://localhost:8080/",
     "height": 456
    },
    "colab_type": "code",
    "executionInfo": {
     "elapsed": 788,
     "status": "ok",
     "timestamp": 1537549710271,
     "user": {
      "displayName": "Antonio Bravo Muñoz",
      "photoUrl": "//lh5.googleusercontent.com/-I0fIeuNLzog/AAAAAAAAAAI/AAAAAAAAAAs/MDZ3MDDdQoQ/s50-c-k-no/photo.jpg",
      "userId": "117007621637238690901"
     },
     "user_tz": -120
    },
    "id": "8b9KRDFhF7m4",
    "outputId": "4533e06e-b478-460e-e24e-d7dc604a2435"
   },
   "outputs": [
    {
     "data": {
      "text/plain": [
       "<matplotlib.legend.Legend at 0x7f968d125d30>"
      ]
     },
     "execution_count": 115,
     "metadata": {
      "tags": []
     },
     "output_type": "execute_result"
    },
    {
     "data": {
      "image/png": "[encoded data removed]",
      "text/plain": [
       "<matplotlib.figure.Figure at 0x7f968d18d2b0>"
      ]
     },
     "metadata": {
      "tags": []
     },
     "output_type": "display_data"
    }
   ],
   "source": [
    "#dibujamos\n",
    "plt.plot(fpr1,tpr1,label='1-Hot')\n",
    "plt.plot(fpr2,tpr2,'red',label='LSTM')\n",
    "plt.legend()"
   ]
  },
  {
   "cell_type": "code",
   "execution_count": 0,
   "metadata": {
    "colab": {},
    "colab_type": "code",
    "id": "H1s2jFqGGvCV"
   },
   "outputs": [],
   "source": [
    "# en este caso, sale mejor 1-HOT. Hay menos capas y menos épocas en el LSTM, por lo que es una comparacion un poco injusta.\n",
    "#En la zona baja, si pusieramos un valor umbral bajo, el rojo se comporta mejor que el azul (más área bajo la curva). Pero en términos generales la azul es mejor.\n",
    "#La ROC no pone umbral, ahí radica lo que nosotros decidamos. Tras vicualizar la curva es cuando tenemos que decir que modelo es mejor que el otro según queramos nosotros (ahí estamos estableciendo el umbral).\n",
    "\n",
    "#las situaciones donde en la zona baja es mejor uno y en la alta es peor, son situaciones asimétricas."
   ]
  },
  {
   "cell_type": "markdown",
   "metadata": {
    "colab_type": "text",
    "id": "LPNw1CsjSQJX"
   },
   "source": [
    "Let's analyze wrong positives and wrong negatives separately. Then we will try to find a relationship between the words and the misclassification, both for false positives and negatives."
   ]
  },
  {
   "cell_type": "code",
   "execution_count": 0,
   "metadata": {
    "colab": {},
    "colab_type": "code",
    "id": "wsyYK9v0SQJY"
   },
   "outputs": [],
   "source": []
  },
  {
   "cell_type": "markdown",
   "metadata": {
    "colab_type": "text",
    "id": "qmbeXCy5SQJZ"
   },
   "source": [
    "Now let's compare with the words of the true positives"
   ]
  },
  {
   "cell_type": "code",
   "execution_count": 0,
   "metadata": {
    "colab": {},
    "colab_type": "code",
    "id": "t_5vlt_ASQJa"
   },
   "outputs": [],
   "source": []
  },
  {
   "cell_type": "markdown",
   "metadata": {
    "colab_type": "text",
    "id": "3202rJg3SQJb"
   },
   "source": [
    "So the most common words are very similar. Not surprising. Let's calculate the relative frequency of each word, and then find what are the words with the highest difference in relative frequency."
   ]
  },
  {
   "cell_type": "code",
   "execution_count": 0,
   "metadata": {
    "colab": {},
    "colab_type": "code",
    "id": "dYkn8IBBSQJb"
   },
   "outputs": [],
   "source": []
  },
  {
   "cell_type": "markdown",
   "metadata": {
    "colab_type": "text",
    "id": "7r79EOJlSQJc"
   },
   "source": [
    "We see words such as *great*, *best*, *excellent*, which have a large difference between the true and the false positives. So false positives seem to lack some extreme words, and the classifier is having a hard time trying to assign a category to those reviews."
   ]
  },
  {
   "cell_type": "code",
   "execution_count": 0,
   "metadata": {
    "colab": {},
    "colab_type": "code",
    "id": "AxpBJKfGSQJd"
   },
   "outputs": [],
   "source": []
  }
 ],
 "metadata": {
  "accelerator": "GPU",
  "colab": {
   "collapsed_sections": [],
   "name": "03_imdb_reviews_before_class.ipynb",
   "provenance": [],
   "version": "0.3.2"
  },
  "kernelspec": {
   "display_name": "Python 3",
   "language": "python",
   "name": "python3"
  },
  "language_info": {
   "codemirror_mode": {
    "name": "ipython",
    "version": 3
   },
   "file_extension": ".py",
   "mimetype": "text/x-python",
   "name": "python",
   "nbconvert_exporter": "python",
   "pygments_lexer": "ipython3",
   "version": "3.6.6"
  }
 },
 "nbformat": 4,
 "nbformat_minor": 1
}
