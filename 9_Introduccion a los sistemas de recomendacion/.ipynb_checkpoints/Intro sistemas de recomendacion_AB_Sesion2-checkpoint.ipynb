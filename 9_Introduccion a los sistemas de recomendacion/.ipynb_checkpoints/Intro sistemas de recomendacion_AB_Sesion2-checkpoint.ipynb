{
 "cells": [
  {
   "cell_type": "markdown",
   "metadata": {},
   "source": [
    "### INTRODUCCIÓN A LOS SISTEMAS DE RECOMENCIÓN (2ª SESIÓN)"
   ]
  },
  {
   "cell_type": "markdown",
   "metadata": {},
   "source": [
    "Recomendación: dar al usuario una lista de productos los cuales tengan una altra probabilidad de ser consumidos.\n",
    "\n",
    "2 partes que forman un sistema de recomendación: asignacion de referencias y ordenacion de las mismas.\n",
    "\n",
    "#### Modelos de filtrado Colaborativo.\n",
    "\n",
    "Son los modelos que usan amazon, linkedin... etc.\n",
    "\n",
    "Para definir la similitud es necesario usar una distancia.\n",
    "¿como represento mi dato para que estas similitudes sean fáciles de encontrar? La representacion y como proyecto mi dato es muy importante.\n",
    "\n",
    "Tipos\n",
    "\n",
    "1. Basado en matriz de concurrencia. \n",
    "\n",
    "Recomendar productos que sean similares a lo ya consumido.\n",
    "¿Como se representa la info del histórico para hacer eso?--> mediante grafos (relacion entre nodos mediante links). La matriz de concurrencia es un grafo donde los nodos son los items y los links representan lo lejos o cerca que están 2 items.\n",
    "\n",
    "Luego está la distnacia de Jaccard, es lo mismo que lo anterior pero normalizado a los usuarios totales (es como la interseccion).\n",
    "\n",
    "Ver concepto ma triz de adyacencia.\n",
    "\n",
    "¿Como construiyo la recomendación?\n",
    "\n",
    "user={item1, item10, item100}\n",
    "me saco cuales se parecen mas al 1, cuales se parecen mas al 10 y lo mismo con el 100. Los solapo y los ordeno. Cada item tiene asociado el nº de usuarios, lo ordenaré por el nº de usuarios.\n",
    "\n",
    "\n",
    "\n",
    "2. Memory-Based CF\n",
    "3. Modelos basados en modelo (veremos 2 que se basan en factorizacion de matrices.\n",
    "\n"
   ]
  },
  {
   "cell_type": "code",
   "execution_count": null,
   "metadata": {
    "collapsed": true
   },
   "outputs": [],
   "source": []
  },
  {
   "cell_type": "code",
   "execution_count": null,
   "metadata": {
    "collapsed": true
   },
   "outputs": [],
   "source": []
  },
  {
   "cell_type": "code",
   "execution_count": null,
   "metadata": {
    "collapsed": true
   },
   "outputs": [],
   "source": []
  },
  {
   "cell_type": "code",
   "execution_count": null,
   "metadata": {
    "collapsed": true
   },
   "outputs": [],
   "source": []
  },
  {
   "cell_type": "code",
   "execution_count": null,
   "metadata": {
    "collapsed": true
   },
   "outputs": [],
   "source": []
  },
  {
   "cell_type": "code",
   "execution_count": null,
   "metadata": {
    "collapsed": true
   },
   "outputs": [],
   "source": []
  },
  {
   "cell_type": "code",
   "execution_count": null,
   "metadata": {
    "collapsed": true
   },
   "outputs": [],
   "source": []
  },
  {
   "cell_type": "code",
   "execution_count": null,
   "metadata": {
    "collapsed": true
   },
   "outputs": [],
   "source": []
  },
  {
   "cell_type": "code",
   "execution_count": null,
   "metadata": {
    "collapsed": true
   },
   "outputs": [],
   "source": []
  },
  {
   "cell_type": "code",
   "execution_count": null,
   "metadata": {
    "collapsed": true
   },
   "outputs": [],
   "source": []
  }
 ],
 "metadata": {
  "kernelspec": {
   "display_name": "Python 2",
   "language": "python",
   "name": "python2"
  },
  "language_info": {
   "codemirror_mode": {
    "name": "ipython",
    "version": 2
   },
   "file_extension": ".py",
   "mimetype": "text/x-python",
   "name": "python",
   "nbconvert_exporter": "python",
   "pygments_lexer": "ipython2",
   "version": "2.7.11"
  }
 },
 "nbformat": 4,
 "nbformat_minor": 0
}
