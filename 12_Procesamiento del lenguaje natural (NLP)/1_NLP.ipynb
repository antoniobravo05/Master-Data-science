{
 "cells": [
  {
   "cell_type": "code",
   "execution_count": 1,
   "metadata": {
    "colab": {
     "base_uri": "https://localhost:8080/",
     "height": 483
    },
    "colab_type": "code",
    "executionInfo": {
     "elapsed": 4164,
     "status": "ok",
     "timestamp": 1536332678698,
     "user": {
      "displayName": "Antonio Bravo Muñoz",
      "photoUrl": "//lh5.googleusercontent.com/-I0fIeuNLzog/AAAAAAAAAAI/AAAAAAAAAAs/MDZ3MDDdQoQ/s50-c-k-no/photo.jpg",
      "userId": "117007621637238690901"
     },
     "user_tz": -120
    },
    "id": "SsdJP8V7Ld8z",
    "outputId": "8a49ad7e-1316-4fda-dbf6-65852aa8089e"
   },
   "outputs": [
    {
     "name": "stdout",
     "output_type": "stream",
     "text": [
      "Requirement already up-to-date: spacy in /usr/local/lib/python3.6/dist-packages (2.0.12)\n",
      "Requirement already satisfied, skipping upgrade: numpy>=1.7 in /usr/local/lib/python3.6/dist-packages (from spacy) (1.14.5)\n",
      "Requirement already satisfied, skipping upgrade: murmurhash<0.29,>=0.28 in /usr/local/lib/python3.6/dist-packages (from spacy) (0.28.0)\n",
      "Requirement already satisfied, skipping upgrade: cymem<1.32,>=1.30 in /usr/local/lib/python3.6/dist-packages (from spacy) (1.31.2)\n",
      "Requirement already satisfied, skipping upgrade: preshed<2.0.0,>=1.0.0 in /usr/local/lib/python3.6/dist-packages (from spacy) (1.0.1)\n",
      "Requirement already satisfied, skipping upgrade: thinc<6.11.0,>=6.10.3 in /usr/local/lib/python3.6/dist-packages (from spacy) (6.10.3)\n",
      "Requirement already satisfied, skipping upgrade: plac<1.0.0,>=0.9.6 in /usr/local/lib/python3.6/dist-packages (from spacy) (0.9.6)\n",
      "Requirement already satisfied, skipping upgrade: ujson>=1.35 in /usr/local/lib/python3.6/dist-packages (from spacy) (1.35)\n",
      "Requirement already satisfied, skipping upgrade: dill<0.3,>=0.2 in /usr/local/lib/python3.6/dist-packages (from spacy) (0.2.8.2)\n",
      "Requirement already satisfied, skipping upgrade: regex==2017.4.5 in /usr/local/lib/python3.6/dist-packages (from spacy) (2017.4.5)\n",
      "Requirement already satisfied, skipping upgrade: requests<3.0.0,>=2.13.0 in /usr/local/lib/python3.6/dist-packages (from spacy) (2.18.4)\n",
      "Requirement already satisfied, skipping upgrade: msgpack<1.0.0,>=0.5.6 in /usr/local/lib/python3.6/dist-packages (from thinc<6.11.0,>=6.10.3->spacy) (0.5.6)\n",
      "Requirement already satisfied, skipping upgrade: msgpack-numpy<1.0.0,>=0.4.1 in /usr/local/lib/python3.6/dist-packages (from thinc<6.11.0,>=6.10.3->spacy) (0.4.3.1)\n",
      "Requirement already satisfied, skipping upgrade: cytoolz<0.10,>=0.9.0 in /usr/local/lib/python3.6/dist-packages (from thinc<6.11.0,>=6.10.3->spacy) (0.9.0.1)\n",
      "Requirement already satisfied, skipping upgrade: wrapt<1.11.0,>=1.10.0 in /usr/local/lib/python3.6/dist-packages (from thinc<6.11.0,>=6.10.3->spacy) (1.10.11)\n",
      "Requirement already satisfied, skipping upgrade: tqdm<5.0.0,>=4.10.0 in /usr/local/lib/python3.6/dist-packages (from thinc<6.11.0,>=6.10.3->spacy) (4.25.0)\n",
      "Requirement already satisfied, skipping upgrade: six<2.0.0,>=1.10.0 in /usr/local/lib/python3.6/dist-packages (from thinc<6.11.0,>=6.10.3->spacy) (1.11.0)\n",
      "Requirement already satisfied, skipping upgrade: certifi>=2017.4.17 in /usr/local/lib/python3.6/dist-packages (from requests<3.0.0,>=2.13.0->spacy) (2018.8.24)\n",
      "Requirement already satisfied, skipping upgrade: idna<2.7,>=2.5 in /usr/local/lib/python3.6/dist-packages (from requests<3.0.0,>=2.13.0->spacy) (2.6)\n",
      "Requirement already satisfied, skipping upgrade: urllib3<1.23,>=1.21.1 in /usr/local/lib/python3.6/dist-packages (from requests<3.0.0,>=2.13.0->spacy) (1.22)\n",
      "Requirement already satisfied, skipping upgrade: chardet<3.1.0,>=3.0.2 in /usr/local/lib/python3.6/dist-packages (from requests<3.0.0,>=2.13.0->spacy) (3.0.4)\n",
      "Requirement already satisfied, skipping upgrade: toolz>=0.8.0 in /usr/local/lib/python3.6/dist-packages (from cytoolz<0.10,>=0.9.0->thinc<6.11.0,>=6.10.3->spacy) (0.9.0)\n"
     ]
    }
   ],
   "source": [
    "!pip install -U spacy"
   ]
  },
  {
   "cell_type": "code",
   "execution_count": 2,
   "metadata": {
    "colab": {
     "base_uri": "https://localhost:8080/",
     "height": 1019
    },
    "colab_type": "code",
    "executionInfo": {
     "elapsed": 16309,
     "status": "ok",
     "timestamp": 1536332708103,
     "user": {
      "displayName": "Antonio Bravo Muñoz",
      "photoUrl": "//lh5.googleusercontent.com/-I0fIeuNLzog/AAAAAAAAAAI/AAAAAAAAAAs/MDZ3MDDdQoQ/s50-c-k-no/photo.jpg",
      "userId": "117007621637238690901"
     },
     "user_tz": -120
    },
    "id": "RLVA_fiALw2X",
    "outputId": "7b8076e2-3c92-47d8-9a10-7ca395ec8bd1"
   },
   "outputs": [
    {
     "name": "stdout",
     "output_type": "stream",
     "text": [
      "Collecting es_core_news_sm==2.0.0 from https://github.com/explosion/spacy-models/releases/download/es_core_news_sm-2.0.0/es_core_news_sm-2.0.0.tar.gz#egg=es_core_news_sm==2.0.0\n",
      "\u001b[?25l  Downloading https://github.com/explosion/spacy-models/releases/download/es_core_news_sm-2.0.0/es_core_news_sm-2.0.0.tar.gz (36.7MB)\n",
      "\u001b[K    100% |████████████████████████████████| 36.7MB 1.0MB/s \n",
      "\u001b[?25hInstalling collected packages: es-core-news-sm\n",
      "  Running setup.py install for es-core-news-sm ... \u001b[?25l-\b \b\\\b \b|\b \bdone\n",
      "\u001b[?25hSuccessfully installed es-core-news-sm-2.0.0\n",
      "\n",
      "\u001b[93m    Linking successful\u001b[0m\n",
      "    /usr/local/lib/python3.6/dist-packages/es_core_news_sm -->\n",
      "    /usr/local/lib/python3.6/dist-packages/spacy/data/es\n",
      "\n",
      "    You can now load the model via spacy.load('es')\n",
      "\n"
     ]
    }
   ],
   "source": [
    "#Descargamos el paquete de español\n",
    "!python -m spacy download es"
   ]
  },
  {
   "cell_type": "code",
   "execution_count": 0,
   "metadata": {
    "colab": {},
    "colab_type": "code",
    "id": "oTD5-Jr0NgML"
   },
   "outputs": [],
   "source": [
    "import spacy"
   ]
  },
  {
   "cell_type": "code",
   "execution_count": 0,
   "metadata": {
    "colab": {},
    "colab_type": "code",
    "id": "1THiQ9eeNgWs"
   },
   "outputs": [],
   "source": [
    "nlp=spacy.load('es')"
   ]
  },
  {
   "cell_type": "code",
   "execution_count": 5,
   "metadata": {
    "colab": {
     "base_uri": "https://localhost:8080/",
     "height": 90
    },
    "colab_type": "code",
    "executionInfo": {
     "elapsed": 529,
     "status": "ok",
     "timestamp": 1536332737155,
     "user": {
      "displayName": "Antonio Bravo Muñoz",
      "photoUrl": "//lh5.googleusercontent.com/-I0fIeuNLzog/AAAAAAAAAAI/AAAAAAAAAAs/MDZ3MDDdQoQ/s50-c-k-no/photo.jpg",
      "userId": "117007621637238690901"
     },
     "user_tz": -120
    },
    "id": "YqbiLzVsNjV0",
    "outputId": "57b415a3-4151-4924-be02-6f76ed6a3ce7"
   },
   "outputs": [
    {
     "data": {
      "text/plain": [
       "'Madrid es la capital de España y de la Comunidad de Madrid. Es la ciudad más poblada de España. En su área metropolitana viven más de seis millones de personas, lo que la convierte en la tercera o cuarta área metropolitana de la Unión Europea, por detrás de las de París y Londres. La capital de España es también la tercera ciudad más poblada de la Unión Europea, por detrás de Berlín y Londres.'"
      ]
     },
     "execution_count": 5,
     "metadata": {
      "tags": []
     },
     "output_type": "execute_result"
    }
   ],
   "source": [
    "texto='Madrid es la capital de España y de la Comunidad de Madrid. Es la ciudad más poblada de España. En su área metropolitana viven más de seis millones de personas, lo que la convierte en la tercera o cuarta área metropolitana de la Unión Europea, por detrás de las de París y Londres. La capital de España es también la tercera ciudad más poblada de la Unión Europea, por detrás de Berlín y Londres.'\n",
    "texto"
   ]
  },
  {
   "cell_type": "code",
   "execution_count": 6,
   "metadata": {
    "colab": {
     "base_uri": "https://localhost:8080/",
     "height": 32
    },
    "colab_type": "code",
    "executionInfo": {
     "elapsed": 518,
     "status": "ok",
     "timestamp": 1536332825210,
     "user": {
      "displayName": "Antonio Bravo Muñoz",
      "photoUrl": "//lh5.googleusercontent.com/-I0fIeuNLzog/AAAAAAAAAAI/AAAAAAAAAAs/MDZ3MDDdQoQ/s50-c-k-no/photo.jpg",
      "userId": "117007621637238690901"
     },
     "user_tz": -120
    },
    "id": "1Mv1vJEINjYG",
    "outputId": "f37c6535-ba4a-4deb-a7c9-7a9b4f31406a"
   },
   "outputs": [
    {
     "data": {
      "text/plain": [
       "spacy.tokens.doc.Doc"
      ]
     },
     "execution_count": 6,
     "metadata": {
      "tags": []
     },
     "output_type": "execute_result"
    }
   ],
   "source": [
    "#esto directamente me tokenizará el texto\n",
    "doc=nlp(texto)\n",
    "type(doc)"
   ]
  },
  {
   "cell_type": "markdown",
   "metadata": {
    "colab_type": "text",
    "id": "Hap44f57SX5L"
   },
   "source": [
    "Vamos a iterar en todas las palabras para localizar entidades nombradas"
   ]
  },
  {
   "cell_type": "code",
   "execution_count": 7,
   "metadata": {
    "colab": {
     "base_uri": "https://localhost:8080/",
     "height": 197
    },
    "colab_type": "code",
    "executionInfo": {
     "elapsed": 750,
     "status": "ok",
     "timestamp": 1536332830864,
     "user": {
      "displayName": "Antonio Bravo Muñoz",
      "photoUrl": "//lh5.googleusercontent.com/-I0fIeuNLzog/AAAAAAAAAAI/AAAAAAAAAAs/MDZ3MDDdQoQ/s50-c-k-no/photo.jpg",
      "userId": "117007621637238690901"
     },
     "user_tz": -120
    },
    "id": "N7pLj5kwNja0",
    "outputId": "3e9ed363-559a-4fe5-da63-cc5ce987c759"
   },
   "outputs": [
    {
     "name": "stdout",
     "output_type": "stream",
     "text": [
      "Madrid (LOC)\n",
      "España (LOC)\n",
      "Comunidad de Madrid (LOC)\n",
      "España (LOC)\n",
      "Unión Europea (ORG)\n",
      "París (LOC)\n",
      "Londres (LOC)\n",
      "La capital de España (LOC)\n",
      "Unión Europea (ORG)\n",
      "Berlín (LOC)\n",
      "Londres (LOC)\n"
     ]
    }
   ],
   "source": [
    "for entidad in doc.ents:\n",
    "  print(f\"{entidad.text} ({entidad.label_})\")\n",
    "  #esta es una funcion inteligente de print para sacar variables, en este caso, cada entidad y su titulo, los paréntesis y demás. Lo que hay entre paréntesis son las variables\n",
    "  "
   ]
  },
  {
   "cell_type": "code",
   "execution_count": 8,
   "metadata": {
    "colab": {
     "base_uri": "https://localhost:8080/",
     "height": 65
    },
    "colab_type": "code",
    "executionInfo": {
     "elapsed": 488,
     "status": "ok",
     "timestamp": 1536332837183,
     "user": {
      "displayName": "Antonio Bravo Muñoz",
      "photoUrl": "//lh5.googleusercontent.com/-I0fIeuNLzog/AAAAAAAAAAI/AAAAAAAAAAs/MDZ3MDDdQoQ/s50-c-k-no/photo.jpg",
      "userId": "117007621637238690901"
     },
     "user_tz": -120
    },
    "id": "L3UaAgJkO8SK",
    "outputId": "6cd9aa62-4951-470a-c173-535c0be2bf7a"
   },
   "outputs": [
    {
     "name": "stdout",
     "output_type": "stream",
     "text": [
      "Juan (PER)\n",
      "Valencia (LOC)\n",
      "Adidas (LOC)\n"
     ]
    }
   ],
   "source": [
    "#ejemplos\n",
    "texto_prueba='Juan va a ir a Valencia a comprarse unas zapatillas Adidas.'\n",
    "doc_prueba=nlp(texto_prueba)\n",
    "for entidad in doc_prueba.ents:\n",
    "  print(f\"{entidad.text} ({entidad.label_})\")\n"
   ]
  },
  {
   "cell_type": "code",
   "execution_count": 28,
   "metadata": {
    "colab": {
     "base_uri": "https://localhost:8080/",
     "height": 148
    },
    "colab_type": "code",
    "executionInfo": {
     "elapsed": 814,
     "status": "ok",
     "timestamp": 1532772053440,
     "user": {
      "displayName": "Antonio Bravo Muñoz",
      "photoUrl": "//lh5.googleusercontent.com/-I0fIeuNLzog/AAAAAAAAAAI/AAAAAAAAAAs/MDZ3MDDdQoQ/s50-c-k-no/photo.jpg",
      "userId": "117007621637238690901"
     },
     "user_tz": -120
    },
    "id": "hDkrX176O8Uq",
    "outputId": "f4f75f52-f642-4be1-81cf-82955bb92b12"
   },
   "outputs": [
    {
     "name": "stdout",
     "output_type": "stream",
     "text": [
      "Avram Noam Chomsky (PER)\n",
      "Filadelfia (LOC)\n",
      "Es profesor emérito de lingüística en el Instituto Tecnológico de Massachusetts (MISC)\n",
      "MIT (ORG)\n",
      "También (MISC)\n",
      "los Estados Unidos (LOC)\n",
      "Se le considera de pensamiento socialista (MISC)\n",
      "El New York Times (MISC)\n"
     ]
    }
   ],
   "source": [
    "#ejemplos wikipedia\n",
    "texto_prueba='''Avram Noam Chomsky (Filadelfia, 7 de diciembre de 1928) es un lingüista, filósofo, politólogo y activista estadounidense. Es profesor emérito de lingüística en el Instituto Tecnológico de Massachusetts (MIT) y una de las figuras más destacadas de la lingüística del siglo XX, gracias a sus trabajos en teoría lingüística y ciencia cognitiva. También es reconocido por su activismo político, caracterizado por una fuerte crítica del capitalismo contemporáneo y de la política exterior de los Estados Unidos. Se le considera de pensamiento socialista libertario.2​ El New York Times lo ha señalado como «el más importante de los pensadores contemporáneos»'''\n",
    "doc_prueba=nlp(texto_prueba)\n",
    "for entidad in doc_prueba.ents:\n",
    "  print(f\"{entidad.text} ({entidad.label_})\")\n"
   ]
  },
  {
   "cell_type": "markdown",
   "metadata": {
    "colab_type": "text",
    "id": "Pz0wygZeSHTK"
   },
   "source": [
    "Vemos como este método falla bastante,  no reconoce bien las entidades nombradas. "
   ]
  },
  {
   "cell_type": "markdown",
   "metadata": {
    "colab_type": "text",
    "id": "Trn0a_62SjHS"
   },
   "source": [
    "Anonimizando un texto. Seleccionamos las entidades de x tipo y las vamos a transformar"
   ]
  },
  {
   "cell_type": "code",
   "execution_count": 0,
   "metadata": {
    "colab": {},
    "colab_type": "code",
    "id": "QZoJRYUCWoaf"
   },
   "outputs": [],
   "source": [
    "#definimos 3 funciones, una de ellas auxiliar y otra principal\n",
    "def reemplazar_por_cadena(token):\n",
    "  \n",
    "  if token.ent_iob!=0 and token.ent_type_ == \"PER\": #si el toquen está dentro de una entidad y esa entidad es \"PER\" (de persona)\n",
    "    return \"[ANONIMIZADO] \"\n",
    "  \n",
    "  else:#me devuelve el string del token\n",
    "    return token.string"
   ]
  },
  {
   "cell_type": "code",
   "execution_count": 0,
   "metadata": {
    "colab": {},
    "colab_type": "code",
    "id": "RlNSYTHrO8XQ"
   },
   "outputs": [],
   "source": [
    " def anonimizar(texto):\n",
    "  doc_tokenizado=nlp(texto)\n",
    "  \n",
    "  for ent in doc_tokenizado.ents:\n",
    "    ent.merge()#vamos a juntar en un mismo tokens, todos los tokens de esta entidad.\n",
    "  \n",
    "  #aplicamos una fucnion a una lista de parámetros con map\n",
    "  tokens=map(reemplazar_por_cadena,doc_tokenizado)\n",
    "  \n",
    "  return \"\".join(tokens) #como hacemo un bucle, vamos a devolver la cadena vacía añadiendole los tokens"
   ]
  },
  {
   "cell_type": "code",
   "execution_count": 48,
   "metadata": {
    "colab": {
     "base_uri": "https://localhost:8080/",
     "height": 71
    },
    "colab_type": "code",
    "executionInfo": {
     "elapsed": 473,
     "status": "ok",
     "timestamp": 1532772483030,
     "user": {
      "displayName": "Antonio Bravo Muñoz",
      "photoUrl": "//lh5.googleusercontent.com/-I0fIeuNLzog/AAAAAAAAAAI/AAAAAAAAAAs/MDZ3MDDdQoQ/s50-c-k-no/photo.jpg",
      "userId": "117007621637238690901"
     },
     "user_tz": -120
    },
    "id": "7_3ytOHtO8Zp",
    "outputId": "7ff84e7c-3892-4209-c75d-063a92fc8949"
   },
   "outputs": [
    {
     "name": "stdout",
     "output_type": "stream",
     "text": [
      "[ANONIMIZADO] (Filadelfia, 7 de diciembre de 1928) es un lingüista, filósofo, politólogo y activista estadounidense. Es profesor emérito de lingüística en el Instituto Tecnológico de Massachusetts (MIT) y una de las figuras más destacadas de la lingüística del siglo XX, gracias a sus trabajos en teoría lingüística y ciencia cognitiva. También es reconocido por su activismo político, caracterizado por una fuerte crítica del capitalismo contemporáneo y de la política exterior de los Estados Unidos. Se le considera de pensamiento socialista libertario.2​ El New York Times lo ha señalado como «el más importante de los pensadores contemporáneos»\n"
     ]
    }
   ],
   "source": [
    "#probamos las funciones.\n",
    "print(anonimizar(texto_prueba))\n"
   ]
  },
  {
   "cell_type": "code",
   "execution_count": 49,
   "metadata": {
    "colab": {
     "base_uri": "https://localhost:8080/",
     "height": 197
    },
    "colab_type": "code",
    "executionInfo": {
     "elapsed": 645,
     "status": "ok",
     "timestamp": 1532772495396,
     "user": {
      "displayName": "Antonio Bravo Muñoz",
      "photoUrl": "//lh5.googleusercontent.com/-I0fIeuNLzog/AAAAAAAAAAI/AAAAAAAAAAs/MDZ3MDDdQoQ/s50-c-k-no/photo.jpg",
      "userId": "117007621637238690901"
     },
     "user_tz": -120
    },
    "id": "g63La6ojNjeU",
    "outputId": "5682e216-75d6-41ad-bc0e-1da8c94aa760"
   },
   "outputs": [
    {
     "name": "stdout",
     "output_type": "stream",
     "text": [
      "Noam Chomsky (PER)\n",
      "Filadelfia (LOC)\n",
      "Pensilvania (LOC)\n",
      "William (PER)\n",
      "Zev (PER)\n",
      "Chomsky (PER)\n",
      "Elsie Simonofsky (PER)\n",
      "Ambos (PER)\n",
      "Universidad de Pensilvania (ORG)\n",
      "Allí (PER)\n",
      "Zellig Harris (PER)\n"
     ]
    }
   ],
   "source": [
    "#OTRO EJEMPLO\n",
    "texto_3=\"\"\"Noam Chomsky nació el 7 de diciembre de 1928 en Filadelfia (Pensilvania), hijo del doctor William (Zev) Chomsky (estudioso de la lengua hebrea y uno de sus más distinguidos gramáticos) y de Elsie Simonofsky, maestra de hebreo. Ambos eran inmigrantes judeo-ucranianos. Desde 1945, estudió filosofía, lingüística y matemática en la Universidad de Pensilvania. Allí estuvo bajo la tutela del profesor Zellig Harris.\"\"\"\n",
    "doc_tokens=nlp(texto_3)\n",
    "\n",
    "for entidad in doc_tokens.ents:\n",
    "  print(f\"{entidad.text} ({entidad.label_})\")"
   ]
  },
  {
   "cell_type": "code",
   "execution_count": 0,
   "metadata": {
    "colab": {},
    "colab_type": "code",
    "id": "0YPwLxLbNjc-"
   },
   "outputs": [],
   "source": [
    "#En este caso, con este texto se puede ver como va mejor."
   ]
  },
  {
   "cell_type": "code",
   "execution_count": 50,
   "metadata": {
    "colab": {
     "base_uri": "https://localhost:8080/",
     "height": 71
    },
    "colab_type": "code",
    "executionInfo": {
     "elapsed": 475,
     "status": "ok",
     "timestamp": 1532772498446,
     "user": {
      "displayName": "Antonio Bravo Muñoz",
      "photoUrl": "//lh5.googleusercontent.com/-I0fIeuNLzog/AAAAAAAAAAI/AAAAAAAAAAs/MDZ3MDDdQoQ/s50-c-k-no/photo.jpg",
      "userId": "117007621637238690901"
     },
     "user_tz": -120
    },
    "id": "ExkHMgF2WaAa",
    "outputId": "baea4d7a-e4a3-4504-9df2-389bc66faf0b"
   },
   "outputs": [
    {
     "name": "stdout",
     "output_type": "stream",
     "text": [
      "[ANONIMIZADO] nació el 7 de diciembre de 1928 en Filadelfia (Pensilvania), hijo del doctor [ANONIMIZADO] ([ANONIMIZADO] ) [ANONIMIZADO] (estudioso de la lengua hebrea y uno de sus más distinguidos gramáticos) y de [ANONIMIZADO] , maestra de hebreo. [ANONIMIZADO] eran inmigrantes judeo-ucranianos. Desde 1945, estudió filosofía, lingüística y matemática en la Universidad de Pensilvania. [ANONIMIZADO] estuvo bajo la tutela del profesor [ANONIMIZADO] .\n"
     ]
    }
   ],
   "source": [
    "print(anonimizar(texto_3))"
   ]
  },
  {
   "cell_type": "code",
   "execution_count": 0,
   "metadata": {
    "colab": {},
    "colab_type": "code",
    "id": "IN1YTEduWew5"
   },
   "outputs": [],
   "source": []
  },
  {
   "cell_type": "code",
   "execution_count": 51,
   "metadata": {
    "colab": {
     "base_uri": "https://localhost:8080/",
     "height": 1150
    },
    "colab_type": "code",
    "executionInfo": {
     "elapsed": 17287,
     "status": "ok",
     "timestamp": 1532772617445,
     "user": {
      "displayName": "Antonio Bravo Muñoz",
      "photoUrl": "//lh5.googleusercontent.com/-I0fIeuNLzog/AAAAAAAAAAI/AAAAAAAAAAs/MDZ3MDDdQoQ/s50-c-k-no/photo.jpg",
      "userId": "117007621637238690901"
     },
     "user_tz": -120
    },
    "id": "593ZB5AWXSfA",
    "outputId": "b7d95154-b7e8-40bf-d34e-172534728f7a"
   },
   "outputs": [
    {
     "name": "stdout",
     "output_type": "stream",
     "text": [
      "Collecting textacy\n",
      "\u001b[?25l  Downloading https://files.pythonhosted.org/packages/f7/13/77612f4393d9c8a55e53924f13b2cf8b835cbf4a5e69e288613ed2de9eca/textacy-0.6.2-py2.py3-none-any.whl (142kB)\n",
      "\u001b[K    100% |████████████████████████████████| 143kB 6.1MB/s \n",
      "\u001b[?25hRequirement already satisfied, skipping upgrade: numpy<2.0.0,>=1.9.0 in /usr/local/lib/python3.6/dist-packages (from textacy) (1.14.5)\n",
      "Requirement already satisfied, skipping upgrade: scikit-learn>=0.17.0 in /usr/local/lib/python3.6/dist-packages (from textacy) (0.19.2)\n",
      "Requirement already satisfied, skipping upgrade: tqdm>=4.11.1 in /usr/local/lib/python3.6/dist-packages (from textacy) (4.24.0)\n",
      "Requirement already satisfied, skipping upgrade: networkx>=1.11 in /usr/local/lib/python3.6/dist-packages (from textacy) (2.1)\n",
      "Collecting ijson>=2.3 (from textacy)\n",
      "  Downloading https://files.pythonhosted.org/packages/7f/e9/8508c5f4987ba238a2b169e582c1f70a47272b22a2f1fb06b9318201bb9e/ijson-2.3-py2.py3-none-any.whl\n",
      "Requirement already satisfied, skipping upgrade: requests>=2.10.0 in /usr/local/lib/python3.6/dist-packages (from textacy) (2.18.4)\n",
      "Requirement already satisfied, skipping upgrade: cytoolz>=0.8.0 in /usr/local/lib/python3.6/dist-packages (from textacy) (0.9.0.1)\n",
      "Requirement already satisfied, skipping upgrade: scipy>=0.17.0 in /usr/local/lib/python3.6/dist-packages (from textacy) (0.19.1)\n",
      "Requirement already satisfied, skipping upgrade: cachetools>=2.0.0 in /usr/local/lib/python3.6/dist-packages (from textacy) (2.1.0)\n",
      "Collecting pyphen>=0.9.4 (from textacy)\n",
      "\u001b[?25l  Downloading https://files.pythonhosted.org/packages/dd/c4/74859f895e2361d92cfbb6208ea7afd06c2f1f05c491da71cbd7ce3887be/Pyphen-0.9.4-py2.py3-none-any.whl (1.9MB)\n",
      "\u001b[K    100% |████████████████████████████████| 2.0MB 7.5MB/s \n",
      "\u001b[?25hCollecting pyemd>=0.3.0 (from textacy)\n",
      "\u001b[?25l  Downloading https://files.pythonhosted.org/packages/c0/c5/7fea8e7a71cd026b30ed3c40e4c5ea13a173e28f8855da17e25271e8f545/pyemd-0.5.1.tar.gz (91kB)\n",
      "\u001b[K    100% |████████████████████████████████| 92kB 14.6MB/s \n",
      "\u001b[?25hCollecting python-levenshtein>=0.12.0 (from textacy)\n",
      "\u001b[?25l  Downloading https://files.pythonhosted.org/packages/42/a9/d1785c85ebf9b7dfacd08938dd028209c34a0ea3b1bcdb895208bd40a67d/python-Levenshtein-0.12.0.tar.gz (48kB)\n",
      "\u001b[K    100% |████████████████████████████████| 51kB 15.1MB/s \n",
      "\u001b[?25hRequirement already satisfied, skipping upgrade: spacy>=2.0.0 in /usr/local/lib/python3.6/dist-packages (from textacy) (2.0.12)\n",
      "Collecting unidecode>=0.04.19 (from textacy)\n",
      "\u001b[?25l  Downloading https://files.pythonhosted.org/packages/59/ef/67085e30e8bbcdd76e2f0a4ad8151c13a2c5bce77c85f8cad6e1f16fb141/Unidecode-1.0.22-py2.py3-none-any.whl (235kB)\n",
      "\u001b[K    100% |████████████████████████████████| 235kB 16.2MB/s \n",
      "\u001b[?25hCollecting ftfy<5.0.0,>=4.2.0 (from textacy)\n",
      "\u001b[?25l  Downloading https://files.pythonhosted.org/packages/21/5d/9385540977b00df1f3a0c0f07b7e6c15b5e7a3109d7f6ae78a0a764dab22/ftfy-4.4.3.tar.gz (50kB)\n",
      "\u001b[K    100% |████████████████████████████████| 51kB 18.6MB/s \n",
      "\u001b[?25hRequirement already satisfied, skipping upgrade: decorator>=4.1.0 in /usr/local/lib/python3.6/dist-packages (from networkx>=1.11->textacy) (4.3.0)\n",
      "Requirement already satisfied, skipping upgrade: urllib3<1.23,>=1.21.1 in /usr/local/lib/python3.6/dist-packages (from requests>=2.10.0->textacy) (1.22)\n",
      "Requirement already satisfied, skipping upgrade: chardet<3.1.0,>=3.0.2 in /usr/local/lib/python3.6/dist-packages (from requests>=2.10.0->textacy) (3.0.4)\n",
      "Requirement already satisfied, skipping upgrade: idna<2.7,>=2.5 in /usr/local/lib/python3.6/dist-packages (from requests>=2.10.0->textacy) (2.6)\n",
      "Requirement already satisfied, skipping upgrade: certifi>=2017.4.17 in /usr/local/lib/python3.6/dist-packages (from requests>=2.10.0->textacy) (2018.4.16)\n",
      "Requirement already satisfied, skipping upgrade: toolz>=0.8.0 in /usr/local/lib/python3.6/dist-packages (from cytoolz>=0.8.0->textacy) (0.9.0)\n",
      "Requirement already satisfied, skipping upgrade: setuptools in /usr/local/lib/python3.6/dist-packages (from python-levenshtein>=0.12.0->textacy) (39.1.0)\n",
      "Requirement already satisfied, skipping upgrade: regex==2017.4.5 in /usr/local/lib/python3.6/dist-packages (from spacy>=2.0.0->textacy) (2017.4.5)\n",
      "Requirement already satisfied, skipping upgrade: ujson>=1.35 in /usr/local/lib/python3.6/dist-packages (from spacy>=2.0.0->textacy) (1.35)\n",
      "Requirement already satisfied, skipping upgrade: cymem<1.32,>=1.30 in /usr/local/lib/python3.6/dist-packages (from spacy>=2.0.0->textacy) (1.31.2)\n",
      "Requirement already satisfied, skipping upgrade: murmurhash<0.29,>=0.28 in /usr/local/lib/python3.6/dist-packages (from spacy>=2.0.0->textacy) (0.28.0)\n",
      "Requirement already satisfied, skipping upgrade: preshed<2.0.0,>=1.0.0 in /usr/local/lib/python3.6/dist-packages (from spacy>=2.0.0->textacy) (1.0.1)\n",
      "Requirement already satisfied, skipping upgrade: thinc<6.11.0,>=6.10.3 in /usr/local/lib/python3.6/dist-packages (from spacy>=2.0.0->textacy) (6.10.3)\n",
      "Requirement already satisfied, skipping upgrade: plac<1.0.0,>=0.9.6 in /usr/local/lib/python3.6/dist-packages (from spacy>=2.0.0->textacy) (0.9.6)\n",
      "Requirement already satisfied, skipping upgrade: dill<0.3,>=0.2 in /usr/local/lib/python3.6/dist-packages (from spacy>=2.0.0->textacy) (0.2.8.2)\n",
      "Requirement already satisfied, skipping upgrade: html5lib in /usr/local/lib/python3.6/dist-packages (from ftfy<5.0.0,>=4.2.0->textacy) (1.0.1)\n",
      "Requirement already satisfied, skipping upgrade: wcwidth in /usr/local/lib/python3.6/dist-packages (from ftfy<5.0.0,>=4.2.0->textacy) (0.1.7)\n",
      "Requirement already satisfied, skipping upgrade: wrapt<1.11.0,>=1.10.0 in /usr/local/lib/python3.6/dist-packages (from thinc<6.11.0,>=6.10.3->spacy>=2.0.0->textacy) (1.10.11)\n",
      "Requirement already satisfied, skipping upgrade: msgpack-numpy<1.0.0,>=0.4.1 in /usr/local/lib/python3.6/dist-packages (from thinc<6.11.0,>=6.10.3->spacy>=2.0.0->textacy) (0.4.3.1)\n",
      "Requirement already satisfied, skipping upgrade: msgpack<1.0.0,>=0.5.6 in /usr/local/lib/python3.6/dist-packages (from thinc<6.11.0,>=6.10.3->spacy>=2.0.0->textacy) (0.5.6)\n",
      "Requirement already satisfied, skipping upgrade: six<2.0.0,>=1.10.0 in /usr/local/lib/python3.6/dist-packages (from thinc<6.11.0,>=6.10.3->spacy>=2.0.0->textacy) (1.11.0)\n",
      "Requirement already satisfied, skipping upgrade: webencodings in /usr/local/lib/python3.6/dist-packages (from html5lib->ftfy<5.0.0,>=4.2.0->textacy) (0.5.1)\n",
      "Building wheels for collected packages: pyemd, python-levenshtein, ftfy\n",
      "  Running setup.py bdist_wheel for pyemd ... \u001b[?25ldone\n",
      "\u001b[?25h  Stored in directory: /content/.cache/pip/wheels/e4/ba/b0/1f4178a35c916b22fc51dc56f278125d4b8cfb0592e5f0cc24\n",
      "  Running setup.py bdist_wheel for python-levenshtein ... \u001b[?25ldone\n",
      "\u001b[?25h  Stored in directory: /content/.cache/pip/wheels/de/c2/93/660fd5f7559049268ad2dc6d81c4e39e9e36518766eaf7e342\n",
      "  Running setup.py bdist_wheel for ftfy ... \u001b[?25ldone\n",
      "\u001b[?25h  Stored in directory: /content/.cache/pip/wheels/37/54/00/d320239bfc8aad1455314f302dd82a75253fc585e17b81704e\n",
      "Successfully built pyemd python-levenshtein ftfy\n",
      "Installing collected packages: ijson, pyphen, pyemd, python-levenshtein, unidecode, ftfy, textacy\n",
      "Successfully installed ftfy-4.4.3 ijson-2.3 pyemd-0.5.1 pyphen-0.9.4 python-levenshtein-0.12.0 textacy-0.6.2 unidecode-1.0.22\n"
     ]
    }
   ],
   "source": [
    "!pip install -U textacy"
   ]
  },
  {
   "cell_type": "code",
   "execution_count": 0,
   "metadata": {
    "colab": {},
    "colab_type": "code",
    "id": "Mt6YI3eKXSji"
   },
   "outputs": [],
   "source": [
    "import textacy"
   ]
  },
  {
   "cell_type": "code",
   "execution_count": 0,
   "metadata": {
    "colab": {},
    "colab_type": "code",
    "id": "bMAgRHV0XSnB"
   },
   "outputs": [],
   "source": [
    "import textacy.extract"
   ]
  },
  {
   "cell_type": "code",
   "execution_count": 0,
   "metadata": {
    "colab": {},
    "colab_type": "code",
    "id": "hmiM1xIFXS6u"
   },
   "outputs": [],
   "source": [
    "#cargamos el modelo de inglés\n",
    "!python -m spacy download en"
   ]
  },
  {
   "cell_type": "code",
   "execution_count": 0,
   "metadata": {
    "colab": {},
    "colab_type": "code",
    "id": "UDUilPjiYxCC"
   },
   "outputs": [],
   "source": [
    "#reescribimos el objeto NLP para que coja el modelo de ingles\n",
    "nlp=spacy.load('en')"
   ]
  },
  {
   "cell_type": "code",
   "execution_count": 60,
   "metadata": {
    "colab": {
     "base_uri": "https://localhost:8080/",
     "height": 32
    },
    "colab_type": "code",
    "executionInfo": {
     "elapsed": 1044,
     "status": "ok",
     "timestamp": 1532773007200,
     "user": {
      "displayName": "Antonio Bravo Muñoz",
      "photoUrl": "//lh5.googleusercontent.com/-I0fIeuNLzog/AAAAAAAAAAI/AAAAAAAAAAs/MDZ3MDDdQoQ/s50-c-k-no/photo.jpg",
      "userId": "117007621637238690901"
     },
     "user_tz": -120
    },
    "id": "Ga9ZUJwTXSiA",
    "outputId": "0ac4ef93-ba79-4ada-9859-bcfcec62bf78"
   },
   "outputs": [
    {
     "data": {
      "text/plain": [
       "spacy.tokens.doc.Doc"
      ]
     },
     "execution_count": 60,
     "metadata": {
      "tags": []
     },
     "output_type": "execute_result"
    }
   ],
   "source": [
    "text_EN=\"\"\"London is the capital and most populous city of England and  the United Kingdom. \n",
    "Standing on the River Thames in the south east of the island of Great Britain, \n",
    "London has been a major settlement  for two millennia.  It was founded by the Romans, \n",
    "who named it Londinium.\"\"\"\n",
    "\n",
    "doc_EN=nlp(text_EN)\n",
    "type(doc_EN)"
   ]
  },
  {
   "cell_type": "code",
   "execution_count": 0,
   "metadata": {
    "colab": {},
    "colab_type": "code",
    "id": "L7MVee0PYOrg"
   },
   "outputs": [],
   "source": [
    "#funcion para extraer afirmaciones semiestructuradas sobre Londres, por ejemplo\n",
    "\n",
    "statements=textacy.extract.semistructured_statements(doc_EN,\"London\")"
   ]
  },
  {
   "cell_type": "code",
   "execution_count": 62,
   "metadata": {
    "colab": {
     "base_uri": "https://localhost:8080/",
     "height": 65
    },
    "colab_type": "code",
    "executionInfo": {
     "elapsed": 438,
     "status": "ok",
     "timestamp": 1532773191434,
     "user": {
      "displayName": "Antonio Bravo Muñoz",
      "photoUrl": "//lh5.googleusercontent.com/-I0fIeuNLzog/AAAAAAAAAAI/AAAAAAAAAAs/MDZ3MDDdQoQ/s50-c-k-no/photo.jpg",
      "userId": "117007621637238690901"
     },
     "user_tz": -120
    },
    "id": "CWvEQrI1ZTS8",
    "outputId": "d6994cbf-be30-4642-8aa2-23ee723cd400"
   },
   "outputs": [
    {
     "name": "stdout",
     "output_type": "stream",
     "text": [
      "Afirmación: the capital and most populous city of England and  the United Kingdom. \n",
      "\n",
      "Afirmación: a major settlement  for two millennia.  \n"
     ]
    }
   ],
   "source": [
    "#imprimimos los statements\n",
    "for sta in statements:\n",
    "  #el statement son tripletas\n",
    "  sujeto,verbo,hecho=sta\n",
    "  print(f\"Afirmación: {hecho}\")"
   ]
  },
  {
   "cell_type": "code",
   "execution_count": 64,
   "metadata": {
    "colab": {
     "base_uri": "https://localhost:8080/",
     "height": 65
    },
    "colab_type": "code",
    "executionInfo": {
     "elapsed": 589,
     "status": "ok",
     "timestamp": 1532773620501,
     "user": {
      "displayName": "Antonio Bravo Muñoz",
      "photoUrl": "//lh5.googleusercontent.com/-I0fIeuNLzog/AAAAAAAAAAI/AAAAAAAAAAs/MDZ3MDDdQoQ/s50-c-k-no/photo.jpg",
      "userId": "117007621637238690901"
     },
     "user_tz": -120
    },
    "id": "T_Sw5CMwZszo",
    "outputId": "9e620307-ff42-4286-87cb-18f0011a32e7"
   },
   "outputs": [
    {
     "name": "stdout",
     "output_type": "stream",
     "text": [
      "Afirmación: also the world's largest exporter and second-largest importer of goods.[25\n",
      "Afirmación: a recognized nuclear weapons state and has the world's largest standing army and second-largest defense budget.[26][27][28\n",
      "Afirmación: a great power and a major regional power within Asia, and has been characterized as a potential superpower.[29][30\n"
     ]
    }
   ],
   "source": [
    "#vemos que bien funciona ahora. Le he especificado London y me ha devuelto que eso es lo que se está diciendo de londres. Faltaría añadir la correferencia.\n",
    "#vamos a coger ahora un texto largo en ingles (sobre china source Wikipedia)\n",
    "\n",
    "textoChina=\"\"\"China, officially the People's Republic of China (PRC), is a unitary one-party sovereign state in East Asia and the world's most populous country, with a population of around 1.404 billion.[13] Covering approximately 9,600,000 square kilometers (3,700,000 sq mi), it is the third- or fourth-largest country by total area,[k][19] depending on the source consulted. Governed by the Communist Party of China, the state exercises jurisdiction over 22 provinces, five autonomous regions, four direct-controlled municipalities (Beijing, Tianjin, Shanghai, and Chongqing), and the special administrative regions of Hong Kong and Macau. It also claims all of the territories of the Republic of China as part of its \"China\".\n",
    "\n",
    "China emerged as one of the world's earliest civilizations, in the fertile basin of the Yellow River in the North China Plain. For millennia, China's political system was based on hereditary monarchies, or dynasties, beginning with the semi-legendary Xia dynasty in 21st century BCE.[20] Since then, China has expanded, fractured, and re-unified numerous times. In the 3rd century BCE, the Qin unified core China and established the first Chinese dynasty. The succeeding Han dynasty, which ruled from 206 BC until 220 AD, saw some of the most advanced technology at that time, including papermaking and the compass,[21] along with agricultural and medical improvements. The invention of gunpowder and printing in the Tang dynasty (618–907) completed the Four Great Inventions. Tang culture spread widely in Asia, as the new maritime Silk Route brought traders to as far as Mesopotamia and Somalia.[22] Dynastic rule ended in 1912 with the Xinhai Revolution, when a republic replaced the Qing dynasty. The Chinese Civil War resulted in a division of territory in 1949, when the Communist Party of China established the People’s Republic of China on Mainland China, splitting it from the Republic of China and thereby creating in reality Two Chinas, while the Kuomintang-led ROC government retreated to the island of Taiwan. The political status of Taiwan and the ROC remains disputed.\n",
    "\n",
    "Since the introduction of economic reforms in 1978, China's economy has been one of the world's fastest-growing with annual growth rates consistently above 6 percent.[23] As of 2016, it is the world's second-largest economy by nominal GDP and largest by purchasing power parity (PPP).[24] China is also the world's largest exporter and second-largest importer of goods.[25] China is a recognized nuclear weapons state and has the world's largest standing army and second-largest defense budget.[26][27][28] The PRC is a member of the United Nations, as it replaced the ROC as a permanent member of the UN Security Council in 1971. China is also a member of numerous formal and informal multilateral organizations, including the ASEAN Plus mechanism, WTO, APEC, BRICS, the Shanghai Cooperation Organization (SCO), the BCIM, and the G20. China is a great power and a major regional power within Asia, and has been characterized as a potential superpower.[29][30]\"\"\"\n",
    "\n",
    "doc_CH=nlp(textoChina)\n",
    "\n",
    "statements=textacy.extract.semistructured_statements(doc_CH,\"China\")\n",
    "\n",
    "for sta in statements:\n",
    "  sujeto,verbo,hecho=sta\n",
    "  print(f\"Afirmación: {hecho}\")\n"
   ]
  },
  {
   "cell_type": "code",
   "execution_count": 0,
   "metadata": {
    "colab": {},
    "colab_type": "code",
    "id": "6j1piO1oZydC"
   },
   "outputs": [],
   "source": []
  },
  {
   "cell_type": "code",
   "execution_count": 0,
   "metadata": {
    "colab": {},
    "colab_type": "code",
    "id": "zLzYYkYVZyhk"
   },
   "outputs": [],
   "source": [
    "#ahora hacemos con un texto en español para probar esto\n",
    "nlp=spacy.load('es')"
   ]
  },
  {
   "cell_type": "code",
   "execution_count": 0,
   "metadata": {
    "colab": {},
    "colab_type": "code",
    "id": "q4mDXI2WZyms"
   },
   "outputs": [],
   "source": [
    "text_ES=\"\"\"La República Popular China (en chino simplificado: 中华人民共和国 y en pinyin: Zhōnghuá Rénmín Gònghéguó), o simplemente China (en chino simplificado: 中国 y en pinyin: Zhōngguó), es un Estado soberano situado en Asia Oriental. Es el país más poblado del mundo, con más de 1300 millones de habitantes, y la primera potencia económica mundial por PIB, en términos de paridad de poder adquisitivo.8​16​17​ La República Popular China es un Estado unipartidista gobernado por el Partido Comunista y tiene la sede de su gobierno en la capital, Pekín.18​ Está dividida en veintidós provincias, cinco regiones autónomas, cuatro municipios bajo jurisdicción central —Pekín, Tianjin, Shanghái y Chongqing— y dos regiones administrativas especiales —Hong Kong y Macao—.19​ Asimismo, China reclama la que considera provincia de Taiwán, que es controlada por la República de China con un estatus político de la isla controvertido.20​\n",
    "\n",
    "Con una superficie de 9 596 960 km²,5​ China ―que tiene fronteras con catorce Estados soberanos―nota 1​ es el tercer país más extenso del planeta por superficie terrestre detrás de Rusia y Canadá y el cuarto si se cuentan las masas de agua, detrás de Rusia, Canadá y Estados Unidos. El paisaje chino es vasto y diverso, desde las estepas y los desiertos del Gobi y Taklamakán en el árido norte hasta los bosques subtropicales en el húmedo sur. Las cordilleras montañosas del Himalaya, el Karakórum, Pamir y Tian Shan la separan del sur y el centro de Asia. Los ríos Yangtsé y Amarillo, tercero y sexto más largos del mundo, discurren desde la meseta tibetana hasta desembocar en las densamente pobladas costas orientales. China tiene 14 500 km de costa a lo largo del océano Pacífico,5​ en donde está bañada por los mares Amarillo, de Bohai, de China Oriental y de la China Meridional.\n",
    "\n",
    "La civilización china, una de las más antiguas del mundo, floreció en la fértil cuenca del río Amarillo. Durante milenios su sistema político se basó en monarquías hereditarias, conocidas como dinastías. La primera de las cuales fue la semimitológica dinastía Xia en torno al 2000 a. C. Desde el 221 a. C., cuando la dinastía Qin conquistó diversos Estados y formó el primer Imperio chino, el país se ha expandido, fracturado y ha sido reformado en numerosas ocasiones. La República de China derrocó a la última dinastía en 1911 y gobernó la China continental hasta 1949. Después de la derrota del Imperio del Japón en la Segunda Guerra Mundial y la retirada de sus tropas de China, el partido comunista se impuso en la Guerra Civil y proclamó la República Popular China en Pekín el 1 de octubre de 1949. El derrotado régimen de la República de China, dominado por el partido Kuomintang trasladó su gobierno a Taipéi y desde entonces, la jurisdicción de la República de China se limita a Taiwán y algunas islas periféricas.\n",
    "\n",
    "Desde la introducción de las reformas económicas de 1978, China ha sido la economía de más rápido crecimiento del mundo, alcanzando en 2014 la primacía mundial en términos de PIB medido en paridad de poder adquisitivo y manteniéndose como la segunda potencia por PIB nominal. China es, además, el mayor exportador e importador de bienes y la primera potencia industrial.21​ China dispone del segundo ejército más numeroso del mundo, posee armas nucleares y cuenta con el segundo presupuesto militar después de Estados Unidos.22​ La República Popular China es miembro de la ONU desde 1971, año en que reemplazó a la República de China como miembro permanente del Consejo de Seguridad de las Naciones Unidas, y es reconocida diplomáticamente por casi todos los países del mundo. También es miembro formal o informal de numerosas organizaciones multilaterales, como la OMC, la APEC, los BRICS, la Organización de Cooperación de Shanghái y el G20. China es considerada por numerosos analistas como una superpotencia emergente.23​24​25​26​\"\"\"\n",
    "\n",
    "\n",
    "doc_ES=nlp(text_ES)\n",
    "statements=textacy.extract.semistructured_statements(doc_ES,\"China\")\n",
    "\n",
    "for sta in statements:\n",
    "  sujeto,verbo,hecho=sta\n",
    "  print(f\"Afirmación: {hecho}\")"
   ]
  },
  {
   "cell_type": "code",
   "execution_count": 0,
   "metadata": {
    "colab": {},
    "colab_type": "code",
    "id": "7WrdmkNId6hv"
   },
   "outputs": [],
   "source": [
    "#Vemos que no saca nada. El modelo español está mal entrenado. Tendríamos que entrenarlo nosotros. Podemos definir en textacy un pattern y hacerlo nosotros de forma manual. Con inglés esto no pasa."
   ]
  },
  {
   "cell_type": "code",
   "execution_count": 0,
   "metadata": {
    "colab": {},
    "colab_type": "code",
    "id": "pzYACfipd6o2"
   },
   "outputs": [],
   "source": []
  },
  {
   "cell_type": "code",
   "execution_count": 0,
   "metadata": {
    "colab": {},
    "colab_type": "code",
    "id": "MZ9w4Pbfd6m4"
   },
   "outputs": [],
   "source": []
  },
  {
   "cell_type": "code",
   "execution_count": 0,
   "metadata": {
    "colab": {},
    "colab_type": "code",
    "id": "L0LUMVtSd6k_"
   },
   "outputs": [],
   "source": []
  },
  {
   "cell_type": "code",
   "execution_count": 0,
   "metadata": {
    "colab": {},
    "colab_type": "code",
    "id": "AlMi5XmJZyk6"
   },
   "outputs": [],
   "source": []
  },
  {
   "cell_type": "markdown",
   "metadata": {
    "colab_type": "text",
    "id": "05TMRvivh0Nh"
   },
   "source": [
    "## Categorizar un texto"
   ]
  },
  {
   "cell_type": "code",
   "execution_count": 0,
   "metadata": {
    "colab": {},
    "colab_type": "code",
    "id": "mgZdZbsMZyf-"
   },
   "outputs": [],
   "source": [
    "#vamos a extraer el texto directamente de la web (scrapping)"
   ]
  },
  {
   "cell_type": "code",
   "execution_count": 82,
   "metadata": {
    "colab": {
     "base_uri": "https://localhost:8080/",
     "height": 49
    },
    "colab_type": "code",
    "executionInfo": {
     "elapsed": 2609,
     "status": "ok",
     "timestamp": 1532775642756,
     "user": {
      "displayName": "Antonio Bravo Muñoz",
      "photoUrl": "//lh5.googleusercontent.com/-I0fIeuNLzog/AAAAAAAAAAI/AAAAAAAAAAs/MDZ3MDDdQoQ/s50-c-k-no/photo.jpg",
      "userId": "117007621637238690901"
     },
     "user_tz": -120
    },
    "id": "IIsMCr-Lh6A_",
    "outputId": "75c77f18-3589-414e-eb01-51f2a9aa43e4"
   },
   "outputs": [
    {
     "name": "stdout",
     "output_type": "stream",
     "text": [
      "Requirement already satisfied: nltk in /usr/local/lib/python3.6/dist-packages (3.2.5)\r\n",
      "Requirement already satisfied: six in /usr/local/lib/python3.6/dist-packages (from nltk) (1.11.0)\r\n"
     ]
    }
   ],
   "source": [
    "!pip install nltk"
   ]
  },
  {
   "cell_type": "code",
   "execution_count": 0,
   "metadata": {
    "colab": {},
    "colab_type": "code",
    "id": "l3udanyNh6Iz"
   },
   "outputs": [],
   "source": [
    "import nltk"
   ]
  },
  {
   "cell_type": "code",
   "execution_count": 0,
   "metadata": {
    "colab": {},
    "colab_type": "code",
    "id": "eVeuA8_kh6Gy"
   },
   "outputs": [],
   "source": [
    "from bs4 import BeautifulSoup"
   ]
  },
  {
   "cell_type": "code",
   "execution_count": 0,
   "metadata": {
    "colab": {},
    "colab_type": "code",
    "id": "FDd-sBDTh6Ep"
   },
   "outputs": [],
   "source": [
    "import urllib.request"
   ]
  },
  {
   "cell_type": "code",
   "execution_count": 0,
   "metadata": {
    "colab": {},
    "colab_type": "code",
    "id": "AArc3Uxph5_E"
   },
   "outputs": [],
   "source": [
    "response = urllib.request.urlopen(\"https://es.wikipedia.org/wiki/Noam_Chomsky\")"
   ]
  },
  {
   "cell_type": "code",
   "execution_count": 0,
   "metadata": {
    "colab": {},
    "colab_type": "code",
    "id": "zW6tfKqkh59E"
   },
   "outputs": [],
   "source": [
    "html=response.read()"
   ]
  },
  {
   "cell_type": "code",
   "execution_count": 0,
   "metadata": {
    "colab": {},
    "colab_type": "code",
    "id": "OqXjQKYukhqv"
   },
   "outputs": [],
   "source": [
    "soup=BeautifulSoup(html,\"html5lib\")"
   ]
  },
  {
   "cell_type": "code",
   "execution_count": 0,
   "metadata": {
    "colab": {},
    "colab_type": "code",
    "id": "yVlp08CZkn48"
   },
   "outputs": [],
   "source": [
    "text=soup.get_text(strip=True)"
   ]
  },
  {
   "cell_type": "code",
   "execution_count": 93,
   "metadata": {
    "colab": {
     "base_uri": "https://localhost:8080/",
     "height": 170
    },
    "colab_type": "code",
    "executionInfo": {
     "elapsed": 656,
     "status": "ok",
     "timestamp": 1532776079695,
     "user": {
      "displayName": "Antonio Bravo Muñoz",
      "photoUrl": "//lh5.googleusercontent.com/-I0fIeuNLzog/AAAAAAAAAAI/AAAAAAAAAAs/MDZ3MDDdQoQ/s50-c-k-no/photo.jpg",
      "userId": "117007621637238690901"
     },
     "user_tz": -120
    },
    "id": "JdeEN-v0ksHZ",
    "outputId": "bc69e61a-a412-4a2a-e93e-cd378e870528"
   },
   "outputs": [
    {
     "name": "stdout",
     "output_type": "stream",
     "text": [
      "Noam Chomsky - Wikipedia, la enciclopedia libredocument.documentElement.className = document.documentElement.className.replace( /(^|\\s)client-nojs(\\s|$)/, \"$1client-js$2\" );(window.RLQ=window.RLQ||[]).push(function(){mw.config.set({\"wgCanonicalNamespace\":\"\",\"wgCanonicalSpecialPageName\":false,\"wgNamespaceNumber\":0,\"wgPageName\":\"Noam_Chomsky\",\"wgTitle\":\"Noam Chomsky\",\"wgCurRevisionId\":109581837,\"wgRevisionId\":109581837,\"wgArticleId\":15409,\"wgIsArticle\":true,\"wgIsRedirect\":false,\"wgAction\":\"view\",\"wgUserName\":null,\"wgUserGroups\":[\"*\"],\"wgCategories\":[\"Wikipedia:Páginas con enlaces mágicos de ISBN\",\"Wikipedia:Artículos destacados en la Wikipedia en búlgaro\",\"Wikipedia:Artículos destacados en la Wikipedia en francés\",\"Wikipedia:Artículos destacados en la Wikipedia en latín\",\"Personas vivas\",\"Wikipedia:Artículos con pasajes que requieren referencias\",\"Wikipedia:Páginas con referencias con parámetros obsoletos\",\"Wikipedia:Artículos con plantilla The Guardian\",\"Wikipedia:Control de autoridades con 23 elementos\",\"Wikipedia:Artículos con identificadores VIAF\",\"Wikipedia:Artículos con identificadores ISNI\",\"Wikipedia:Artículos con identificadores BNA\",\"Wikipedia:Artículos con identificadores BNE\",\"Wikipedia:Artículos con identificadores BNF\",\"Wikipedia:Artículos con identificadores CANTIC\",\"Wikipedia:Artículos con identificadores GND\",\"Wikipedia:Artículos con identificadores LCCN\",\"Wikipedia:Artículos con identificadores SNAC\",\"Wikipedia:Artículos con identificadores ULAN\",\"Wikipedia:Artículos con identificadores BIBSYS\",\"Wikipedia:Artículos con identificadores SBN\",\"Wikipedia:Artículos con identificadores Leopoldina\",\"Wikipedia:Artículos con identificadores Open Library\",\"Wikipedia:Artículos con identificadores Persée\",\"Wikipedia:Artículos con identificadores Dialnet\",\"Wikipedia:Artículos con identificadores Google Académico\",\"Hombres\",\"Nacidos en 1928\",\"Noam Chomsky\",\"Doctores honoris causa de la Universidad de Chile\",\"Miembros de la Leopoldina\",\"Doctores honorarios por la Universidad de Upsala\",\"Doctores honoris causa por la Universidad Rovira i Virgili\",\"Graduados honorarios de la Universidad de Ontario Occidental\",\"Judíos antisionistas\"],\"wgBreakFrames\":false,\"wgPageContentLanguage\":\"es\",\"wgPageContentModel\":\"wikitext\",\"wgSeparatorTransformTable\":[\",\\t.\",\" \\t,\"],\"wgDigitTransformTable\":[\"\",\"\"],\"wgDefaultDateFormat\":\"dmy\",\"wgMonthNames\":[\"\",\"enero\",\"febrero\",\"marzo\",\"abril\",\"mayo\",\"junio\",\"julio\",\"agosto\",\"septiembre\",\"octubre\",\"noviembre\",\"diciembre\"],\"wgMonthNamesShort\":[\"\",\"ene\",\"feb\",\"mar\",\"abr\",\"may\",\"jun\",\"jul\",\"ago\",\"sep\",\"oct\",\"nov\",\"dic\"],\"wgRelevantPageName\":\"Noam_Chomsky\",\"wgRelevantArticleId\":15409,\"wgRequestId\":\"W1xJyQpAAEEAABCPTtIAAAAW\",\"wgIsProbablyEditable\":true,\"wgRelevantPageIsProbablyEditable\":true,\"wgRestrictionEdit\":[],\"wgRestrictionMove\":[],\"wgCategoryTreePageCategoryOptions\":\"{\\\"mode\\\":0,\\\"hideprefix\\\":20,\\\"showcount\\\":true,\\\"namespaces\\\":false}\",\"wgWikiEditorEnabledModules\":[],\"wgBetaFeaturesFeatures\":[],\"wgMediaViewerOnClick\":true,\"wgMediaViewerEnabledByDefault\":true,\"wgPopupsShouldSendModuleToUser\":true,\"wgPopupsConflictsWithNavPopupGadget\":false,\"wgVisualEditor\":{\"pageLanguageCode\":\"es\",\"pageLanguageDir\":\"ltr\",\"pageVariantFallbacks\":\"es\",\"usePageImages\":true,\"usePageDescriptions\":true},\"wgMFExpandAllSectionsUserOption\":true,\"wgMFEnableFontChanger\":true,\"wgMFDisplayWikibaseDescriptions\":{\"search\":true,\"nearby\":true,\"watchlist\":true,\"tagline\":true},\"wgRelatedArticles\":null,\"wgRelatedArticlesUseCirrusSearch\":true,\"wgRelatedArticlesOnlyUseCirrusSearch\":false,\"wgULSCurrentAutonym\":\"español\",\"wgNoticeProject\":\"wikipedia\",\"wgCentralNoticeCookiesToDelete\":[],\"wgCentralNoticeCategoriesUsingLegacy\":[\"Fundraising\",\"fundraising\"],\"wgWikibaseItemId\":\"Q9049\",\"wgScoreNoteLanguages\":{\"arabic\":\"العربية\",\"catalan\":\"català\",\"deutsch\":\"Deutsch\",\"english\":\"English\",\"espanol\":\"español\",\"italiano\":\"italiano\",\"nederlands\":\"Nederlands\",\"norsk\":\"norsk\",\"portugues\":\"português\",\"suomi\":\"suomi\",\"svenska\":\"svenska\",\"vlaams\":\"West-Vlams\"},\"wgScoreDefaultNoteLanguage\":\"nederlands\",\"wgCentralAuthMobileDomain\":false,\"wgCodeMirrorEnabled\":true,\"wgVisualEditorToolbarScrollOffset\":0,\"wgVisualEditorUnsupportedEditParams\":[\"undo\",\"undoafter\",\"veswitched\"],\"wgEditSubmitButtonLabelPublish\":true});mw.loader.state({\"ext.gadget.imagenesinfobox\":\"ready\",\"ext.globalCssJs.user.styles\":\"ready\",\"ext.globalCssJs.site.styles\":\"ready\",\"site.styles\":\"ready\",\"noscript\":\"ready\",\"user.styles\":\"ready\",\"ext.globalCssJs.user\":\"ready\",\"ext.globalCssJs.site\":\"ready\",\"user\":\"ready\",\"user.options\":\"loading\",\"user.tokens\":\"loading\",\"ext.cite.styles\":\"ready\",\"mediawiki.legacy.shared\":\"ready\",\"mediawiki.legacy.commonPrint\":\"ready\",\"mediawiki.toc.styles\":\"ready\",\"wikibase.client.init\":\"ready\",\"ext.visualEditor.desktopArticleTarget.noscript\":\"ready\",\"ext.uls.interlanguage\":\"ready\",\"ext.wikimediaBadges\":\"ready\",\"mediawiki.skinning.interface\":\"ready\",\"skins.vector.styles\":\"ready\"});mw.loader.implement(\"user.options@00wq302\",function($,jQuery,require,module){/*@nomin*/mw.user.options.set({\"variant\":\"es\"});\n",
      "});mw.loader.implement(\"user.tokens@1dqfd7l\",function($,jQuery,require,module){/*@nomin*/mw.user.tokens.set({\"editToken\":\"+\\\\\",\"patrolToken\":\"+\\\\\",\"watchToken\":\"+\\\\\",\"csrfToken\":\"+\\\\\"});\n",
      "});mw.loader.load([\"ext.cite.a11y\",\"site\",\"mediawiki.page.startup\",\"mediawiki.user\",\"mediawiki.page.ready\",\"mediawiki.toc\",\"mediawiki.searchSuggest\",\"ext.gadget.a-commons-directo\",\"ext.gadget.refToolbar\",\"ext.centralauth.centralautologin\",\"mmv.head\",\"mmv.bootstrap.autostart\",\"ext.popups\",\"ext.visualEditor.desktopArticleTarget.init\",\"ext.visualEditor.targetLoader\",\"ext.eventLogging.subscriber\",\"ext.wikimediaEvents\",\"ext.navigationTiming\",\"ext.uls.eventlogger\",\"ext.uls.init\",\"ext.uls.compactlinks\",\"ext.uls.interface\",\"ext.3d\",\"ext.centralNotice.geoIP\",\"ext.centralNotice.startUp\",\"skins.vector.js\"]);});Noam ChomskyDe Wikipedia, la enciclopedia libreIr a la navegaciónIr a la búsquedaNoam ChomskyNoam Chomsky en 2015Información personalNombre de nacimientoAvram Noam ChomskyNacimiento7 de diciembrede1928(89 años)East Oak Lane,Filadelfia,Estados UnidosResidenciaLexingtonNacionalidadEstadounidenseLengua maternaInglésReligiónIgnosticismoFamiliaPadreWilliam ChomskyCónyugeCarol Chomsky(1949–2008)EducaciónEducaciónPh.D.Educado enInstituto Tecnológico de MassachusettsUniversidad de Pensilvania(B.A.; 1945–1949)Central High School(hasta 1945)Universidad de Pensilvania(M.A.; 1949–1951)Universidad de Harvard(Lingüística; 1951–1955)Alumno deZellig HarrisInformación profesionalOcupaciónFilósofo, lingüista, escritor político, pedagogo, crítico de medios, profesor universitario,escritor,publicista,periodistaeinformático teóricoÁreaGramática generativa, lingüística yTeoría de comunicaciónConocido porGramática generativa,gramática universal,gramática transformacional,rección y ligamiento,teoría de la X',jerarquía de Chomsky,gramática libre de contexto,principios y parámetros,dispositivo de adquisición del lenguaje,programa minimalista,pobreza del estímulo,teorema de Chomsky-Schützenberger,forma normal de Chomsky,modelo de Propaganda de los medios de comunicación[1]​EmpleadorInstituto Tecnológico de MassachusettsMovimientoateísmoyanarcosindicalismoObras notablesLos guardianes de la libertadMiembro deAcademia Alemana de las Ciencias Naturales LeopoldinaAcademia Nacional de Ciencias de los Estados UnidosAcademia Estadounidense de las Artes y las CienciasAcademia Tunecina de Ciencias, Letras y Artes «Beit al-Hikma»Sociedad Filosófica EstadounidenseAsociación Estadounidense para el Avance de la CienciaAcademia EuropæaAcademia de las Artes y de las Ciencias de Serbia(desde 2003)DistincionesBeca GuggenheimOrden de SretenjskiPremio James JoyceAPA Award for Distinguished Scientific Contributions to Psychology(1984)Premio Orwell(1987)Kyoto Prize in Basic Sciences(1988)Premio William James(1989)Medalla Helmholtz(1996)Medalla Benjamin Franklin(1999)Erich-Fromm-Preis(2010)Premio Thomas Merton(2010)Albertus-Magnus professorate(2011)FirmaWebSitio webwww.chomsky.infoFacebook294468630182[editar datos en Wikidata]Avram Noam Chomsky(Filadelfia,7 de diciembrede1928) es unlingüista,filósofo,politólogoyactivistaestadounidense. Esprofesor eméritodelingüísticaen elInstituto Tecnológico de Massachusetts(MIT) y una de las figuras más destacadas de la lingüística delsiglo XX, gracias a sus trabajos en teoría lingüística yciencia cognitiva. También es reconocido por su activismo político, caracterizado por una fuerte crítica delcapitalismocontemporáneo y de la política exterior de los Estados Unidos. Se le considera de pensamientosocialista libertario.[2]​\n",
      "ElNew York Timeslo ha señalado como «el más importante de los pensadores contemporáneos».[3]​Propuso lagramática generativa, disciplina que situó lasintaxisen el centro de la investigación lingüística. Con ésta cambió la perspectiva, los programas y métodos de investigación en el estudio del lenguaje. Su lingüística es una teoría de la adquisición individual del lenguaje e intenta explicar las estructuras y principios más profundos del lenguaje. Postuló un aspecto bien definido de innatismo en la adquisición del lenguaje y la autonomía de la gramática (sobre los otros sistemas cognitivos), así como la existencia de un «órgano del lenguaje» y de unagramática universal. Se opuso con dureza alempirismofilosófico y científico y al funcionalismo, en favor delracionalismocartesiano. Todas estas ideas chocaban frontalmente con las tradicionales de las ciencias humanas, lo que concitó múltiples adhesiones, críticas y polémicas que le han acabado convirtiendo en uno de los autores más citados.[4]​Destaca su contribución al establecimiento de las ciencias cognitivas a partir de su crítica delconductismodeSkinnery de las gramáticas de estados finitos, que puso en tela de juicio el método basado en el comportamiento del estudio de la mente y el lenguaje que dominaba en los años cincuenta. Su enfoque naturalista en el estudio del lenguaje ha influido en la filosofía del lenguaje y de la mente (ver aHarmany aFodor). Es el descubridor de lajerarquía de Chomsky, una clasificación delenguajes formalesde gran importancia enteoría de la computación.También es conocido por suactivismo políticoy por suscríticasa la política exterior de Estados Unidos y de otros países, comoIsrael. Chomsky, que desvincula completamente su actividad científica de su activismo político, se describe a sí mismo como simpatizante delanarcosindicalismo(es miembro del sindicatoIWW). Chomsky es considerado una figura influyente en su país de origen y en el mundo.Índice1Biografía2Contribuciones a la lingüística2.1Teoría de principios y parámetros3Activismo político y posicionamientos4Antiglobalización económica de Chomsky4.1Perspectiva sobre el ateísmo, la ciencia y la religión5Libros publicados5.1Lingüística5.2Política5.3Artículos en línea6Obra sobre Chomsky7Véase también8Notas9Enlaces externos9.1En inglés9.2En españolBiografía[editar]Noam Chomsky nació el7 de diciembrede1928enFiladelfia(Pensilvania), hijo del doctorWilliam (Zev) Chomsky(estudioso de lalengua hebreay uno de sus más distinguidosgramáticos) y de Elsie Simonofsky, maestra de hebreo. Ambos eran inmigrantesjudeo-ucranianos. Desde 1945, estudiófilosofía,lingüísticaymatemáticaen laUniversidad de Pensilvania. Allí estuvo bajo la tutela del profesorZellig Harris(también inmigrante judeo-ucraniano, fundador del primer departamento especializado en lingüística enNorteamérica). Harris y Elsie influyeron más que Zev en la formación de su ideología política. También por influencia de Zellig Harris, Chomsky comenzó a tomar clases de matemáticas y filosofía. Uno de sus maestros fue el filósofo Nelson Goodman, quien más tarde los presentaría en la Society of Fellows de Harvard. Recibió su doctorado en 1955, después de llevar a cabo la mayor parte de sus investigaciones en laUniversidad de Harvarddurante los cuatro años anteriores. En 1998 recibió elDoctorado honoris causa(lingüística) de laUniversidad Rovira i Virgili.[5]​  Recibió esta misma distinción por parte de laUniversidad Nacional de Colombia[6]​ en 2002, de laUniversidad de Chile[7]​ y de laUniversidad de la Frontera[8]​ en 2006 y de laUniversidad Nacional Autónoma de México[9]​ en 2010.En sutesisdoctoral comenzó a desarrollar algunas de sus ideas en lingüística, elaborándolas luego en su libroEstructuras sintácticas, posiblemente su trabajo más conocido en este campo. Sus planteamientos lingüísticos han revolucionado muchos puntos clave del estudio del lenguaje humano, que se han plasmado en la teoría de laGramática generativa transformacional.Es profesor delMassachusetts Institute of Technology(MIT) desde 1961, donde ocupó la cátedraFerrari P. Wardde Lenguaje Moderno y Lingüística de 1966 a 1976.Su cónyuge fueCarol Schatz, quien murió el 20 de diciembre de 2008.[10]​\n",
      "Tiene dos hijas y un hijo.Contribuciones a la lingüística[editar]En 1957, con solo 29 años, Chomsky revolucionó el campo de la lingüística teórica con la publicación de la obraEstructuras sintácticas, basada en su tesis doctoral ―Estructura lógica de la teoría lingüística―, que no se publicaría hasta 1975. Su efecto sobre las teorías lingüísticas y psicológicas entonces en boga fue demoledor, ya que atacaba los presupuestos centrales tanto delestructuralismocomo de lapsicología conductista. Hasta entonces, se creía que la adquisición del lenguaje, como cualquier otra destreza humana, se producía por medio del aprendizaje y de la asociación. Sin embargo, Chomsky postulaba la existencia de un dispositivo cerebral innato (el «órgano del lenguaje»), que permite aprender y utilizar el lenguaje de forma casi instintiva. Comprobó además que los principios generales abstractos de la gramática son universales en la especie humana y postuló la existencia de unaGramática Universal.LaGramática Universalde Chomsky asegura que el fundamento común de la lenguas humanas es surecursividad, un proceso, habitualmente asociado a la subordinación, que posibilita a un hablante a introducir oraciones en otras oraciones sin límite. Este principio sería el que permitiría a los seres humanos establecer una comunicación rica y compleja para distanciarse, por ejemplo, de los animales. Sin embargo, la teoría de la recursividad de Chomsky se puso en entredicho en el momento en el que el profesorDaniel Everett, después de convivir con la tribu indígena de lospirahã, descubrió presuntamente un idioma nuevo que contradice dicha teoría:el idioma pirahã. Este nuevo idioma, que carecería de numeración, tiempos verbales y colores, se caracterizaría por su simplicidad aunque, a pesar de que tendría una percepción simple y reducida del mundo, cumpliría con las necesidades comunicativas de la tribu. Este descubrimiento es muy controvertido, ya que el propio Everett es la única persona fuera de la tribu capaz de entenderlo.Chomsky denominógramática generativaal conjunto de reglas innatas que permite traducir combinaciones de ideas a combinaciones de un código. Fundamentó la hipótesis, ya existente, de que la gramática es un sistema combinatorio discreto que permite construir infinitas frases a partir de un número finito de elementos mediante reglas diversas que pueden formalizarse. La nueva teoría consideraba que las expresiones (secuencias de palabras) tienen una sintaxis que puede caracterizarse (globalmente) por unagramática formal; en particular, una gramática extendida por normas de transformación. A los niños se les supone un conocimiento innato de la gramática elemental común a todas las lenguas humanas (lo que supone que toda lengua existente es una clase de restricción). Se sostiene que la modelización del conocimiento de la lengua a través de una gramática formal explica la «productividad» de la lengua: con un juego reducido de reglas gramaticales y un conjunto finito de términos, los humanos pueden producir un número infinito de frases, incluidas frases que nadie haya dicho anteriormente.The Principles and Parameters approach(P&P) (Aproximación por principios y parámetros), desarrollada en lasConferenciasde Pisa (1979) y publicada más tarde bajo el títuloLectures on Government and Binding(LGB), retoma mucho de la gramática universal: los principios gramaticales en los que se basan las lenguas son innatos y fijos; las diferencias entre las distintas lenguas en el mundo se pueden caracterizar en términos de parámetros programados en el cerebro (como elparámetro de elisión,pro drop param, que indica cuándo un tema explícito es siempre requerido, como en inglés, o si este puede elidirse, como en español) a menudo comparados a interruptores (de ahí el término deprincipios y parámetrosutilizado para calificar este enfoque). Según esta teoría, un niño que aprende una lengua solo necesita adquirir los elementos léxicos básicos (palabras,morfemasgramaticales yrefranes) y fijar los valores convenientes en los parámetros, lo que puede efectuarse sobre algunos ejemplos clave.Los partidarios de esta concepción ponen como ejemplo que la velocidad con la cual los niños aprenden lenguas es inexplicablemente rápida, algo no posible a menos que tengan una capacidad innata para aprenderlas. La similaridad de las etapas que siguen todos los niños a través del mundo cuando aprenden una lengua, y el hecho de que cometan errores característicos cuando adquieren su primera lengua, mientras que otros tipos de error al parecer lógicos no se producen nunca (y, según Chomsky, estos deberían darse si el mecanismo de aprendizaje utilizado fuese general más que específico de una lengua), se postulan también como un argumento a favor de dicho innatismo.Más recientemente, en suPrograma minimalista(1995), conservando al mismo tiempo el concepto central de «principios y parámetros», Chomsky intenta una revisión importante de las máquinas lingüísticas implicadas en el modelo de LGB, despojándolos de todo excepto de los elementos estrictamente necesarios. Al mismo tiempo, preconiza un enfoque general de la arquitectura de la facultad de la lengua humana, destaca los principios de la economía y la concepción óptima y retorna al enfoquederivacionalde la generación, en oposición con la mayor parte del enfoquerepresentativoclásico del P&P.Chomsky caracterizó la tarea del lingüista mucho mejor que ninguno de sus predecesores y fijó con todo rigor el campo para el estudio científico del lenguaje. Su objetivo nunca fue establecer una teoría especulativa más sobre el lenguaje, sino una explicación rigurosa de su complejidad. La intención era por tanto pasar de una pre-ciencia meramente descriptiva a una ciencia con poder explicativo y predictivo falsable y con construcciones abstractas que permitiesen un riguroso sistema axiomático. Nada ha sido igual desde entonces en el campo del estudio del lenguaje y, por extensión, de la mente humana. La gramática generativa de Chomsky fue la primera evidencia sólida de que la inteligencia humana está basada en dispositivos cerebrales especializados e innatos y eso ha permitido agrupar las ciencias cognitivas. También provocó una enorme escisión epistemológica, que todavía se mantiene, frente a quienes rechazan la concepción modular e innata de la mente y siguen siendo partidarios de un modelo de cerebro comotabla rasa, como por ejemplo los psicólogos que trabajan con procesos deemergenciao las teoríasconexionistas, que consideran la lengua como un caso particular de los procesos generales del cerebro.Teoría de principios y parámetros[editar]Artículos principales:Principios y parámetrosyRección y ligamiento.Chomsky se ocupa de laslenguas naturalespartiendo de unagramática universalpropia de todos los seres humanos, de raíz biológica, de la cual derivan las distintas lenguas de las diversas culturas que han existido en la historia del hombre y que existen aún.La diferencia entre la gramática universal (GU) y las distintas gramáticas particulares (GGPP) radica en que la primera se relaciona con la disposición de un conjunto de principios ―como el «principio de proyección», el «principio de dependencia de la estructura», el «principio de ligamiento», la «teoría del caso», el «criterio temático» y algunos otros―, mientras que las GGPP se vinculan a las múltiples variaciones que pueden hacer las lenguas de los parámetros de esos principios. Un ejemplo de esta variación se da en el «parámetro de los sujetos nulos», que enespañolse puede presentar mientras que eninglésno, como muestra el siguiente ejemplo:En español: «caminó mucho y está muy cansado». En esta oración el sujeto aparece implícito o es de sujeto nulo.En inglés: «he walked a lot and he is very tired». El sujeto nulo no se permite en inglés y es necesario que el sujeto («he») aparezca explicitado dos veces en la oración.Así, las GGPP no son más que combinaciones de elementos finitos que pueden dar lugar a múltiples lenguas e idiomas que en esta teoría son llamadaslengua-I.El sistema encargado de articular estos principios y variar los parámetros es elcerebro humanocon su capacidad desintaxis, que en su sentido amplio adquiere la forma de unsistema computacionalque opera enmódulos. Los módulos responden a una estructura matriz compuesta por tres componentes, dentro de los cuales actúan losprincipios y parámetrosdefinidos como una serie de teorías de lenguaje, conectadas con cuatro módulos centrales: laestructura-P, laestructura-S, laforma fonológica(FF) y laforma lógica(FL). La estructura-P conecta las oraciones con principios, mientras que la estructura-S apela a la transformación o variabilidad que pueden presentar dichas conexiones; además, la FF se vincula con la entonación y sonido de las expresiones lingüísticas ofonologíay la FL se encarga de lasemánticade estas expresiones en relación a su interpretación de sentido y significado.En laestructura-Pse encuentran las primeras relaciones entreléxicoysintaxis, como las relacionessintagmáticasque establecen qué essintagma verbal,sintagma nominal,sintagma adjetivalosintagma preposicional, entre otras relaciones categoriales.Laestructura-Sseñala acciones transformacionales o de parámetro, no solamente de principio como en la estructura-P. Un ejemplo es la operaciónmuévase α, en la que un elemento se mueve en la oración a otra posición. La estructura-S también sirve como conector entre dos módulos que no se relacionan directamente. El primero es laforma fonológica(FF), que se encarga de articular sonidos con formas léxicas a partir de fonemas definidos, como también de establecer las entonaciones de una pregunta o una afirmación, una suposición entre otras acciones ligadas a lo mismo.Por último, la forma lógica, quizás la más compleja de todas, conecta con el ejercicio semántico deinterpretaciónysignificadoen elsentidode un oración en la cual se encuentran a nivelléxicolas redes temáticas y las selecciones S, como modos de organizar la oración según papeles temáticos (tales comoagente,tema,experimentanteobenefactivo) ycategorías gramaticales(tales comoanimadoohumano) respectivamente, para luego dibujar la estructura morfológica de la oración a nivel sintáctico.Estos cuatro módulos entregan una salida (output) que sirve como entrada (input) del siguiente módulo hasta entregar una realizaciónlingüísticau oración en un acto comunicativo.[11]​Véanse también:Principios y parámetrosyRección y ligamiento.Activismo político y posicionamientos[editar]Noam Chomsky en elForo Social Mundialde 2003.Noam Chomsky se interesó por la política a muy temprana edad, estimulado por las lecturas en las librerías de los anarquistas españoles exiliados en Nueva York. A los once años publicó su primer artículo sobre la caída de Barcelona y la expansión del fascismo en Europa.[12]​Su activismo político arranca de la movilización popular contra laGuerra del Vietnam. La participación de Chomsky en esta movilización fue particularmente sorprendente considerando que su propia universidad, MIT,  estaba investigando helicópteros, bombas inteligentes y técnicas de contrainsurgencia para la guerra en Vietnam. Y, como dice Chomsky,  \"se desarrolló una buena cantidad de tecnología de orientación de misiles [nucleares] en el campus del MIT\".[13]​ Como Chomsky también dice, \"aproximadamente el 90% [del MIT] estaba financiado por el Pentágono en ese momento.  Y yo personalmente estaba justo en el medio de eso. Estaba en un laboratorio militar.”[14]​ La oposición de Chomsky a la guerra de Vietnam lo llevó a analizar el papel del mundo académico en la implicación de Estados Unidos en esta guerra. Fruto de este esfuerzo fueron varios artículos compilados en el libroAmerican Power and the New Mandarins(El poder estadounidense y los nuevos mandarines)1969, de entre los cuales destacaLa responsabilidad de los intelectuales(publicado inicialmente en febrero de 1967 enThe New York Review of Books). Desde entonces, ha sido muy conocido por sus ideas políticas deizquierda, que se centran en la lucha por superar el déficit democrático existente de Estados Unidos —es decir, la gran distancia entre las decisiones políticas y la opinión pública—, y en denunciar lasambiciones imperialesdel gobierno de este país en el mundo. En general, se le considera un crítico delcapitalismoy también ha hablado en contra deldarwinismo socialdeHerbert Spencer.Se define a sí mismo como partidario de la tradiciónanarquista, especialmente de la corriente de orientación laboral del anarquismo, elanarcosindicalismo, y es miembro del célebresindicato revolucionarioestadounidenseIWW, al que también perteneció su padre. Pese a ello, no se opone totalmente a la política electoral, al menos en el ámbito de la estrategia: su postura en las elecciones de Estados Unidos es que los ciudadanos deberían votar por losdemócrataslocales si con ello se consigue sacar del poder a losrepublicanos, mientras que en las situaciones donde las victorias republicana o demócrata están claras ha pedido el voto para candidaturas más a la izquierda, como las delPartido Verde. Es uno de los más importantes colaboradores del grupo mediático independienteZ Communications. Esta actuación se inscribe claramente dentro de la tradicional táctica anarcosindicalista de impulsar movilizaciones populares que coaccionen la acción de los poderes públicos y fácticos hasta conseguir cambios concretos y reales (véase el prefacio de Chomsky al libro deRudolf Rocker,Anarcho-Syndicalism: Theory and Practice, 1989).Desde un punto de vista más personal y filosófico, también se considera un conservador de la varianteliberal clásica(Chomsky's Politics, pp. 188) y se ha definido como unsionista; aunque observa que la mayoría considera comoantisionista su definición de sionismo.Percibe un cambio en el significado del sionismo (Chomsky Reader) desde la década de1940. En la misma línea y rescatando su contenido libertario, Chomsky ha declarado su admiración y adhesión alkibutzcomo forma social alternativa.Con el tiempo, se ha convertido en una de las principales figuras de la política radical estadounidense. Junto aJosé SaramagooLeonardo Boff, entre otros, es uno de los principales intelectuales de la izquierda en el mundo, pese a lo cual, a diferencia de su actividad científica, su aportación teórica en el ámbito político no es demasiado relevante. Nunca se ha considerado un teórico en política, sino simplemente un ciudadano informado que mantiene una actitud muycríticahacia la ideología dominante. Chomsky cree que, mientras la actividad científica no está al alcance de cualquiera (ya que exige una formación y una abstracción conceptual muy elevada), para la actividad de crítica política basta una cierta apertura de espíritu. Ha reiterado a menudo que la política debería ser cosa de todos y no dejarse en manos de laintelligentsia, ni mucho menos aceptar que solo los profesionales de la política (sean periodistas, intelectuales o políticos) sean los únicos capacitados para opinar sobre política.Uno de sus principales aportes intelectuales ha sido el análisis de los medios de comunicación. En sus estudios sobre el tema se ha ocupado de los enfoques sesgados, o incluso engañosos, que hay detrás de la supuesta neutralidad de los medios más prestigiosos. Se trata de un trabajo de «contrainformación» que ha obtenido gran difusión y que muchos otros han continuado. Fruto de este esfuerzo es el libroLos guardianes de la libertad,escrito junto conEdward S. Herman, profesor de laUniversidad de Pensilvania.Su denuncia de la política exterior deEstados Unidos, de las deficiencias democráticas de su maquinaria política, y de los engaños de los grandes medios de comunicación en este país, supone poner en duda tres de los pilares del nacionalismo estadounidense. Por otro lado, su visión sobre la política del estado israelí en Oriente Medio es parte de su crítica a la política exterior de Estados Unidos. Chomsky señala que desde hace años la maquinaria militar israelí depende enormemente del apoyo material y diplomático de Estados Unidos, y que ambos estados realizan sistemáticamente acciones violentas al margen de las leyes internacionales. Esta última circunstancia ha motivado que Chomsky declare que según los criterios internacionales actuales, ambos estados ejercen el terrorismo. En concreto en su libro11/09/2001, afirma que los Estados Unidos es «uno de los principales estados terroristas» («a leading terrorist state»). Noam Chomsky lo publicó en diciembre del 2001, tres meses después de lo sucedido en Nueva York. Es un ensayo sobre los hechos y las consecuencias de los atentados del 11 de septiembre. Se basa en una estructura de siete largas entrevistas de periodistas extranjeros durante el primer mes y medio posterior a los ataques al World Trade Center y al Pentágono. No analiza únicamente las causas, las consecuencias de los atentados y la reacción del pueblo norteamericano, sino que cuestiona las razones de la guerra y los bombardeos. En este libro Chomsky refleja de nuevo su visión crítica con el poder y la industria militar.A raíz de estas denuncias, varios detractores de Chomsky lo han tildado de antiestadounidense. Algunos incluso han comprendido sus críticas como una supuesta obsesión antiestadounidense y antisionista. Para algunos nacionalistas, es especialmente controvertida su crítica a la política del gobierno de Israel, por su origen judío. También ha sido polémico su apoyo a la libertad de expresión en los que se conoce como elescándalo Faurisson. En la década de 1970,Robert Faurissonrealizaría un estudio y escribiría un libro en el cual concluye que muchos de los acontecimientos del holocausto ( como las cámaras de gas) no existieron realmente. Chomsky firmaría una petición para garantizar a las autoridades la libertad de expresión, aclarando que él mismo no compartía el punto de vistanegacionista, pero que no reconocía expresiones antisemitas en el trabajo de Faurisson. Chomsky califica al holocausto comola peor muestra de locura colectiva en la historia de la humanidad, pero considera fundamental garantizar la defensa de la libertad de expresión, incluso para aquellas ideas popularmente mal vistas. Por último, destaca la crítica que hace de la izquierdaposmodernay de su entusiasmo por elrelativismo culturalque, aldeconstruirla noción de verdad, ha invalidado también la posibilidad de la crítica.[cita requerida]Chomsky ha pedido a EE. UU. y a Canadá levantar sanciones económicas impuestas a Venezuela[15]​ .En cuanto a España, en 2009 firmó un manifiesto de apoyo a la candidatura a las elecciones europeas de la formación políticaIzquierda Anticapitalista,[16]​ y en 2014 en apoyo de la formación políticaPodemos.[17]​ En el 2018, Chomsky, junto con más de 100 académicos de 19 países, pidió en una carta la \"puesta en libertad inmediata\" de los políticos catalanes encarcelados en España por participar en la declaración de independencia de Cataluña.Desde 2009 es miembro honorario deAIPTI.[18]​Antiglobalización económica de Chomsky[editar]Chomsky es uno de los detractores de la globalización, y esto se debe a su forma de entender la hegemonía del capitalismo moderno. Para Chomsky, Estados Unidos no cree en el libre comercio sino que lo utiliza como un método mediante el cual los países más fuertes imponen a los países pobres la obligación de cumplir unas normas coercitivas y rígidas (laley del embudo).El objetivo básico de la globalización económica es globalizar toda la economía mundial, y Estados Unidos controlaría la economía mundial con el apoyo de los organismos satélites (Fondo Monetario, Banco Mundial, Organización Mundial del Comercio).\n",
      "El argumento habitual a favor del libre comercio liberalizado es que conducirá a un aumento generalizado de los niveles de vida. La experiencia ha demostrado que con la apertura de los mercados comerciales y financieros los inversores y empresarios han ganado mucho más dinero, pero gran parte de los países más pobres han sido las víctimas de un descenso pronunciado de sus niveles de vida.Según precisa Noam Chomsky:Para la mayor parte de la población, incluso en un país tan rico como EE. UU., los sueldos se han estancado o han descendido a lo largo de los últimos 25 años, mientras que el horario y la inseguridad laboral han crecido mucho [...] La economía mundial ha descendido en el mismo periodo de tiempo (de forma considerable) [...] para una gran parte de la población mundial, las condiciones son horrorosas y a menudo se deterioran, y, lo que es más importante,[...] la correlación entre el crecimiento económico y el bienestar social que a menudo se ha dado (por ejemplo, durante la posguerra o la preliberalización) se ha truncado.[19]​Sus afirmaciones políticas le han concitado un gran número de simpatizantes, en amplios sectores de laizquierda, especialmente europea y latinoamericana, y también algunos detractores. Su libro11 de septiembre(9/11) tuvo una gran difusión, pese a haber sido publicado por una pequeña editorial. Solo la edición de este libro en inglés vendió centenares de miles ejemplares, y ha sido traducido a varias lenguas. Posteriormente, su libroHegemonía o supervivencia: la búsqueda estadounidense del dominio globalfue recomendado por el presidente deVenezuelaHugo Chávezen su discurso frente a la asamblea general de laONUel día 20 de septiembre de 2006, lo que ocasionó que dicho libro, en aproximadamente dos días, pasase del puesto 160.772, al número 2 de los libros más vendidos enAmazon.[20]​Perspectiva sobre el ateísmo, la ciencia y la religión[editar]En diversas ocasiones se le ha preguntado a Chomsky si tiene unapostura religiosao esateo, a lo cual él respondió en una ocasión:Soy lo que aquí se llama un «ateo secular», excepto que ni siquiera puedo decir que soy un «ateo» porque no está del todo claro lo que se me pide negar.[21]​En una discusión conLawrence KraussySean M. Carrollen el 2006, Chomsky dio una respuesta similar:De hecho, yo ni siquiera sé lo que es un ateo. Cuando la gente me pregunta si soy ateo, tengo que preguntarles a qué se refieren. ¿Qué es lo que se supone que no tengo que creer? Hasta que no puedas responder a esa pregunta, no puedo decir si soy ateo, y la cuestión no se plantea. [...] No veo cómo uno puede ser un agnóstico cuando uno no sabe qué es lo que se supone que uno cree, o rechaza [creer]».Chomsky (2006),Science in the Dock[22]​Adicionalmente, Chomsky ha reconocido los límites de larazón humana,[23]​ y claramente ha rechazado elcientificismo(la idea de que la ciencia lo puede explicar todo):En los problemas comunes de la vida humana, la ciencia nos dice muy poco, y los científicos, como personas, sin duda no son ninguna guía. De hecho, son a menudo la peor guía, ya que a menudo tienden a concentrarse, como un láser, en sus propios intereses profesionales, y saben muy poco sobre el mundo.The Reality Club: Beyond Belief[21]​La ciencia estudia lo que está al margen de la comprensión, y lo que al margen de la comprensión suele ser bastante simple. Y rara vez llega a los asuntos humanos. Los asuntos humanos son demasiado complicados [...] así que las ciencias reales nos dicen casi nada sobre los asuntos humanos.Science in the Dock (2006)[24]​Por otra parte, Chomsky ha dejado claro que su postura no esantirreligiosa, pues como analista social, al igual que muchos otros autores, ha reconocido que hay una diferenciación radical entre elcristianismo de los evangeliosen contraste con el de la mayor parte de los gobiernos y organizaciones religiosas:Hay unahistoria del cristianismo; los tres primeros siglos del cristianismo: era una religiónpacifistaradical, razón por la cual fueperseguida: era lareligiónde lospobresy los que sufrían;Jesúsera el símbolo de lospobresy los que sufrían, y ahí está la encrucijada. En el siglo IV fue tomada por elImperio romano... que convirtió a laIglesiaen la religión de los persecutores.Chomsky (2010)[25]​Jesúsmismo, y la mayor parte del mensaje de los Evangelios, es un mensaje de servicio a lospobres, una crítica de los ricos y los poderosos, y una doctrinapacifista, y se mantuvo así, así es como el cristianismo estaba... hasta Constantino.: Constantino lo cambió, así que la cruz, que era el símbolo de la persecución de alguien que trabaja para los pobres, se puso en el escudo delImperio Romano. Se convirtió en el símbolo de la violencia y la opresión, que es más o menos lo que la Iglesia ha sido hasta el presente.Science & Technology News, marzo 1, 2006Además, ha hablado favorablemente de lateología de la liberación[25]​ y ha reconocido la labor de movimientos que han tratado de restaurar y rescatar los principios delcristianismo primitivo:De hecho, es bastante notable en los últimos años, que elementos de la Iglesia, en particular obispos latinoamericanos, pero no sólo ellos, han tratado de volver a los Evangelios.[26]​Libros publicados[editar]Lingüística[editar]1955:Logical Structure of Linguistic Theory(es su tesis doctoral, inédita hasta 1975).1957:Syntactic Structures(Estructuras sintácticas, Buenos Aires, Siglo XXI, 1999).1965:Aspects of the Theory of Syntax(Aspectos de la teoría de la sintaxis, Barcelona, Gedisa, 1999).1965:Cartesian Linguistics(Lingüística cartesiana, Madrid, Gredos, 1972).1968:Language and Mind(El lenguaje y el entendimiento, Barcelona, Seix-Barral, 1977).1968:Sound Pattern of English(con Morris Halle).1970:Current Issues in Linguistic Theory.1972:Studies in Semantics in Generative Grammar.1975:Reflections on Language(Reflexiones sobre el lenguaje, Barcelona, Ariel, 1979).1977:Langue, linguistique, politique: dialogues avec Mitsou Ronat(Conversaciones con Noam Chomsky, Barcelona, Gedisa, 1999). Presentación ordenada temática y cronológicamente de las ideas científicas y políticas de Chomsky.1977:Essays on Form and Interpretation(Ensayos sobre forma e interpretación, Madrid, Cátedra, 1982).1980:Rules and Representations(Reglas y representaciones, México,FCE, 1983).1981:Lectures on Government and Binding: The Pisa Lectures.1984:Modular Approaches to the Study of Mind.1986:Barriers(Barreras, Barcelona, Paidós, 1990).1986:Knowledge of Language: Its Nature, Origin, and Use. (El conocimiento del lenguaje, su naturaleza, origen y uso, Madrid, Alianza, 1989).1995:The Minimalist Program(El programa minimalista, Madrid, Alianza, 1999).Política[editar]1969:American Power and the New Mandarins(New York, Vintage Books-Random House. Segunda edición revisada: New York, New Press, 2002).1970:El Gobierno en el Futuro.1984:La segunda guerra fría(Barcelona, Crítica, 1984).1988:La quinta libertad(Barcelona, Crítica, 1988).1987:On Power and Ideology. The Managua Lectures.1990:Los guardianes de la libertad(Noam Chomsky; Edward S. Herman, Barcelona, Crítica, 1990, 1995, 2000).1992:La conquista continúa: 500 años de genocidio imperialista(28020 Madrid 1992 / (C) Terramar Ediciones. Plaza Italia 187. 1900 La Plata, Argentina. Nov. 2007).1992:El miedo a la democracia(Barcelona, Crítica, 1992, 1997, 2001).1992:Ilusiones necesarias.Control del pensamiento en las sociedades democráticas((C) Libertarias/Prodbufi, S.A. C. Lérida, 80-82, 28020 Madrid, Tetuán, 1992).1995:Cómo nos venden la moto(Noam Chomsky eIgnacio Ramonet, Barcelona, Icaria, 1995).1996:Cómo se reparte la tarta. Políticas USA al final del milenio(Barcelona, Icaria, 1996).1997:La Aldea Global(Noam Chomsky yHeinz Dieterich, Nafarroa, Txalaparta, 1997).1997:Lucha de clases(Barcelona, Crítica, 1997).1997:El nuevo Orden mundial (y el viejo)(Barcelona, Crítica, 1997, 2002).2000:Actos de agresión(Barcelona, Crítica, 2000).2000:El beneficio es lo que cuenta(Barcelona, Crítica, 2000).2001:Perspectivas sobre el poder(Barcelona, El Roure Ciencia, 2001).2001:La (Des)Educación(Barcelona, Crítica, 2001).2002:11/09/2001(Barcelona, RBA, 2002) 142p.2002:La Propaganda y la opinión pública(Barcelona, Crítica, 2002).2003:El triángulo fatal(Madrid, Editorial Popular, 2003).2003:Lucha de clases(Barcelona, Editorial Crítica, 2003).2003:La cultura del terrorismo(Madrid, Editorial Popular, 2003).2004:Ilusiones de Oriente Medio(Madrid, Editorial Popular, 2004).2004:Piratas y emperadores(Madrid, Ediciones B, 2004).2005:Hegemonía o supervivencia. La estrategia imperialista de EEUU(Barcelona, Ediciones B, 2005).2006:La naturaleza humana: justicia versus poder, debate conMichel Foucault(Buenos Aires y Madrid, Katz Barpal Editores, 2006,ISBN 84-935187-2-7).2007:Estados fallidos. El abuso de poder y el ataque a la democracia(Barcelona, Ediciones B, 2007).2008:Intervenciones(Haymarket Books, 2008).2008:Sobre el anarquismo(Editorial Laetoli, 2008).2008:Líbano, desde dentro(Barcelona, Editorial Hacer, 2008).2010:Esperanzas y realidades(Barcelona, Tendencias, 2010).2011:Gaza en crisis. Reflexiones sobre la guerra de Israel contra los palestinos(conIlan Pappé) (Madrid, Taurus, 2011).2012:Ilusionistas. (Madrid, Irreverentes, 2012,ISBN 978-84-15353-46-1).2013:Razones para la anarquía(Barcelona, Editorial Malpaso, 2013,ISBN 978-84-15996-47-7).2016:¿Quién domina el mundo?(Barcelona, Ediciones B, 2016,ISBN 978-84-666-5988-8).2017:Réquiem por el sueño americano(Madrid, Editorial Sexto Piso, 2017,ISBN 978-84-16677-50-4)Artículos en línea[editar]Chomsky, Noam (2010):«China y el nuevo orden mundial»[1], artículo publicado en el diarioPúblico(Madrid).Chomsky, Noam (2010):«China y el nuevo orden mundial»[2], artículo publicado en el diarioPúblico(Madrid).Chomsky, Noam (2010):«Indignación errónea en las elecciones de Estados Unidos», artículo publicado en el diarioPúblico(Madrid).Chomsky, Noam:Diversos artículos de opiniónpublicados en el diario venezolanoÚltimas Noticias.Obra sobre Chomsky[editar]Calvin, William H;Bickerton, Derek(2001).Lingua ex machina: la conciliación de las teorías de Darwin y Chomsky sobre el cerebro humano (Lingua ex machina, 2000).Fernández Aúz, Tomás(trad.) (1ª ed, edición). Barcelona: Gedisa. pp. 359 págs.ISBN84-7432-849-7.La referencia utiliza el parámetro obsoleto|coautores=(ayuda)Cogswell, David;Gordon, Paul(2003). [Vista incompleta en google booksChomsky para principiantes].Leandro Wolfson(trad.) (2ª ed, edición). Longseller. pp. 160 págs.ISBN9789879065389.La referencia utiliza el parámetro obsoleto|coautores=(ayuda)Miranda Alonso, Tomás(2006).Arquitectura de la mente según Noam Chomsky. Siglo XXI. pp. 200 págs.ISBN9788432312205.Smith, Neil(2001).Chomsky: Ideas e ideales.Fuentes, Izaskun(trad.). Barcelona:Cambridge University Press. pp. 368 págs.ISBN9788483231203.Lorenzo González, Guillermo(2001).Comprender a Chomsky: introducción y comentarios a la filosofía chomskyana sobre el lenguaje y la mente. A. Machado Libros. pp. 201 págs.ISBN84-7774-883-7.Barsky, Robert F.(2005).[http://web.archive.org/web/http://cognet.mit.edu/library/books/chomsky/chomsky/contents.html Noam Chomsky: una vida de discrepancia]. Península. pp. 286 págs.ISBN9788483076767.Knight, Chris(2016).Decoding Chomsky: Science and revolutionary politics. Yale University Press.Véase también[editar]AttacJerarquía de ChomskyGramática transformacionalProblema de OrwellEscándalo FaurissonModelo de Propaganda de los medios de comunicaciónConsenso manufacturadoAnarquismo en Estados UnidosColorless green ideas sleep furiouslyNotas[editar]↑Kanan Makiya, Fouad Moughrabi, Adel Safty, Rex Brynen,\"Letters to the Editor\" inJournal of Palestine Studies,Journal of Palestine StudiesviaJSTOR(Vol. 23, No. 4, verano de 1994, pp. 196–200), visto 4 de diciembre de 2007. Relevant quotation: \"On page 146 of my book, I clearly adoptthe propaganda model developed by Noam Chomskyand Edward Herman...\"↑Edgley, Alison (1999).«Chomsky's Libertarian Socialism»(en inglés). Archivado desdeel originalel 27 de junio de 2009.↑The Chomsky Problem(en inglés). The New York Times (25-2-1979).↑Sáenz, Mauricio (Diciembre de 2006).«Noam Chomsky».Arcadia(15). Consultado el 13 de junio de 2011., citando aBarsky, Robert F (2005).Noam Chomsky, una vida de discrepancia. Península.ISBN9788483076767.↑País, Ediciones El (31 de octubre de 1998).«Chomsky reclama una Universidad subversiva en su discurso de investidura».EL PAÍS. Consultado el 5 de febrero de 2016.↑Resolución número 34 de 2002 del Consejo Superior Universitario de laUniversidad Nacional de Colombia↑http://www.lanacion.cl/noticias/site/artic/20061018/pags/20061018174006.html↑Noticias.universia.cl.«Universidad de La Frontera condecora con Honoris Causa a Noam Chomsky».Noticias Universia Chile. Consultado el 10 de diciembre de 2016.↑«UNAM otorga doctorados honoris causa a figuras de la ciencia y humanidad».Expansión. Consultado el 10 de diciembre de 2016.↑«Carol Chomsky, 78, linguist and educator, dies», artículo del 21 de diciembre de 2008 en el diarioNew York Times(Estados Unidos).↑Fernández Lagunilla, Marina; Anula Rebollo, Alberto (2004).Sintaxis y cognición: introducción a la gramática generativa. Madrid: Síntesis.ISBN 84-9756-170-8.↑“Sin azúcar: conversacipnes con Noam ChomslkyEl Huffington Post,Jorge Majfudmayo 2016↑Michael Albert, ‘’Remembering Tomorrow’’, p97-99; C.P.Otero, ‘’Noam Chomsky: Language and Politics’’, p247;'MIT may be dangerous to the world', ‘’The Tech’’, 28/4/72, p5.↑G.D.White, ‘’Campus Inc.’’, p445.↑César Levano. En su columna deUno, diario de Lima, 25 de marzo de 2018↑Público.es: Elecciones al Parlamente europeo. Chomsky, Loach y Zizek: arietes anticapitalistas.[1]↑Chomsky, Galeano, Negri y otros intelectuales firman un manifiesto de apoyo a Podemos↑Noam Chomsky, miembro honorario de AIPTI↑Véase Video en Transnational Justice Center↑The most popular items on Amazon.com(en inglés)↑abhttp://www.edge.org/discourse/bb.html#chomsky↑Science in the Dock. Discusión con Noam Chomsky, Lawrence Krauss & Sean M. Carroll Science & Technology News, 1 de marzo, 2006↑http://www.chomsky.info/interviews/198311--.htmEntrevista a Chomsky por John Gliedman Omni, 6:11, Noviembre 1983↑http://www.chomsky.info/debates/20060301.htm↑abhttp://www.youtube.com/watch?v=SNDG7ErY-k4&feature=relatedChomsky on Religion (2010)↑ÍdemEnlaces externos[editar]Wikimedia Commonsalberga una categoría multimedia sobreNoam Chomsky.Wikiquotealberga frases célebres de o sobreNoam Chomsky.En inglés[editar]De Chomsky:Sitio web(en inglés).Artículos de Noam ChomskyenThe Guardian.Perfilen el MIT.(en inglés).Noam Chomsky: A life of dissent, biografía completa(en inglés).The Noam Chomsky Archive(en inglés).En español[editar]Noam Chomsky es Presidente de honor del Consejo Editorial de la revista de prensa digital CTXT.[2][3][4][5][6][7][8][9][10]Noam Chomsky - BiografíaNoam Chomsky – El pensamientoDocumentos de Noam ChomskyArtículos y libros críticos hacia el autorEntrevista en Señales de HumoRespuestas a Chomsky en relación al lenguaje«Noam Chomsky, el incómodo susurro de la conciencia occidental», reseña deIlusionistasen el periódicoThe Huffington Post, y adelanto de un capítulo del libro en castellano[11]Noam Chomsky tiene una aterradora advertencia sobre Donald Trump, sitio digital 'Clarín', 16 de noviembre de 2016Control de autoridades:Q9049WorldCatVIAF:89803084ISNI:0000 0001 2143 0999BNA:000047047BNE:XX849732BNF:11896756j(data)CANTIC:a10065660GND:118520520LCCN:n79104267NDL:00435949NKC:jn19990003846CiNii:DA0040532XSNAC:w6gb266jSUDOC:026787865ULAN:500288286BIBSYS:90052767MGP:82231ICCU:IT\\ICCU\\CFIV\\103508Leopoldina:145Open Library:OL31676APersée:180651Dialnet:269259Google Académico:rbgNVw0AAAAJObtenido de «https://es.wikipedia.org/w/index.php?title=Noam_Chomsky&oldid=109581837»Categorías:HombresNacidos en 1928Noam ChomskyDoctores honoris causa de la Universidad de ChileMiembros de la LeopoldinaDoctores honorarios por la Universidad de UpsalaDoctores honoris causa por la Universidad Rovira i VirgiliGraduados honorarios de la Universidad de Ontario OccidentalJudíos antisionistasCategorías ocultas:Wikipedia:Páginas con enlaces mágicos de ISBNWikipedia:Artículos destacados en la Wikipedia en búlgaroWikipedia:Artículos destacados en la Wikipedia en francésWikipedia:Artículos destacados en la Wikipedia en latínPersonas vivasWikipedia:Artículos con pasajes que requieren referenciasWikipedia:Páginas con referencias con parámetros obsoletosWikipedia:Artículos con plantilla The GuardianWikipedia:Control de autoridades con 23 elementosWikipedia:Artículos con identificadores VIAFWikipedia:Artículos con identificadores ISNIWikipedia:Artículos con identificadores BNAWikipedia:Artículos con identificadores BNEWikipedia:Artículos con identificadores BNFWikipedia:Artículos con identificadores CANTICWikipedia:Artículos con identificadores GNDWikipedia:Artículos con identificadores LCCNWikipedia:Artículos con identificadores SNACWikipedia:Artículos con identificadores ULANWikipedia:Artículos con identificadores BIBSYSWikipedia:Artículos con identificadores SBNWikipedia:Artículos con identificadores LeopoldinaWikipedia:Artículos con identificadores Open LibraryWikipedia:Artículos con identificadores PerséeWikipedia:Artículos con identificadores DialnetWikipedia:Artículos con identificadores Google AcadémicoMenú de navegaciónHerramientas personalesNo has accedidoDiscusiónContribucionesCrear una cuentaAccederEspacios de nombresArtículoDiscusiónVariantesVistasLeerEditarVer historialMásBuscarNavegaciónPortadaPortal de la comunidadActualidadCambios recientesPáginas nuevasPágina aleatoriaAyudaDonacionesNotificar un errorImprimir/exportarCrear un libroDescargar como PDFVersión para imprimirEn otros proyectosWikimedia CommonsWikiquoteHerramientasLo que enlaza aquíCambios en enlazadasSubir archivoPáginas especialesEnlace permanenteInformación de la páginaElemento de WikidataCitar esta páginaEn otros idiomasAfrikaansAlemannischአማርኛAragonésÆngliscالعربيةمصرىAsturianuAzərbaycancaتۆرکجهБашҡортсаŽemaitėškaБеларускаяБеларуская (тарашкевіца)‎Българскиभोजपुरीবাংলাབོད་ཡིགBrezhonegBosanskiБуряадCatalàНохчийнکوردیČeštinaСловѣньскъ / ⰔⰎⰑⰂⰡⰐⰠⰔⰍⰟCymraegDanskDeutschΕλληνικάEnglishEsperantoEestiEuskaraEstremeñuفارسیSuomiFrançaisGaeilgeGàidhligGalegoگیلکیગુજરાતીעבריתहिन्दीFiji HindiHrvatskiMagyarՀայերենInterlinguaBahasa IndonesiaIlokanoIdoÍslenskaItaliano日本語La .lojban.Basa JawaქართულიҚазақшаಕನ್ನಡ한국어कॉशुर / کٲشُرKurdîLatinaLëtzebuergeschLimburgsLietuviųLatviešuMalagasyМакедонскиമലയാളംМонголमराठीBahasa MelayuNederlandsNorsk nynorskNorskOccitanИронਪੰਜਾਬੀPolskiPiemontèisپنجابیپښتوPortuguêsRomânăРусскийРусиньскыйSarduScotsDavvisámegiellaSrpskohrvatski / српскохрватскиSimple EnglishSlovenčinaSlovenščinaShqipСрпски / srpskiBasa SundaSvenskaKiswahiliதமிழ்తెలుగుไทยTürkçeТатарча/tatarçaУкраїнськаاردوOʻzbekcha/ўзбекчаTiếng ViệtVolapükWinaray吴语მარგალურიייִדישYorùbá中文Bân-lâm-gú粵語Editar enlacesSe editó esta página por última vez el 28 jul 2018 a las 10:46.El texto está disponible bajo laLicencia Creative Commons Atribución Compartir Igual 3.0;\n",
      "pueden aplicarse cláusulas adicionales. Al usar este sitio, usted acepta nuestrostérminos de usoy nuestrapolítica de privacidad.Wikipedia® es una marca registrada de laFundación Wikimedia, Inc., una organización sin ánimo de lucro.Normativa de privacidadAcerca de WikipediaLimitación de responsabilidadDesarrolladoresDeclaración de cookiesVersión para móviles(window.RLQ=window.RLQ||[]).push(function(){mw.config.set({\"wgPageParseReport\":{\"limitreport\":{\"cputime\":\"0.664\",\"walltime\":\"0.832\",\"ppvisitednodes\":{\"value\":2979,\"limit\":1000000},\"ppgeneratednodes\":{\"value\":0,\"limit\":1500000},\"postexpandincludesize\":{\"value\":75484,\"limit\":2097152},\"templateargumentsize\":{\"value\":9936,\"limit\":2097152},\"expansiondepth\":{\"value\":19,\"limit\":40},\"expensivefunctioncount\":{\"value\":22,\"limit\":500},\"unstrip-depth\":{\"value\":0,\"limit\":20},\"unstrip-size\":{\"value\":20800,\"limit\":5000000},\"entityaccesscount\":{\"value\":23,\"limit\":400},\"timingprofile\":[\"100.00%  659.625      1 -total\",\" 49.80%  328.517      1 Plantilla:Ficha_de_persona\",\" 28.16%  185.778      1 Plantilla:NF\",\" 26.98%  177.940      1 Plantilla:Control_de_autoridades\",\"  7.10%   46.866      1 Plantilla:Listaref\",\"  5.42%   35.772      8 Plantilla:Cita_libro\",\"  5.00%   32.959      5 Plantilla:Y-e\",\"  4.78%   31.524      9 Plantilla:Reemplazar\",\"  3.76%   24.825      1 Plantilla:Gentilicio\",\"  3.50%   23.070      3 Plantilla:Desenlazar\"]},\"scribunto\":{\"limitreport-timeusage\":{\"value\":\"0.410\",\"limit\":\"10.000\"},\"limitreport-memusage\":{\"value\":7478832,\"limit\":52428800}},\"cachereport\":{\"origin\":\"mw1287\",\"timestamp\":\"20180728104539\",\"ttl\":1900800,\"transientcontent\":false}}});mw.config.set({\"wgBackendResponseTime\":85,\"wgHostname\":\"mw1270\"});});\n"
     ]
    }
   ],
   "source": [
    "print(text)"
   ]
  },
  {
   "cell_type": "code",
   "execution_count": 0,
   "metadata": {
    "colab": {},
    "colab_type": "code",
    "id": "P8CSwadakt4d"
   },
   "outputs": [],
   "source": [
    "import textacy.extract\n",
    "\n",
    "tokens=nlp(text)"
   ]
  },
  {
   "cell_type": "code",
   "execution_count": 0,
   "metadata": {
    "colab": {},
    "colab_type": "code",
    "id": "I-j1JhkDk6OT"
   },
   "outputs": [],
   "source": [
    "#funcion para sacar los bigramas con frecuencias\n",
    "\n",
    "bigramas=textacy.extract.noun_chunks(tokens, min_freq=2)"
   ]
  },
  {
   "cell_type": "code",
   "execution_count": 99,
   "metadata": {
    "colab": {
     "base_uri": "https://localhost:8080/",
     "height": 32
    },
    "colab_type": "code",
    "executionInfo": {
     "elapsed": 518,
     "status": "ok",
     "timestamp": 1532776296582,
     "user": {
      "displayName": "Antonio Bravo Muñoz",
      "photoUrl": "//lh5.googleusercontent.com/-I0fIeuNLzog/AAAAAAAAAAI/AAAAAAAAAAs/MDZ3MDDdQoQ/s50-c-k-no/photo.jpg",
      "userId": "117007621637238690901"
     },
     "user_tz": -120
    },
    "id": "a6eKqvDVk6UZ",
    "outputId": "19010e3a-3300-4048-a441-0a6aee700613"
   },
   "outputs": [
    {
     "data": {
      "text/plain": [
       "generator"
      ]
     },
     "execution_count": 99,
     "metadata": {
      "tags": []
     },
     "output_type": "execute_result"
    }
   ],
   "source": [
    "#bigramas no es un objeto tipo lista, es un generator.\n",
    "type(bigramas)"
   ]
  },
  {
   "cell_type": "code",
   "execution_count": 0,
   "metadata": {
    "colab": {},
    "colab_type": "code",
    "id": "lipwax9ck6SK"
   },
   "outputs": [],
   "source": [
    "#Tenemos que usar funciones especiales\n",
    "bigramas_txt=map(str,bigramas)\n",
    "bigramas_txt=map(str.lower,bigramas_txt)"
   ]
  },
  {
   "cell_type": "code",
   "execution_count": 112,
   "metadata": {
    "colab": {
     "base_uri": "https://localhost:8080/",
     "height": 214
    },
    "colab_type": "code",
    "executionInfo": {
     "elapsed": 486,
     "status": "ok",
     "timestamp": 1532776717802,
     "user": {
      "displayName": "Antonio Bravo Muñoz",
      "photoUrl": "//lh5.googleusercontent.com/-I0fIeuNLzog/AAAAAAAAAAI/AAAAAAAAAAs/MDZ3MDDdQoQ/s50-c-k-no/photo.jpg",
      "userId": "117007621637238690901"
     },
     "user_tz": -120
    },
    "id": "xmetzaWflu91",
    "outputId": "e8ec071a-c3c1-429e-f4b7-e2b3dcadae28"
   },
   "outputs": [
    {
     "name": "stdout",
     "output_type": "stream",
     "text": [
      "noam chomsky\n",
      "ediciones b\n",
      "distintas lenguas\n",
      "editorial popular\n",
      "siglo xxi\n",
      "estados unidos\n",
      "universidad rovira\n",
      "the dock\n",
      "nueva york\n",
      "mayor parte\n",
      "pese a\n",
      "nuevo orden\n"
     ]
    }
   ],
   "source": [
    "#imprimimos\n",
    "for bigr in set(bigramas_txt):\n",
    "  if len(bigr.split(\" \"))>1:\n",
    "    print(bigr)"
   ]
  },
  {
   "cell_type": "code",
   "execution_count": 0,
   "metadata": {
    "colab": {},
    "colab_type": "code",
    "id": "Wt5WwI0FmTIH"
   },
   "outputs": [],
   "source": []
  },
  {
   "cell_type": "code",
   "execution_count": 0,
   "metadata": {
    "colab": {},
    "colab_type": "code",
    "id": "StW9JAa4nZwN"
   },
   "outputs": [],
   "source": []
  },
  {
   "cell_type": "code",
   "execution_count": 0,
   "metadata": {
    "colab": {},
    "colab_type": "code",
    "id": "DN8MDJTEnZ0F"
   },
   "outputs": [],
   "source": [
    "#UN POCO DE NLTK (Natural Lenguage Tool)\n",
    "#como entrenar un etiquetador morfológico (basado en reglas)"
   ]
  },
  {
   "cell_type": "markdown",
   "metadata": {
    "colab_type": "text",
    "id": "sCRumzC3noRx"
   },
   "source": [
    "## UN POCO DE NLTK (Natural Lenguage Tool)\n",
    "como entrenar un etiquetador morfológico (basado en reglas)"
   ]
  },
  {
   "cell_type": "code",
   "execution_count": 113,
   "metadata": {
    "colab": {
     "base_uri": "https://localhost:8080/",
     "height": 49
    },
    "colab_type": "code",
    "executionInfo": {
     "elapsed": 2572,
     "status": "ok",
     "timestamp": 1532776883008,
     "user": {
      "displayName": "Antonio Bravo Muñoz",
      "photoUrl": "//lh5.googleusercontent.com/-I0fIeuNLzog/AAAAAAAAAAI/AAAAAAAAAAs/MDZ3MDDdQoQ/s50-c-k-no/photo.jpg",
      "userId": "117007621637238690901"
     },
     "user_tz": -120
    },
    "id": "9VbQ8vFRnfgL",
    "outputId": "8a824bc7-b7c8-49e0-dad7-96204ce5d900"
   },
   "outputs": [
    {
     "name": "stdout",
     "output_type": "stream",
     "text": [
      "Requirement already satisfied: nltk in /usr/local/lib/python3.6/dist-packages (3.2.5)\n",
      "Requirement already satisfied: six in /usr/local/lib/python3.6/dist-packages (from nltk) (1.11.0)\n"
     ]
    }
   ],
   "source": [
    "!pip3 install nltk"
   ]
  },
  {
   "cell_type": "code",
   "execution_count": 0,
   "metadata": {
    "colab": {},
    "colab_type": "code",
    "id": "3Q81ZEHPnxia"
   },
   "outputs": [],
   "source": [
    "import nltk"
   ]
  },
  {
   "cell_type": "code",
   "execution_count": 0,
   "metadata": {
    "colab": {},
    "colab_type": "code",
    "id": "HNPHUxf6n0Kt"
   },
   "outputs": [],
   "source": [
    "#nltk.download() esto es para ver la lista que se pueden descargar"
   ]
  },
  {
   "cell_type": "code",
   "execution_count": 119,
   "metadata": {
    "colab": {
     "base_uri": "https://localhost:8080/",
     "height": 82
    },
    "colab_type": "code",
    "executionInfo": {
     "elapsed": 615,
     "status": "ok",
     "timestamp": 1532776985967,
     "user": {
      "displayName": "Antonio Bravo Muñoz",
      "photoUrl": "//lh5.googleusercontent.com/-I0fIeuNLzog/AAAAAAAAAAI/AAAAAAAAAAs/MDZ3MDDdQoQ/s50-c-k-no/photo.jpg",
      "userId": "117007621637238690901"
     },
     "user_tz": -120
    },
    "id": "AmDImyi8n3B_",
    "outputId": "50c6db1e-80c0-45bf-a27d-2b015dc83637"
   },
   "outputs": [
    {
     "name": "stdout",
     "output_type": "stream",
     "text": [
      "[nltk_data] Downloading package averaged_perceptron_tagger to\n",
      "[nltk_data]     /content/nltk_data...\n",
      "[nltk_data]   Unzipping taggers/averaged_perceptron_tagger.zip.\n"
     ]
    },
    {
     "data": {
      "text/plain": [
       "True"
      ]
     },
     "execution_count": 119,
     "metadata": {
      "tags": []
     },
     "output_type": "execute_result"
    }
   ],
   "source": [
    "nltk.download(\"averaged_perceptron_tagger\")"
   ]
  },
  {
   "cell_type": "code",
   "execution_count": 0,
   "metadata": {
    "colab": {},
    "colab_type": "code",
    "id": "K7HDoRJJoD4K"
   },
   "outputs": [],
   "source": [
    "oracion1=\"This is the lost dog I found at the park\".split()\n",
    "oracion2=\"The progress os the humankind as I progress\".split()"
   ]
  },
  {
   "cell_type": "code",
   "execution_count": 121,
   "metadata": {
    "colab": {
     "base_uri": "https://localhost:8080/",
     "height": 32
    },
    "colab_type": "code",
    "executionInfo": {
     "elapsed": 673,
     "status": "ok",
     "timestamp": 1532777056062,
     "user": {
      "displayName": "Antonio Bravo Muñoz",
      "photoUrl": "//lh5.googleusercontent.com/-I0fIeuNLzog/AAAAAAAAAAI/AAAAAAAAAAs/MDZ3MDDdQoQ/s50-c-k-no/photo.jpg",
      "userId": "117007621637238690901"
     },
     "user_tz": -120
    },
    "id": "d3XsbQj-oYNN",
    "outputId": "0daefafd-d8b9-4b44-aa80-9e85c7eff8a9"
   },
   "outputs": [
    {
     "name": "stdout",
     "output_type": "stream",
     "text": [
      "[('This', 'DT'), ('is', 'VBZ'), ('the', 'DT'), ('lost', 'JJ'), ('dog', 'NN'), ('I', 'PRP'), ('found', 'VBD'), ('at', 'IN'), ('the', 'DT'), ('park', 'NN')]\n"
     ]
    }
   ],
   "source": [
    "print(nltk.pos_tag(oracion1))\n",
    "#Devuelve cada token etiquetado. Por ser inglés lo hace muy bien."
   ]
  },
  {
   "cell_type": "code",
   "execution_count": 122,
   "metadata": {
    "colab": {
     "base_uri": "https://localhost:8080/",
     "height": 32
    },
    "colab_type": "code",
    "executionInfo": {
     "elapsed": 515,
     "status": "ok",
     "timestamp": 1532777107468,
     "user": {
      "displayName": "Antonio Bravo Muñoz",
      "photoUrl": "//lh5.googleusercontent.com/-I0fIeuNLzog/AAAAAAAAAAI/AAAAAAAAAAs/MDZ3MDDdQoQ/s50-c-k-no/photo.jpg",
      "userId": "117007621637238690901"
     },
     "user_tz": -120
    },
    "id": "o5-csFduol4u",
    "outputId": "1fa80438-30f8-4de6-d2b7-962258a6bd32"
   },
   "outputs": [
    {
     "name": "stdout",
     "output_type": "stream",
     "text": [
      "[('The', 'DT'), ('progress', 'NN'), ('os', 'IN'), ('the', 'DT'), ('humankind', 'NN'), ('as', 'IN'), ('I', 'PRP'), ('progress', 'VBP')]\n"
     ]
    }
   ],
   "source": [
    "print(nltk.pos_tag(oracion2))"
   ]
  },
  {
   "cell_type": "code",
   "execution_count": 123,
   "metadata": {
    "colab": {
     "base_uri": "https://localhost:8080/",
     "height": 65
    },
    "colab_type": "code",
    "executionInfo": {
     "elapsed": 811,
     "status": "ok",
     "timestamp": 1532777162439,
     "user": {
      "displayName": "Antonio Bravo Muñoz",
      "photoUrl": "//lh5.googleusercontent.com/-I0fIeuNLzog/AAAAAAAAAAI/AAAAAAAAAAs/MDZ3MDDdQoQ/s50-c-k-no/photo.jpg",
      "userId": "117007621637238690901"
     },
     "user_tz": -120
    },
    "id": "ReCkCHyKocP8",
    "outputId": "b391cde0-33d6-4119-a3a2-f50d839a1e7a"
   },
   "outputs": [
    {
     "name": "stdout",
     "output_type": "stream",
     "text": [
      "[nltk_data] Downloading package brown to /content/nltk_data...\n",
      "[nltk_data]   Unzipping corpora/brown.zip.\n"
     ]
    },
    {
     "data": {
      "text/plain": [
       "True"
      ]
     },
     "execution_count": 123,
     "metadata": {
      "tags": []
     },
     "output_type": "execute_result"
    }
   ],
   "source": [
    "#Corpus ya etiquetado. Es un corpus de manera semiautomatica ha sido etiquetado con su categoría\n",
    "nltk.download('brown')"
   ]
  },
  {
   "cell_type": "code",
   "execution_count": 0,
   "metadata": {
    "colab": {},
    "colab_type": "code",
    "id": "3MW7xxTSo-ZD"
   },
   "outputs": [],
   "source": [
    "from nltk.corpus import brown"
   ]
  },
  {
   "cell_type": "code",
   "execution_count": 0,
   "metadata": {
    "colab": {},
    "colab_type": "code",
    "id": "glbigpvfo-jm"
   },
   "outputs": [],
   "source": [
    "#para guardar la lista de tokens:\n",
    "brown_sents=brown.sents(categories=\"news\")\n",
    "#para guardar frases etiquetadas (tuplas):\n",
    "brown_tagged_sents=brown.tagged_sents(categories=\"news\")"
   ]
  },
  {
   "cell_type": "code",
   "execution_count": 128,
   "metadata": {
    "colab": {
     "base_uri": "https://localhost:8080/",
     "height": 89
    },
    "colab_type": "code",
    "executionInfo": {
     "elapsed": 489,
     "status": "ok",
     "timestamp": 1532777357867,
     "user": {
      "displayName": "Antonio Bravo Muñoz",
      "photoUrl": "//lh5.googleusercontent.com/-I0fIeuNLzog/AAAAAAAAAAI/AAAAAAAAAAs/MDZ3MDDdQoQ/s50-c-k-no/photo.jpg",
      "userId": "117007621637238690901"
     },
     "user_tz": -120
    },
    "id": "vmsazEFTo-g1",
    "outputId": "340f6d4a-bdf7-41f9-aef2-2192b80956a4"
   },
   "outputs": [
    {
     "name": "stdout",
     "output_type": "stream",
     "text": [
      "['The', 'Fulton', 'County', 'Grand', 'Jury', 'said', 'Friday', 'an', 'investigation', 'of', \"Atlanta's\", 'recent', 'primary', 'election', 'produced', '``', 'no', 'evidence', \"''\", 'that', 'any', 'irregularities', 'took', 'place', '.']\n",
      "[('The', 'AT'), ('Fulton', 'NP-TL'), ('County', 'NN-TL'), ('Grand', 'JJ-TL'), ('Jury', 'NN-TL'), ('said', 'VBD'), ('Friday', 'NR'), ('an', 'AT'), ('investigation', 'NN'), ('of', 'IN'), (\"Atlanta's\", 'NP$'), ('recent', 'JJ'), ('primary', 'NN'), ('election', 'NN'), ('produced', 'VBD'), ('``', '``'), ('no', 'AT'), ('evidence', 'NN'), (\"''\", \"''\"), ('that', 'CS'), ('any', 'DTI'), ('irregularities', 'NNS'), ('took', 'VBD'), ('place', 'NN'), ('.', '.')]\n"
     ]
    }
   ],
   "source": [
    "print(brown_sents[0])\n",
    "print(brown_tagged_sents[0])"
   ]
  },
  {
   "cell_type": "code",
   "execution_count": 129,
   "metadata": {
    "colab": {
     "base_uri": "https://localhost:8080/",
     "height": 32
    },
    "colab_type": "code",
    "executionInfo": {
     "elapsed": 535,
     "status": "ok",
     "timestamp": 1532777468274,
     "user": {
      "displayName": "Antonio Bravo Muñoz",
      "photoUrl": "//lh5.googleusercontent.com/-I0fIeuNLzog/AAAAAAAAAAI/AAAAAAAAAAs/MDZ3MDDdQoQ/s50-c-k-no/photo.jpg",
      "userId": "117007621637238690901"
     },
     "user_tz": -120
    },
    "id": "MfPt6Yeco-eV",
    "outputId": "8fb935d0-f198-4170-bc11-568286b9db83"
   },
   "outputs": [
    {
     "name": "stdout",
     "output_type": "stream",
     "text": [
      "[('This', 'NN'), ('is', 'NN'), ('the', 'NN'), ('lost', 'NN'), ('dog', 'NN'), ('I', 'NN'), ('found', 'NN'), ('at', 'NN'), ('the', 'NN'), ('park', 'NN')]\n"
     ]
    }
   ],
   "source": [
    "#vemos que con un modelo etiquetado a mano podemos entrenar un modelo que no lo está. En este caso, si quetemos etiquetar nombres, podemos etiquetar todo como nombres y algo acertaré.\n",
    "defaulTagged=nltk.DefaultTagger('NN')\n",
    "print(defaulTagged.tag(oracion1))"
   ]
  },
  {
   "cell_type": "code",
   "execution_count": 130,
   "metadata": {
    "colab": {
     "base_uri": "https://localhost:8080/",
     "height": 32
    },
    "colab_type": "code",
    "executionInfo": {
     "elapsed": 1422,
     "status": "ok",
     "timestamp": 1532777882414,
     "user": {
      "displayName": "Antonio Bravo Muñoz",
      "photoUrl": "//lh5.googleusercontent.com/-I0fIeuNLzog/AAAAAAAAAAI/AAAAAAAAAAs/MDZ3MDDdQoQ/s50-c-k-no/photo.jpg",
      "userId": "117007621637238690901"
     },
     "user_tz": -120
    },
    "id": "SeYqZNr2o2LS",
    "outputId": "bb646d50-4366-4a68-c858-937921a7a1fc"
   },
   "outputs": [
    {
     "data": {
      "text/plain": [
       "0.13089484257215028"
      ]
     },
     "execution_count": 130,
     "metadata": {
      "tags": []
     },
     "output_type": "execute_result"
    }
   ],
   "source": [
    "#podemos evaluar con el corpues de entrenamiento (el brown, el que está etiquetado a mano)\n",
    "defaulTagged.evaluate(brown_tagged_sents)"
   ]
  },
  {
   "cell_type": "code",
   "execution_count": 0,
   "metadata": {
    "colab": {},
    "colab_type": "code",
    "id": "6kdNvSs8rlzi"
   },
   "outputs": [],
   "source": [
    "#podemos crear una lista de patrones nosotros mismos para etiquetar pero esto es arriesgado. (ver lista de patrones en notebook de profesora)"
   ]
  },
  {
   "cell_type": "code",
   "execution_count": 0,
   "metadata": {
    "colab": {},
    "colab_type": "code",
    "id": "O1wAMfIprqId"
   },
   "outputs": [],
   "source": [
    "#regexTagger=nltk.RegexpTagged(patrones)"
   ]
  },
  {
   "cell_type": "code",
   "execution_count": 0,
   "metadata": {
    "colab": {},
    "colab_type": "code",
    "id": "vqomOaYarqPu"
   },
   "outputs": [],
   "source": [
    "#..."
   ]
  },
  {
   "cell_type": "code",
   "execution_count": 0,
   "metadata": {
    "colab": {},
    "colab_type": "code",
    "id": "BfQrs2TJrqNQ"
   },
   "outputs": [],
   "source": []
  },
  {
   "cell_type": "code",
   "execution_count": 0,
   "metadata": {
    "colab": {},
    "colab_type": "code",
    "id": "hwK7y3oksSgT"
   },
   "outputs": [],
   "source": [
    "size=int(len(brown_tagged_sents)*0.9)"
   ]
  },
  {
   "cell_type": "code",
   "execution_count": 0,
   "metadata": {
    "colab": {},
    "colab_type": "code",
    "id": "IJZ7R6XSsSoa"
   },
   "outputs": [],
   "source": [
    "corpusTrain=brown_tagged_sents[:size]\n",
    "corpusTest=brown_tagged_sents[size:]"
   ]
  },
  {
   "cell_type": "code",
   "execution_count": 135,
   "metadata": {
    "colab": {
     "base_uri": "https://localhost:8080/",
     "height": 32
    },
    "colab_type": "code",
    "executionInfo": {
     "elapsed": 1453,
     "status": "ok",
     "timestamp": 1532778180715,
     "user": {
      "displayName": "Antonio Bravo Muñoz",
      "photoUrl": "//lh5.googleusercontent.com/-I0fIeuNLzog/AAAAAAAAAAI/AAAAAAAAAAs/MDZ3MDDdQoQ/s50-c-k-no/photo.jpg",
      "userId": "117007621637238690901"
     },
     "user_tz": -120
    },
    "id": "VpcyfDPvsSlT",
    "outputId": "23638122-4e59-4ac4-81dd-5e5264bb279a"
   },
   "outputs": [
    {
     "data": {
      "text/plain": [
       "0.8121200039868434"
      ]
     },
     "execution_count": 135,
     "metadata": {
      "tags": []
     },
     "output_type": "execute_result"
    }
   ],
   "source": [
    "unigramTagger=nltk.UnigramTagger(corpusTrain)\n",
    "unigramTagger.evaluate(corpusTest)"
   ]
  },
  {
   "cell_type": "code",
   "execution_count": 0,
   "metadata": {
    "colab": {},
    "colab_type": "code",
    "id": "nmBqR8Z7t65L"
   },
   "outputs": [],
   "source": [
    "#funciona bastante bien, al 81%"
   ]
  },
  {
   "cell_type": "code",
   "execution_count": 141,
   "metadata": {
    "colab": {
     "base_uri": "https://localhost:8080/",
     "height": 49
    },
    "colab_type": "code",
    "executionInfo": {
     "elapsed": 448,
     "status": "ok",
     "timestamp": 1532778566665,
     "user": {
      "displayName": "Antonio Bravo Muñoz",
      "photoUrl": "//lh5.googleusercontent.com/-I0fIeuNLzog/AAAAAAAAAAI/AAAAAAAAAAs/MDZ3MDDdQoQ/s50-c-k-no/photo.jpg",
      "userId": "117007621637238690901"
     },
     "user_tz": -120
    },
    "id": "Z8ioCc8Csun3",
    "outputId": "00b04804-e868-441b-ff11-327b69436c9c"
   },
   "outputs": [
    {
     "name": "stdout",
     "output_type": "stream",
     "text": [
      "[('This', 'DT'), ('is', 'BEZ'), ('the', 'AT'), ('lost', 'VBD'), ('dog', 'NN'), ('I', 'PPSS'), ('found', 'VBN'), ('at', 'IN'), ('the', 'AT'), ('park', 'NN')]\n",
      "[('The', 'AT'), ('progress', 'NN'), ('os', None), ('the', 'AT'), ('humankind', None), ('as', 'CS'), ('I', 'PPSS'), ('progress', 'NN')]\n"
     ]
    }
   ],
   "source": [
    "print(unigramTagger.tag(oracion1))\n",
    "print(unigramTagger.tag(oracion2))"
   ]
  },
  {
   "cell_type": "code",
   "execution_count": 138,
   "metadata": {
    "colab": {
     "base_uri": "https://localhost:8080/",
     "height": 32
    },
    "colab_type": "code",
    "executionInfo": {
     "elapsed": 1747,
     "status": "ok",
     "timestamp": 1532778288992,
     "user": {
      "displayName": "Antonio Bravo Muñoz",
      "photoUrl": "//lh5.googleusercontent.com/-I0fIeuNLzog/AAAAAAAAAAI/AAAAAAAAAAs/MDZ3MDDdQoQ/s50-c-k-no/photo.jpg",
      "userId": "117007621637238690901"
     },
     "user_tz": -120
    },
    "id": "S8z8IS49szwV",
    "outputId": "322f5552-0c4e-4d3f-bbd1-9bf5b94f9de1"
   },
   "outputs": [
    {
     "data": {
      "text/plain": [
       "0.10206319146815508"
      ]
     },
     "execution_count": 138,
     "metadata": {
      "tags": []
     },
     "output_type": "execute_result"
    }
   ],
   "source": [
    "bigramTagger=nltk.BigramTagger(corpusTrain)\n",
    "bigramTagger.evaluate(corpusTest)"
   ]
  },
  {
   "cell_type": "code",
   "execution_count": 0,
   "metadata": {
    "colab": {},
    "colab_type": "code",
    "id": "-RaD6A3huUGa"
   },
   "outputs": [],
   "source": [
    "#etiqueta pocas palabras, pero la que etiqueta lo hace bien"
   ]
  },
  {
   "cell_type": "code",
   "execution_count": 139,
   "metadata": {
    "colab": {
     "base_uri": "https://localhost:8080/",
     "height": 49
    },
    "colab_type": "code",
    "executionInfo": {
     "elapsed": 485,
     "status": "ok",
     "timestamp": 1532778291404,
     "user": {
      "displayName": "Antonio Bravo Muñoz",
      "photoUrl": "//lh5.googleusercontent.com/-I0fIeuNLzog/AAAAAAAAAAI/AAAAAAAAAAs/MDZ3MDDdQoQ/s50-c-k-no/photo.jpg",
      "userId": "117007621637238690901"
     },
     "user_tz": -120
    },
    "id": "pGzjV113tG63",
    "outputId": "3db18713-1266-4883-86ee-f977ffc7f78e"
   },
   "outputs": [
    {
     "name": "stdout",
     "output_type": "stream",
     "text": [
      "[('This', 'DT'), ('is', 'BEZ'), ('the', 'AT'), ('lost', None), ('dog', None), ('I', None), ('found', None), ('at', None), ('the', None), ('park', None)]\n",
      "[('The', 'AT'), ('progress', None), ('os', None), ('the', None), ('humankind', None), ('as', None), ('I', None), ('progress', None)]\n"
     ]
    }
   ],
   "source": [
    "print(bigramTagger.tag(oracion1))\n",
    "print(bigramTagger.tag(oracion2))"
   ]
  },
  {
   "cell_type": "code",
   "execution_count": 140,
   "metadata": {
    "colab": {
     "base_uri": "https://localhost:8080/",
     "height": 32
    },
    "colab_type": "code",
    "executionInfo": {
     "elapsed": 1961,
     "status": "ok",
     "timestamp": 1532778312216,
     "user": {
      "displayName": "Antonio Bravo Muñoz",
      "photoUrl": "//lh5.googleusercontent.com/-I0fIeuNLzog/AAAAAAAAAAI/AAAAAAAAAAs/MDZ3MDDdQoQ/s50-c-k-no/photo.jpg",
      "userId": "117007621637238690901"
     },
     "user_tz": -120
    },
    "id": "zxUwjRWEtJ4S",
    "outputId": "2bcdd586-6e6e-4664-b935-885275b53e51"
   },
   "outputs": [
    {
     "data": {
      "text/plain": [
       "0.0626931127279976"
      ]
     },
     "execution_count": 140,
     "metadata": {
      "tags": []
     },
     "output_type": "execute_result"
    }
   ],
   "source": [
    "trigramTagger=nltk.TrigramTagger(corpusTrain)\n",
    "trigramTagger.evaluate(corpusTest)"
   ]
  },
  {
   "cell_type": "code",
   "execution_count": 0,
   "metadata": {
    "colab": {},
    "colab_type": "code",
    "id": "_pW5xs3KuBDE"
   },
   "outputs": [],
   "source": [
    "#en este caso, como el corpus de brown no es muy grande, con trigramas funciona mal, etiqueta poquisimas palabras, pero la que etiquet, lo hace bien."
   ]
  },
  {
   "cell_type": "code",
   "execution_count": 0,
   "metadata": {
    "colab": {},
    "colab_type": "code",
    "id": "nWmYwJjFtOmX"
   },
   "outputs": [],
   "source": [
    "#Cuanto mas grande sea mi corpus, de mayor tamaño voy a tener que usar los n-gramas"
   ]
  },
  {
   "cell_type": "code",
   "execution_count": 0,
   "metadata": {
    "colab": {},
    "colab_type": "code",
    "id": "sCqSJhKtudyO"
   },
   "outputs": [],
   "source": []
  },
  {
   "cell_type": "code",
   "execution_count": 0,
   "metadata": {
    "colab": {},
    "colab_type": "code",
    "id": "AGdYR1sUud3r"
   },
   "outputs": [],
   "source": [
    "#definiendo con back-off. Si no puede etiquetar algo, pq no sabe, pasa a ver el otro etiquetador, el basado en patterns que hemos definido.\n",
    "#unigramTagger=nltk.UnigramTagger(corpusTrain,backoff=regexTagger)\n",
    "#bigramTagger=nltk.UnigramTagger(corpusTrain,backoff=unigramTagger)\n",
    "#trigramTagger=nltk.UnigramTagger(corpusTrain,backoff=bigramTagger)\n",
    "\n",
    "#print(trigramTagger.evaluate(cospusTest))"
   ]
  }
 ],
 "metadata": {
  "colab": {
   "collapsed_sections": [],
   "name": "1_NLP.ipynb",
   "provenance": [],
   "version": "0.3.2"
  },
  "kernelspec": {
   "display_name": "Python 3",
   "language": "python",
   "name": "python3"
  },
  "language_info": {
   "codemirror_mode": {
    "name": "ipython",
    "version": 3
   },
   "file_extension": ".py",
   "mimetype": "text/x-python",
   "name": "python",
   "nbconvert_exporter": "python",
   "pygments_lexer": "ipython3",
   "version": "3.6.8"
  }
 },
 "nbformat": 4,
 "nbformat_minor": 1
}
