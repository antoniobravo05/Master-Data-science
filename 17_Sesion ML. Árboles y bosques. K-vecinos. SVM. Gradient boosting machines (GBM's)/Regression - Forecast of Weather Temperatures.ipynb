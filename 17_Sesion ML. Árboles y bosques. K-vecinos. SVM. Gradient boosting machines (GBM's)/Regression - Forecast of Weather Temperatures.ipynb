{
 "cells": [
  {
   "cell_type": "markdown",
   "metadata": {},
   "source": [
    "# Forecast of Weather Temperatures\n",
    "\n",
    "## Problem Statement\n",
    "\n",
    "We would like to forecast the temperatures if we know the temperature of the previous days"
   ]
  },
  {
   "cell_type": "code",
   "execution_count": 1,
   "metadata": {},
   "outputs": [
    {
     "name": "stdout",
     "output_type": "stream",
     "text": [
      "Populating the interactive namespace from numpy and matplotlib\n"
     ]
    }
   ],
   "source": [
    "%pylab inline"
   ]
  },
  {
   "cell_type": "code",
   "execution_count": 2,
   "metadata": {},
   "outputs": [],
   "source": [
    "import pandas as pd"
   ]
  },
  {
   "cell_type": "code",
   "execution_count": 3,
   "metadata": {},
   "outputs": [],
   "source": [
    "df = pd.read_csv(\"data/GlobalTemperatures.csv\")\n",
    "df=df[[\"dt\",\"LandAverageTemperature\"]]\n",
    "df.columns=[\"date\",\"t0\"]"
   ]
  },
  {
   "cell_type": "code",
   "execution_count": 4,
   "metadata": {},
   "outputs": [],
   "source": [
    "input_col = []\n",
    "for i in range(1,10):\n",
    "    input_col.append(\"t\"+str(i))\n",
    "    df[\"t\"+str(i)]=df[\"t0\"].shift(i)\n",
    "    \n",
    "#voy a extraer para cada temperatura actual, la temperatura en el mes anterior.\n",
    "\n",
    "#voy a crear un problema de regresion donde voy a predecir la etiqueta temperatura de este dia, teniendo en cuenta t1, t2, t3,...\n",
    "#(la del mismo día pero de los meses anteriores).\n"
   ]
  },
  {
   "cell_type": "code",
   "execution_count": 5,
   "metadata": {},
   "outputs": [],
   "source": [
    "df=df.dropna()\n",
    "#eliminadmos las filas con valores que faltan, por eso vemos que salta de 1750 a 1753."
   ]
  },
  {
   "cell_type": "code",
   "execution_count": 6,
   "metadata": {},
   "outputs": [
    {
     "data": {
      "text/html": [
       "<div>\n",
       "<style scoped>\n",
       "    .dataframe tbody tr th:only-of-type {\n",
       "        vertical-align: middle;\n",
       "    }\n",
       "\n",
       "    .dataframe tbody tr th {\n",
       "        vertical-align: top;\n",
       "    }\n",
       "\n",
       "    .dataframe thead th {\n",
       "        text-align: right;\n",
       "    }\n",
       "</style>\n",
       "<table border=\"1\" class=\"dataframe\">\n",
       "  <thead>\n",
       "    <tr style=\"text-align: right;\">\n",
       "      <th></th>\n",
       "      <th>date</th>\n",
       "      <th>t0</th>\n",
       "      <th>t1</th>\n",
       "      <th>t2</th>\n",
       "      <th>t3</th>\n",
       "      <th>t4</th>\n",
       "      <th>t5</th>\n",
       "      <th>t6</th>\n",
       "      <th>t7</th>\n",
       "      <th>t8</th>\n",
       "      <th>t9</th>\n",
       "    </tr>\n",
       "  </thead>\n",
       "  <tbody>\n",
       "    <tr>\n",
       "      <th>9</th>\n",
       "      <td>1750-10-01</td>\n",
       "      <td>6.367</td>\n",
       "      <td>11.413</td>\n",
       "      <td>14.750</td>\n",
       "      <td>15.868</td>\n",
       "      <td>12.937</td>\n",
       "      <td>11.573</td>\n",
       "      <td>8.490</td>\n",
       "      <td>5.626</td>\n",
       "      <td>3.083</td>\n",
       "      <td>3.034</td>\n",
       "    </tr>\n",
       "    <tr>\n",
       "      <th>42</th>\n",
       "      <td>1753-07-01</td>\n",
       "      <td>15.092</td>\n",
       "      <td>14.585</td>\n",
       "      <td>12.186</td>\n",
       "      <td>8.272</td>\n",
       "      <td>5.424</td>\n",
       "      <td>0.715</td>\n",
       "      <td>2.039</td>\n",
       "      <td>5.086</td>\n",
       "      <td>7.335</td>\n",
       "      <td>7.839</td>\n",
       "    </tr>\n",
       "    <tr>\n",
       "      <th>43</th>\n",
       "      <td>1753-08-01</td>\n",
       "      <td>14.148</td>\n",
       "      <td>15.092</td>\n",
       "      <td>14.585</td>\n",
       "      <td>12.186</td>\n",
       "      <td>8.272</td>\n",
       "      <td>5.424</td>\n",
       "      <td>0.715</td>\n",
       "      <td>2.039</td>\n",
       "      <td>5.086</td>\n",
       "      <td>7.335</td>\n",
       "    </tr>\n",
       "    <tr>\n",
       "      <th>44</th>\n",
       "      <td>1753-09-01</td>\n",
       "      <td>13.322</td>\n",
       "      <td>14.148</td>\n",
       "      <td>15.092</td>\n",
       "      <td>14.585</td>\n",
       "      <td>12.186</td>\n",
       "      <td>8.272</td>\n",
       "      <td>5.424</td>\n",
       "      <td>0.715</td>\n",
       "      <td>2.039</td>\n",
       "      <td>5.086</td>\n",
       "    </tr>\n",
       "    <tr>\n",
       "      <th>45</th>\n",
       "      <td>1753-10-01</td>\n",
       "      <td>8.962</td>\n",
       "      <td>13.322</td>\n",
       "      <td>14.148</td>\n",
       "      <td>15.092</td>\n",
       "      <td>14.585</td>\n",
       "      <td>12.186</td>\n",
       "      <td>8.272</td>\n",
       "      <td>5.424</td>\n",
       "      <td>0.715</td>\n",
       "      <td>2.039</td>\n",
       "    </tr>\n",
       "  </tbody>\n",
       "</table>\n",
       "</div>"
      ],
      "text/plain": [
       "          date      t0      t1      t2      t3      t4      t5     t6     t7  \\\n",
       "9   1750-10-01   6.367  11.413  14.750  15.868  12.937  11.573  8.490  5.626   \n",
       "42  1753-07-01  15.092  14.585  12.186   8.272   5.424   0.715  2.039  5.086   \n",
       "43  1753-08-01  14.148  15.092  14.585  12.186   8.272   5.424  0.715  2.039   \n",
       "44  1753-09-01  13.322  14.148  15.092  14.585  12.186   8.272  5.424  0.715   \n",
       "45  1753-10-01   8.962  13.322  14.148  15.092  14.585  12.186  8.272  5.424   \n",
       "\n",
       "       t8     t9  \n",
       "9   3.083  3.034  \n",
       "42  7.335  7.839  \n",
       "43  5.086  7.335  \n",
       "44  2.039  5.086  \n",
       "45  0.715  2.039  "
      ]
     },
     "execution_count": 6,
     "metadata": {},
     "output_type": "execute_result"
    }
   ],
   "source": [
    "df.head()"
   ]
  },
  {
   "cell_type": "code",
   "execution_count": 7,
   "metadata": {},
   "outputs": [
    {
     "data": {
      "text/html": [
       "<div>\n",
       "<style scoped>\n",
       "    .dataframe tbody tr th:only-of-type {\n",
       "        vertical-align: middle;\n",
       "    }\n",
       "\n",
       "    .dataframe tbody tr th {\n",
       "        vertical-align: top;\n",
       "    }\n",
       "\n",
       "    .dataframe thead th {\n",
       "        text-align: right;\n",
       "    }\n",
       "</style>\n",
       "<table border=\"1\" class=\"dataframe\">\n",
       "  <thead>\n",
       "    <tr style=\"text-align: right;\">\n",
       "      <th></th>\n",
       "      <th>date</th>\n",
       "      <th>t0</th>\n",
       "      <th>t1</th>\n",
       "      <th>t2</th>\n",
       "      <th>t3</th>\n",
       "      <th>t4</th>\n",
       "      <th>t5</th>\n",
       "      <th>t6</th>\n",
       "      <th>t7</th>\n",
       "      <th>t8</th>\n",
       "      <th>t9</th>\n",
       "    </tr>\n",
       "  </thead>\n",
       "  <tbody>\n",
       "    <tr>\n",
       "      <th>3187</th>\n",
       "      <td>2015-08-01</td>\n",
       "      <td>14.755</td>\n",
       "      <td>15.051</td>\n",
       "      <td>14.505</td>\n",
       "      <td>12.312</td>\n",
       "      <td>9.313</td>\n",
       "      <td>6.740</td>\n",
       "      <td>4.664</td>\n",
       "      <td>3.881</td>\n",
       "      <td>4.850</td>\n",
       "      <td>6.713</td>\n",
       "    </tr>\n",
       "    <tr>\n",
       "      <th>3188</th>\n",
       "      <td>2015-09-01</td>\n",
       "      <td>12.999</td>\n",
       "      <td>14.755</td>\n",
       "      <td>15.051</td>\n",
       "      <td>14.505</td>\n",
       "      <td>12.312</td>\n",
       "      <td>9.313</td>\n",
       "      <td>6.740</td>\n",
       "      <td>4.664</td>\n",
       "      <td>3.881</td>\n",
       "      <td>4.850</td>\n",
       "    </tr>\n",
       "    <tr>\n",
       "      <th>3189</th>\n",
       "      <td>2015-10-01</td>\n",
       "      <td>10.801</td>\n",
       "      <td>12.999</td>\n",
       "      <td>14.755</td>\n",
       "      <td>15.051</td>\n",
       "      <td>14.505</td>\n",
       "      <td>12.312</td>\n",
       "      <td>9.313</td>\n",
       "      <td>6.740</td>\n",
       "      <td>4.664</td>\n",
       "      <td>3.881</td>\n",
       "    </tr>\n",
       "    <tr>\n",
       "      <th>3190</th>\n",
       "      <td>2015-11-01</td>\n",
       "      <td>7.433</td>\n",
       "      <td>10.801</td>\n",
       "      <td>12.999</td>\n",
       "      <td>14.755</td>\n",
       "      <td>15.051</td>\n",
       "      <td>14.505</td>\n",
       "      <td>12.312</td>\n",
       "      <td>9.313</td>\n",
       "      <td>6.740</td>\n",
       "      <td>4.664</td>\n",
       "    </tr>\n",
       "    <tr>\n",
       "      <th>3191</th>\n",
       "      <td>2015-12-01</td>\n",
       "      <td>5.518</td>\n",
       "      <td>7.433</td>\n",
       "      <td>10.801</td>\n",
       "      <td>12.999</td>\n",
       "      <td>14.755</td>\n",
       "      <td>15.051</td>\n",
       "      <td>14.505</td>\n",
       "      <td>12.312</td>\n",
       "      <td>9.313</td>\n",
       "      <td>6.740</td>\n",
       "    </tr>\n",
       "  </tbody>\n",
       "</table>\n",
       "</div>"
      ],
      "text/plain": [
       "            date      t0      t1      t2      t3      t4      t5      t6  \\\n",
       "3187  2015-08-01  14.755  15.051  14.505  12.312   9.313   6.740   4.664   \n",
       "3188  2015-09-01  12.999  14.755  15.051  14.505  12.312   9.313   6.740   \n",
       "3189  2015-10-01  10.801  12.999  14.755  15.051  14.505  12.312   9.313   \n",
       "3190  2015-11-01   7.433  10.801  12.999  14.755  15.051  14.505  12.312   \n",
       "3191  2015-12-01   5.518   7.433  10.801  12.999  14.755  15.051  14.505   \n",
       "\n",
       "          t7     t8     t9  \n",
       "3187   3.881  4.850  6.713  \n",
       "3188   4.664  3.881  4.850  \n",
       "3189   6.740  4.664  3.881  \n",
       "3190   9.313  6.740  4.664  \n",
       "3191  12.312  9.313  6.740  "
      ]
     },
     "execution_count": 7,
     "metadata": {},
     "output_type": "execute_result"
    }
   ],
   "source": [
    "df.tail()"
   ]
  },
  {
   "cell_type": "code",
   "execution_count": 8,
   "metadata": {},
   "outputs": [],
   "source": [
    "#va desde 1750 hasta 2015"
   ]
  },
  {
   "cell_type": "code",
   "execution_count": 11,
   "metadata": {},
   "outputs": [
    {
     "data": {
      "image/png": "[encoded data removed]",
      "text/plain": [
       "<Figure size 432x288 with 1 Axes>"
      ]
     },
     "metadata": {},
     "output_type": "display_data"
    }
   ],
   "source": [
    "plt.plot(df[\"t0\"].iloc[-100:]);\n",
    "#ploteado de los ultimos 100 meses. Vemos que sigue un ciclo --> Serie tempotal"
   ]
  },
  {
   "cell_type": "code",
   "execution_count": 12,
   "metadata": {},
   "outputs": [
    {
     "data": {
      "image/png": "[encoded data removed]",
      "text/plain": [
       "<Figure size 432x288 with 1 Axes>"
      ]
     },
     "metadata": {},
     "output_type": "display_data"
    }
   ],
   "source": [
    "#vemos la evolucion en 2015 y 2014\n",
    "plt.plot(df[\"t0\"].iloc[-24:]);"
   ]
  },
  {
   "cell_type": "code",
   "execution_count": 13,
   "metadata": {},
   "outputs": [],
   "source": [
    "\n",
    "X=df[input_col]\n",
    "y=df[\"t0\"]"
   ]
  },
  {
   "cell_type": "code",
   "execution_count": 14,
   "metadata": {},
   "outputs": [],
   "source": [
    "#K-NEIGHBORGS REGRESSOR\n",
    "\n",
    "from sklearn.neighbors import KNeighborsRegressor"
   ]
  },
  {
   "cell_type": "code",
   "execution_count": 15,
   "metadata": {},
   "outputs": [],
   "source": [
    "rg=KNeighborsRegressor(n_neighbors=5)"
   ]
  },
  {
   "cell_type": "code",
   "execution_count": 16,
   "metadata": {},
   "outputs": [],
   "source": [
    "#para medir la bondad de nuestro algoritmo, usamos cross_val_score\n",
    "from sklearn.model_selection import cross_val_score"
   ]
  },
  {
   "cell_type": "code",
   "execution_count": 17,
   "metadata": {},
   "outputs": [
    {
     "data": {
      "text/plain": [
       "array([-1.031447  , -0.40698114, -0.51536762])"
      ]
     },
     "execution_count": 17,
     "metadata": {},
     "output_type": "execute_result"
    }
   ],
   "source": [
    "#las metricas que vamos a usar, neg_mean_absolute_error (MAE) son errores en absoluto, mean_square_error (MSE) que son los errores al cuadrado (se penalizan mas los errrores elevados), y RMSE que es la raiz del MSE, finalmente sl MAPE (percentage).\n",
    "cross_val_score(rg,X,y,scoring='neg_mean_absolute_error')"
   ]
  },
  {
   "cell_type": "code",
   "execution_count": 18,
   "metadata": {},
   "outputs": [],
   "source": [
    "#Pone los valores en negativo pq necesitan que sean lo mas bajo posibles (son errores). Quieres maximizar lo negativo, así minimizas lo positivo\n",
    "#en clasificacion las metricas quieres que sean lo mas altas posibles. El gridserch siempre maximiza, de ahi que sea así.\n"
   ]
  },
  {
   "cell_type": "code",
   "execution_count": 19,
   "metadata": {},
   "outputs": [
    {
     "data": {
      "text/plain": [
       "-0.6512652549197288"
      ]
     },
     "execution_count": 19,
     "metadata": {},
     "output_type": "execute_result"
    }
   ],
   "source": [
    "#MAE\n",
    "cross_val_score(rg,X,y,scoring='neg_mean_absolute_error').mean()"
   ]
  },
  {
   "cell_type": "code",
   "execution_count": 20,
   "metadata": {},
   "outputs": [],
   "source": [
    "#me dice que el error de mi modelo son 0.65 grados. Esto es pq el modelo está muy agregado y es muy predecible."
   ]
  },
  {
   "cell_type": "code",
   "execution_count": 24,
   "metadata": {},
   "outputs": [
    {
     "data": {
      "text/plain": [
       "0.9584181332458045"
      ]
     },
     "execution_count": 24,
     "metadata": {},
     "output_type": "execute_result"
    }
   ],
   "source": [
    "#RMSE\n",
    "np.sqrt(-cross_val_score(rg,X,y,scoring='neg_mean_squared_error').mean())\n"
   ]
  },
  {
   "cell_type": "code",
   "execution_count": 32,
   "metadata": {},
   "outputs": [],
   "source": [
    "from sklearn.model_selection import GridSearchCV\n",
    "\n",
    "regg=GridSearchCV(KNeighborsRegressor(n_neighbors=1),\n",
    "                 param_grid={\"n_neighbors\":range(1,100)},\n",
    "                 scoring=\"neg_mean_squared_error\")"
   ]
  },
  {
   "cell_type": "code",
   "execution_count": 33,
   "metadata": {
    "scrolled": true
   },
   "outputs": [
    {
     "data": {
      "text/plain": [
       "GridSearchCV(cv=None, error_score='raise',\n",
       "       estimator=KNeighborsRegressor(algorithm='auto', leaf_size=30, metric='minkowski',\n",
       "          metric_params=None, n_jobs=1, n_neighbors=1, p=2,\n",
       "          weights='uniform'),\n",
       "       fit_params=None, iid=True, n_jobs=1,\n",
       "       param_grid={'n_neighbors': range(1, 100)}, pre_dispatch='2*n_jobs',\n",
       "       refit=True, return_train_score='warn',\n",
       "       scoring='neg_mean_squared_error', verbose=0)"
      ]
     },
     "execution_count": 33,
     "metadata": {},
     "output_type": "execute_result"
    }
   ],
   "source": [
    "regg.fit(X,y)"
   ]
  },
  {
   "cell_type": "code",
   "execution_count": 34,
   "metadata": {},
   "outputs": [
    {
     "data": {
      "text/plain": [
       "0.951375228397986"
      ]
     },
     "execution_count": 34,
     "metadata": {},
     "output_type": "execute_result"
    }
   ],
   "source": [
    "np.sqrt(-regg.best_score_)\n",
    "#0.951"
   ]
  },
  {
   "cell_type": "code",
   "execution_count": 35,
   "metadata": {},
   "outputs": [
    {
     "data": {
      "text/plain": [
       "{'n_neighbors': 9}"
      ]
     },
     "execution_count": 35,
     "metadata": {},
     "output_type": "execute_result"
    }
   ],
   "source": [
    "regg.best_params_\n",
    "#n_neigbors=9"
   ]
  },
  {
   "cell_type": "code",
   "execution_count": 36,
   "metadata": {},
   "outputs": [],
   "source": [
    "#HACEMOS USO DE TODOS\n",
    "\n",
    "from sklearn.tree import DecisionTreeRegressor\n",
    "from sklearn.linear_model import LinearRegression\n",
    "from sklearn.ensemble import RandomForestRegressor\n",
    "from sklearn.ensemble import GradientBoostingRegressor\n",
    "from xgboost import XGBRegressor"
   ]
  },
  {
   "cell_type": "code",
   "execution_count": 53,
   "metadata": {},
   "outputs": [
    {
     "data": {
      "text/plain": [
       "-0.7496649539701682"
      ]
     },
     "execution_count": 53,
     "metadata": {},
     "output_type": "execute_result"
    }
   ],
   "source": [
    "#K_N\n",
    "reg_KN=GridSearchCV(KNeighborsRegressor(n_neighbors=1),\n",
    "                    param_grid={\"n_neighbors\":range(1,100)},\n",
    "                    scoring=\"neg_mean_squared_error\",\n",
    "                    cv=10)\n",
    "reg_KN.fit(X,y)\n",
    "reg_KN.best_score_"
   ]
  },
  {
   "cell_type": "code",
   "execution_count": 55,
   "metadata": {},
   "outputs": [
    {
     "data": {
      "text/plain": [
       "-0.9458523307652759"
      ]
     },
     "execution_count": 55,
     "metadata": {},
     "output_type": "execute_result"
    }
   ],
   "source": [
    "#Linear Reg\n",
    "cross_val_score(LinearRegression(),X,y,\n",
    "                    scoring=\"neg_mean_squared_error\").mean()"
   ]
  },
  {
   "cell_type": "code",
   "execution_count": 57,
   "metadata": {},
   "outputs": [
    {
     "name": "stdout",
     "output_type": "stream",
     "text": [
      "-1.911946723070504\n",
      "{'max_depth': 4, 'min_samples_leaf': 20}\n"
     ]
    }
   ],
   "source": [
    "#Decission Tree\n",
    "reg_DeciTree=GridSearchCV(DecisionTreeRegressor(min_samples_leaf=1,max_depth=4),\n",
    "                          param_grid={\"min_samples_leaf\":[10,20,30,40,70,100],\"max_depth\":range(2,5)},\n",
    "                          scoring=\"neg_mean_squared_error\"\n",
    "                          )\n",
    "reg_DeciTree.fit(X,y)\n",
    "print(reg_DeciTree.best_score_)\n",
    "print(reg_DeciTree.best_params_)"
   ]
  },
  {
   "cell_type": "code",
   "execution_count": 63,
   "metadata": {},
   "outputs": [
    {
     "name": "stdout",
     "output_type": "stream",
     "text": [
      "-1.3362724421400969\n",
      "{'max_depth': 9, 'min_samples_leaf': 10}\n"
     ]
    }
   ],
   "source": [
    "#Random Forest\n",
    "reg_RF=GridSearchCV(RandomForestRegressor(n_estimators=100,min_samples_leaf=1,max_depth=4),\n",
    "                          param_grid={\"min_samples_leaf\":[10,20,30,40,70,100],\"max_depth\":range(2,10)},\n",
    "                          scoring=\"neg_mean_squared_error\"\n",
    "                          )\n",
    "reg_RF.fit(X,y)\n",
    "print(reg_RF.best_score_)\n",
    "print(reg_RF.best_params_)"
   ]
  },
  {
   "cell_type": "code",
   "execution_count": 64,
   "metadata": {},
   "outputs": [
    {
     "name": "stdout",
     "output_type": "stream",
     "text": [
      "-1.1637393176341866\n",
      "{'max_depth': 3, 'min_samples_leaf': 10}\n"
     ]
    }
   ],
   "source": [
    "#XGBoost\n",
    "reg_XGB=GridSearchCV(XGBRegressor(n_estimators=100,min_samples_leaf=1,max_depth=4),\n",
    "                          param_grid={\"min_samples_leaf\":[10,20,30,40,70,100],\"max_depth\":range(2,10)},\n",
    "                          scoring=\"neg_mean_squared_error\"\n",
    "                          )\n",
    "reg_XGB.fit(X,y)\n",
    "print(reg_XGB.best_score_)\n",
    "print(reg_XGB.best_params_)"
   ]
  },
  {
   "cell_type": "code",
   "execution_count": null,
   "metadata": {},
   "outputs": [],
   "source": [
    "#la mejor es la regresion lineal ya que el regimen de los datos es muy lineal, por lo que el modelo es el mejor"
   ]
  }
 ],
 "metadata": {
  "kernelspec": {
   "display_name": "Python 3",
   "language": "python",
   "name": "python3"
  },
  "language_info": {
   "codemirror_mode": {
    "name": "ipython",
    "version": 3
   },
   "file_extension": ".py",
   "mimetype": "text/x-python",
   "name": "python",
   "nbconvert_exporter": "python",
   "pygments_lexer": "ipython3",
   "version": "3.6.6"
  }
 },
 "nbformat": 4,
 "nbformat_minor": 2
}
