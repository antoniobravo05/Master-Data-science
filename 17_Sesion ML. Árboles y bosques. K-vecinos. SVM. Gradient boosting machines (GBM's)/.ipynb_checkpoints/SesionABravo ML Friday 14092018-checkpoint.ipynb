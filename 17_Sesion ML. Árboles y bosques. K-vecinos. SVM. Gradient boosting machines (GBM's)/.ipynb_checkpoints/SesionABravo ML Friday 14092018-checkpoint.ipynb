{
 "cells": [
  {
   "cell_type": "code",
   "execution_count": 1,
   "metadata": {
    "collapsed": true
   },
   "outputs": [],
   "source": [
    "#ML es un campo de la informatica que usa tecnicas estadistias para darle a los ordenadores la capacidad de aprender con los datos."
   ]
  },
  {
   "cell_type": "code",
   "execution_count": null,
   "metadata": {
    "collapsed": true
   },
   "outputs": [],
   "source": [
    "#-ML es una automatización de tareas cognitivas, pero no totalmente automatizado, se requiere un componente humano (supervision)\n",
    "#-Datos->algoritmo->Modelo\n",
    "# Ver apuntes (formas de aprender que tienen las máquinas: Por generalizacion, por comparacion o por refuerzo)"
   ]
  }
 ],
 "metadata": {
  "kernelspec": {
   "display_name": "Python 2",
   "language": "python",
   "name": "python2"
  },
  "language_info": {
   "codemirror_mode": {
    "name": "ipython",
    "version": 2
   },
   "file_extension": ".py",
   "mimetype": "text/x-python",
   "name": "python",
   "nbconvert_exporter": "python",
   "pygments_lexer": "ipython2",
   "version": "2.7.11"
  }
 },
 "nbformat": 4,
 "nbformat_minor": 0
}
