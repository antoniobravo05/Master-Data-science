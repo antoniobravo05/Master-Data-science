{
 "cells": [
  {
   "cell_type": "markdown",
   "metadata": {},
   "source": [
    "# Porting an analysis from local to distributed\n",
    "\n",
    "In this pair of notebooks, we will develop a prototype unsupervised analysis with sklearn and then port it to use Spark, as we might in real life.\n",
    "\n",
    "<a href = \"http://yogen.io\"><img src=\"http://yogen.io/assets/logo.svg\" alt=\"yogen\" style=\"width: 200px; float: right;\"/></a>"
   ]
  },
  {
   "cell_type": "markdown",
   "metadata": {},
   "source": [
    "## Porting our analysis to a distributed setting using Spark DataFrames\n",
    "\n",
    "First, read the input file"
   ]
  },
  {
   "cell_type": "code",
   "execution_count": 2,
   "metadata": {},
   "outputs": [],
   "source": [
    "from pyspark.sql import SparkSession\n",
    "\n",
    "session = SparkSession.builder.getOrCreate()"
   ]
  },
  {
   "cell_type": "markdown",
   "metadata": {},
   "source": [
    "We can specify `.read` options in two equivalent ways:"
   ]
  },
  {
   "cell_type": "code",
   "execution_count": 4,
   "metadata": {},
   "outputs": [],
   "source": [
    "df = session.read.csv('sales_segments.csv.gz', sep='^', header=True, inferSchema=True)"
   ]
  },
  {
   "cell_type": "code",
   "execution_count": 5,
   "metadata": {},
   "outputs": [
    {
     "data": {
      "text/plain": [
       "DataFrame[rloc: string, departure_date_seg: timestamp, booking_date: timestamp, freq_flyer_flag: boolean, creator_office_id: string, creator_iata_number: int, creator_gds_code: string, creator_city_code: string, creator_lat: double, creator_lon: double, creator_country_code: string, creator_continent_code: string, creator_channel_code: string, booking_status_code: string, cabin_code: string, booking_class_code: string, pos_office_id: string, pos_iata_number: int, pos_gds_code: string, pos_city_code: string, pos_lat: double, pos_lon: double, pos_country_code: string, pos_continent_code: string, pos_channel_code: string, board_point_seg: string, board_lat: double, board_lon: double, board_country_code: string, board_continent_code: string, off_point_seg: string, off_lat: double, off_lon: double, off_country_code: string, off_continent_code: string, num_legs: int, distance_seg: double, route: string, network: string, airline_code: string, flight_number: string, flight_type: string, revenue_source: string, estimated_flag: boolean, usage_board_point_seg: string, usage_off_point_seg: string, usage_flight_number: int, usage_date: timestamp, non_currency_type: string, bookings_seg: int, rpk_seg: int, revenue_amount_seg: double, currency_code: string, fuel_surcharge_amount_seg: double, fuel_surcharge_currency_code: string, emd_count: int, emd_amount: double, emd_currency_code: string, total_outliers: double]"
      ]
     },
     "execution_count": 5,
     "metadata": {},
     "output_type": "execute_result"
    }
   ],
   "source": [
    "df"
   ]
  },
  {
   "cell_type": "markdown",
   "metadata": {},
   "source": [
    "### Extract KPIs\n",
    "\n",
    "A direct transliteration of what we did with sklearn: columnwise arithmetic"
   ]
  },
  {
   "cell_type": "code",
   "execution_count": 7,
   "metadata": {},
   "outputs": [],
   "source": [
    "df2 = df.select((df['revenue_amount_seg'] / df['bookings_seg']).alias('revenue'),\n",
    "                (df['fuel_surcharge_amount_seg'] / df['bookings_seg']).alias('tax'))"
   ]
  },
  {
   "cell_type": "code",
   "execution_count": 8,
   "metadata": {},
   "outputs": [
    {
     "data": {
      "text/plain": [
       "DataFrame[revenue: double, tax: double]"
      ]
     },
     "execution_count": 8,
     "metadata": {},
     "output_type": "execute_result"
    }
   ],
   "source": [
    "df2"
   ]
  },
  {
   "cell_type": "markdown",
   "metadata": {},
   "source": [
    "## Machine Learning in Spark\n",
    "\n",
    "### `spark.mllib` and `spark.ml`\n",
    "\n",
    "`spark.mllib` was the original Spark Machine Learning package. It is based on RDDs. It's now on maintenance mode.\n",
    "\n",
    "Since the focus on DataFrames, `spark.ml` is the primary ML package. It's designed around DataFrames. \n",
    "\n",
    "Somewhat confusingly, \"Spark MLLIB\" is the name of the library, and it comprises both.\n",
    "\n",
    "https://spark.apache.org/docs/2.2.1/ml-guide.html\n",
    "https://spark.apache.org/docs/2.2.1/api/python/pyspark.ml.html"
   ]
  },
  {
   "cell_type": "markdown",
   "metadata": {},
   "source": [
    "### Transformers, Estimators and Models\n",
    "\n",
    "In Spark ML, a Transformer is an object that represents a transformation from a DataFrame into another DataFrame.\n",
    "\n",
    "Many preprocessing and feature extraction steps are represented by Transformers. In general, this happens when they don't have to learn anything from the dataset itself, which means they implement the `transform` but not the `fit` method.\n",
    "\n",
    "When the transformation does depend on the dataset, the transformation is represented by an Estimator. An Estimator implements a `fit` method that generates a Model, which is a Transformer.\n",
    "\n",
    "All Machine Learning models are Estimators, and many feature extraction steps are as well.\n",
    "\n",
    "https://spark.apache.org/docs/2.2.0/ml-pipeline.html"
   ]
  },
  {
   "cell_type": "markdown",
   "metadata": {},
   "source": [
    "### Assemble features"
   ]
  },
  {
   "cell_type": "code",
   "execution_count": 14,
   "metadata": {},
   "outputs": [
    {
     "name": "stdout",
     "output_type": "stream",
     "text": [
      "+------------------+-----------------+--------------------+\n",
      "|           revenue|              tax|            features|\n",
      "+------------------+-----------------+--------------------+\n",
      "|             33.56|              7.3|         [33.56,7.3]|\n",
      "|              61.2|             25.5|         [61.2,25.5]|\n",
      "| 71.86842105263158|12.31578947368421|[71.8684210526315...|\n",
      "|27.116666666666664|            13.31|[27.1166666666666...|\n",
      "|               0.0|            15.91|         [0.0,15.91]|\n",
      "+------------------+-----------------+--------------------+\n",
      "only showing top 5 rows\n",
      "\n"
     ]
    }
   ],
   "source": [
    "from pyspark.ml.feature import VectorAssembler\n",
    "\n",
    "va = VectorAssembler(inputCols=['revenue', 'tax'], outputCol='features')\n",
    "\n",
    "assembled = va.transform(df2)\n",
    "assembled.show(5)"
   ]
  },
  {
   "cell_type": "markdown",
   "metadata": {},
   "source": [
    "### Training our model\n",
    "\n",
    "Just like in sklearn, we use a `.fit` method. The difference is that Estimators are stateless: the software object we call kmeans doesn't learn, that is, it doesn't change its state like sklearn models do (remember the underscore-suffixed attributes of sklearn models, which are generated from the data). \n",
    "\n",
    "What it does is generate a new object, the one we call model, which is a Transformer. This object contains the information necessary to `.transform` our data, which is the method name spark.ml uses in place of `.predict`."
   ]
  },
  {
   "cell_type": "code",
   "execution_count": 20,
   "metadata": {},
   "outputs": [],
   "source": [
    "from pyspark.ml.clustering import KMeans\n",
    "\n",
    "km = KMeans(predictionCol='cluster', k=8)\n",
    "kmeans_model = km.fit(assembled) "
   ]
  },
  {
   "cell_type": "markdown",
   "metadata": {},
   "source": [
    "### Assigning clusters\n",
    "\n"
   ]
  },
  {
   "cell_type": "code",
   "execution_count": 21,
   "metadata": {},
   "outputs": [
    {
     "name": "stdout",
     "output_type": "stream",
     "text": [
      "+------------------+-----------------+--------------------+-------+\n",
      "|           revenue|              tax|            features|cluster|\n",
      "+------------------+-----------------+--------------------+-------+\n",
      "|             33.56|              7.3|         [33.56,7.3]|      0|\n",
      "|              61.2|             25.5|         [61.2,25.5]|      0|\n",
      "| 71.86842105263158|12.31578947368421|[71.8684210526315...|      0|\n",
      "|27.116666666666664|            13.31|[27.1166666666666...|      0|\n",
      "|               0.0|            15.91|         [0.0,15.91]|      0|\n",
      "+------------------+-----------------+--------------------+-------+\n",
      "only showing top 5 rows\n",
      "\n"
     ]
    }
   ],
   "source": [
    "predicted = kmeans_model.transform(assembled).cache()\n",
    "predicted.show(5)"
   ]
  },
  {
   "cell_type": "markdown",
   "metadata": {},
   "source": [
    "### Z scores\n",
    "\n",
    "Now we only need to calculate a z-score, so that we can score points as outliers or not outliers.\n",
    "\n",
    "For that, we need the per-cluster mean and stddev for each of the variables."
   ]
  },
  {
   "cell_type": "markdown",
   "metadata": {},
   "source": [
    "Group by cluster and extract mean and stddev for each revenue and tax"
   ]
  },
  {
   "cell_type": "code",
   "execution_count": 24,
   "metadata": {},
   "outputs": [
    {
     "data": {
      "text/plain": [
       "DataFrame[cluster: int, rev_avg: double, rev_std: double, tax_avg: double, tax_std: double]"
      ]
     },
     "execution_count": 24,
     "metadata": {},
     "output_type": "execute_result"
    }
   ],
   "source": [
    "from pyspark.sql import functions\n",
    "\n",
    "stats = predicted\\\n",
    "          .groupBy('cluster')\\\n",
    "          .agg(functions.mean('revenue').alias('rev_avg'),\n",
    "               functions.stddev('revenue').alias('rev_std'),\n",
    "               functions.mean('tax').alias('tax_avg'),\n",
    "               functions.stddev('tax').alias('tax_std'))\n",
    "\n",
    "stats"
   ]
  },
  {
   "cell_type": "markdown",
   "metadata": {},
   "source": [
    "Join the aggregated results with the original DataFrame"
   ]
  },
  {
   "cell_type": "code",
   "execution_count": 25,
   "metadata": {},
   "outputs": [
    {
     "data": {
      "text/plain": [
       "DataFrame[cluster: int, revenue: double, tax: double, features: vector, rev_avg: double, rev_std: double, tax_avg: double, tax_std: double]"
      ]
     },
     "execution_count": 25,
     "metadata": {},
     "output_type": "execute_result"
    }
   ],
   "source": [
    "annotated = predicted.join(stats, on='cluster', how='left')\n",
    "annotated"
   ]
  },
  {
   "cell_type": "markdown",
   "metadata": {},
   "source": [
    "And we are ready to do the arithmetic!"
   ]
  },
  {
   "cell_type": "code",
   "execution_count": 29,
   "metadata": {},
   "outputs": [
    {
     "data": {
      "text/plain": [
       "DataFrame[revenue: double, tax: double, cluster: int, zrev: double, ztax: double]"
      ]
     },
     "execution_count": 29,
     "metadata": {},
     "output_type": "execute_result"
    }
   ],
   "source": [
    "calculated = annotated.select('revenue',\n",
    "                              'tax',\n",
    "                              'cluster',\n",
    "                              ((annotated['revenue'] - annotated['rev_avg']) / annotated['rev_std']).alias('zrev'),\n",
    "                              ((annotated['tax'] - annotated['tax_avg']) / annotated['tax_std']).alias('ztax'))\n",
    "calculated"
   ]
  },
  {
   "cell_type": "code",
   "execution_count": 38,
   "metadata": {},
   "outputs": [],
   "source": [
    "zscores = calculated\\\n",
    "            .withColumn('zscore_square', calculated['zrev'] ** 2 + calculated['ztax'] ** 2)\\\n",
    "            .withColumn('outlier', calculated['zrev'] ** 2 + calculated['ztax'] ** 2 > 9)"
   ]
  },
  {
   "cell_type": "markdown",
   "metadata": {},
   "source": [
    "### Plot the results\n",
    "\n",
    "We use the standard Python scientific stack to plot"
   ]
  },
  {
   "cell_type": "code",
   "execution_count": 39,
   "metadata": {
    "scrolled": false
   },
   "outputs": [],
   "source": [
    "pd_df = zscores.select('revenue', 'tax', 'zscore_square', 'outlier').toPandas()"
   ]
  },
  {
   "cell_type": "code",
   "execution_count": 41,
   "metadata": {},
   "outputs": [
    {
     "data": {
      "text/plain": [
       "(-50, 750)"
      ]
     },
     "execution_count": 41,
     "metadata": {},
     "output_type": "execute_result"
    },
    {
     "data": {
      "image/png": "[encoded data removed]",
      "text/plain": [
       "<Figure size 432x288 with 1 Axes>"
      ]
     },
     "metadata": {},
     "output_type": "display_data"
    }
   ],
   "source": [
    "import pandas as pd\n",
    "import numpy as np\n",
    "import matplotlib.pyplot as plt\n",
    "%matplotlib inline\n",
    "\n",
    "sample = pd_df.sample(50000, random_state=42)\n",
    "only_outlier = sample[sample['outlier']]\n",
    "\n",
    "plt.scatter(sample['revenue'], sample['tax'], alpha=0.01)\n",
    "plt.scatter(only_outlier['revenue'], only_outlier['tax'], c='Red')\n",
    "plt.xlim((-50, 1500))\n",
    "plt.ylim((-50, 750))"
   ]
  },
  {
   "cell_type": "markdown",
   "metadata": {},
   "source": [
    "Looks just the same!"
   ]
  },
  {
   "cell_type": "markdown",
   "metadata": {},
   "source": [
    "### Appendix: saving models\n",
    "\n",
    "Just like in sklearn, we can save learned models so that we can share, import or deploy them. In this case we have an additional perk over sklearn: we can use the saved models in pyspark, but also in Scala or Java-based Spark applications. R is trickier, but it should be coming at some point."
   ]
  },
  {
   "cell_type": "code",
   "execution_count": 42,
   "metadata": {},
   "outputs": [],
   "source": [
    "kmeans_model.save('my_trained_kmeans')"
   ]
  },
  {
   "cell_type": "code",
   "execution_count": 44,
   "metadata": {},
   "outputs": [],
   "source": [
    "from pyspark.ml.clustering import KMeansModel\n",
    "\n",
    "rehydrated_model = KMeansModel.load('my_trained_kmeans')"
   ]
  },
  {
   "cell_type": "code",
   "execution_count": 45,
   "metadata": {},
   "outputs": [
    {
     "data": {
      "text/plain": [
       "DataFrame[revenue: double, tax: double, features: vector, cluster: int]"
      ]
     },
     "execution_count": 45,
     "metadata": {},
     "output_type": "execute_result"
    }
   ],
   "source": [
    "rehydrated_model.transform(assembled)"
   ]
  },
  {
   "cell_type": "markdown",
   "metadata": {},
   "source": [
    "#### Exercise\n",
    "\n",
    "Turn this analysis into a Spark job (you can find an example in notebook 03).\n",
    "\n",
    "Upload it to the cluster and run it."
   ]
  },
  {
   "cell_type": "code",
   "execution_count": 47,
   "metadata": {},
   "outputs": [],
   "source": [
    "from pyspark.ml.clustering import KMeans\n",
    "from pyspark.ml.feature import VectorAssembler\n",
    "from pyspark.sql import functions, SparkSession\n",
    "\n",
    "session = SparkSession.builder.getOrCreate()\n",
    "df = session.read.csv('sales_segments.csv.gz', sep='^', header=True, inferSchema=True)\n",
    "df2 = df.select((df['revenue_amount_seg'] / df['bookings_seg']).alias('revenue'),\n",
    "                (df['fuel_surcharge_amount_seg'] / df['bookings_seg']).alias('tax'))\n",
    "\n",
    "va = VectorAssembler(inputCols=['revenue', 'tax'], outputCol='features')\n",
    "assembled = va.transform(df2)\n",
    "\n",
    "km = KMeans(predictionCol='cluster', k=8)\n",
    "kmeans_model = km.fit(assembled) \n",
    "predicted = kmeans_model.transform(assembled).cache()\n",
    "\n",
    "stats = predicted\\\n",
    "          .groupBy('cluster')\\\n",
    "          .agg(functions.mean('revenue').alias('rev_avg'),\n",
    "               functions.stddev('revenue').alias('rev_std'),\n",
    "               functions.mean('tax').alias('tax_avg'),\n",
    "               functions.stddev('tax').alias('tax_std'))\n",
    "\n",
    "annotated = predicted.join(stats, on='cluster', how='left')\n",
    "calculated = annotated.select('revenue',\n",
    "                              'tax',\n",
    "                              'cluster',\n",
    "                              ((annotated['revenue'] - annotated['rev_avg']) / annotated['rev_std']).alias('zrev'),\n",
    "                              ((annotated['tax'] - annotated['tax_avg']) / annotated['tax_std']).alias('ztax'))\n",
    "\n",
    "zscores = calculated\\\n",
    "            .withColumn('zscore_square', calculated['zrev'] ** 2 + calculated['ztax'] ** 2)\\\n",
    "            .withColumn('outlier', calculated['zrev'] ** 2 + calculated['ztax'] ** 2 > 9)\n",
    "\n",
    "zscores.write.csv('zscores.csv')"
   ]
  },
  {
   "cell_type": "code",
   "execution_count": null,
   "metadata": {},
   "outputs": [],
   "source": []
  }
 ],
 "metadata": {
  "anaconda-cloud": {},
  "kernelspec": {
   "display_name": "Python 3",
   "language": "python",
   "name": "python3"
  },
  "language_info": {
   "codemirror_mode": {
    "name": "ipython",
    "version": 3
   },
   "file_extension": ".py",
   "mimetype": "text/x-python",
   "name": "python",
   "nbconvert_exporter": "python",
   "pygments_lexer": "ipython3",
   "version": "3.6.6"
  }
 },
 "nbformat": 4,
 "nbformat_minor": 1
}
