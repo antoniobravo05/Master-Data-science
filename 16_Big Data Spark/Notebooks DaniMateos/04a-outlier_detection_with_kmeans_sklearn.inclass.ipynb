{
 "cells": [
  {
   "cell_type": "markdown",
   "metadata": {},
   "source": [
    "# Porting an analysis from local to distributed\n",
    "\n",
    "In this pair of notebooks, we will develop a prototype unsupervised analysis with sklearn and then port it to use Spark, as we might in real life.\n",
    "\n",
    "<a href = \"http://yogen.io\"><img src=\"http://yogen.io/assets/logo.svg\" alt=\"yogen\" style=\"width: 200px; float: right;\"/></a>\n"
   ]
  },
  {
   "cell_type": "markdown",
   "metadata": {},
   "source": [
    "## K-means clustering using sklearn\n",
    "\n",
    "Our starting point is a dataset, `~/Data/sales_segments.csv.gz`, which contains data for air reservations at segment level.\n",
    "\n",
    "For each reservation, we get among others a `revenue_amount_seg` value, a `fuel_surcharge_amount_seg` value and a `bookings_seg` value. The first one represents the main amount paid to the airline and the second is referred to as 'tax', but reflects a different kind of revenue that in principle should be roughly proportional to the first kind. The third is the number of persons booked for the segment in question.\n",
    "\n",
    "The rationale here is that the business side has detected that some of the segments are probably wrong and requested an automated way to detect suspicious segments based on their revenue / fuel_surcharge ratio.\n",
    "\n",
    "How do you think we could do that in a scalable way?"
   ]
  },
  {
   "cell_type": "code",
   "execution_count": 1,
   "metadata": {},
   "outputs": [
    {
     "name": "stderr",
     "output_type": "stream",
     "text": [
      "/home/dani/anaconda3/envs/master-p3/lib/python3.6/site-packages/IPython/core/interactiveshell.py:2785: DtypeWarning: Columns (40,44,45,47,48,57) have mixed types. Specify dtype option on import or set low_memory=False.\n",
      "  interactivity=interactivity, compiler=compiler, result=result)\n"
     ]
    }
   ],
   "source": [
    "import pandas as pd\n",
    "import numpy as np\n",
    "import matplotlib.pyplot as plt\n",
    "%matplotlib inline\n",
    "\n",
    "df = pd.read_csv('sales_segments.csv.gz', sep='^')"
   ]
  },
  {
   "cell_type": "markdown",
   "metadata": {},
   "source": [
    "### First, inspect the data "
   ]
  },
  {
   "cell_type": "code",
   "execution_count": 2,
   "metadata": {},
   "outputs": [
    {
     "data": {
      "text/html": [
       "<div>\n",
       "<style scoped>\n",
       "    .dataframe tbody tr th:only-of-type {\n",
       "        vertical-align: middle;\n",
       "    }\n",
       "\n",
       "    .dataframe tbody tr th {\n",
       "        vertical-align: top;\n",
       "    }\n",
       "\n",
       "    .dataframe thead th {\n",
       "        text-align: right;\n",
       "    }\n",
       "</style>\n",
       "<table border=\"1\" class=\"dataframe\">\n",
       "  <thead>\n",
       "    <tr style=\"text-align: right;\">\n",
       "      <th></th>\n",
       "      <th>rloc</th>\n",
       "      <th>departure_date_seg</th>\n",
       "      <th>booking_date</th>\n",
       "      <th>freq_flyer_flag</th>\n",
       "      <th>creator_office_id</th>\n",
       "      <th>creator_iata_number</th>\n",
       "      <th>creator_gds_code</th>\n",
       "      <th>creator_city_code</th>\n",
       "      <th>creator_lat</th>\n",
       "      <th>creator_lon</th>\n",
       "      <th>...</th>\n",
       "      <th>bookings_seg</th>\n",
       "      <th>rpk_seg</th>\n",
       "      <th>revenue_amount_seg</th>\n",
       "      <th>currency_code</th>\n",
       "      <th>fuel_surcharge_amount_seg</th>\n",
       "      <th>fuel_surcharge_currency_code</th>\n",
       "      <th>emd_count</th>\n",
       "      <th>emd_amount</th>\n",
       "      <th>emd_currency_code</th>\n",
       "      <th>total_outliers</th>\n",
       "    </tr>\n",
       "  </thead>\n",
       "  <tbody>\n",
       "    <tr>\n",
       "      <th>0</th>\n",
       "      <td>59GS9Y</td>\n",
       "      <td>2013-12-21</td>\n",
       "      <td>2013-09-05</td>\n",
       "      <td>False</td>\n",
       "      <td>RUNHS3103</td>\n",
       "      <td>66200201.0</td>\n",
       "      <td>1A</td>\n",
       "      <td>RUN</td>\n",
       "      <td>-20.90083</td>\n",
       "      <td>55.53715</td>\n",
       "      <td>...</td>\n",
       "      <td>1</td>\n",
       "      <td>239</td>\n",
       "      <td>33.56</td>\n",
       "      <td>EUR</td>\n",
       "      <td>7.30</td>\n",
       "      <td>EUR</td>\n",
       "      <td>0</td>\n",
       "      <td>0.0</td>\n",
       "      <td>NaN</td>\n",
       "      <td>7.300000</td>\n",
       "    </tr>\n",
       "    <tr>\n",
       "      <th>1</th>\n",
       "      <td>4D87YU</td>\n",
       "      <td>2013-12-29</td>\n",
       "      <td>2013-01-29</td>\n",
       "      <td>False</td>\n",
       "      <td>RUNUU000B</td>\n",
       "      <td>66490104.0</td>\n",
       "      <td>UU</td>\n",
       "      <td>RUN</td>\n",
       "      <td>-20.90083</td>\n",
       "      <td>55.53715</td>\n",
       "      <td>...</td>\n",
       "      <td>5</td>\n",
       "      <td>1116</td>\n",
       "      <td>306.00</td>\n",
       "      <td>EUR</td>\n",
       "      <td>127.50</td>\n",
       "      <td>EUR</td>\n",
       "      <td>0</td>\n",
       "      <td>0.0</td>\n",
       "      <td>NaN</td>\n",
       "      <td>77.271017</td>\n",
       "    </tr>\n",
       "    <tr>\n",
       "      <th>2</th>\n",
       "      <td>7W67K8</td>\n",
       "      <td>2013-12-29</td>\n",
       "      <td>2013-02-05</td>\n",
       "      <td>False</td>\n",
       "      <td>RUNUU01A3</td>\n",
       "      <td>66490830.0</td>\n",
       "      <td>UU</td>\n",
       "      <td>RUN</td>\n",
       "      <td>-20.90083</td>\n",
       "      <td>55.53715</td>\n",
       "      <td>...</td>\n",
       "      <td>19</td>\n",
       "      <td>4240</td>\n",
       "      <td>1365.50</td>\n",
       "      <td>EUR</td>\n",
       "      <td>234.00</td>\n",
       "      <td>EUR</td>\n",
       "      <td>0</td>\n",
       "      <td>0.0</td>\n",
       "      <td>NaN</td>\n",
       "      <td>278.175661</td>\n",
       "    </tr>\n",
       "    <tr>\n",
       "      <th>3</th>\n",
       "      <td>3ESPWM</td>\n",
       "      <td>2013-12-29</td>\n",
       "      <td>2013-03-19</td>\n",
       "      <td>False</td>\n",
       "      <td>RUNUU010C</td>\n",
       "      <td>66490771.0</td>\n",
       "      <td>UU</td>\n",
       "      <td>RUN</td>\n",
       "      <td>-20.90083</td>\n",
       "      <td>55.53715</td>\n",
       "      <td>...</td>\n",
       "      <td>3</td>\n",
       "      <td>1220</td>\n",
       "      <td>81.35</td>\n",
       "      <td>EUR</td>\n",
       "      <td>39.93</td>\n",
       "      <td>EUR</td>\n",
       "      <td>0</td>\n",
       "      <td>0.0</td>\n",
       "      <td>NaN</td>\n",
       "      <td>32.458243</td>\n",
       "    </tr>\n",
       "    <tr>\n",
       "      <th>4</th>\n",
       "      <td>6ITPJM</td>\n",
       "      <td>2013-12-29</td>\n",
       "      <td>2013-05-11</td>\n",
       "      <td>False</td>\n",
       "      <td>MRSA12108</td>\n",
       "      <td>20261721.0</td>\n",
       "      <td>1A</td>\n",
       "      <td>MRS</td>\n",
       "      <td>43.29695</td>\n",
       "      <td>5.38107</td>\n",
       "      <td>...</td>\n",
       "      <td>2</td>\n",
       "      <td>1342</td>\n",
       "      <td>0.00</td>\n",
       "      <td>EUR</td>\n",
       "      <td>31.82</td>\n",
       "      <td>EUR</td>\n",
       "      <td>0</td>\n",
       "      <td>0.0</td>\n",
       "      <td>NaN</td>\n",
       "      <td>32.496507</td>\n",
       "    </tr>\n",
       "  </tbody>\n",
       "</table>\n",
       "<p>5 rows × 59 columns</p>\n",
       "</div>"
      ],
      "text/plain": [
       "     rloc departure_date_seg booking_date  freq_flyer_flag creator_office_id  \\\n",
       "0  59GS9Y         2013-12-21   2013-09-05            False         RUNHS3103   \n",
       "1  4D87YU         2013-12-29   2013-01-29            False         RUNUU000B   \n",
       "2  7W67K8         2013-12-29   2013-02-05            False         RUNUU01A3   \n",
       "3  3ESPWM         2013-12-29   2013-03-19            False         RUNUU010C   \n",
       "4  6ITPJM         2013-12-29   2013-05-11            False         MRSA12108   \n",
       "\n",
       "   creator_iata_number creator_gds_code creator_city_code  creator_lat  \\\n",
       "0           66200201.0               1A               RUN    -20.90083   \n",
       "1           66490104.0               UU               RUN    -20.90083   \n",
       "2           66490830.0               UU               RUN    -20.90083   \n",
       "3           66490771.0               UU               RUN    -20.90083   \n",
       "4           20261721.0               1A               MRS     43.29695   \n",
       "\n",
       "   creator_lon      ...       bookings_seg rpk_seg revenue_amount_seg  \\\n",
       "0     55.53715      ...                  1     239              33.56   \n",
       "1     55.53715      ...                  5    1116             306.00   \n",
       "2     55.53715      ...                 19    4240            1365.50   \n",
       "3     55.53715      ...                  3    1220              81.35   \n",
       "4      5.38107      ...                  2    1342               0.00   \n",
       "\n",
       "  currency_code fuel_surcharge_amount_seg fuel_surcharge_currency_code  \\\n",
       "0           EUR                      7.30                          EUR   \n",
       "1           EUR                    127.50                          EUR   \n",
       "2           EUR                    234.00                          EUR   \n",
       "3           EUR                     39.93                          EUR   \n",
       "4           EUR                     31.82                          EUR   \n",
       "\n",
       "  emd_count  emd_amount emd_currency_code total_outliers  \n",
       "0         0         0.0               NaN       7.300000  \n",
       "1         0         0.0               NaN      77.271017  \n",
       "2         0         0.0               NaN     278.175661  \n",
       "3         0         0.0               NaN      32.458243  \n",
       "4         0         0.0               NaN      32.496507  \n",
       "\n",
       "[5 rows x 59 columns]"
      ]
     },
     "execution_count": 2,
     "metadata": {},
     "output_type": "execute_result"
    }
   ],
   "source": [
    "df.head()"
   ]
  },
  {
   "cell_type": "code",
   "execution_count": 3,
   "metadata": {},
   "outputs": [
    {
     "data": {
      "text/html": [
       "<div>\n",
       "<style scoped>\n",
       "    .dataframe tbody tr th:only-of-type {\n",
       "        vertical-align: middle;\n",
       "    }\n",
       "\n",
       "    .dataframe tbody tr th {\n",
       "        vertical-align: top;\n",
       "    }\n",
       "\n",
       "    .dataframe thead th {\n",
       "        text-align: right;\n",
       "    }\n",
       "</style>\n",
       "<table border=\"1\" class=\"dataframe\">\n",
       "  <thead>\n",
       "    <tr style=\"text-align: right;\">\n",
       "      <th></th>\n",
       "      <th>revenue_amount_seg</th>\n",
       "      <th>fuel_surcharge_amount_seg</th>\n",
       "      <th>bookings_seg</th>\n",
       "    </tr>\n",
       "  </thead>\n",
       "  <tbody>\n",
       "    <tr>\n",
       "      <th>count</th>\n",
       "      <td>1.459121e+06</td>\n",
       "      <td>1.459121e+06</td>\n",
       "      <td>1.459121e+06</td>\n",
       "    </tr>\n",
       "    <tr>\n",
       "      <th>mean</th>\n",
       "      <td>3.699153e+02</td>\n",
       "      <td>1.625172e+02</td>\n",
       "      <td>1.801091e+00</td>\n",
       "    </tr>\n",
       "    <tr>\n",
       "      <th>std</th>\n",
       "      <td>4.340001e+03</td>\n",
       "      <td>2.915060e+02</td>\n",
       "      <td>2.237350e+00</td>\n",
       "    </tr>\n",
       "    <tr>\n",
       "      <th>min</th>\n",
       "      <td>0.000000e+00</td>\n",
       "      <td>0.000000e+00</td>\n",
       "      <td>1.000000e+00</td>\n",
       "    </tr>\n",
       "    <tr>\n",
       "      <th>25%</th>\n",
       "      <td>8.850000e+01</td>\n",
       "      <td>2.947000e+01</td>\n",
       "      <td>1.000000e+00</td>\n",
       "    </tr>\n",
       "    <tr>\n",
       "      <th>50%</th>\n",
       "      <td>1.988100e+02</td>\n",
       "      <td>7.508000e+01</td>\n",
       "      <td>1.000000e+00</td>\n",
       "    </tr>\n",
       "    <tr>\n",
       "      <th>75%</th>\n",
       "      <td>3.962600e+02</td>\n",
       "      <td>2.003100e+02</td>\n",
       "      <td>2.000000e+00</td>\n",
       "    </tr>\n",
       "    <tr>\n",
       "      <th>max</th>\n",
       "      <td>1.392156e+06</td>\n",
       "      <td>5.083673e+04</td>\n",
       "      <td>2.650000e+02</td>\n",
       "    </tr>\n",
       "  </tbody>\n",
       "</table>\n",
       "</div>"
      ],
      "text/plain": [
       "       revenue_amount_seg  fuel_surcharge_amount_seg  bookings_seg\n",
       "count        1.459121e+06               1.459121e+06  1.459121e+06\n",
       "mean         3.699153e+02               1.625172e+02  1.801091e+00\n",
       "std          4.340001e+03               2.915060e+02  2.237350e+00\n",
       "min          0.000000e+00               0.000000e+00  1.000000e+00\n",
       "25%          8.850000e+01               2.947000e+01  1.000000e+00\n",
       "50%          1.988100e+02               7.508000e+01  1.000000e+00\n",
       "75%          3.962600e+02               2.003100e+02  2.000000e+00\n",
       "max          1.392156e+06               5.083673e+04  2.650000e+02"
      ]
     },
     "execution_count": 3,
     "metadata": {},
     "output_type": "execute_result"
    }
   ],
   "source": [
    "df[['revenue_amount_seg', 'fuel_surcharge_amount_seg', 'bookings_seg']].describe()"
   ]
  },
  {
   "cell_type": "markdown",
   "metadata": {},
   "source": [
    "### Calculate KPIs\n",
    "\n",
    "* \"revenue\" per person\n",
    "* \"tax\" per person\n"
   ]
  },
  {
   "cell_type": "code",
   "execution_count": 4,
   "metadata": {},
   "outputs": [
    {
     "data": {
      "text/html": [
       "<div>\n",
       "<style scoped>\n",
       "    .dataframe tbody tr th:only-of-type {\n",
       "        vertical-align: middle;\n",
       "    }\n",
       "\n",
       "    .dataframe tbody tr th {\n",
       "        vertical-align: top;\n",
       "    }\n",
       "\n",
       "    .dataframe thead th {\n",
       "        text-align: right;\n",
       "    }\n",
       "</style>\n",
       "<table border=\"1\" class=\"dataframe\">\n",
       "  <thead>\n",
       "    <tr style=\"text-align: right;\">\n",
       "      <th></th>\n",
       "      <th>rloc</th>\n",
       "      <th>departure_date_seg</th>\n",
       "      <th>booking_date</th>\n",
       "      <th>freq_flyer_flag</th>\n",
       "      <th>creator_office_id</th>\n",
       "      <th>creator_iata_number</th>\n",
       "      <th>creator_gds_code</th>\n",
       "      <th>creator_city_code</th>\n",
       "      <th>creator_lat</th>\n",
       "      <th>creator_lon</th>\n",
       "      <th>...</th>\n",
       "      <th>revenue_amount_seg</th>\n",
       "      <th>currency_code</th>\n",
       "      <th>fuel_surcharge_amount_seg</th>\n",
       "      <th>fuel_surcharge_currency_code</th>\n",
       "      <th>emd_count</th>\n",
       "      <th>emd_amount</th>\n",
       "      <th>emd_currency_code</th>\n",
       "      <th>total_outliers</th>\n",
       "      <th>revenue</th>\n",
       "      <th>tax</th>\n",
       "    </tr>\n",
       "  </thead>\n",
       "  <tbody>\n",
       "    <tr>\n",
       "      <th>0</th>\n",
       "      <td>59GS9Y</td>\n",
       "      <td>2013-12-21</td>\n",
       "      <td>2013-09-05</td>\n",
       "      <td>False</td>\n",
       "      <td>RUNHS3103</td>\n",
       "      <td>66200201.0</td>\n",
       "      <td>1A</td>\n",
       "      <td>RUN</td>\n",
       "      <td>-20.90083</td>\n",
       "      <td>55.53715</td>\n",
       "      <td>...</td>\n",
       "      <td>33.56</td>\n",
       "      <td>EUR</td>\n",
       "      <td>7.30</td>\n",
       "      <td>EUR</td>\n",
       "      <td>0</td>\n",
       "      <td>0.0</td>\n",
       "      <td>NaN</td>\n",
       "      <td>7.300000</td>\n",
       "      <td>33.560000</td>\n",
       "      <td>7.300000</td>\n",
       "    </tr>\n",
       "    <tr>\n",
       "      <th>1</th>\n",
       "      <td>4D87YU</td>\n",
       "      <td>2013-12-29</td>\n",
       "      <td>2013-01-29</td>\n",
       "      <td>False</td>\n",
       "      <td>RUNUU000B</td>\n",
       "      <td>66490104.0</td>\n",
       "      <td>UU</td>\n",
       "      <td>RUN</td>\n",
       "      <td>-20.90083</td>\n",
       "      <td>55.53715</td>\n",
       "      <td>...</td>\n",
       "      <td>306.00</td>\n",
       "      <td>EUR</td>\n",
       "      <td>127.50</td>\n",
       "      <td>EUR</td>\n",
       "      <td>0</td>\n",
       "      <td>0.0</td>\n",
       "      <td>NaN</td>\n",
       "      <td>77.271017</td>\n",
       "      <td>61.200000</td>\n",
       "      <td>25.500000</td>\n",
       "    </tr>\n",
       "    <tr>\n",
       "      <th>2</th>\n",
       "      <td>7W67K8</td>\n",
       "      <td>2013-12-29</td>\n",
       "      <td>2013-02-05</td>\n",
       "      <td>False</td>\n",
       "      <td>RUNUU01A3</td>\n",
       "      <td>66490830.0</td>\n",
       "      <td>UU</td>\n",
       "      <td>RUN</td>\n",
       "      <td>-20.90083</td>\n",
       "      <td>55.53715</td>\n",
       "      <td>...</td>\n",
       "      <td>1365.50</td>\n",
       "      <td>EUR</td>\n",
       "      <td>234.00</td>\n",
       "      <td>EUR</td>\n",
       "      <td>0</td>\n",
       "      <td>0.0</td>\n",
       "      <td>NaN</td>\n",
       "      <td>278.175661</td>\n",
       "      <td>71.868421</td>\n",
       "      <td>12.315789</td>\n",
       "    </tr>\n",
       "    <tr>\n",
       "      <th>3</th>\n",
       "      <td>3ESPWM</td>\n",
       "      <td>2013-12-29</td>\n",
       "      <td>2013-03-19</td>\n",
       "      <td>False</td>\n",
       "      <td>RUNUU010C</td>\n",
       "      <td>66490771.0</td>\n",
       "      <td>UU</td>\n",
       "      <td>RUN</td>\n",
       "      <td>-20.90083</td>\n",
       "      <td>55.53715</td>\n",
       "      <td>...</td>\n",
       "      <td>81.35</td>\n",
       "      <td>EUR</td>\n",
       "      <td>39.93</td>\n",
       "      <td>EUR</td>\n",
       "      <td>0</td>\n",
       "      <td>0.0</td>\n",
       "      <td>NaN</td>\n",
       "      <td>32.458243</td>\n",
       "      <td>27.116667</td>\n",
       "      <td>13.310000</td>\n",
       "    </tr>\n",
       "    <tr>\n",
       "      <th>4</th>\n",
       "      <td>6ITPJM</td>\n",
       "      <td>2013-12-29</td>\n",
       "      <td>2013-05-11</td>\n",
       "      <td>False</td>\n",
       "      <td>MRSA12108</td>\n",
       "      <td>20261721.0</td>\n",
       "      <td>1A</td>\n",
       "      <td>MRS</td>\n",
       "      <td>43.29695</td>\n",
       "      <td>5.38107</td>\n",
       "      <td>...</td>\n",
       "      <td>0.00</td>\n",
       "      <td>EUR</td>\n",
       "      <td>31.82</td>\n",
       "      <td>EUR</td>\n",
       "      <td>0</td>\n",
       "      <td>0.0</td>\n",
       "      <td>NaN</td>\n",
       "      <td>32.496507</td>\n",
       "      <td>0.000000</td>\n",
       "      <td>15.910000</td>\n",
       "    </tr>\n",
       "  </tbody>\n",
       "</table>\n",
       "<p>5 rows × 61 columns</p>\n",
       "</div>"
      ],
      "text/plain": [
       "     rloc departure_date_seg booking_date  freq_flyer_flag creator_office_id  \\\n",
       "0  59GS9Y         2013-12-21   2013-09-05            False         RUNHS3103   \n",
       "1  4D87YU         2013-12-29   2013-01-29            False         RUNUU000B   \n",
       "2  7W67K8         2013-12-29   2013-02-05            False         RUNUU01A3   \n",
       "3  3ESPWM         2013-12-29   2013-03-19            False         RUNUU010C   \n",
       "4  6ITPJM         2013-12-29   2013-05-11            False         MRSA12108   \n",
       "\n",
       "   creator_iata_number creator_gds_code creator_city_code  creator_lat  \\\n",
       "0           66200201.0               1A               RUN    -20.90083   \n",
       "1           66490104.0               UU               RUN    -20.90083   \n",
       "2           66490830.0               UU               RUN    -20.90083   \n",
       "3           66490771.0               UU               RUN    -20.90083   \n",
       "4           20261721.0               1A               MRS     43.29695   \n",
       "\n",
       "   creator_lon    ...     revenue_amount_seg currency_code  \\\n",
       "0     55.53715    ...                  33.56           EUR   \n",
       "1     55.53715    ...                 306.00           EUR   \n",
       "2     55.53715    ...                1365.50           EUR   \n",
       "3     55.53715    ...                  81.35           EUR   \n",
       "4      5.38107    ...                   0.00           EUR   \n",
       "\n",
       "  fuel_surcharge_amount_seg fuel_surcharge_currency_code emd_count emd_amount  \\\n",
       "0                      7.30                          EUR         0        0.0   \n",
       "1                    127.50                          EUR         0        0.0   \n",
       "2                    234.00                          EUR         0        0.0   \n",
       "3                     39.93                          EUR         0        0.0   \n",
       "4                     31.82                          EUR         0        0.0   \n",
       "\n",
       "  emd_currency_code  total_outliers    revenue        tax  \n",
       "0               NaN        7.300000  33.560000   7.300000  \n",
       "1               NaN       77.271017  61.200000  25.500000  \n",
       "2               NaN      278.175661  71.868421  12.315789  \n",
       "3               NaN       32.458243  27.116667  13.310000  \n",
       "4               NaN       32.496507   0.000000  15.910000  \n",
       "\n",
       "[5 rows x 61 columns]"
      ]
     },
     "execution_count": 4,
     "metadata": {},
     "output_type": "execute_result"
    }
   ],
   "source": [
    "df['revenue'] = df['revenue_amount_seg'] / df['bookings_seg']\n",
    "df['tax'] = df['fuel_surcharge_amount_seg'] / df['bookings_seg']\n",
    "\n",
    "df.head()"
   ]
  },
  {
   "cell_type": "code",
   "execution_count": 5,
   "metadata": {},
   "outputs": [
    {
     "data": {
      "text/html": [
       "<div>\n",
       "<style scoped>\n",
       "    .dataframe tbody tr th:only-of-type {\n",
       "        vertical-align: middle;\n",
       "    }\n",
       "\n",
       "    .dataframe tbody tr th {\n",
       "        vertical-align: top;\n",
       "    }\n",
       "\n",
       "    .dataframe thead th {\n",
       "        text-align: right;\n",
       "    }\n",
       "</style>\n",
       "<table border=\"1\" class=\"dataframe\">\n",
       "  <thead>\n",
       "    <tr style=\"text-align: right;\">\n",
       "      <th></th>\n",
       "      <th>revenue</th>\n",
       "      <th>tax</th>\n",
       "    </tr>\n",
       "  </thead>\n",
       "  <tbody>\n",
       "    <tr>\n",
       "      <th>0</th>\n",
       "      <td>33.560000</td>\n",
       "      <td>7.300000</td>\n",
       "    </tr>\n",
       "    <tr>\n",
       "      <th>1</th>\n",
       "      <td>61.200000</td>\n",
       "      <td>25.500000</td>\n",
       "    </tr>\n",
       "    <tr>\n",
       "      <th>2</th>\n",
       "      <td>71.868421</td>\n",
       "      <td>12.315789</td>\n",
       "    </tr>\n",
       "    <tr>\n",
       "      <th>3</th>\n",
       "      <td>27.116667</td>\n",
       "      <td>13.310000</td>\n",
       "    </tr>\n",
       "    <tr>\n",
       "      <th>4</th>\n",
       "      <td>0.000000</td>\n",
       "      <td>15.910000</td>\n",
       "    </tr>\n",
       "  </tbody>\n",
       "</table>\n",
       "</div>"
      ],
      "text/plain": [
       "     revenue        tax\n",
       "0  33.560000   7.300000\n",
       "1  61.200000  25.500000\n",
       "2  71.868421  12.315789\n",
       "3  27.116667  13.310000\n",
       "4   0.000000  15.910000"
      ]
     },
     "execution_count": 5,
     "metadata": {},
     "output_type": "execute_result"
    }
   ],
   "source": [
    "simple = df[['revenue', 'tax']]\n",
    "simple.head()"
   ]
  },
  {
   "cell_type": "markdown",
   "metadata": {},
   "source": [
    "### Inspect the distributions"
   ]
  },
  {
   "cell_type": "code",
   "execution_count": 6,
   "metadata": {},
   "outputs": [
    {
     "data": {
      "text/plain": [
       "(1459121, 2)"
      ]
     },
     "execution_count": 6,
     "metadata": {},
     "output_type": "execute_result"
    }
   ],
   "source": [
    "simple.shape"
   ]
  },
  {
   "cell_type": "code",
   "execution_count": 7,
   "metadata": {},
   "outputs": [
    {
     "data": {
      "text/plain": [
       "(-50, 1500)"
      ]
     },
     "execution_count": 7,
     "metadata": {},
     "output_type": "execute_result"
    },
    {
     "data": {
      "image/png": "[encoded data removed]",
      "text/plain": [
       "<Figure size 432x288 with 1 Axes>"
      ]
     },
     "metadata": {},
     "output_type": "display_data"
    }
   ],
   "source": [
    "sample = simple.sample(20000, random_state=42)\n",
    "\n",
    "plt.scatter(sample['revenue'], sample['tax'], alpha=0.01)\n",
    "plt.xlim((-50, 1500))"
   ]
  },
  {
   "cell_type": "markdown",
   "metadata": {},
   "source": [
    "## Now for some learning!\n",
    "\n",
    "It seems there are at least two or three groups of segments.\n",
    "\n",
    "What we are going to do is to separate them into clusters with kmeans, then use the z-score as an outlier score."
   ]
  },
  {
   "cell_type": "markdown",
   "metadata": {},
   "source": [
    "#### Training a model with sklearn is quick and easy\n",
    "\n",
    "We just use `.fit` and then `.predict`. As we'll see, this is very similar to Spark ML."
   ]
  },
  {
   "cell_type": "code",
   "execution_count": 8,
   "metadata": {},
   "outputs": [
    {
     "data": {
      "text/plain": [
       "KMeans(algorithm='auto', copy_x=True, init='k-means++', max_iter=300,\n",
       "    n_clusters=3, n_init=10, n_jobs=1, precompute_distances='auto',\n",
       "    random_state=None, tol=0.0001, verbose=0)"
      ]
     },
     "execution_count": 8,
     "metadata": {},
     "output_type": "execute_result"
    }
   ],
   "source": [
    "from sklearn.cluster import KMeans\n",
    "\n",
    "kmeans = KMeans(3)\n",
    "\n",
    "kmeans.fit(simple)"
   ]
  },
  {
   "cell_type": "code",
   "execution_count": 9,
   "metadata": {},
   "outputs": [
    {
     "data": {
      "text/plain": [
       "array([0, 0, 0, ..., 0, 0, 0], dtype=int32)"
      ]
     },
     "execution_count": 9,
     "metadata": {},
     "output_type": "execute_result"
    }
   ],
   "source": [
    "kmeans.labels_"
   ]
  },
  {
   "cell_type": "markdown",
   "metadata": {},
   "source": [
    "### But, how do we know 3 clusters is the appropriate number?\n",
    "\n",
    "We could use the [Elbow method][1]\n",
    "\n",
    "[1]: https://en.wikipedia.org/wiki/Elbow_method_(clustering)"
   ]
  },
  {
   "cell_type": "markdown",
   "metadata": {},
   "source": [
    "Now we get each point's distance to its correponding centroid, which is the minimum for each row of the resulting matrix:"
   ]
  },
  {
   "cell_type": "markdown",
   "metadata": {},
   "source": [
    "And we take either the sum or mean of the resultting vector:\n"
   ]
  },
  {
   "cell_type": "markdown",
   "metadata": {},
   "source": [
    "Once we're sure it works, we can do it for n number of clusters:"
   ]
  },
  {
   "cell_type": "markdown",
   "metadata": {},
   "source": [
    "#### Let's plot the curve"
   ]
  },
  {
   "cell_type": "markdown",
   "metadata": {},
   "source": [
    "It was that easy! now let's see what we got:"
   ]
  },
  {
   "cell_type": "markdown",
   "metadata": {},
   "source": [
    "### Let's have a look"
   ]
  },
  {
   "cell_type": "code",
   "execution_count": 10,
   "metadata": {},
   "outputs": [
    {
     "data": {
      "text/plain": [
       "KMeans(algorithm='auto', copy_x=True, init='k-means++', max_iter=300,\n",
       "    n_clusters=8, n_init=10, n_jobs=1, precompute_distances='auto',\n",
       "    random_state=None, tol=0.0001, verbose=0)"
      ]
     },
     "execution_count": 10,
     "metadata": {},
     "output_type": "execute_result"
    }
   ],
   "source": [
    "kmeans = KMeans(8)\n",
    "\n",
    "kmeans.fit(simple)"
   ]
  },
  {
   "cell_type": "code",
   "execution_count": 11,
   "metadata": {},
   "outputs": [
    {
     "data": {
      "text/plain": [
       "array([5, 5, 5, ..., 5, 5, 5], dtype=int32)"
      ]
     },
     "execution_count": 11,
     "metadata": {},
     "output_type": "execute_result"
    }
   ],
   "source": [
    "kmeans.predict(simple)"
   ]
  },
  {
   "cell_type": "code",
   "execution_count": 12,
   "metadata": {},
   "outputs": [
    {
     "name": "stderr",
     "output_type": "stream",
     "text": [
      "/home/dani/anaconda3/envs/master-p3/lib/python3.6/site-packages/ipykernel_launcher.py:1: SettingWithCopyWarning: \n",
      "A value is trying to be set on a copy of a slice from a DataFrame.\n",
      "Try using .loc[row_indexer,col_indexer] = value instead\n",
      "\n",
      "See the caveats in the documentation: http://pandas.pydata.org/pandas-docs/stable/indexing.html#indexing-view-versus-copy\n",
      "  \"\"\"Entry point for launching an IPython kernel.\n"
     ]
    }
   ],
   "source": [
    "simple['cluster'] = kmeans.predict(simple)"
   ]
  },
  {
   "cell_type": "code",
   "execution_count": 13,
   "metadata": {},
   "outputs": [
    {
     "data": {
      "text/html": [
       "<div>\n",
       "<style scoped>\n",
       "    .dataframe tbody tr th:only-of-type {\n",
       "        vertical-align: middle;\n",
       "    }\n",
       "\n",
       "    .dataframe tbody tr th {\n",
       "        vertical-align: top;\n",
       "    }\n",
       "\n",
       "    .dataframe thead th {\n",
       "        text-align: right;\n",
       "    }\n",
       "</style>\n",
       "<table border=\"1\" class=\"dataframe\">\n",
       "  <thead>\n",
       "    <tr style=\"text-align: right;\">\n",
       "      <th></th>\n",
       "      <th>revenue</th>\n",
       "      <th>tax</th>\n",
       "      <th>cluster</th>\n",
       "    </tr>\n",
       "  </thead>\n",
       "  <tbody>\n",
       "    <tr>\n",
       "      <th>0</th>\n",
       "      <td>33.560000</td>\n",
       "      <td>7.300000</td>\n",
       "      <td>5</td>\n",
       "    </tr>\n",
       "    <tr>\n",
       "      <th>1</th>\n",
       "      <td>61.200000</td>\n",
       "      <td>25.500000</td>\n",
       "      <td>5</td>\n",
       "    </tr>\n",
       "    <tr>\n",
       "      <th>2</th>\n",
       "      <td>71.868421</td>\n",
       "      <td>12.315789</td>\n",
       "      <td>5</td>\n",
       "    </tr>\n",
       "    <tr>\n",
       "      <th>3</th>\n",
       "      <td>27.116667</td>\n",
       "      <td>13.310000</td>\n",
       "      <td>5</td>\n",
       "    </tr>\n",
       "    <tr>\n",
       "      <th>4</th>\n",
       "      <td>0.000000</td>\n",
       "      <td>15.910000</td>\n",
       "      <td>5</td>\n",
       "    </tr>\n",
       "  </tbody>\n",
       "</table>\n",
       "</div>"
      ],
      "text/plain": [
       "     revenue        tax  cluster\n",
       "0  33.560000   7.300000        5\n",
       "1  61.200000  25.500000        5\n",
       "2  71.868421  12.315789        5\n",
       "3  27.116667  13.310000        5\n",
       "4   0.000000  15.910000        5"
      ]
     },
     "execution_count": 13,
     "metadata": {},
     "output_type": "execute_result"
    }
   ],
   "source": [
    "simple.head()"
   ]
  },
  {
   "cell_type": "code",
   "execution_count": 14,
   "metadata": {},
   "outputs": [
    {
     "data": {
      "text/plain": [
       "(-50, 1500)"
      ]
     },
     "execution_count": 14,
     "metadata": {},
     "output_type": "execute_result"
    },
    {
     "data": {
      "image/png": "[encoded data removed]",
      "text/plain": [
       "<Figure size 432x288 with 1 Axes>"
      ]
     },
     "metadata": {},
     "output_type": "display_data"
    }
   ],
   "source": [
    "sample = simple.sample(20000, random_state=42)\n",
    "\n",
    "plt.scatter(sample['revenue'], sample['tax'], alpha=0.01, c=sample['cluster'])\n",
    "plt.xlim((-50, 1500))"
   ]
  },
  {
   "cell_type": "markdown",
   "metadata": {},
   "source": [
    "### Z scores\n",
    "\n",
    "Now we only need to calculate a z-score, so that we can score points as outliers or not outliers.\n",
    "\n"
   ]
  },
  {
   "cell_type": "markdown",
   "metadata": {},
   "source": [
    "#### Calculate means and standard deviations in each direction for each cluster"
   ]
  },
  {
   "cell_type": "code",
   "execution_count": 15,
   "metadata": {},
   "outputs": [
    {
     "data": {
      "text/html": [
       "<div>\n",
       "<style scoped>\n",
       "    .dataframe tbody tr th:only-of-type {\n",
       "        vertical-align: middle;\n",
       "    }\n",
       "\n",
       "    .dataframe tbody tr th {\n",
       "        vertical-align: top;\n",
       "    }\n",
       "\n",
       "    .dataframe thead th {\n",
       "        text-align: right;\n",
       "    }\n",
       "</style>\n",
       "<table border=\"1\" class=\"dataframe\">\n",
       "  <thead>\n",
       "    <tr style=\"text-align: right;\">\n",
       "      <th></th>\n",
       "      <th>revenue_mean</th>\n",
       "      <th>tax_mean</th>\n",
       "      <th>revenue_std</th>\n",
       "      <th>tax_std</th>\n",
       "    </tr>\n",
       "    <tr>\n",
       "      <th>cluster</th>\n",
       "      <th></th>\n",
       "      <th></th>\n",
       "      <th></th>\n",
       "      <th></th>\n",
       "    </tr>\n",
       "  </thead>\n",
       "  <tbody>\n",
       "    <tr>\n",
       "      <th>0</th>\n",
       "      <td>6.469148e+02</td>\n",
       "      <td>196.234813</td>\n",
       "      <td>431.477845</td>\n",
       "      <td>54.049059</td>\n",
       "    </tr>\n",
       "    <tr>\n",
       "      <th>1</th>\n",
       "      <td>6.152070e+05</td>\n",
       "      <td>29.731250</td>\n",
       "      <td>53170.300072</td>\n",
       "      <td>1.542099</td>\n",
       "    </tr>\n",
       "    <tr>\n",
       "      <th>2</th>\n",
       "      <td>1.126482e+05</td>\n",
       "      <td>21.289149</td>\n",
       "      <td>21982.833703</td>\n",
       "      <td>65.841028</td>\n",
       "    </tr>\n",
       "    <tr>\n",
       "      <th>3</th>\n",
       "      <td>8.775004e+05</td>\n",
       "      <td>30.302000</td>\n",
       "      <td>50236.153381</td>\n",
       "      <td>1.808823</td>\n",
       "    </tr>\n",
       "    <tr>\n",
       "      <th>4</th>\n",
       "      <td>3.467367e+05</td>\n",
       "      <td>102.778125</td>\n",
       "      <td>52460.589267</td>\n",
       "      <td>112.845184</td>\n",
       "    </tr>\n",
       "    <tr>\n",
       "      <th>5</th>\n",
       "      <td>1.353605e+02</td>\n",
       "      <td>78.612084</td>\n",
       "      <td>96.650615</td>\n",
       "      <td>79.460440</td>\n",
       "    </tr>\n",
       "    <tr>\n",
       "      <th>6</th>\n",
       "      <td>4.512963e+04</td>\n",
       "      <td>33.652690</td>\n",
       "      <td>13201.641379</td>\n",
       "      <td>34.963721</td>\n",
       "    </tr>\n",
       "    <tr>\n",
       "      <th>7</th>\n",
       "      <td>1.392156e+06</td>\n",
       "      <td>32.740000</td>\n",
       "      <td>NaN</td>\n",
       "      <td>NaN</td>\n",
       "    </tr>\n",
       "  </tbody>\n",
       "</table>\n",
       "</div>"
      ],
      "text/plain": [
       "         revenue_mean    tax_mean   revenue_std     tax_std\n",
       "cluster                                                    \n",
       "0        6.469148e+02  196.234813    431.477845   54.049059\n",
       "1        6.152070e+05   29.731250  53170.300072    1.542099\n",
       "2        1.126482e+05   21.289149  21982.833703   65.841028\n",
       "3        8.775004e+05   30.302000  50236.153381    1.808823\n",
       "4        3.467367e+05  102.778125  52460.589267  112.845184\n",
       "5        1.353605e+02   78.612084     96.650615   79.460440\n",
       "6        4.512963e+04   33.652690  13201.641379   34.963721\n",
       "7        1.392156e+06   32.740000           NaN         NaN"
      ]
     },
     "execution_count": 15,
     "metadata": {},
     "output_type": "execute_result"
    }
   ],
   "source": [
    "means = simple.groupby('cluster').mean()\n",
    "stds =  simple.groupby('cluster').std()\n",
    "stats = means.merge(stds, left_index=True, right_index=True, suffixes=('_mean', '_std'))\n",
    "stats"
   ]
  },
  {
   "cell_type": "markdown",
   "metadata": {},
   "source": [
    "#### And annotate each point with the stats for its cluster"
   ]
  },
  {
   "cell_type": "code",
   "execution_count": 16,
   "metadata": {},
   "outputs": [
    {
     "data": {
      "text/html": [
       "<div>\n",
       "<style scoped>\n",
       "    .dataframe tbody tr th:only-of-type {\n",
       "        vertical-align: middle;\n",
       "    }\n",
       "\n",
       "    .dataframe tbody tr th {\n",
       "        vertical-align: top;\n",
       "    }\n",
       "\n",
       "    .dataframe thead th {\n",
       "        text-align: right;\n",
       "    }\n",
       "</style>\n",
       "<table border=\"1\" class=\"dataframe\">\n",
       "  <thead>\n",
       "    <tr style=\"text-align: right;\">\n",
       "      <th></th>\n",
       "      <th>revenue</th>\n",
       "      <th>tax</th>\n",
       "      <th>cluster</th>\n",
       "      <th>revenue_mean</th>\n",
       "      <th>tax_mean</th>\n",
       "      <th>revenue_std</th>\n",
       "      <th>tax_std</th>\n",
       "    </tr>\n",
       "  </thead>\n",
       "  <tbody>\n",
       "    <tr>\n",
       "      <th>0</th>\n",
       "      <td>33.560000</td>\n",
       "      <td>7.300000</td>\n",
       "      <td>5</td>\n",
       "      <td>135.36048</td>\n",
       "      <td>78.612084</td>\n",
       "      <td>96.650615</td>\n",
       "      <td>79.46044</td>\n",
       "    </tr>\n",
       "    <tr>\n",
       "      <th>1</th>\n",
       "      <td>61.200000</td>\n",
       "      <td>25.500000</td>\n",
       "      <td>5</td>\n",
       "      <td>135.36048</td>\n",
       "      <td>78.612084</td>\n",
       "      <td>96.650615</td>\n",
       "      <td>79.46044</td>\n",
       "    </tr>\n",
       "    <tr>\n",
       "      <th>2</th>\n",
       "      <td>71.868421</td>\n",
       "      <td>12.315789</td>\n",
       "      <td>5</td>\n",
       "      <td>135.36048</td>\n",
       "      <td>78.612084</td>\n",
       "      <td>96.650615</td>\n",
       "      <td>79.46044</td>\n",
       "    </tr>\n",
       "    <tr>\n",
       "      <th>3</th>\n",
       "      <td>27.116667</td>\n",
       "      <td>13.310000</td>\n",
       "      <td>5</td>\n",
       "      <td>135.36048</td>\n",
       "      <td>78.612084</td>\n",
       "      <td>96.650615</td>\n",
       "      <td>79.46044</td>\n",
       "    </tr>\n",
       "    <tr>\n",
       "      <th>4</th>\n",
       "      <td>0.000000</td>\n",
       "      <td>15.910000</td>\n",
       "      <td>5</td>\n",
       "      <td>135.36048</td>\n",
       "      <td>78.612084</td>\n",
       "      <td>96.650615</td>\n",
       "      <td>79.46044</td>\n",
       "    </tr>\n",
       "  </tbody>\n",
       "</table>\n",
       "</div>"
      ],
      "text/plain": [
       "     revenue        tax  cluster  revenue_mean   tax_mean  revenue_std  \\\n",
       "0  33.560000   7.300000        5     135.36048  78.612084    96.650615   \n",
       "1  61.200000  25.500000        5     135.36048  78.612084    96.650615   \n",
       "2  71.868421  12.315789        5     135.36048  78.612084    96.650615   \n",
       "3  27.116667  13.310000        5     135.36048  78.612084    96.650615   \n",
       "4   0.000000  15.910000        5     135.36048  78.612084    96.650615   \n",
       "\n",
       "    tax_std  \n",
       "0  79.46044  \n",
       "1  79.46044  \n",
       "2  79.46044  \n",
       "3  79.46044  \n",
       "4  79.46044  "
      ]
     },
     "execution_count": 16,
     "metadata": {},
     "output_type": "execute_result"
    }
   ],
   "source": [
    "annotated = simple.merge(stats, left_on='cluster', right_index=True, how='left')\n",
    "annotated.head()"
   ]
  },
  {
   "cell_type": "markdown",
   "metadata": {},
   "source": [
    "#### Now we are ready to calculate the z scores"
   ]
  },
  {
   "cell_type": "code",
   "execution_count": 17,
   "metadata": {},
   "outputs": [
    {
     "data": {
      "text/html": [
       "<div>\n",
       "<style scoped>\n",
       "    .dataframe tbody tr th:only-of-type {\n",
       "        vertical-align: middle;\n",
       "    }\n",
       "\n",
       "    .dataframe tbody tr th {\n",
       "        vertical-align: top;\n",
       "    }\n",
       "\n",
       "    .dataframe thead th {\n",
       "        text-align: right;\n",
       "    }\n",
       "</style>\n",
       "<table border=\"1\" class=\"dataframe\">\n",
       "  <thead>\n",
       "    <tr style=\"text-align: right;\">\n",
       "      <th></th>\n",
       "      <th>revenue</th>\n",
       "      <th>tax</th>\n",
       "      <th>cluster</th>\n",
       "      <th>revenue_mean</th>\n",
       "      <th>tax_mean</th>\n",
       "      <th>revenue_std</th>\n",
       "      <th>tax_std</th>\n",
       "      <th>rev_z</th>\n",
       "      <th>tax_z</th>\n",
       "      <th>z-score_square</th>\n",
       "    </tr>\n",
       "  </thead>\n",
       "  <tbody>\n",
       "    <tr>\n",
       "      <th>0</th>\n",
       "      <td>33.560000</td>\n",
       "      <td>7.300000</td>\n",
       "      <td>5</td>\n",
       "      <td>135.36048</td>\n",
       "      <td>78.612084</td>\n",
       "      <td>96.650615</td>\n",
       "      <td>79.46044</td>\n",
       "      <td>-1.053283</td>\n",
       "      <td>-0.897454</td>\n",
       "      <td>1.914829</td>\n",
       "    </tr>\n",
       "    <tr>\n",
       "      <th>1</th>\n",
       "      <td>61.200000</td>\n",
       "      <td>25.500000</td>\n",
       "      <td>5</td>\n",
       "      <td>135.36048</td>\n",
       "      <td>78.612084</td>\n",
       "      <td>96.650615</td>\n",
       "      <td>79.46044</td>\n",
       "      <td>-0.767305</td>\n",
       "      <td>-0.668409</td>\n",
       "      <td>1.035527</td>\n",
       "    </tr>\n",
       "    <tr>\n",
       "      <th>2</th>\n",
       "      <td>71.868421</td>\n",
       "      <td>12.315789</td>\n",
       "      <td>5</td>\n",
       "      <td>135.36048</td>\n",
       "      <td>78.612084</td>\n",
       "      <td>96.650615</td>\n",
       "      <td>79.46044</td>\n",
       "      <td>-0.656923</td>\n",
       "      <td>-0.834331</td>\n",
       "      <td>1.127656</td>\n",
       "    </tr>\n",
       "    <tr>\n",
       "      <th>3</th>\n",
       "      <td>27.116667</td>\n",
       "      <td>13.310000</td>\n",
       "      <td>5</td>\n",
       "      <td>135.36048</td>\n",
       "      <td>78.612084</td>\n",
       "      <td>96.650615</td>\n",
       "      <td>79.46044</td>\n",
       "      <td>-1.119950</td>\n",
       "      <td>-0.821819</td>\n",
       "      <td>1.929673</td>\n",
       "    </tr>\n",
       "    <tr>\n",
       "      <th>4</th>\n",
       "      <td>0.000000</td>\n",
       "      <td>15.910000</td>\n",
       "      <td>5</td>\n",
       "      <td>135.36048</td>\n",
       "      <td>78.612084</td>\n",
       "      <td>96.650615</td>\n",
       "      <td>79.46044</td>\n",
       "      <td>-1.400513</td>\n",
       "      <td>-0.789098</td>\n",
       "      <td>2.584114</td>\n",
       "    </tr>\n",
       "  </tbody>\n",
       "</table>\n",
       "</div>"
      ],
      "text/plain": [
       "     revenue        tax  cluster  revenue_mean   tax_mean  revenue_std  \\\n",
       "0  33.560000   7.300000        5     135.36048  78.612084    96.650615   \n",
       "1  61.200000  25.500000        5     135.36048  78.612084    96.650615   \n",
       "2  71.868421  12.315789        5     135.36048  78.612084    96.650615   \n",
       "3  27.116667  13.310000        5     135.36048  78.612084    96.650615   \n",
       "4   0.000000  15.910000        5     135.36048  78.612084    96.650615   \n",
       "\n",
       "    tax_std     rev_z     tax_z  z-score_square  \n",
       "0  79.46044 -1.053283 -0.897454        1.914829  \n",
       "1  79.46044 -0.767305 -0.668409        1.035527  \n",
       "2  79.46044 -0.656923 -0.834331        1.127656  \n",
       "3  79.46044 -1.119950 -0.821819        1.929673  \n",
       "4  79.46044 -1.400513 -0.789098        2.584114  "
      ]
     },
     "execution_count": 17,
     "metadata": {},
     "output_type": "execute_result"
    }
   ],
   "source": [
    "annotated['rev_z'] = (annotated['revenue'] - annotated['revenue_mean']) / annotated['revenue_std']\n",
    "annotated['tax_z'] = (annotated['tax'] - annotated['tax_mean']) / annotated['tax_std']\n",
    "\n",
    "annotated['z-score_square'] = annotated['rev_z'] ** 2 + annotated['tax_z'] ** 2\n",
    "annotated.head()"
   ]
  },
  {
   "cell_type": "code",
   "execution_count": 18,
   "metadata": {},
   "outputs": [
    {
     "name": "stderr",
     "output_type": "stream",
     "text": [
      "/home/dani/anaconda3/envs/master-p3/lib/python3.6/site-packages/ipykernel_launcher.py:2: SettingWithCopyWarning: \n",
      "A value is trying to be set on a copy of a slice from a DataFrame.\n",
      "Try using .loc[row_indexer,col_indexer] = value instead\n",
      "\n",
      "See the caveats in the documentation: http://pandas.pydata.org/pandas-docs/stable/indexing.html#indexing-view-versus-copy\n",
      "  \n"
     ]
    },
    {
     "data": {
      "text/html": [
       "<div>\n",
       "<style scoped>\n",
       "    .dataframe tbody tr th:only-of-type {\n",
       "        vertical-align: middle;\n",
       "    }\n",
       "\n",
       "    .dataframe tbody tr th {\n",
       "        vertical-align: top;\n",
       "    }\n",
       "\n",
       "    .dataframe thead th {\n",
       "        text-align: right;\n",
       "    }\n",
       "</style>\n",
       "<table border=\"1\" class=\"dataframe\">\n",
       "  <thead>\n",
       "    <tr style=\"text-align: right;\">\n",
       "      <th></th>\n",
       "      <th>revenue</th>\n",
       "      <th>tax</th>\n",
       "      <th>cluster</th>\n",
       "      <th>z-score_square</th>\n",
       "      <th>outlier</th>\n",
       "    </tr>\n",
       "  </thead>\n",
       "  <tbody>\n",
       "    <tr>\n",
       "      <th>0</th>\n",
       "      <td>33.560000</td>\n",
       "      <td>7.300000</td>\n",
       "      <td>5</td>\n",
       "      <td>1.914829</td>\n",
       "      <td>False</td>\n",
       "    </tr>\n",
       "    <tr>\n",
       "      <th>1</th>\n",
       "      <td>61.200000</td>\n",
       "      <td>25.500000</td>\n",
       "      <td>5</td>\n",
       "      <td>1.035527</td>\n",
       "      <td>False</td>\n",
       "    </tr>\n",
       "    <tr>\n",
       "      <th>2</th>\n",
       "      <td>71.868421</td>\n",
       "      <td>12.315789</td>\n",
       "      <td>5</td>\n",
       "      <td>1.127656</td>\n",
       "      <td>False</td>\n",
       "    </tr>\n",
       "    <tr>\n",
       "      <th>3</th>\n",
       "      <td>27.116667</td>\n",
       "      <td>13.310000</td>\n",
       "      <td>5</td>\n",
       "      <td>1.929673</td>\n",
       "      <td>False</td>\n",
       "    </tr>\n",
       "    <tr>\n",
       "      <th>4</th>\n",
       "      <td>0.000000</td>\n",
       "      <td>15.910000</td>\n",
       "      <td>5</td>\n",
       "      <td>2.584114</td>\n",
       "      <td>False</td>\n",
       "    </tr>\n",
       "  </tbody>\n",
       "</table>\n",
       "</div>"
      ],
      "text/plain": [
       "     revenue        tax  cluster  z-score_square  outlier\n",
       "0  33.560000   7.300000        5        1.914829    False\n",
       "1  61.200000  25.500000        5        1.035527    False\n",
       "2  71.868421  12.315789        5        1.127656    False\n",
       "3  27.116667  13.310000        5        1.929673    False\n",
       "4   0.000000  15.910000        5        2.584114    False"
      ]
     },
     "execution_count": 18,
     "metadata": {},
     "output_type": "execute_result"
    }
   ],
   "source": [
    "outliers = annotated[['revenue', 'tax', 'cluster', 'z-score_square']]\n",
    "outliers['outlier'] = outliers['z-score_square'] > 9.0\n",
    "outliers.head()"
   ]
  },
  {
   "cell_type": "markdown",
   "metadata": {},
   "source": [
    "### How does this perform as an outlier detection method?"
   ]
  },
  {
   "cell_type": "code",
   "execution_count": 19,
   "metadata": {},
   "outputs": [
    {
     "data": {
      "text/plain": [
       "(-50, 750)"
      ]
     },
     "execution_count": 19,
     "metadata": {},
     "output_type": "execute_result"
    },
    {
     "data": {
      "image/png": "[encoded data removed]",
      "text/plain": [
       "<Figure size 432x288 with 1 Axes>"
      ]
     },
     "metadata": {},
     "output_type": "display_data"
    }
   ],
   "source": [
    "sample = outliers.sample(50000, random_state=42)\n",
    "only_outlier = sample[sample['outlier']]\n",
    "\n",
    "plt.scatter(sample['revenue'], sample['tax'], alpha=0.01)\n",
    "plt.scatter(only_outlier['revenue'], only_outlier['tax'], c='Red')\n",
    "plt.xlim((-50, 1500))\n",
    "plt.ylim((-50, 750))"
   ]
  },
  {
   "cell_type": "markdown",
   "metadata": {},
   "source": [
    "### Appendix: saving models in sklearn"
   ]
  },
  {
   "cell_type": "code",
   "execution_count": 21,
   "metadata": {},
   "outputs": [
    {
     "data": {
      "text/plain": [
       "['kmeas_trained_model.pkl']"
      ]
     },
     "execution_count": 21,
     "metadata": {},
     "output_type": "execute_result"
    }
   ],
   "source": [
    "from joblib import dump, load\n",
    "\n",
    "dump(kmeans, 'kmeas_trained_model.pkl')"
   ]
  },
  {
   "cell_type": "code",
   "execution_count": 22,
   "metadata": {},
   "outputs": [
    {
     "data": {
      "text/plain": [
       "array([[6.47914488e+02, 1.96301855e+02],\n",
       "       [6.15206951e+05, 2.97312500e+01],\n",
       "       [1.12648224e+05, 2.12891489e+01],\n",
       "       [8.77500428e+05, 3.03020000e+01],\n",
       "       [3.46736736e+05, 1.02778125e+02],\n",
       "       [1.35513371e+02, 7.86738210e+01],\n",
       "       [4.51296304e+04, 3.36526902e+01],\n",
       "       [1.39215574e+06, 3.27400000e+01]])"
      ]
     },
     "execution_count": 22,
     "metadata": {},
     "output_type": "execute_result"
    }
   ],
   "source": [
    "reconstituted_model = load('kmeas_trained_model.pkl')\n",
    "reconstituted_model.cluster_centers_"
   ]
  },
  {
   "cell_type": "markdown",
   "metadata": {},
   "source": [
    "## OK, let's move this to a more public place: the cluster!"
   ]
  }
 ],
 "metadata": {
  "kernelspec": {
   "display_name": "Python 3",
   "language": "python",
   "name": "python3"
  },
  "language_info": {
   "codemirror_mode": {
    "name": "ipython",
    "version": 3
   },
   "file_extension": ".py",
   "mimetype": "text/x-python",
   "name": "python",
   "nbconvert_exporter": "python",
   "pygments_lexer": "ipython3",
   "version": "3.6.6"
  }
 },
 "nbformat": 4,
 "nbformat_minor": 1
}
