{
 "cells": [
  {
   "cell_type": "markdown",
   "metadata": {},
   "source": [
    "# Porting an analysis from local to distributed\n",
    "\n",
    "In this pair of notebooks, we will develop a prototype unsupervised analysis with sklearn and then port it to use Spark, as we might in real life.\n",
    "\n",
    "<a href = \"http://yogen.io\"><img src=\"http://yogen.io/assets/logo.svg\" alt=\"yogen\" style=\"width: 200px; float: right;\"/></a>\n"
   ]
  },
  {
   "cell_type": "markdown",
   "metadata": {},
   "source": [
    "## K-means clustering using sklearn\n",
    "\n",
    "Our starting point is a dataset, `~/Data/sales_segments.csv.gz`, which contains data for air reservations at segment level.\n",
    "\n",
    "For each reservation, we get among others a `revenue_amount_seg` value, a `fuel_surcharge_amount_seg` value and a `bookings_seg` value. The first one represents the main amount paid to the airline and the second is referred to as 'tax', but reflects a different kind of revenue that in principle should be roughly proportional to the first kind. The third is the number of persons booked for the segment in question.\n",
    "\n",
    "The rationale here is that the business side has detected that some of the segments are probably wrong and requested an automated way to detect suspicious segments based on their revenue / fuel_surcharge ratio.\n",
    "\n",
    "How do you think we could do that in a scalable way?"
   ]
  },
  {
   "cell_type": "code",
   "execution_count": 1,
   "metadata": {},
   "outputs": [],
   "source": [
    "#In our case, this file is on ~/Data/airline_tickets/sales_segments.csv.gz\n",
    "\n",
    "import pandas as pd\n",
    "import numpy as np\n",
    "import matplotlib.pyplot as plt\n",
    "%matplotlib inline"
   ]
  },
  {
   "cell_type": "code",
   "execution_count": 2,
   "metadata": {},
   "outputs": [
    {
     "name": "stderr",
     "output_type": "stream",
     "text": [
      "/home/dsc/anaconda3/lib/python3.6/site-packages/IPython/core/interactiveshell.py:2728: DtypeWarning: Columns (40,44,45,47,48,57) have mixed types. Specify dtype option on import or set low_memory=False.\n",
      "  interactivity=interactivity, compiler=compiler, result=result)\n"
     ]
    }
   ],
   "source": [
    "#copiamos el fichero en nuestra carpeta para\n",
    "df=pd.read_csv('sales_segments.csv',sep='^')"
   ]
  },
  {
   "cell_type": "markdown",
   "metadata": {},
   "source": [
    "### First, inspect the data "
   ]
  },
  {
   "cell_type": "code",
   "execution_count": 12,
   "metadata": {},
   "outputs": [
    {
     "data": {
      "text/html": [
       "<div>\n",
       "<style scoped>\n",
       "    .dataframe tbody tr th:only-of-type {\n",
       "        vertical-align: middle;\n",
       "    }\n",
       "\n",
       "    .dataframe tbody tr th {\n",
       "        vertical-align: top;\n",
       "    }\n",
       "\n",
       "    .dataframe thead th {\n",
       "        text-align: right;\n",
       "    }\n",
       "</style>\n",
       "<table border=\"1\" class=\"dataframe\">\n",
       "  <thead>\n",
       "    <tr style=\"text-align: right;\">\n",
       "      <th></th>\n",
       "      <th>rloc</th>\n",
       "      <th>departure_date_seg</th>\n",
       "      <th>booking_date</th>\n",
       "      <th>freq_flyer_flag</th>\n",
       "      <th>creator_office_id</th>\n",
       "      <th>creator_iata_number</th>\n",
       "      <th>creator_gds_code</th>\n",
       "      <th>creator_city_code</th>\n",
       "      <th>creator_lat</th>\n",
       "      <th>creator_lon</th>\n",
       "      <th>...</th>\n",
       "      <th>bookings_seg</th>\n",
       "      <th>rpk_seg</th>\n",
       "      <th>revenue_amount_seg</th>\n",
       "      <th>currency_code</th>\n",
       "      <th>fuel_surcharge_amount_seg</th>\n",
       "      <th>fuel_surcharge_currency_code</th>\n",
       "      <th>emd_count</th>\n",
       "      <th>emd_amount</th>\n",
       "      <th>emd_currency_code</th>\n",
       "      <th>total_outliers</th>\n",
       "    </tr>\n",
       "  </thead>\n",
       "  <tbody>\n",
       "    <tr>\n",
       "      <th>0</th>\n",
       "      <td>59GS9Y</td>\n",
       "      <td>2013-12-21</td>\n",
       "      <td>2013-09-05</td>\n",
       "      <td>False</td>\n",
       "      <td>RUNHS3103</td>\n",
       "      <td>66200201.0</td>\n",
       "      <td>1A</td>\n",
       "      <td>RUN</td>\n",
       "      <td>-20.90083</td>\n",
       "      <td>55.53715</td>\n",
       "      <td>...</td>\n",
       "      <td>1</td>\n",
       "      <td>239</td>\n",
       "      <td>33.56</td>\n",
       "      <td>EUR</td>\n",
       "      <td>7.30</td>\n",
       "      <td>EUR</td>\n",
       "      <td>0</td>\n",
       "      <td>0.0</td>\n",
       "      <td>NaN</td>\n",
       "      <td>7.300000</td>\n",
       "    </tr>\n",
       "    <tr>\n",
       "      <th>1</th>\n",
       "      <td>4D87YU</td>\n",
       "      <td>2013-12-29</td>\n",
       "      <td>2013-01-29</td>\n",
       "      <td>False</td>\n",
       "      <td>RUNUU000B</td>\n",
       "      <td>66490104.0</td>\n",
       "      <td>UU</td>\n",
       "      <td>RUN</td>\n",
       "      <td>-20.90083</td>\n",
       "      <td>55.53715</td>\n",
       "      <td>...</td>\n",
       "      <td>5</td>\n",
       "      <td>1116</td>\n",
       "      <td>306.00</td>\n",
       "      <td>EUR</td>\n",
       "      <td>127.50</td>\n",
       "      <td>EUR</td>\n",
       "      <td>0</td>\n",
       "      <td>0.0</td>\n",
       "      <td>NaN</td>\n",
       "      <td>77.271017</td>\n",
       "    </tr>\n",
       "    <tr>\n",
       "      <th>2</th>\n",
       "      <td>7W67K8</td>\n",
       "      <td>2013-12-29</td>\n",
       "      <td>2013-02-05</td>\n",
       "      <td>False</td>\n",
       "      <td>RUNUU01A3</td>\n",
       "      <td>66490830.0</td>\n",
       "      <td>UU</td>\n",
       "      <td>RUN</td>\n",
       "      <td>-20.90083</td>\n",
       "      <td>55.53715</td>\n",
       "      <td>...</td>\n",
       "      <td>19</td>\n",
       "      <td>4240</td>\n",
       "      <td>1365.50</td>\n",
       "      <td>EUR</td>\n",
       "      <td>234.00</td>\n",
       "      <td>EUR</td>\n",
       "      <td>0</td>\n",
       "      <td>0.0</td>\n",
       "      <td>NaN</td>\n",
       "      <td>278.175661</td>\n",
       "    </tr>\n",
       "    <tr>\n",
       "      <th>3</th>\n",
       "      <td>3ESPWM</td>\n",
       "      <td>2013-12-29</td>\n",
       "      <td>2013-03-19</td>\n",
       "      <td>False</td>\n",
       "      <td>RUNUU010C</td>\n",
       "      <td>66490771.0</td>\n",
       "      <td>UU</td>\n",
       "      <td>RUN</td>\n",
       "      <td>-20.90083</td>\n",
       "      <td>55.53715</td>\n",
       "      <td>...</td>\n",
       "      <td>3</td>\n",
       "      <td>1220</td>\n",
       "      <td>81.35</td>\n",
       "      <td>EUR</td>\n",
       "      <td>39.93</td>\n",
       "      <td>EUR</td>\n",
       "      <td>0</td>\n",
       "      <td>0.0</td>\n",
       "      <td>NaN</td>\n",
       "      <td>32.458243</td>\n",
       "    </tr>\n",
       "    <tr>\n",
       "      <th>4</th>\n",
       "      <td>6ITPJM</td>\n",
       "      <td>2013-12-29</td>\n",
       "      <td>2013-05-11</td>\n",
       "      <td>False</td>\n",
       "      <td>MRSA12108</td>\n",
       "      <td>20261721.0</td>\n",
       "      <td>1A</td>\n",
       "      <td>MRS</td>\n",
       "      <td>43.29695</td>\n",
       "      <td>5.38107</td>\n",
       "      <td>...</td>\n",
       "      <td>2</td>\n",
       "      <td>1342</td>\n",
       "      <td>0.00</td>\n",
       "      <td>EUR</td>\n",
       "      <td>31.82</td>\n",
       "      <td>EUR</td>\n",
       "      <td>0</td>\n",
       "      <td>0.0</td>\n",
       "      <td>NaN</td>\n",
       "      <td>32.496507</td>\n",
       "    </tr>\n",
       "  </tbody>\n",
       "</table>\n",
       "<p>5 rows × 59 columns</p>\n",
       "</div>"
      ],
      "text/plain": [
       "     rloc departure_date_seg booking_date  freq_flyer_flag creator_office_id  \\\n",
       "0  59GS9Y         2013-12-21   2013-09-05            False         RUNHS3103   \n",
       "1  4D87YU         2013-12-29   2013-01-29            False         RUNUU000B   \n",
       "2  7W67K8         2013-12-29   2013-02-05            False         RUNUU01A3   \n",
       "3  3ESPWM         2013-12-29   2013-03-19            False         RUNUU010C   \n",
       "4  6ITPJM         2013-12-29   2013-05-11            False         MRSA12108   \n",
       "\n",
       "   creator_iata_number creator_gds_code creator_city_code  creator_lat  \\\n",
       "0           66200201.0               1A               RUN    -20.90083   \n",
       "1           66490104.0               UU               RUN    -20.90083   \n",
       "2           66490830.0               UU               RUN    -20.90083   \n",
       "3           66490771.0               UU               RUN    -20.90083   \n",
       "4           20261721.0               1A               MRS     43.29695   \n",
       "\n",
       "   creator_lon      ...       bookings_seg rpk_seg revenue_amount_seg  \\\n",
       "0     55.53715      ...                  1     239              33.56   \n",
       "1     55.53715      ...                  5    1116             306.00   \n",
       "2     55.53715      ...                 19    4240            1365.50   \n",
       "3     55.53715      ...                  3    1220              81.35   \n",
       "4      5.38107      ...                  2    1342               0.00   \n",
       "\n",
       "  currency_code fuel_surcharge_amount_seg fuel_surcharge_currency_code  \\\n",
       "0           EUR                      7.30                          EUR   \n",
       "1           EUR                    127.50                          EUR   \n",
       "2           EUR                    234.00                          EUR   \n",
       "3           EUR                     39.93                          EUR   \n",
       "4           EUR                     31.82                          EUR   \n",
       "\n",
       "  emd_count  emd_amount emd_currency_code total_outliers  \n",
       "0         0         0.0               NaN       7.300000  \n",
       "1         0         0.0               NaN      77.271017  \n",
       "2         0         0.0               NaN     278.175661  \n",
       "3         0         0.0               NaN      32.458243  \n",
       "4         0         0.0               NaN      32.496507  \n",
       "\n",
       "[5 rows x 59 columns]"
      ]
     },
     "execution_count": 12,
     "metadata": {},
     "output_type": "execute_result"
    }
   ],
   "source": [
    "df.head()"
   ]
  },
  {
   "cell_type": "markdown",
   "metadata": {},
   "source": [
    "### Calculate KPIs\n",
    "\n",
    "* \"revenue\" per person\n",
    "* \"tax\" per person\n"
   ]
  },
  {
   "cell_type": "code",
   "execution_count": 3,
   "metadata": {},
   "outputs": [
    {
     "data": {
      "text/html": [
       "<div>\n",
       "<style scoped>\n",
       "    .dataframe tbody tr th:only-of-type {\n",
       "        vertical-align: middle;\n",
       "    }\n",
       "\n",
       "    .dataframe tbody tr th {\n",
       "        vertical-align: top;\n",
       "    }\n",
       "\n",
       "    .dataframe thead th {\n",
       "        text-align: right;\n",
       "    }\n",
       "</style>\n",
       "<table border=\"1\" class=\"dataframe\">\n",
       "  <thead>\n",
       "    <tr style=\"text-align: right;\">\n",
       "      <th></th>\n",
       "      <th>revenue</th>\n",
       "      <th>tax</th>\n",
       "    </tr>\n",
       "  </thead>\n",
       "  <tbody>\n",
       "    <tr>\n",
       "      <th>0</th>\n",
       "      <td>33.560000</td>\n",
       "      <td>7.300000</td>\n",
       "    </tr>\n",
       "    <tr>\n",
       "      <th>1</th>\n",
       "      <td>61.200000</td>\n",
       "      <td>25.500000</td>\n",
       "    </tr>\n",
       "    <tr>\n",
       "      <th>2</th>\n",
       "      <td>71.868421</td>\n",
       "      <td>12.315789</td>\n",
       "    </tr>\n",
       "    <tr>\n",
       "      <th>3</th>\n",
       "      <td>27.116667</td>\n",
       "      <td>13.310000</td>\n",
       "    </tr>\n",
       "    <tr>\n",
       "      <th>4</th>\n",
       "      <td>0.000000</td>\n",
       "      <td>15.910000</td>\n",
       "    </tr>\n",
       "  </tbody>\n",
       "</table>\n",
       "</div>"
      ],
      "text/plain": [
       "     revenue        tax\n",
       "0  33.560000   7.300000\n",
       "1  61.200000  25.500000\n",
       "2  71.868421  12.315789\n",
       "3  27.116667  13.310000\n",
       "4   0.000000  15.910000"
      ]
     },
     "execution_count": 3,
     "metadata": {},
     "output_type": "execute_result"
    }
   ],
   "source": [
    "df['revenue']=df['revenue_amount_seg']/df['bookings_seg']\n",
    "df['tax']=df['fuel_surcharge_amount_seg']/df['bookings_seg']\n",
    "\n",
    "simple=df[['revenue','tax']]\n",
    "simple.head()"
   ]
  },
  {
   "cell_type": "markdown",
   "metadata": {},
   "source": [
    "### Inspect the distributions"
   ]
  },
  {
   "cell_type": "code",
   "execution_count": 4,
   "metadata": {},
   "outputs": [
    {
     "data": {
      "text/plain": [
       "(1459121, 2)"
      ]
     },
     "execution_count": 4,
     "metadata": {},
     "output_type": "execute_result"
    }
   ],
   "source": [
    "simple.shape"
   ]
  },
  {
   "cell_type": "code",
   "execution_count": 5,
   "metadata": {},
   "outputs": [],
   "source": [
    "#para que tarde menos en plotear sacamos una muestra, fijando el seed\n",
    "sample=simple.sample(20000,random_state=42)"
   ]
  },
  {
   "cell_type": "code",
   "execution_count": 7,
   "metadata": {},
   "outputs": [
    {
     "data": {
      "text/plain": [
       "(-50, 1500)"
      ]
     },
     "execution_count": 7,
     "metadata": {},
     "output_type": "execute_result"
    },
    {
     "data": {
      "image/png": "[encoded data removed]",
      "text/plain": [
       "<Figure size 432x288 with 1 Axes>"
      ]
     },
     "metadata": {},
     "output_type": "display_data"
    }
   ],
   "source": [
    "plt.scatter(sample['revenue'],sample['tax'])\n",
    "#fijamos los limites para verlo mejor\n",
    "plt.xlim((-50,1500))"
   ]
  },
  {
   "cell_type": "code",
   "execution_count": 8,
   "metadata": {},
   "outputs": [
    {
     "data": {
      "text/plain": [
       "(-50, 1500)"
      ]
     },
     "execution_count": 8,
     "metadata": {},
     "output_type": "execute_result"
    },
    {
     "data": {
      "image/png": "[encoded data removed]",
      "text/plain": [
       "<Figure size 432x288 with 1 Axes>"
      ]
     },
     "metadata": {},
     "output_type": "display_data"
    }
   ],
   "source": [
    "#pero esto es una mierda, vamos a darle una opacidad.\n",
    "plt.scatter(sample['revenue'],sample['tax'],alpha=0.01)\n",
    "plt.xlim((-50,1500))\n"
   ]
  },
  {
   "cell_type": "code",
   "execution_count": null,
   "metadata": {},
   "outputs": [],
   "source": [
    "#podróiamos usar una librería que se una sobre matplolib que estuviera mejor: seaborn.\n",
    "\n",
    "#parece que hay 2 o 3 grupos de segmentos. Vamos a separarlos por cluster, pq esto, definitivamente no tiene una distribucion gausiana.\n",
    "#Sacar un outlayer con z-score solo tiene sentido si es una ditribución gaussiana."
   ]
  },
  {
   "cell_type": "markdown",
   "metadata": {},
   "source": [
    "## Now for some learning!\n",
    "\n",
    "It seems there are at least two or three groups of segments.\n",
    "\n",
    "What we are going to do is to separate them into clusters with kmeans, then use the z-score as an outlier score."
   ]
  },
  {
   "cell_type": "markdown",
   "metadata": {},
   "source": [
    "#### Training a model with sklearn is quick and easy\n",
    "\n",
    "We just use `.fit` and then `.predict`. As we'll see, this is very similar to Spark ML."
   ]
  },
  {
   "cell_type": "code",
   "execution_count": 10,
   "metadata": {},
   "outputs": [
    {
     "data": {
      "text/plain": [
       "KMeans(algorithm='auto', copy_x=True, init='k-means++', max_iter=300,\n",
       "    n_clusters=3, n_init=10, n_jobs=1, precompute_distances='auto',\n",
       "    random_state=None, tol=0.0001, verbose=0)"
      ]
     },
     "execution_count": 10,
     "metadata": {},
     "output_type": "execute_result"
    }
   ],
   "source": [
    "from sklearn.cluster import KMeans\n",
    "\n",
    "kmeans=KMeans(n_clusters=3)\n",
    "\n",
    "kmeans.fit(simple)"
   ]
  },
  {
   "cell_type": "code",
   "execution_count": 11,
   "metadata": {},
   "outputs": [
    {
     "data": {
      "text/plain": [
       "array([0, 0, 0, ..., 0, 0, 0], dtype=int32)"
      ]
     },
     "execution_count": 11,
     "metadata": {},
     "output_type": "execute_result"
    }
   ],
   "source": [
    "#las variables que acaban con _ son aquellas surgidas tras aprender de los datos\n",
    "kmeans.labels_"
   ]
  },
  {
   "cell_type": "markdown",
   "metadata": {},
   "source": [
    "### But, how do we know 3 clusters is the appropriate number?\n",
    "\n",
    "We could use the [Elbow method][1]\n",
    "\n",
    "[1]: https://en.wikipedia.org/wiki/Elbow_method_(clustering)"
   ]
  },
  {
   "cell_type": "code",
   "execution_count": null,
   "metadata": {
    "collapsed": true
   },
   "outputs": [],
   "source": [
    "#depende de como tengamos de tiempo haremos el elbow method o no para elegir el nº de cluster. En este caso no lo haremos\n",
    "#vamos a hacer a huevo, 8 clusters."
   ]
  },
  {
   "cell_type": "markdown",
   "metadata": {},
   "source": [
    "Now we get each point's distance to its correponding centroid, which is the minimum for each row of the resulting matrix:"
   ]
  },
  {
   "cell_type": "code",
   "execution_count": null,
   "metadata": {
    "collapsed": true
   },
   "outputs": [],
   "source": []
  },
  {
   "cell_type": "markdown",
   "metadata": {},
   "source": [
    "And we take either the sum or mean of the resultting vector:\n"
   ]
  },
  {
   "cell_type": "code",
   "execution_count": null,
   "metadata": {
    "collapsed": true
   },
   "outputs": [],
   "source": []
  },
  {
   "cell_type": "markdown",
   "metadata": {},
   "source": [
    "Once we're sure it works, we can do it for n number of clusters:"
   ]
  },
  {
   "cell_type": "code",
   "execution_count": null,
   "metadata": {
    "collapsed": true
   },
   "outputs": [],
   "source": []
  },
  {
   "cell_type": "markdown",
   "metadata": {},
   "source": [
    "#### Let's plot the curve"
   ]
  },
  {
   "cell_type": "code",
   "execution_count": null,
   "metadata": {
    "collapsed": true
   },
   "outputs": [],
   "source": []
  },
  {
   "cell_type": "markdown",
   "metadata": {},
   "source": [
    "It was that easy! now let's see what we got:"
   ]
  },
  {
   "cell_type": "code",
   "execution_count": null,
   "metadata": {
    "collapsed": true
   },
   "outputs": [],
   "source": []
  },
  {
   "cell_type": "markdown",
   "metadata": {},
   "source": [
    "### Let's have a look"
   ]
  },
  {
   "cell_type": "code",
   "execution_count": 12,
   "metadata": {},
   "outputs": [
    {
     "data": {
      "text/plain": [
       "KMeans(algorithm='auto', copy_x=True, init='k-means++', max_iter=300,\n",
       "    n_clusters=8, n_init=10, n_jobs=1, precompute_distances='auto',\n",
       "    random_state=None, tol=0.0001, verbose=0)"
      ]
     },
     "execution_count": 12,
     "metadata": {},
     "output_type": "execute_result"
    }
   ],
   "source": [
    "kmeans=KMeans(n_clusters=8)\n",
    "\n",
    "kmeans.fit(simple)"
   ]
  },
  {
   "cell_type": "code",
   "execution_count": 14,
   "metadata": {},
   "outputs": [
    {
     "data": {
      "text/plain": [
       "array([0, 0, 0, ..., 0, 0, 0], dtype=int32)"
      ]
     },
     "execution_count": 14,
     "metadata": {},
     "output_type": "execute_result"
    }
   ],
   "source": [
    "#anotamos en nuestro dataframe con el cluster al que pertenece cada punto\n",
    "kmeans.predict(simple)"
   ]
  },
  {
   "cell_type": "code",
   "execution_count": 15,
   "metadata": {},
   "outputs": [
    {
     "name": "stderr",
     "output_type": "stream",
     "text": [
      "/home/dsc/anaconda3/lib/python3.6/site-packages/ipykernel_launcher.py:1: SettingWithCopyWarning: \n",
      "A value is trying to be set on a copy of a slice from a DataFrame.\n",
      "Try using .loc[row_indexer,col_indexer] = value instead\n",
      "\n",
      "See the caveats in the documentation: http://pandas.pydata.org/pandas-docs/stable/indexing.html#indexing-view-versus-copy\n",
      "  \"\"\"Entry point for launching an IPython kernel.\n"
     ]
    }
   ],
   "source": [
    "simple['cluster']=kmeans.predict(simple)"
   ]
  },
  {
   "cell_type": "code",
   "execution_count": 17,
   "metadata": {},
   "outputs": [
    {
     "data": {
      "text/html": [
       "<div>\n",
       "<style scoped>\n",
       "    .dataframe tbody tr th:only-of-type {\n",
       "        vertical-align: middle;\n",
       "    }\n",
       "\n",
       "    .dataframe tbody tr th {\n",
       "        vertical-align: top;\n",
       "    }\n",
       "\n",
       "    .dataframe thead th {\n",
       "        text-align: right;\n",
       "    }\n",
       "</style>\n",
       "<table border=\"1\" class=\"dataframe\">\n",
       "  <thead>\n",
       "    <tr style=\"text-align: right;\">\n",
       "      <th></th>\n",
       "      <th>revenue</th>\n",
       "      <th>tax</th>\n",
       "      <th>cluster</th>\n",
       "    </tr>\n",
       "  </thead>\n",
       "  <tbody>\n",
       "    <tr>\n",
       "      <th>0</th>\n",
       "      <td>33.560000</td>\n",
       "      <td>7.300000</td>\n",
       "      <td>0</td>\n",
       "    </tr>\n",
       "    <tr>\n",
       "      <th>1</th>\n",
       "      <td>61.200000</td>\n",
       "      <td>25.500000</td>\n",
       "      <td>0</td>\n",
       "    </tr>\n",
       "    <tr>\n",
       "      <th>2</th>\n",
       "      <td>71.868421</td>\n",
       "      <td>12.315789</td>\n",
       "      <td>0</td>\n",
       "    </tr>\n",
       "    <tr>\n",
       "      <th>3</th>\n",
       "      <td>27.116667</td>\n",
       "      <td>13.310000</td>\n",
       "      <td>0</td>\n",
       "    </tr>\n",
       "    <tr>\n",
       "      <th>4</th>\n",
       "      <td>0.000000</td>\n",
       "      <td>15.910000</td>\n",
       "      <td>0</td>\n",
       "    </tr>\n",
       "  </tbody>\n",
       "</table>\n",
       "</div>"
      ],
      "text/plain": [
       "     revenue        tax  cluster\n",
       "0  33.560000   7.300000        0\n",
       "1  61.200000  25.500000        0\n",
       "2  71.868421  12.315789        0\n",
       "3  27.116667  13.310000        0\n",
       "4   0.000000  15.910000        0"
      ]
     },
     "execution_count": 17,
     "metadata": {},
     "output_type": "execute_result"
    }
   ],
   "source": [
    "simple.head()"
   ]
  },
  {
   "cell_type": "code",
   "execution_count": 19,
   "metadata": {},
   "outputs": [
    {
     "data": {
      "text/plain": [
       "(-50, 1500)"
      ]
     },
     "execution_count": 19,
     "metadata": {},
     "output_type": "execute_result"
    },
    {
     "data": {
      "image/png": "[encoded data removed]",
      "text/plain": [
       "<Figure size 432x288 with 1 Axes>"
      ]
     },
     "metadata": {},
     "output_type": "display_data"
    }
   ],
   "source": [
    "sample=simple.sample(20000,random_state=42)\n",
    "plt.scatter(sample['revenue'],sample['tax'],alpha=0.01,c=sample['cluster'])\n",
    "plt.xlim((-50,1500))"
   ]
  },
  {
   "cell_type": "code",
   "execution_count": null,
   "metadata": {},
   "outputs": [],
   "source": [
    "#queremos sacar las z-scores para cada dimensión"
   ]
  },
  {
   "cell_type": "markdown",
   "metadata": {},
   "source": [
    "### Z scores\n",
    "\n",
    "Now we only need to calculate a z-score, so that we can score points as outliers or not outliers.\n",
    "\n"
   ]
  },
  {
   "cell_type": "markdown",
   "metadata": {},
   "source": [
    "#### Calculate means and standard deviations in each direction for each cluster"
   ]
  },
  {
   "cell_type": "code",
   "execution_count": 24,
   "metadata": {},
   "outputs": [
    {
     "data": {
      "text/html": [
       "<div>\n",
       "<style scoped>\n",
       "    .dataframe tbody tr th:only-of-type {\n",
       "        vertical-align: middle;\n",
       "    }\n",
       "\n",
       "    .dataframe tbody tr th {\n",
       "        vertical-align: top;\n",
       "    }\n",
       "\n",
       "    .dataframe thead th {\n",
       "        text-align: right;\n",
       "    }\n",
       "</style>\n",
       "<table border=\"1\" class=\"dataframe\">\n",
       "  <thead>\n",
       "    <tr style=\"text-align: right;\">\n",
       "      <th></th>\n",
       "      <th>revenue_mean</th>\n",
       "      <th>tax_mean</th>\n",
       "      <th>revenue_std</th>\n",
       "      <th>tax_std</th>\n",
       "    </tr>\n",
       "    <tr>\n",
       "      <th>cluster</th>\n",
       "      <th></th>\n",
       "      <th></th>\n",
       "      <th></th>\n",
       "      <th></th>\n",
       "    </tr>\n",
       "  </thead>\n",
       "  <tbody>\n",
       "    <tr>\n",
       "      <th>0</th>\n",
       "      <td>1.334807e+02</td>\n",
       "      <td>77.761516</td>\n",
       "      <td>94.668201</td>\n",
       "      <td>79.077417</td>\n",
       "    </tr>\n",
       "    <tr>\n",
       "      <th>1</th>\n",
       "      <td>6.152070e+05</td>\n",
       "      <td>29.731250</td>\n",
       "      <td>53170.300072</td>\n",
       "      <td>1.542099</td>\n",
       "    </tr>\n",
       "    <tr>\n",
       "      <th>2</th>\n",
       "      <td>1.126482e+05</td>\n",
       "      <td>21.289149</td>\n",
       "      <td>21982.833703</td>\n",
       "      <td>65.841028</td>\n",
       "    </tr>\n",
       "    <tr>\n",
       "      <th>3</th>\n",
       "      <td>3.467367e+05</td>\n",
       "      <td>102.778125</td>\n",
       "      <td>52460.589267</td>\n",
       "      <td>112.845184</td>\n",
       "    </tr>\n",
       "    <tr>\n",
       "      <th>4</th>\n",
       "      <td>1.392156e+06</td>\n",
       "      <td>32.740000</td>\n",
       "      <td>NaN</td>\n",
       "      <td>NaN</td>\n",
       "    </tr>\n",
       "    <tr>\n",
       "      <th>5</th>\n",
       "      <td>8.775004e+05</td>\n",
       "      <td>30.302000</td>\n",
       "      <td>50236.153381</td>\n",
       "      <td>1.808823</td>\n",
       "    </tr>\n",
       "    <tr>\n",
       "      <th>6</th>\n",
       "      <td>6.350207e+02</td>\n",
       "      <td>195.788640</td>\n",
       "      <td>439.725579</td>\n",
       "      <td>53.822381</td>\n",
       "    </tr>\n",
       "    <tr>\n",
       "      <th>7</th>\n",
       "      <td>4.773549e+04</td>\n",
       "      <td>33.127378</td>\n",
       "      <td>11490.614024</td>\n",
       "      <td>37.049525</td>\n",
       "    </tr>\n",
       "  </tbody>\n",
       "</table>\n",
       "</div>"
      ],
      "text/plain": [
       "         revenue_mean    tax_mean   revenue_std     tax_std\n",
       "cluster                                                    \n",
       "0        1.334807e+02   77.761516     94.668201   79.077417\n",
       "1        6.152070e+05   29.731250  53170.300072    1.542099\n",
       "2        1.126482e+05   21.289149  21982.833703   65.841028\n",
       "3        3.467367e+05  102.778125  52460.589267  112.845184\n",
       "4        1.392156e+06   32.740000           NaN         NaN\n",
       "5        8.775004e+05   30.302000  50236.153381    1.808823\n",
       "6        6.350207e+02  195.788640    439.725579   53.822381\n",
       "7        4.773549e+04   33.127378  11490.614024   37.049525"
      ]
     },
     "execution_count": 24,
     "metadata": {},
     "output_type": "execute_result"
    }
   ],
   "source": [
    "means=simple.groupby('cluster').mean()\n",
    "stds=simple.groupby('cluster').std()\n",
    "\n",
    "stats=means.merge(stds,left_index=True,right_index=True,suffixes=('_mean','_std'))\n",
    "stats\n",
    "\n",
    "#hay un nan pq no existe la std de un grupo que tiene 1 elemento\n"
   ]
  },
  {
   "cell_type": "code",
   "execution_count": null,
   "metadata": {},
   "outputs": [],
   "source": [
    "\n"
   ]
  },
  {
   "cell_type": "markdown",
   "metadata": {},
   "source": [
    "#### And annotate each point with the stats for its cluster"
   ]
  },
  {
   "cell_type": "code",
   "execution_count": 26,
   "metadata": {},
   "outputs": [
    {
     "data": {
      "text/html": [
       "<div>\n",
       "<style scoped>\n",
       "    .dataframe tbody tr th:only-of-type {\n",
       "        vertical-align: middle;\n",
       "    }\n",
       "\n",
       "    .dataframe tbody tr th {\n",
       "        vertical-align: top;\n",
       "    }\n",
       "\n",
       "    .dataframe thead th {\n",
       "        text-align: right;\n",
       "    }\n",
       "</style>\n",
       "<table border=\"1\" class=\"dataframe\">\n",
       "  <thead>\n",
       "    <tr style=\"text-align: right;\">\n",
       "      <th></th>\n",
       "      <th>revenue</th>\n",
       "      <th>tax</th>\n",
       "      <th>cluster</th>\n",
       "      <th>revenue_mean</th>\n",
       "      <th>tax_mean</th>\n",
       "      <th>revenue_std</th>\n",
       "      <th>tax_std</th>\n",
       "    </tr>\n",
       "  </thead>\n",
       "  <tbody>\n",
       "    <tr>\n",
       "      <th>0</th>\n",
       "      <td>33.560000</td>\n",
       "      <td>7.300000</td>\n",
       "      <td>0</td>\n",
       "      <td>133.480697</td>\n",
       "      <td>77.761516</td>\n",
       "      <td>94.668201</td>\n",
       "      <td>79.077417</td>\n",
       "    </tr>\n",
       "    <tr>\n",
       "      <th>1</th>\n",
       "      <td>61.200000</td>\n",
       "      <td>25.500000</td>\n",
       "      <td>0</td>\n",
       "      <td>133.480697</td>\n",
       "      <td>77.761516</td>\n",
       "      <td>94.668201</td>\n",
       "      <td>79.077417</td>\n",
       "    </tr>\n",
       "    <tr>\n",
       "      <th>2</th>\n",
       "      <td>71.868421</td>\n",
       "      <td>12.315789</td>\n",
       "      <td>0</td>\n",
       "      <td>133.480697</td>\n",
       "      <td>77.761516</td>\n",
       "      <td>94.668201</td>\n",
       "      <td>79.077417</td>\n",
       "    </tr>\n",
       "    <tr>\n",
       "      <th>3</th>\n",
       "      <td>27.116667</td>\n",
       "      <td>13.310000</td>\n",
       "      <td>0</td>\n",
       "      <td>133.480697</td>\n",
       "      <td>77.761516</td>\n",
       "      <td>94.668201</td>\n",
       "      <td>79.077417</td>\n",
       "    </tr>\n",
       "    <tr>\n",
       "      <th>4</th>\n",
       "      <td>0.000000</td>\n",
       "      <td>15.910000</td>\n",
       "      <td>0</td>\n",
       "      <td>133.480697</td>\n",
       "      <td>77.761516</td>\n",
       "      <td>94.668201</td>\n",
       "      <td>79.077417</td>\n",
       "    </tr>\n",
       "  </tbody>\n",
       "</table>\n",
       "</div>"
      ],
      "text/plain": [
       "     revenue        tax  cluster  revenue_mean   tax_mean  revenue_std  \\\n",
       "0  33.560000   7.300000        0    133.480697  77.761516    94.668201   \n",
       "1  61.200000  25.500000        0    133.480697  77.761516    94.668201   \n",
       "2  71.868421  12.315789        0    133.480697  77.761516    94.668201   \n",
       "3  27.116667  13.310000        0    133.480697  77.761516    94.668201   \n",
       "4   0.000000  15.910000        0    133.480697  77.761516    94.668201   \n",
       "\n",
       "     tax_std  \n",
       "0  79.077417  \n",
       "1  79.077417  \n",
       "2  79.077417  \n",
       "3  79.077417  \n",
       "4  79.077417  "
      ]
     },
     "execution_count": 26,
     "metadata": {},
     "output_type": "execute_result"
    }
   ],
   "source": [
    "annotated=simple.merge(stats,left_on='cluster',right_index=True,how='left')\n",
    "annotated.head()\n",
    "#aquí todos los joins deberían dar lo mismo, da igual que sea left que right que ouder... "
   ]
  },
  {
   "cell_type": "markdown",
   "metadata": {},
   "source": [
    "#### Now we are ready to calculate the z scores"
   ]
  },
  {
   "cell_type": "code",
   "execution_count": 29,
   "metadata": {},
   "outputs": [
    {
     "data": {
      "text/html": [
       "<div>\n",
       "<style scoped>\n",
       "    .dataframe tbody tr th:only-of-type {\n",
       "        vertical-align: middle;\n",
       "    }\n",
       "\n",
       "    .dataframe tbody tr th {\n",
       "        vertical-align: top;\n",
       "    }\n",
       "\n",
       "    .dataframe thead th {\n",
       "        text-align: right;\n",
       "    }\n",
       "</style>\n",
       "<table border=\"1\" class=\"dataframe\">\n",
       "  <thead>\n",
       "    <tr style=\"text-align: right;\">\n",
       "      <th></th>\n",
       "      <th>revenue</th>\n",
       "      <th>tax</th>\n",
       "      <th>cluster</th>\n",
       "      <th>revenue_mean</th>\n",
       "      <th>tax_mean</th>\n",
       "      <th>revenue_std</th>\n",
       "      <th>tax_std</th>\n",
       "      <th>rev_z</th>\n",
       "      <th>tax_z</th>\n",
       "      <th>z_score</th>\n",
       "    </tr>\n",
       "  </thead>\n",
       "  <tbody>\n",
       "    <tr>\n",
       "      <th>0</th>\n",
       "      <td>33.560000</td>\n",
       "      <td>7.300000</td>\n",
       "      <td>0</td>\n",
       "      <td>133.480697</td>\n",
       "      <td>77.761516</td>\n",
       "      <td>94.668201</td>\n",
       "      <td>79.077417</td>\n",
       "      <td>-1.055483</td>\n",
       "      <td>-0.891045</td>\n",
       "      <td>1.908006</td>\n",
       "    </tr>\n",
       "    <tr>\n",
       "      <th>1</th>\n",
       "      <td>61.200000</td>\n",
       "      <td>25.500000</td>\n",
       "      <td>0</td>\n",
       "      <td>133.480697</td>\n",
       "      <td>77.761516</td>\n",
       "      <td>94.668201</td>\n",
       "      <td>79.077417</td>\n",
       "      <td>-0.763516</td>\n",
       "      <td>-0.660891</td>\n",
       "      <td>1.019733</td>\n",
       "    </tr>\n",
       "    <tr>\n",
       "      <th>2</th>\n",
       "      <td>71.868421</td>\n",
       "      <td>12.315789</td>\n",
       "      <td>0</td>\n",
       "      <td>133.480697</td>\n",
       "      <td>77.761516</td>\n",
       "      <td>94.668201</td>\n",
       "      <td>79.077417</td>\n",
       "      <td>-0.650823</td>\n",
       "      <td>-0.827616</td>\n",
       "      <td>1.108519</td>\n",
       "    </tr>\n",
       "    <tr>\n",
       "      <th>3</th>\n",
       "      <td>27.116667</td>\n",
       "      <td>13.310000</td>\n",
       "      <td>0</td>\n",
       "      <td>133.480697</td>\n",
       "      <td>77.761516</td>\n",
       "      <td>94.668201</td>\n",
       "      <td>79.077417</td>\n",
       "      <td>-1.123545</td>\n",
       "      <td>-0.815043</td>\n",
       "      <td>1.926650</td>\n",
       "    </tr>\n",
       "    <tr>\n",
       "      <th>4</th>\n",
       "      <td>0.000000</td>\n",
       "      <td>15.910000</td>\n",
       "      <td>0</td>\n",
       "      <td>133.480697</td>\n",
       "      <td>77.761516</td>\n",
       "      <td>94.668201</td>\n",
       "      <td>79.077417</td>\n",
       "      <td>-1.409985</td>\n",
       "      <td>-0.782164</td>\n",
       "      <td>2.599837</td>\n",
       "    </tr>\n",
       "  </tbody>\n",
       "</table>\n",
       "</div>"
      ],
      "text/plain": [
       "     revenue        tax  cluster  revenue_mean   tax_mean  revenue_std  \\\n",
       "0  33.560000   7.300000        0    133.480697  77.761516    94.668201   \n",
       "1  61.200000  25.500000        0    133.480697  77.761516    94.668201   \n",
       "2  71.868421  12.315789        0    133.480697  77.761516    94.668201   \n",
       "3  27.116667  13.310000        0    133.480697  77.761516    94.668201   \n",
       "4   0.000000  15.910000        0    133.480697  77.761516    94.668201   \n",
       "\n",
       "     tax_std     rev_z     tax_z   z_score  \n",
       "0  79.077417 -1.055483 -0.891045  1.908006  \n",
       "1  79.077417 -0.763516 -0.660891  1.019733  \n",
       "2  79.077417 -0.650823 -0.827616  1.108519  \n",
       "3  79.077417 -1.123545 -0.815043  1.926650  \n",
       "4  79.077417 -1.409985 -0.782164  2.599837  "
      ]
     },
     "execution_count": 29,
     "metadata": {},
     "output_type": "execute_result"
    }
   ],
   "source": [
    "annotated['rev_z']=(annotated['revenue']-annotated['revenue_mean'])/annotated['revenue_std']\n",
    "annotated['tax_z']=(annotated['tax']-annotated['tax_mean'])/annotated['tax_std']\n",
    "#pero no está tenemos que combinarlas. Si yo tengo las z score en cada dimension tengo que calcular la conjunta, como? pues como la raiz de la suma de los cuadrados.\n",
    "annotated['z_score']=annotated['rev_z']**2+annotated['tax_z']**2\n",
    "annotated.head()"
   ]
  },
  {
   "cell_type": "markdown",
   "metadata": {},
   "source": [
    "### How does this perform as an outlier detection method?"
   ]
  },
  {
   "cell_type": "code",
   "execution_count": 30,
   "metadata": {},
   "outputs": [
    {
     "name": "stderr",
     "output_type": "stream",
     "text": [
      "/home/dsc/anaconda3/lib/python3.6/site-packages/ipykernel_launcher.py:3: SettingWithCopyWarning: \n",
      "A value is trying to be set on a copy of a slice from a DataFrame.\n",
      "Try using .loc[row_indexer,col_indexer] = value instead\n",
      "\n",
      "See the caveats in the documentation: http://pandas.pydata.org/pandas-docs/stable/indexing.html#indexing-view-versus-copy\n",
      "  This is separate from the ipykernel package so we can avoid doing imports until\n"
     ]
    },
    {
     "data": {
      "text/html": [
       "<div>\n",
       "<style scoped>\n",
       "    .dataframe tbody tr th:only-of-type {\n",
       "        vertical-align: middle;\n",
       "    }\n",
       "\n",
       "    .dataframe tbody tr th {\n",
       "        vertical-align: top;\n",
       "    }\n",
       "\n",
       "    .dataframe thead th {\n",
       "        text-align: right;\n",
       "    }\n",
       "</style>\n",
       "<table border=\"1\" class=\"dataframe\">\n",
       "  <thead>\n",
       "    <tr style=\"text-align: right;\">\n",
       "      <th></th>\n",
       "      <th>revenue</th>\n",
       "      <th>tax</th>\n",
       "      <th>cluster</th>\n",
       "      <th>z_score</th>\n",
       "      <th>outlier</th>\n",
       "    </tr>\n",
       "  </thead>\n",
       "  <tbody>\n",
       "    <tr>\n",
       "      <th>0</th>\n",
       "      <td>33.560000</td>\n",
       "      <td>7.300000</td>\n",
       "      <td>0</td>\n",
       "      <td>1.908006</td>\n",
       "      <td>False</td>\n",
       "    </tr>\n",
       "    <tr>\n",
       "      <th>1</th>\n",
       "      <td>61.200000</td>\n",
       "      <td>25.500000</td>\n",
       "      <td>0</td>\n",
       "      <td>1.019733</td>\n",
       "      <td>False</td>\n",
       "    </tr>\n",
       "    <tr>\n",
       "      <th>2</th>\n",
       "      <td>71.868421</td>\n",
       "      <td>12.315789</td>\n",
       "      <td>0</td>\n",
       "      <td>1.108519</td>\n",
       "      <td>False</td>\n",
       "    </tr>\n",
       "    <tr>\n",
       "      <th>3</th>\n",
       "      <td>27.116667</td>\n",
       "      <td>13.310000</td>\n",
       "      <td>0</td>\n",
       "      <td>1.926650</td>\n",
       "      <td>False</td>\n",
       "    </tr>\n",
       "    <tr>\n",
       "      <th>4</th>\n",
       "      <td>0.000000</td>\n",
       "      <td>15.910000</td>\n",
       "      <td>0</td>\n",
       "      <td>2.599837</td>\n",
       "      <td>False</td>\n",
       "    </tr>\n",
       "  </tbody>\n",
       "</table>\n",
       "</div>"
      ],
      "text/plain": [
       "     revenue        tax  cluster   z_score  outlier\n",
       "0  33.560000   7.300000        0  1.908006    False\n",
       "1  61.200000  25.500000        0  1.019733    False\n",
       "2  71.868421  12.315789        0  1.108519    False\n",
       "3  27.116667  13.310000        0  1.926650    False\n",
       "4   0.000000  15.910000        0  2.599837    False"
      ]
     },
     "execution_count": 30,
     "metadata": {},
     "output_type": "execute_result"
    }
   ],
   "source": [
    "#para definir si son oulayers o no tengo que hacer un cutoff para quedarnos con lo que nos interesa\n",
    "outliers=annotated[['revenue','tax','cluster','z_score']]\n",
    "outliers['outlier']=outliers['z_score']>9.0\n",
    "outliers.head()"
   ]
  },
  {
   "cell_type": "code",
   "execution_count": 32,
   "metadata": {},
   "outputs": [
    {
     "data": {
      "text/plain": [
       "(-50, 700)"
      ]
     },
     "execution_count": 32,
     "metadata": {},
     "output_type": "execute_result"
    },
    {
     "data": {
      "image/png": "[encoded data removed]",
      "text/plain": [
       "<Figure size 432x288 with 1 Axes>"
      ]
     },
     "metadata": {},
     "output_type": "display_data"
    }
   ],
   "source": [
    "sample=outliers.sample(50000,random_state=42)\n",
    "plt.scatter(sample['revenue'],sample['tax'],c=sample['outlier'])\n",
    "plt.xlim((-50,1500))\n",
    "plt.ylim((-50,700))"
   ]
  },
  {
   "cell_type": "code",
   "execution_count": 34,
   "metadata": {},
   "outputs": [
    {
     "data": {
      "text/plain": [
       "(-50, 700)"
      ]
     },
     "execution_count": 34,
     "metadata": {},
     "output_type": "execute_result"
    },
    {
     "data": {
      "image/png": "[encoded data removed]",
      "text/plain": [
       "<Figure size 432x288 with 1 Axes>"
      ]
     },
     "metadata": {},
     "output_type": "display_data"
    }
   ],
   "source": [
    "sample=outliers.sample(50000,random_state=42)\n",
    "only_outliers=sample[sample['outlier']]\n",
    "\n",
    "plt.scatter(sample['revenue'],sample['tax'],alpha=0.01)\n",
    "plt.scatter(only_outliers['revenue'],only_outliers['tax'],c='Red')\n",
    "plt.xlim((-50,1500))\n",
    "plt.ylim((-50,700))"
   ]
  },
  {
   "cell_type": "code",
   "execution_count": null,
   "metadata": {},
   "outputs": [],
   "source": [
    "#"
   ]
  },
  {
   "cell_type": "markdown",
   "metadata": {},
   "source": [
    "### Appendix: saving models in sklearn"
   ]
  },
  {
   "cell_type": "code",
   "execution_count": null,
   "metadata": {
    "collapsed": true
   },
   "outputs": [],
   "source": []
  },
  {
   "cell_type": "markdown",
   "metadata": {},
   "source": [
    "## OK, let's move this to a more public place: the cluster!"
   ]
  }
 ],
 "metadata": {
  "kernelspec": {
   "display_name": "Python 3",
   "language": "python",
   "name": "python3"
  },
  "language_info": {
   "codemirror_mode": {
    "name": "ipython",
    "version": 3
   },
   "file_extension": ".py",
   "mimetype": "text/x-python",
   "name": "python",
   "nbconvert_exporter": "python",
   "pygments_lexer": "ipython3",
   "version": "3.6.4"
  }
 },
 "nbformat": 4,
 "nbformat_minor": 1
}
