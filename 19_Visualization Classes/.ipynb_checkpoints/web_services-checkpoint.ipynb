{
 "cells": [
  {
   "cell_type": "markdown",
   "metadata": {},
   "source": [
    "Creación de un servidor web"
   ]
  },
  {
   "cell_type": "code",
   "execution_count": 1,
   "metadata": {},
   "outputs": [
    {
     "name": "stdout",
     "output_type": "stream",
     "text": [
      " * Serving Flask app \"__main__\" (lazy loading)\n",
      " * Environment: production\n",
      "   WARNING: Do not use the development server in a production environment.\n",
      "   Use a production WSGI server instead.\n",
      " * Debug mode: off\n"
     ]
    },
    {
     "name": "stderr",
     "output_type": "stream",
     "text": [
      " * Running on http://127.0.0.1:5000/ (Press CTRL+C to quit)\n",
      "127.0.0.1 - - [23/Nov/2018 20:45:37] \"\u001b[33mGET / HTTP/1.1\u001b[0m\" 404 -\n",
      "127.0.0.1 - - [23/Nov/2018 20:45:41] \"\u001b[33mGET / HTTP/1.1\u001b[0m\" 404 -\n",
      "127.0.0.1 - - [23/Nov/2018 20:45:45] \"\u001b[37mGET /index.html HTTP/1.1\u001b[0m\" 200 -\n",
      "127.0.0.1 - - [23/Nov/2018 20:45:45] \"\u001b[33mGET /favicon.ico HTTP/1.1\u001b[0m\" 404 -\n"
     ]
    }
   ],
   "source": [
    "from flask import Flask\n",
    "app = Flask(__name__)\n",
    "\n",
    "## Initialization code\n",
    "\n",
    "@app.route(\"/\")\n",
    "def hello():\n",
    "    # Web Service Call\n",
    "    return \"Hello World!\"\n",
    "\n",
    "app.run()"
   ]
  },
  {
   "cell_type": "code",
   "execution_count": 2,
   "metadata": {},
   "outputs": [],
   "source": [
    "#si esto no funcionase hay que hacer un downgrade de flask a la versión 0.12.2\n",
    "# ! conda install flask=0.12.2"
   ]
  },
  {
   "cell_type": "code",
   "execution_count": 6,
   "metadata": {},
   "outputs": [
    {
     "name": "stdout",
     "output_type": "stream",
     "text": [
      " * Serving Flask app \"__main__\" (lazy loading)\n",
      " * Environment: production\n",
      "   WARNING: Do not use the development server in a production environment.\n",
      "   Use a production WSGI server instead.\n",
      " * Debug mode: off\n"
     ]
    },
    {
     "name": "stderr",
     "output_type": "stream",
     "text": [
      " * Running on http://127.0.0.1:5000/ (Press CTRL+C to quit)\n",
      "127.0.0.1 - - [23/Nov/2018 21:00:50] \"\u001b[37mGET / HTTP/1.1\u001b[0m\" 200 -\n",
      "127.0.0.1 - - [23/Nov/2018 21:00:55] \"\u001b[37mGET / HTTP/1.1\u001b[0m\" 200 -\n",
      "127.0.0.1 - - [23/Nov/2018 21:00:55] \"\u001b[33mGET /i.html HTTP/1.1\u001b[0m\" 404 -\n",
      "127.0.0.1 - - [23/Nov/2018 21:00:56] \"\u001b[33mGET /i.html HTTP/1.1\u001b[0m\" 404 -\n",
      "127.0.0.1 - - [23/Nov/2018 21:01:01] \"\u001b[33mGET /i.html HTTP/1.1\u001b[0m\" 404 -\n",
      "127.0.0.1 - - [23/Nov/2018 21:01:02] \"\u001b[37mGET /i.css HTTP/1.1\u001b[0m\" 200 -\n",
      "127.0.0.1 - - [23/Nov/2018 21:01:02] \"\u001b[33mGET /favicon.ico HTTP/1.1\u001b[0m\" 404 -\n"
     ]
    }
   ],
   "source": [
    "from flask import Flask\n",
    "app = Flask(__name__)\n",
    "\n",
    "## Initialization code\n",
    "\n",
    "@app.route(\"/\")\n",
    "def hello():\n",
    "    # Web Service Call\n",
    "    return \"\"\"<html>\n",
    "    <head>\n",
    "        <link rel=\"i.css\"/>\n",
    "    </head>\n",
    "    <body>\n",
    "        <h1> Titulo </h1>\n",
    "        <button>GO</button>\n",
    "    </body>\n",
    "    </html>\n",
    "    \"\"\"\n",
    "\n",
    "@app.route(\"/i.css\")\n",
    "def hello2():\n",
    "    # Web Service Call\n",
    "    return \"\"\".red{\n",
    "    back\n",
    "    }\n",
    "    \"\"\"\n",
    "app.run()"
   ]
  },
  {
   "cell_type": "code",
   "execution_count": 7,
   "metadata": {},
   "outputs": [
    {
     "name": "stdout",
     "output_type": "stream",
     "text": [
      " * Serving Flask app \"__main__\" (lazy loading)\n",
      " * Environment: production\n",
      "   WARNING: Do not use the development server in a production environment.\n",
      "   Use a production WSGI server instead.\n",
      " * Debug mode: off\n"
     ]
    },
    {
     "name": "stderr",
     "output_type": "stream",
     "text": [
      " * Running on http://127.0.0.1:5000/ (Press CTRL+C to quit)\n",
      "127.0.0.1 - - [23/Nov/2018 21:03:03] \"\u001b[37mGET / HTTP/1.1\u001b[0m\" 200 -\n"
     ]
    }
   ],
   "source": [
    "from flask import Flask\n",
    "app = Flask(__name__)\n",
    "\n",
    "## Initialization code\n",
    "tasks=[\"limpiar la casa\",\"coger la colada\"]\n",
    "\n",
    "@app.route(\"/\")\n",
    "def hello():\n",
    "    # Web Service Call\n",
    "    return f\"\"\"<html>\n",
    "    <head>\n",
    "        <link rel=\"i.css\"/>\n",
    "    </head>\n",
    "    <body>\n",
    "        {\" \".join(tasks)}\n",
    "    </body>\n",
    "    </html>\n",
    "    \"\"\"\n",
    "\n",
    "app.run()"
   ]
  },
  {
   "cell_type": "code",
   "execution_count": 8,
   "metadata": {},
   "outputs": [],
   "source": [
    "#igual que hemos tirado de las tasks. Se puede tirar de una BBDD, llamandola a través del HTML."
   ]
  },
  {
   "cell_type": "code",
   "execution_count": 9,
   "metadata": {},
   "outputs": [],
   "source": [
    "#este modelo no funciona con app nativas. Necesidad de unificar arquitecturas.\n",
    "# Ya no se devolverá el index.html al servidor, en vez de esto, se devolverá un fichero que sea interpretable por\n",
    "#todas las partes-> JSON\n"
   ]
  },
  {
   "cell_type": "code",
   "execution_count": 12,
   "metadata": {},
   "outputs": [
    {
     "name": "stdout",
     "output_type": "stream",
     "text": [
      " * Serving Flask app \"__main__\" (lazy loading)\n",
      " * Environment: production\n",
      "   WARNING: Do not use the development server in a production environment.\n",
      "   Use a production WSGI server instead.\n",
      " * Debug mode: off\n"
     ]
    },
    {
     "name": "stderr",
     "output_type": "stream",
     "text": [
      " * Running on http://127.0.0.1:5000/ (Press CTRL+C to quit)\n",
      "127.0.0.1 - - [23/Nov/2018 21:06:48] \"\u001b[37mGET / HTTP/1.1\u001b[0m\" 200 -\n"
     ]
    }
   ],
   "source": [
    "from flask import Flask\n",
    "app = Flask(__name__)\n",
    "import json\n",
    "## Initialization code\n",
    "tasks=[\"limpiar la casa\",\"coger la colada\"]\n",
    "\n",
    "@app.route(\"/\")\n",
    "def hello():\n",
    "    # Web Service Call\n",
    "    return json.dumps({\"tareas\":tasks})\n",
    "\n",
    "app.run()"
   ]
  },
  {
   "cell_type": "code",
   "execution_count": 13,
   "metadata": {},
   "outputs": [],
   "source": [
    "#y el resultado de esto es un WEBSERVICE. \n",
    "#nota: también se pueden devolver archivos XML interpretables por una máquina."
   ]
  },
  {
   "cell_type": "markdown",
   "metadata": {},
   "source": [
    "Vamos a crear un WS con datos y harémos un cliente básico para acceder a ese WS."
   ]
  },
  {
   "cell_type": "code",
   "execution_count": 14,
   "metadata": {},
   "outputs": [],
   "source": [
    "#Código de un server JSON básico en Basecamp"
   ]
  },
  {
   "cell_type": "code",
   "execution_count": 16,
   "metadata": {},
   "outputs": [
    {
     "name": "stdout",
     "output_type": "stream",
     "text": [
      " * Serving Flask app \"Mi web\" (lazy loading)\n",
      " * Environment: production\n",
      "   WARNING: Do not use the development server in a production environment.\n",
      "   Use a production WSGI server instead.\n",
      " * Debug mode: off\n"
     ]
    },
    {
     "name": "stderr",
     "output_type": "stream",
     "text": [
      " * Running on http://127.0.0.1:5000/ (Press CTRL+C to quit)\n",
      "127.0.0.1 - - [23/Nov/2018 21:09:22] \"\u001b[33mGET / HTTP/1.1\u001b[0m\" 404 -\n",
      "127.0.0.1 - - [23/Nov/2018 21:09:34] \"\u001b[33mGET / HTTP/1.1\u001b[0m\" 404 -\n",
      "127.0.0.1 - - [23/Nov/2018 21:09:42] \"\u001b[33mGET / HTTP/1.1\u001b[0m\" 404 -\n",
      "127.0.0.1 - - [23/Nov/2018 21:09:44] \"\u001b[33mGET / HTTP/1.1\u001b[0m\" 404 -\n",
      "127.0.0.1 - - [23/Nov/2018 21:09:49] \"\u001b[37mGET /tareas HTTP/1.1\u001b[0m\" 200 -\n",
      "127.0.0.1 - - [23/Nov/2018 21:09:49] \"\u001b[33mGET /favicon.ico HTTP/1.1\u001b[0m\" 404 -\n"
     ]
    }
   ],
   "source": [
    "from flask import Flask\n",
    "import json\n",
    "app = Flask(\"Mi web\")\n",
    "\n",
    "## Codigo de inicio\n",
    "tasks = [\"Limpiar la casa\",\"Pagar a Sebas\",\"Ir a a la cena de la edicion 7\"]\n",
    "\n",
    "# Web service url\n",
    "@app.route(\"/tareas\")\n",
    "def hello():\n",
    "    resp = {\"tareas\":tasks}\n",
    "    return json.dumps(resp)\n",
    "\n",
    "app.run()"
   ]
  },
  {
   "cell_type": "code",
   "execution_count": null,
   "metadata": {},
   "outputs": [],
   "source": []
  }
 ],
 "metadata": {
  "kernelspec": {
   "display_name": "Python 3",
   "language": "python",
   "name": "python3"
  },
  "language_info": {
   "codemirror_mode": {
    "name": "ipython",
    "version": 3
   },
   "file_extension": ".py",
   "mimetype": "text/x-python",
   "name": "python",
   "nbconvert_exporter": "python",
   "pygments_lexer": "ipython3",
   "version": "3.6.6"
  }
 },
 "nbformat": 4,
 "nbformat_minor": 2
}
