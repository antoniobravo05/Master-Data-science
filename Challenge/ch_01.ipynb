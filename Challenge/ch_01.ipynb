{
 "cells": [
  {
   "cell_type": "markdown",
   "metadata": {},
   "source": [
    "# Count the number of lines in Python for each file"
   ]
  },
  {
   "cell_type": "code",
   "execution_count": 1,
   "metadata": {},
   "outputs": [
    {
     "name": "stdout",
     "output_type": "stream",
     "text": [
      "total 991M\r\n",
      "drwxrwxr-x 3 dsc dsc 4,0K jun  1 17:53 .\r\n",
      "drwxrwxr-x 6 dsc dsc 4,0K jun  1 17:02 ..\r\n",
      "-rw-r--r-- 1 dsc dsc 170K may 30 19:38 07_Amadeus_Challenge.pptx\r\n",
      "-rw-r--r-- 1 dsc dsc 1,7K jun  1 17:52 amadeus_challenge_nb.ipynb\r\n",
      "-rw-r--r-- 1 dsc dsc 530M may 30 19:38 bookings.csv.bz2\r\n",
      "-rw-r--r-- 1 dsc dsc 1,7K jun  1 17:53 ch_01.ipynb\r\n",
      "-rw-r--r-- 1 dsc dsc 6,7K jun  1 17:53 ch_02.ipynb\r\n",
      "-rw-r--r-- 1 dsc dsc 6,5K jun  1 17:53 ch_03.ipynb\r\n",
      "-rw-r--r-- 1 dsc dsc 7,1K jun  1 17:53 ch_04.ipynb\r\n",
      "drwxr-xr-x 2 dsc dsc 4,0K jun  1 17:05 .ipynb_checkpoints\r\n",
      "-rw-r--r-- 1 dsc dsc 461M may 30 19:38 searches.csv.bz2\r\n",
      "-rw-r--r-- 1 dsc dsc  652 jun  1 17:05 Sesion11_antoniobravo.ipynb\r\n"
     ]
    }
   ],
   "source": [
    "#no hace falta usar los chunks ya.\n",
    "! ls -lah"
   ]
  },
  {
   "cell_type": "markdown",
   "metadata": {},
   "source": [
    "## 1) Command Line\n",
    "\n",
    "Use shell commands with the `!` notation to count the number of lines in `bookings.csv.bz2` and `searches.csv.bz2`."
   ]
  },
  {
   "cell_type": "code",
   "execution_count": 2,
   "metadata": {},
   "outputs": [
    {
     "name": "stdout",
     "output_type": "stream",
     "text": [
      "10000011\r\n"
     ]
    }
   ],
   "source": [
    "#haciendolo con el shell en vez de con el chunk, usamos wc\n",
    "bookings_file='bookings.csv.bz2'\n",
    "searches_file='searches.csv.bz2'\n",
    "#descomprimimos con bzip\n",
    "#para contar sin descomprimir: bzcat. (es cat para archivos bz)\n",
    "! bzcat {bookings_file}|wc -l"
   ]
  },
  {
   "cell_type": "code",
   "execution_count": 3,
   "metadata": {},
   "outputs": [
    {
     "name": "stdout",
     "output_type": "stream",
     "text": [
      "20390198\r\n"
     ]
    }
   ],
   "source": [
    "#igual pero con searches, sacamos lo que tarda en hacerlo para comparar con lo que se tarda en python.\n",
    "%%time\n",
    "! bzcat {searches_file}|wc -l"
   ]
  },
  {
   "cell_type": "markdown",
   "metadata": {},
   "source": [
    "## 2) Python:"
   ]
  },
  {
   "cell_type": "markdown",
   "metadata": {},
   "source": [
    "We have 2 options:\n",
    "\n",
    "* without uncompressing\n",
    "\n",
    "* uncompressing the whole file, then reading from the result."
   ]
  },
  {
   "cell_type": "markdown",
   "metadata": {},
   "source": [
    "#### Python without uncompressing"
   ]
  },
  {
   "cell_type": "code",
   "execution_count": 4,
   "metadata": {},
   "outputs": [
    {
     "data": {
      "text/plain": [
       "10000011"
      ]
     },
     "execution_count": 4,
     "metadata": {},
     "output_type": "execute_result"
    }
   ],
   "source": [
    "#Simplemente estamos cantando el nº de lineas, no hace falta almacenar en disco ni usar los chuncks.\n",
    "#importamos libreria de bz2.\n",
    "import bz2\n",
    "bookings=bz2.open(bookings_file)#esto es una archivo y podemos iterar sobre el como un archivo normal en python:\n",
    "lines_b=0\n",
    "for line in bookings:\n",
    "    lines_b+=1\n",
    "lines_b"
   ]
  },
  {
   "cell_type": "code",
   "execution_count": 5,
   "metadata": {},
   "outputs": [
    {
     "data": {
      "text/plain": [
       "20390199"
      ]
     },
     "execution_count": 5,
     "metadata": {},
     "output_type": "execute_result"
    }
   ],
   "source": [
    "#evaluamos el tiempo que se tarda\n",
    "%%time\n",
    "searches=bz2.open(searches_file)#esto es una archivo y podemos iterar sobre el como un archivo normal en python:\n",
    "lines_s=0\n",
    "for line in searches:\n",
    "    lines_s+=1\n",
    "lines_s\n",
    "\n",
    "#esto funciona con archivos arbitrariamente grandes. No se lee el archivo a memoria y luego se procesa, lee lineas."
   ]
  },
  {
   "cell_type": "code",
   "execution_count": null,
   "metadata": {},
   "outputs": [],
   "source": []
  }
 ],
 "metadata": {
  "kernelspec": {
   "display_name": "Python 3",
   "language": "python",
   "name": "python3"
  },
  "language_info": {
   "codemirror_mode": {
    "name": "ipython",
    "version": 3
   },
   "file_extension": ".py",
   "mimetype": "text/x-python",
   "name": "python",
   "nbconvert_exporter": "python",
   "pygments_lexer": "ipython3",
   "version": "3.6.4"
  }
 },
 "nbformat": 4,
 "nbformat_minor": 1
}
