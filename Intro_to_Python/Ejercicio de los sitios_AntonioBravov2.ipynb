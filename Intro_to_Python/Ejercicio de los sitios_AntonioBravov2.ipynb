{
 "cells": [
  {
   "cell_type": "markdown",
   "metadata": {},
   "source": [
    "### EJERCICIO DE LOS SITIOS\n",
    "\n",
    "#### AUTOR: Antonio Bravo Muñoz\n",
    "\n",
    "#### DESCRIPCIÓN:\n",
    "\n",
    "En el aula tenemos 15 sitios nada más. Cada persona tiene asignado un sitio. La primera en llegar es siempre Isabel, y el último en llegar es siempre Ramón. Cuando Isabel llega, se sienta donde le parece mejor, que puede ser su sitio o no. Cada nueva persona que llega intenta sentarse en su sitio correspondiente; pero si resulta que alguien lo ha ocupado, entonces se sienta en cualquier asiento libre que haya. Cuál es la probabilidad de que Ramón se siente en su sitio? Y si tenemos un aula con 100 personas y sitios, cambia la probabilidad?\n",
    "\n",
    "Cada vez que se llena el aula es una tirada. La probabilidad puntual hay que estimarla usando 100 tiradas. Estas 100 tiradas configuran un experimento, y darán una probabilidad estimada dividiendo el número de veces que Ramón se ha sentado en su sitio, dividido por 100.\n",
    "\n"
   ]
  },
  {
   "cell_type": "code",
   "execution_count": 17,
   "metadata": {},
   "outputs": [],
   "source": [
    "#Importación de los paquetes necesarios.\n",
    "import numpy as np\n",
    "import random\n",
    "import seaborn as sns\n",
    "import matplotlib.pylab as plt"
   ]
  },
  {
   "cell_type": "code",
   "execution_count": 3,
   "metadata": {},
   "outputs": [],
   "source": [
    "#Definición de la función de elección.\n",
    "\n",
    "def eleccion(N):\n",
    "    \n",
    "    #Inicialización\n",
    "    resultados_sitios=[]\n",
    "    sitios_disponibles=list(range(N))\n",
    "    \n",
    "    #Cuando Isabel llega, se sienta en el sitio que le parece mejor, por lo que es un número aleatorio entre 1 y 15. \n",
    "    #Este sitio ya no está disponible, por lo que hay que eliminarlo de la lista de sitios disponibles (pop).\n",
    "    sitio_isabel=random.randint(0, N-1)\n",
    "    sitios_disponibles.pop(sitio_isabel)\n",
    "    \n",
    "    #A partir de este punto van llegando el resto de compañeros, lo simularemos con un bucle de \n",
    "    for i in range(0,N-1):\n",
    "        #Si está disponible su sitio se sienta y se elimina ese sitio de la lista de sitios disponibles (pop).\n",
    "        if i in sitios_disponibles:\n",
    "            sitio_elegido=sitios_disponibles.index(i)\n",
    "            sitios_disponibles.pop(sitio_elegido)\n",
    "            #Rellenamos con 1, en la lista de resultados, el sitio disponible.\n",
    "            resultados_sitios.append(1)\n",
    "        #Si no está disponible se sienta en cualquier otro sitio\n",
    "        else:\n",
    "            #Aleatoriamente se escoge un sitio de los disponibles (random.choice) y se quita de la lista y se elimina de los sitios diponibles (pop)\n",
    "            sitio_elegido=random.choice(sitios_disponibles)\n",
    "            sitios_disponibles.pop(sitios_disponibles.index(sitio_elegido))\n",
    "            #Rellenamos con 0, en la lista de resultados, el sitio disponible.\n",
    "            resultados_sitios.append(0)\n",
    "    #El sitio de Ramón es el que nos importa para calcular la probabilidad, por ello nos quedamos con el último elemento de la lista\n",
    "    sitio_ramon=resultados_sitios[-1]\n",
    "    return sitio_ramon"
   ]
  },
  {
   "cell_type": "code",
   "execution_count": 4,
   "metadata": {},
   "outputs": [],
   "source": [
    "#Definimos la funcion experimento que calculará la probabilidad tras realizar 100 iteraciones\n",
    "def experimento(iteraciones,numeroSitios):\n",
    "    #Inicialización de variables\n",
    "    prob=0\n",
    "    ultimos_sitio=[]\n",
    "    #Bucle de iteraciones\n",
    "    for l in range(iteraciones):\n",
    "        ultimos_sitio.append(eleccion(numeroSitios))\n",
    "    #Cálculo de la probabilidad\n",
    "    prob=sum(ultimos_sitio)/iteraciones\n",
    "    return prob"
   ]
  },
  {
   "cell_type": "code",
   "execution_count": 5,
   "metadata": {},
   "outputs": [
    {
     "data": {
      "text/plain": [
       "0.57"
      ]
     },
     "execution_count": 5,
     "metadata": {},
     "output_type": "execute_result"
    }
   ],
   "source": [
    "#Simulación del experimento con 15 sitios\n",
    "experimento(100,15)"
   ]
  },
  {
   "cell_type": "code",
   "execution_count": 6,
   "metadata": {},
   "outputs": [
    {
     "data": {
      "text/plain": [
       "0.54"
      ]
     },
     "execution_count": 6,
     "metadata": {},
     "output_type": "execute_result"
    }
   ],
   "source": [
    "#Simulación del experimento con 100 sitios\n",
    "experimento(100,100)"
   ]
  },
  {
   "cell_type": "code",
   "execution_count": 19,
   "metadata": {},
   "outputs": [
    {
     "name": "stderr",
     "output_type": "stream",
     "text": [
      "/home/dsc/anaconda3/lib/python3.6/site-packages/matplotlib/axes/_axes.py:6448: UserWarning: The 'normed' kwarg is deprecated, and has been replaced by the 'density' kwarg.\n",
      "  warnings.warn(\"The 'normed' kwarg is deprecated, and has been \"\n"
     ]
    },
    {
     "data": {
      "text/plain": [
       "<matplotlib.legend.Legend at 0x7f60b49bf4a8>"
      ]
     },
     "execution_count": 19,
     "metadata": {},
     "output_type": "execute_result"
    },
    {
     "data": {
      "image/png": "[encoded data removed]",
      "text/plain": [
       "<Figure size 432x288 with 1 Axes>"
      ]
     },
     "metadata": {},
     "output_type": "display_data"
    }
   ],
   "source": [
    "#Lanzamos las simulaciones con 15 sitios y 100 sitios\n",
    "resultado_15=[experimento(100,15) for t in range(100)]\n",
    "resultado_100=[experimento(100,100) for t in range(100)]\n",
    "\n",
    "#Representación de la PDF\n",
    "plt.figure(\"Test Plots\")\n",
    "sns.distplot(resultado_15,label=\"15 sitios\")\n",
    "sns.distplot(resultado_100,label=\"100 sitios\")\n",
    "plt.legend(['15 sitios', '100 sitios'])"
   ]
  }
 ],
 "metadata": {
  "kernelspec": {
   "display_name": "Python 3",
   "language": "python",
   "name": "python3"
  },
  "language_info": {
   "codemirror_mode": {
    "name": "ipython",
    "version": 3
   },
   "file_extension": ".py",
   "mimetype": "text/x-python",
   "name": "python",
   "nbconvert_exporter": "python",
   "pygments_lexer": "ipython3",
   "version": "3.6.4"
  }
 },
 "nbformat": 4,
 "nbformat_minor": 2
}
